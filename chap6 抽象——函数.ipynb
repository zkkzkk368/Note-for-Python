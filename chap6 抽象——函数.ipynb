{
 "metadata": {
  "name": "",
  "signature": "sha256:89c41e26559db77a7e28d9882986df032446f1cbb56b7a59bd0c359416fef0a1"
 },
 "nbformat": 3,
 "nbformat_minor": 0,
 "worksheets": [
  {
   "cells": [
    {
     "cell_type": "markdown",
     "metadata": {},
     "source": [
      "###callable\u51fd\u6570  \n",
      "\u5224\u65ad\u51fd\u6570\u662f\u5426\u53ef\u4ee5\u88ab\u8c03\u7528  \n",
      "**\u8be5\u51fd\u6570\u5728python3\u4e0a\u5e76\u4e0d\u88ab\u652f\u6301\uff01\uff01\uff01\uff01\uff01**"
     ]
    },
    {
     "cell_type": "code",
     "collapsed": false,
     "input": [
      "import math"
     ],
     "language": "python",
     "metadata": {},
     "outputs": [],
     "prompt_number": 1
    },
    {
     "cell_type": "code",
     "collapsed": false,
     "input": [
      "x = 1"
     ],
     "language": "python",
     "metadata": {},
     "outputs": [],
     "prompt_number": 2
    },
    {
     "cell_type": "code",
     "collapsed": false,
     "input": [
      "y = math.sqrt     #\u5173\u8054\u5230\u51fd\u6570"
     ],
     "language": "python",
     "metadata": {},
     "outputs": [],
     "prompt_number": 3
    },
    {
     "cell_type": "code",
     "collapsed": false,
     "input": [
      "callable(x)"
     ],
     "language": "python",
     "metadata": {},
     "outputs": [
      {
       "metadata": {},
       "output_type": "pyout",
       "prompt_number": 4,
       "text": [
        "False"
       ]
      }
     ],
     "prompt_number": 4
    },
    {
     "cell_type": "code",
     "collapsed": false,
     "input": [
      "callable(y)"
     ],
     "language": "python",
     "metadata": {},
     "outputs": [
      {
       "metadata": {},
       "output_type": "pyout",
       "prompt_number": 5,
       "text": [
        "True"
       ]
      }
     ],
     "prompt_number": 5
    },
    {
     "cell_type": "markdown",
     "metadata": {},
     "source": [
      "###def\u8bed\u53e5\u3001return\u8bed\u53e5  \n",
      "\u521b\u5efa\u51fd\u6570\u3001\u8fd4\u56de\u503c"
     ]
    },
    {
     "cell_type": "code",
     "collapsed": false,
     "input": [
      "def hello(name):\n",
      "    return 'Hello, ' + name + '!'"
     ],
     "language": "python",
     "metadata": {},
     "outputs": [],
     "prompt_number": 6
    },
    {
     "cell_type": "code",
     "collapsed": false,
     "input": [
      "print hello(\"Zk\")"
     ],
     "language": "python",
     "metadata": {},
     "outputs": [
      {
       "output_type": "stream",
       "stream": "stdout",
       "text": [
        "Hello, Zk!\n"
       ]
      }
     ],
     "prompt_number": 7
    },
    {
     "cell_type": "markdown",
     "metadata": {},
     "source": [
      "###\u6587\u6863\u5b57\u7b26\u4e32  \n",
      "\u5728\u51fd\u6570\u3001\u6a21\u5757\u3001\u7c7b\u5f00\u5934\u5199\u4e0b\u76f8\u5173\u6587\u6863\uff0c\u5373\u76f4\u63a5\u5199\u4e00\u4e2a\u5b57\u7b26\u4e32\uff5e  \n",
      "\u8fd9\u4e2a\u5b57\u7b26\u4e32\u4f1a\u88ab\u50a8\u5b58\u8d77\u6765\uff0c\u53ef\u4ee5\u4f9b\u7ed9\u67e5\u770b"
     ]
    },
    {
     "cell_type": "code",
     "collapsed": false,
     "input": [
      "def square(x):\n",
      "    'Calculates the square of the number x'      #\u770b\uff01\u8fd9\u5c31\u662f\u6587\u6863\u5b57\u7b26\u4e32\u5566\n",
      "    return x*x"
     ],
     "language": "python",
     "metadata": {},
     "outputs": [],
     "prompt_number": 8
    },
    {
     "cell_type": "code",
     "collapsed": false,
     "input": [
      "print square(2)"
     ],
     "language": "python",
     "metadata": {},
     "outputs": [
      {
       "output_type": "stream",
       "stream": "stdout",
       "text": [
        "4\n"
       ]
      }
     ],
     "prompt_number": 9
    },
    {
     "cell_type": "code",
     "collapsed": false,
     "input": [
      "#\u53ef\u4ee5\u901a\u8fc7__doc__\u5c5e\u6027\u67e5\u770b\n",
      "square.__doc__"
     ],
     "language": "python",
     "metadata": {},
     "outputs": [
      {
       "metadata": {},
       "output_type": "pyout",
       "prompt_number": 10,
       "text": [
        "'Calculates the square of the number x'"
       ]
      }
     ],
     "prompt_number": 10
    },
    {
     "cell_type": "code",
     "collapsed": false,
     "input": [
      "#\u4e5f\u53ef\u4ee5\u901a\u8fc7\u5185\u5efa\u51fd\u6570help\u67e5\u770b\n",
      "help(square)"
     ],
     "language": "python",
     "metadata": {},
     "outputs": [
      {
       "output_type": "stream",
       "stream": "stdout",
       "text": [
        "Help on function square in module __main__:\n",
        "\n",
        "square(x)\n",
        "    Calculates the square of the number x\n",
        "\n"
       ]
      }
     ],
     "prompt_number": 11
    },
    {
     "cell_type": "markdown",
     "metadata": {},
     "source": [
      "* \u51fd\u6570\u4e5f\u53ef\u4ee5\u6ca1\u6709return\u8bed\u53e5  \n",
      "\u6216\u8005\u6709return\u8bed\u53e5\u4f46\u4e0d\u5e26\u503c  \n",
      "\u5176\u5b9e\u51fd\u6570\u9ed8\u8ba4\u8fd4\u56de\u7684\u662f\u7a7a\u503cNone"
     ]
    },
    {
     "cell_type": "code",
     "collapsed": false,
     "input": [
      "def test():\n",
      "    print 'Hello!'"
     ],
     "language": "python",
     "metadata": {},
     "outputs": [],
     "prompt_number": 12
    },
    {
     "cell_type": "code",
     "collapsed": false,
     "input": [
      "x = test()"
     ],
     "language": "python",
     "metadata": {},
     "outputs": [
      {
       "output_type": "stream",
       "stream": "stdout",
       "text": [
        "Hello!\n"
       ]
      }
     ],
     "prompt_number": 13
    },
    {
     "cell_type": "code",
     "collapsed": false,
     "input": [
      "print x"
     ],
     "language": "python",
     "metadata": {},
     "outputs": [
      {
       "output_type": "stream",
       "stream": "stdout",
       "text": [
        "None\n"
       ]
      }
     ],
     "prompt_number": 15
    },
    {
     "cell_type": "markdown",
     "metadata": {},
     "source": [
      "###\u53c2\u6570   \n",
      "* \u5728\u51fd\u6570\u5185\u6539\u53d8\u4e00\u822c\u7684\u53c2\u6570\uff0c\u539f\u53d8\u91cf\u4e0d\u53d8\n",
      "* \u5217\u8868\u8ddfC\u7684\u6570\u7ec4\u7c7b\u4f3c\uff0c\u503c\u88ab\u6539\u53d8\u540e\uff0c\u539f\u53d8\u91cf\u4f1a\u88ab\u6539\u53d8  \n",
      "* \u3010\u5c0f\u6280\u5de7\u3011\u5982\u679c\u8981\u4fee\u6539\u4e00\u822c\u53c2\u6570\u7684\u7684\u503c\uff0c\u53ef\u4ee5\u628a\u8fd9\u4e2a\u53d8\u91cf\u653e\u8fdb\u5217\u8868\u91cc\uff0c\u5efa\u7acb\u4e00\u4e2a\u5355\u4e2a\u5143\u7d20\u7684\u5217\u8868"
     ]
    },
    {
     "cell_type": "markdown",
     "metadata": {},
     "source": [
      "####\u4f4d\u7f6e\u53c2\u6570  \n",
      "\u8ddfC\u8bed\u8a00\u4e00\u6837\uff0c\u6bcf\u4e2a\u5b9e\u53c2\u548c\u5f62\u53c2\u7684\u4f4d\u7f6e\u5fc5\u987b\u4e00\u4e00\u5bf9\u5e94  \n",
      "####\u5173\u952e\u8bcd\u53c2\u6570\n",
      "\u901a\u8fc7\u201c\u5f62\u53c2=\u5b9e\u53c2\u201d\u7684\u5f62\u5f0f\u4f20\u9012\u503c"
     ]
    },
    {
     "cell_type": "code",
     "collapsed": false,
     "input": [
      "def hello(name, greeting):\n",
      "    print '%s, %s!' % (greeting, name)"
     ],
     "language": "python",
     "metadata": {},
     "outputs": [],
     "prompt_number": 3
    },
    {
     "cell_type": "code",
     "collapsed": false,
     "input": [
      "hello(greeting='Hello', name='world')"
     ],
     "language": "python",
     "metadata": {},
     "outputs": [
      {
       "output_type": "stream",
       "stream": "stdout",
       "text": [
        "Hello, world!\n"
       ]
      }
     ],
     "prompt_number": 4
    },
    {
     "cell_type": "code",
     "collapsed": false,
     "input": [
      "#\u53c2\u6570\u8fd8\u53ef\u4ee5\u63d0\u4f9b\u9ed8\u8ba4\u503c\n",
      "def hello(name = 'world', greeting = 'Hello'):\n",
      "    print '%s, %s!' % (greeting, name)"
     ],
     "language": "python",
     "metadata": {},
     "outputs": [],
     "prompt_number": 8
    },
    {
     "cell_type": "code",
     "collapsed": false,
     "input": [
      "hello()"
     ],
     "language": "python",
     "metadata": {},
     "outputs": [
      {
       "output_type": "stream",
       "stream": "stdout",
       "text": [
        "Hello, world!\n"
       ]
      }
     ],
     "prompt_number": 9
    },
    {
     "cell_type": "code",
     "collapsed": false,
     "input": [
      "hello(greeting = 'Hey')"
     ],
     "language": "python",
     "metadata": {},
     "outputs": [
      {
       "output_type": "stream",
       "stream": "stdout",
       "text": [
        "Hey, world!\n"
       ]
      }
     ],
     "prompt_number": 10
    },
    {
     "cell_type": "markdown",
     "metadata": {},
     "source": [
      "**\u4f4d\u7f6e\u53c2\u6570\u548c\u5173\u952e\u8bcd\u53c2\u6570\u53ef\u4ee5\u6df7\u7528\uff0c\u4f46\u662f\u4f4d\u7f6e\u53c2\u6570\u5fc5\u987b\u5199\u5728\u5173\u952e\u8bcd\u53c2\u6570\u524d\u9762**  \n",
      "**\u5173\u952e\u8bcd\u53c2\u6570\u4e00\u822c\u4e5f\u8981\u6709\u9ed8\u8ba4\u503c**"
     ]
    },
    {
     "cell_type": "markdown",
     "metadata": {},
     "source": [
      "####\u6536\u96c6\u53c2\u6570  \n",
      "\u53ef\u4ee5\u6536\u96c6\u4efb\u610f\u591a\u4e2a\u53c2\u6570  \n",
      "\\*\u8868\u793a\u6536\u96c6\u4efb\u610f\u591a\u4e2a\u4f4d\u7f6e\u53c2\u6570\uff08\u4f5c\u4e3a\u5143\u7ec4\uff09  \n",
      "\\*\\*\u8868\u793a\u6536\u96c6\u4efb\u610f\u591a\u4e2a\u5173\u952e\u8bcd\u53c2\u6570\uff08\u4f5c\u4e3a\u5b57\u5178\uff09"
     ]
    },
    {
     "cell_type": "code",
     "collapsed": false,
     "input": [
      "def print_params(x, y, z = 3, *pospar, **keypar):    #\u4f4d\u7f6e\u53c2\u6570\u3001\u5173\u952e\u8bcd\u53c2\u6570\u3001\u4e24\u79cd\u6536\u96c6\u53c2\u6570\u6df7\u7528\n",
      "    print 'x, y, z = ', x, y, z\n",
      "    print 'pospar = ', pospar\n",
      "    print 'keypar = ', keypar"
     ],
     "language": "python",
     "metadata": {},
     "outputs": [],
     "prompt_number": 12
    },
    {
     "cell_type": "code",
     "collapsed": false,
     "input": [
      "print_params(1, 2, 3, 5, 6, 7, foo = 1, bar = 2)\n",
      "#\u5148\u6536\u96c6\u4f4d\u7f6e\u53c2\u6570\u3001\u4f4d\u7f6e\u53c2\u6570\n",
      "#*\u6536\u96c6\u5176\u4f59\u4f4d\u7f6e\u53c2\u6570\n",
      "#**\u6536\u96c6\u5176\u4f59\u5173\u952e\u8bcd\u53c2\u6570"
     ],
     "language": "python",
     "metadata": {},
     "outputs": [
      {
       "output_type": "stream",
       "stream": "stdout",
       "text": [
        "x, y, z =  1 2 3\n",
        "pospar =  (5, 6, 7)\n",
        "keypar =  {'foo': 1, 'bar': 2}\n"
       ]
      }
     ],
     "prompt_number": 13
    },
    {
     "cell_type": "markdown",
     "metadata": {},
     "source": [
      "####\u53c2\u6570\u6536\u96c6\u7684\u9006\u8fc7\u7a0b  \n",
      "\u7528\u5143\u7ec4\u4e3a\u51fd\u6570\u7684\u4f4d\u7f6e\u53c2\u6570\u63d0\u4f9b\u5b9e\u53c2  \n",
      "\u7528\u5b57\u5178\u4e3a\u51fd\u6570\u7684\u5173\u952e\u8bcd\u53c2\u6570\u63d0\u4f9b\u5b9e\u53c2"
     ]
    },
    {
     "cell_type": "code",
     "collapsed": false,
     "input": [
      "def add(x, y):\n",
      "    return x + y"
     ],
     "language": "python",
     "metadata": {},
     "outputs": [],
     "prompt_number": 1
    },
    {
     "cell_type": "code",
     "collapsed": false,
     "input": [
      "params = 1, 2"
     ],
     "language": "python",
     "metadata": {},
     "outputs": [],
     "prompt_number": 2
    },
    {
     "cell_type": "code",
     "collapsed": false,
     "input": [
      "add(*params)      #\u52a0\u4e0a\u661f\u53f7\u8868\u793a\u628a\u5143\u7ec4\u5143\u7d20\u53d6\u51fa\u6765\u4f9d\u6b21\u4f5c\u4e3a\u4f4d\u7f6e\u53c2\u6570\u7684\u5b9e\u53c2"
     ],
     "language": "python",
     "metadata": {},
     "outputs": [
      {
       "metadata": {},
       "output_type": "pyout",
       "prompt_number": 3,
       "text": [
        "3"
       ]
      }
     ],
     "prompt_number": 3
    },
    {
     "cell_type": "code",
     "collapsed": false,
     "input": [
      "def hello(name, greeting):\n",
      "    print '%s, %s!' % (greeting, name)"
     ],
     "language": "python",
     "metadata": {},
     "outputs": [],
     "prompt_number": 4
    },
    {
     "cell_type": "code",
     "collapsed": false,
     "input": [
      "params = {'name' : 'world', 'greeting' : 'Hello'}"
     ],
     "language": "python",
     "metadata": {},
     "outputs": [],
     "prompt_number": 5
    },
    {
     "cell_type": "code",
     "collapsed": false,
     "input": [
      "hello(**params)     #\u52a0\u4e0a\u4e24\u4e2a\u661f\u53f7\u8868\u793a\u628a\u5b57\u5178\u7684\u201c\u952e-\u503c\u201d\u53d6\u51fa\u6765\u5206\u522b\u4f5c\u4e3a\u201c\u5173\u952e\u8bcd-\u503c\u201d\u6765\u4f5c\u5173\u952e\u8bcd\u53c2\u6570\u7684\u5b9e\u53c2"
     ],
     "language": "python",
     "metadata": {},
     "outputs": [
      {
       "output_type": "stream",
       "stream": "stdout",
       "text": [
        "Hello, world!\n"
       ]
      }
     ],
     "prompt_number": 6
    },
    {
     "cell_type": "markdown",
     "metadata": {},
     "source": [
      "####\u5224\u65ad\u51fd\u6570\u662f\u5426\u63a5\u6536\u4e86\u591a\u4f59\u7684\u53c2\u6570"
     ]
    },
    {
     "cell_type": "code",
     "collapsed": false,
     "input": [
      "def power(x, y, *others):\n",
      "    if others:         #\u5224\u65adothers\u662f\u5426\u5b58\u5728\n",
      "        print 'Received redundant parameters:', others\n",
      "    return pow(x, y)"
     ],
     "language": "python",
     "metadata": {},
     "outputs": [],
     "prompt_number": 8
    },
    {
     "cell_type": "code",
     "collapsed": false,
     "input": [
      "power(3, 3, 'Hello world!')"
     ],
     "language": "python",
     "metadata": {},
     "outputs": [
      {
       "output_type": "stream",
       "stream": "stdout",
       "text": [
        "Received redundant parameters: ('Hello world!',)\n"
       ]
      },
      {
       "metadata": {},
       "output_type": "pyout",
       "prompt_number": 9,
       "text": [
        "27"
       ]
      }
     ],
     "prompt_number": 9
    },
    {
     "cell_type": "markdown",
     "metadata": {},
     "source": [
      "####\u5224\u65ad\u51fd\u6570\u662f\u5426\u7f3a\u5c11\u67d0\u4e2a\u53c2\u6570"
     ]
    },
    {
     "cell_type": "code",
     "collapsed": false,
     "input": [
      "def hello(name, greeting = None):\n",
      "    if greeting == None:       #\u628a\u9ed8\u8ba4\u503c\u8bbe\u4e3a\u7a7a\uff0c\u662f\u5426\u63a5\u6536\u8fd9\u4e2a\u53c2\u6570\uff0c\u5224\u65ad\u5176\u503c\u662f\u5426\u4e3a\u7a7a\u5373\u53ef\n",
      "        print \"lack for the parameter: 'greeting'\"\n",
      "    else:\n",
      "        print \"%s, %s!\" % (greeting, name)"
     ],
     "language": "python",
     "metadata": {},
     "outputs": [],
     "prompt_number": 12
    },
    {
     "cell_type": "code",
     "collapsed": false,
     "input": [
      "hello('world', 'Hello')"
     ],
     "language": "python",
     "metadata": {},
     "outputs": [
      {
       "output_type": "stream",
       "stream": "stdout",
       "text": [
        "Hello, world!\n"
       ]
      }
     ],
     "prompt_number": 13
    },
    {
     "cell_type": "code",
     "collapsed": false,
     "input": [
      "hello('world')"
     ],
     "language": "python",
     "metadata": {},
     "outputs": [
      {
       "output_type": "stream",
       "stream": "stdout",
       "text": [
        "lack for the parameter: 'greeting'\n"
       ]
      }
     ],
     "prompt_number": 14
    },
    {
     "cell_type": "markdown",
     "metadata": {},
     "source": [
      "###\u4f5c\u7528\u57df"
     ]
    },
    {
     "cell_type": "markdown",
     "metadata": {},
     "source": [
      "* \u53d8\u91cf\u7684\u503c\u662f\u4ee5\u201c\u53d8\u91cf\u540d-\u503c\u201d\u5bf9\u7684\u5f62\u5f0f\u4fdd\u5b58\u5728\u4e00\u4e2a\u4e0d\u53ef\u89c1\u7684\u201c\u952e-\u503c\u201d\u5bf9\u7684\u5b57\u5178\u4e2d  \n",
      "vars\u51fd\u6570\u53ef\u4ee5\u8fd4\u56de\u8fd9\u4e2a\u5b57\u5178\uff0c\u8fd9\u4e2a\u5b57\u5178\u5c31\u662f\u4f5c\u7528\u57df\uff08\u547d\u540d\u7a7a\u95f4\uff09  \n",
      "globals\u51fd\u6570\u8fd4\u56de\u5168\u5c40\u53d8\u91cf\u7684\u5b57\u5178  \n",
      "locals\u51fd\u6570\u8fd4\u56de\u5c40\u90e8\u53d8\u91cf\u7684\u5b57\u5178"
     ]
    },
    {
     "cell_type": "code",
     "collapsed": false,
     "input": [
      "x = 1"
     ],
     "language": "python",
     "metadata": {},
     "outputs": [],
     "prompt_number": 2
    },
    {
     "cell_type": "code",
     "collapsed": false,
     "input": [
      "scope = vars()"
     ],
     "language": "python",
     "metadata": {},
     "outputs": [],
     "prompt_number": 3
    },
    {
     "cell_type": "code",
     "collapsed": false,
     "input": [
      "scope"
     ],
     "language": "python",
     "metadata": {},
     "outputs": [
      {
       "metadata": {},
       "output_type": "pyout",
       "prompt_number": 4,
       "text": [
        "{'In': ['', u'###\\u4f5c\\u7528\\u57df', u'x = 1', u'scope = vars()', u'scope'],\n",
        " 'Out': {},\n",
        " '_': '',\n",
        " '__': '',\n",
        " '___': '',\n",
        " '__builtin__': <module '__builtin__' (built-in)>,\n",
        " '__builtins__': <module '__builtin__' (built-in)>,\n",
        " '__doc__': 'Automatically created module for IPython interactive environment',\n",
        " '__name__': '__main__',\n",
        " '_dh': [u'/home/zk/\\u684c\\u9762'],\n",
        " '_i': u'scope = vars()',\n",
        " '_i1': u'###\\u4f5c\\u7528\\u57df',\n",
        " '_i2': u'x = 1',\n",
        " '_i3': u'scope = vars()',\n",
        " '_i4': u'scope',\n",
        " '_ih': ['', u'###\\u4f5c\\u7528\\u57df', u'x = 1', u'scope = vars()', u'scope'],\n",
        " '_ii': u'x = 1',\n",
        " '_iii': u'###\\u4f5c\\u7528\\u57df',\n",
        " '_oh': {},\n",
        " '_sh': <module 'IPython.core.shadowns' from '/usr/lib/python2.7/dist-packages/IPython/core/shadowns.pyc'>,\n",
        " 'exit': <IPython.core.autocall.ZMQExitAutocall at 0x7f18307c4a10>,\n",
        " 'get_ipython': <bound method ZMQInteractiveShell.get_ipython of <IPython.kernel.zmq.zmqshell.ZMQInteractiveShell object at 0x7f18307b2a50>>,\n",
        " 'quit': <IPython.core.autocall.ZMQExitAutocall at 0x7f18307c4a10>,\n",
        " 'scope': {...},\n",
        " 'x': 1}"
       ]
      }
     ],
     "prompt_number": 4
    },
    {
     "cell_type": "code",
     "collapsed": false,
     "input": [
      "scope['x']"
     ],
     "language": "python",
     "metadata": {},
     "outputs": [
      {
       "metadata": {},
       "output_type": "pyout",
       "prompt_number": 5,
       "text": [
        "1"
       ]
      }
     ],
     "prompt_number": 5
    },
    {
     "cell_type": "code",
     "collapsed": false,
     "input": [
      "#\u4e00\u822c\u6765\u8bf4\uff0cvars\u8fd4\u56de\u7684\u5b57\u5178\u4e0d\u80fd\u4fee\u6539\uff0c\u5176\u7ed3\u679c\u662f\u672a\u5b9a\u4e49\u7684"
     ],
     "language": "python",
     "metadata": {},
     "outputs": [],
     "prompt_number": 6
    },
    {
     "cell_type": "markdown",
     "metadata": {},
     "source": [
      "**\u9664\u4e86\u5168\u5c40\u53d8\u91cf\u6709\u4f5c\u7528\u57df\u5916\uff0c\u6bcf\u4e2a\u51fd\u6570\u8c03\u7528\u90fd\u4f1a\u521b\u5efa\u4e00\u4e2a\u65b0\u7684\u4f5c\u7528\u57df**"
     ]
    },
    {
     "cell_type": "code",
     "collapsed": false,
     "input": [
      "#\u51fd\u6570\u5185\u53d6\u7528\u5168\u5c40\u53d8\u91cf\uff0c\u501f\u52a9globals\u51fd\u6570\u5373\u53ef\n",
      "globals()['x']"
     ],
     "language": "python",
     "metadata": {},
     "outputs": [
      {
       "metadata": {},
       "output_type": "pyout",
       "prompt_number": 13,
       "text": [
        "1"
       ]
      }
     ],
     "prompt_number": 13
    },
    {
     "cell_type": "code",
     "collapsed": false,
     "input": [
      "#\u5728\u51fd\u6570\u5185\u90e8\u58f0\u660e\u5168\u5c40\u53d8\u91cf\n",
      "def hhhh():\n",
      "    global x          #\u7528global\u58f0\u660e\u53d8\u91cf\n",
      "    x = 2"
     ],
     "language": "python",
     "metadata": {},
     "outputs": [],
     "prompt_number": 14
    },
    {
     "cell_type": "code",
     "collapsed": false,
     "input": [
      "hhhh()"
     ],
     "language": "python",
     "metadata": {},
     "outputs": [],
     "prompt_number": 15
    },
    {
     "cell_type": "code",
     "collapsed": false,
     "input": [
      "x"
     ],
     "language": "python",
     "metadata": {},
     "outputs": [
      {
       "metadata": {},
       "output_type": "pyout",
       "prompt_number": 16,
       "text": [
        "2"
       ]
      }
     ],
     "prompt_number": 16
    },
    {
     "cell_type": "markdown",
     "metadata": {},
     "source": [
      "**<font color='red'>python\u7684\u51fd\u6570\u662f\u53ef\u4ee5\u5d4c\u5957\u5b9a\u4e49\u7684</font>**  \n",
      "\u51fd\u6570\u7684\u5d4c\u5957\u5b9a\u4e49\u662f\u5f88\u5c11\u7528\u7684\uff0c\u4e00\u822c\u7528\u6765\u201c\u7528\u4e00\u4e2a\u51fd\u6570\u521b\u5efa\u53e6\u4e00\u4e2a\u51fd\u6570\u201d  \n",
      "\u8fd9\u91cc\u628a\u5b50\u51fd\u6570\u5b58\u50a8\u5b50\u5c01\u95ed\u4f5c\u7528\u57df\uff0c\u8be5\u884c\u4e3a\u79f0\u4e3a\u95ed\u5305\uff08closure\uff09"
     ]
    },
    {
     "cell_type": "code",
     "collapsed": false,
     "input": [
      "def multiplier(factor):\n",
      "    def multiplyByFactor(number):      #\u5d4c\u5957\u7684\u5b50\u51fd\u6570\n",
      "        return number * factor\n",
      "    return multiplyByFactor        #\u8fd9\u91cc\u7f8e\u67da\u7ed9\u51fa\u5b9e\u53c2number\uff0c\u610f\u5473\u7740\u8fd4\u56de\u7684\u662f\u4e00\u4e2a\u51fd\u6570\u540d"
     ],
     "language": "python",
     "metadata": {},
     "outputs": [],
     "prompt_number": 17
    },
    {
     "cell_type": "code",
     "collapsed": false,
     "input": [
      "double = multiplier(2)\n",
      "#\u8fd9\u91cc\u521b\u5efa\u4e86\u4e00\u4e2a\u51fd\u6570double\u76f8\u5f53\u4e8e\n",
      "#def double(number)\n",
      "#    return number * 2\n",
      "#multiplier\u51fd\u6570\u63a5\u53d7\u4e86\u5b9e\u53c2factor=2\uff0c\u4ee3\u5165\u7ed9multiplyByFactor\u51fd\u6570\uff0c\u5f97\u5230\u4e00\u4e2adouble\u51fd\u6570"
     ],
     "language": "python",
     "metadata": {},
     "outputs": [],
     "prompt_number": 18
    },
    {
     "cell_type": "code",
     "collapsed": false,
     "input": [
      "double(5)      #return 5 * 2"
     ],
     "language": "python",
     "metadata": {},
     "outputs": [
      {
       "metadata": {},
       "output_type": "pyout",
       "prompt_number": 19,
       "text": [
        "10"
       ]
      }
     ],
     "prompt_number": 19
    },
    {
     "cell_type": "code",
     "collapsed": false,
     "input": [
      "#\u5176\u5b9e\u8fd9\u4e5f\u76f8\u5f53\u4e8e\n",
      "multiplier(2)(5)"
     ],
     "language": "python",
     "metadata": {},
     "outputs": [
      {
       "metadata": {},
       "output_type": "pyout",
       "prompt_number": 20,
       "text": [
        "10"
       ]
      }
     ],
     "prompt_number": 20
    },
    {
     "cell_type": "markdown",
     "metadata": {},
     "source": [
      "###\u9012\u5f52\u5b9e\u4f8b  \n",
      "\u9012\u5f52\u7684\u6548\u7387\u5e76\u4e0d\u9ad8\uff0c\u4f46\u662f\u6613\u61c2"
     ]
    },
    {
     "cell_type": "code",
     "collapsed": false,
     "input": [
      "#\u9636\u4e58\n",
      "def factorial(n):\n",
      "    if n == 1:\n",
      "        return 1\n",
      "    else:\n",
      "        return n * factorial(n - 1)"
     ],
     "language": "python",
     "metadata": {},
     "outputs": [],
     "prompt_number": 22
    },
    {
     "cell_type": "code",
     "collapsed": false,
     "input": [
      "factorial(3)"
     ],
     "language": "python",
     "metadata": {},
     "outputs": [
      {
       "metadata": {},
       "output_type": "pyout",
       "prompt_number": 23,
       "text": [
        "6"
       ]
      }
     ],
     "prompt_number": 23
    },
    {
     "cell_type": "code",
     "collapsed": false,
     "input": [
      "#\u5e42\u8fd0\u7b97\n",
      "def power(x, n):\n",
      "    if n == 0:\n",
      "        return 1\n",
      "    else:\n",
      "        return n * power(x, n - 1)"
     ],
     "language": "python",
     "metadata": {},
     "outputs": [],
     "prompt_number": 24
    },
    {
     "cell_type": "code",
     "collapsed": false,
     "input": [
      "#\u4e8c\u5206\u6cd5\u67e5\u627e\n",
      "def search(sequence, number, lower, upper):\n",
      "    'squence\u4e3a\u4e00\u4e2a\u5e8f\u5217\uff0cnumber\u4e3a\u76ee\u6807\u6570\u5b57\uff0clower\u548cupper\u5206\u522b\u8868\u793a\u4e0b\u9650\u3001\u4e0a\u9650\u7d22\u5f15\u53f7'\n",
      "    sequence.sort()       #\u4e8c\u5206\u6cd5\u67e5\u627e\u9700\u8981\u5e8f\u5217\u6392\u5e8f\n",
      "    if lower == uppeer:\n",
      "        assert number == sequence[upper]    #\u65ad\u8a00\u8be5\u6570\u5b57\u5b58\u5728\u4e8e\u5e8f\u5217\u4e4b\u4e2d\n",
      "        return upper\n",
      "    else:\n",
      "        middle = (lower + upper) // 2\n",
      "        if number > sequence[middle]:\n",
      "            return search(sequence, number, middle + 1, upper)\n",
      "        else:\n",
      "            return search(sequence, number, lower, middle)"
     ],
     "language": "python",
     "metadata": {},
     "outputs": [],
     "prompt_number": 3
    },
    {
     "cell_type": "markdown",
     "metadata": {},
     "source": [
      "###\u51fd\u6570\u5f0f\u7f16\u7a0b  \n",
      "map, filter\u51fd\u6570\u53ef\u4ee5\u901a\u8fc7\u5217\u8868\u63a8\u5bfc\u5f0f\u53d6\u4ee3  \n",
      "reduce\u51fd\u6570\u4e0d\u5e38\u7528"
     ]
    },
    {
     "cell_type": "code",
     "collapsed": false,
     "input": [
      "#lambda\u8868\u8fbe\u5f0f\uff0c\u53ef\u4ee5\u521b\u5efa\u77ed\u5c0f\u7684\u51fd\u6570\uff08lambda\u5728\u6570\u5b66\u4e2d\u8868\u793a\u533f\u540d\u51fd\u6570\uff09\n",
      "#reduce\u51fd\u6570\uff0c\u53ef\u4ee5\u5c06\u4e00\u4e2a\u5e8f\u5217\u7684\u524d\u4e24\u4e2a\u6570\u5b57\u4f5c\u4e3a\u53c2\u6570\u4f20\u9012\u7ed9\u6307\u5b9a\u51fd\u6570\uff0c\u5c06\u8fd4\u56de\u503c\u548c\u7b2c\u4e09\u4e2a\u6570\u5b57\u518d\u4f5c\u4e3a\u53c2\u6570\uff0c\u4ee5\u6b64\u7c7b\u63a8"
     ],
     "language": "python",
     "metadata": {},
     "outputs": [],
     "prompt_number": 4
    },
    {
     "cell_type": "code",
     "collapsed": false,
     "input": [
      "numbers = [1, 2, 3, 4, 5, 6, 7, 8, 9, 10]"
     ],
     "language": "python",
     "metadata": {},
     "outputs": [],
     "prompt_number": 5
    },
    {
     "cell_type": "code",
     "collapsed": false,
     "input": [
      "reduce( lambda x, y: x +y , numbers )\n",
      "#lambda x, y: x + y\u8868\u793a\u521b\u5efa\u4e00\u4e2a\u51fd\u6570\uff0c\u63a5\u53d7\u4e24\u4e2a\u53c2\u6570x\u548cy\uff0c\u8fd4\u56de\u4ed6\u4eec\u7684\u548c\n",
      "#numbers\u4e3a\u82e5\u5e72\u8981\u4f5c\u4e3a\u53c2\u6570\u7684\u7684\u4e00\u4e2a\u5e8f\u5217\n",
      "#reduce\u7b2c\u4e00\u4e2a\u53c2\u6570\u4e3a\u51fd\u6570\uff0c\u7b2c\u4e8c\u4e2a\u51fd\u6570\u4e3a\u5e8f\u5217\uff0c\u8fd4\u56de\u5904\u7406\u5b8c\u6574\u4e2a\u5e8f\u5217\u540e\u7684\u7ed3\u679c"
     ],
     "language": "python",
     "metadata": {},
     "outputs": [
      {
       "metadata": {},
       "output_type": "pyout",
       "prompt_number": 6,
       "text": [
        "55"
       ]
      }
     ],
     "prompt_number": 6
    },
    {
     "cell_type": "code",
     "collapsed": false,
     "input": [],
     "language": "python",
     "metadata": {},
     "outputs": []
    }
   ],
   "metadata": {}
  }
 ]
}