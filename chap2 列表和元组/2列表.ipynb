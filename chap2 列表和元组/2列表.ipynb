{
 "metadata": {
  "name": "",
  "signature": "sha256:ed49309565f98401bf6f4307a29ef08af194f568d7c59f505d87eee08ed68ce0"
 },
 "nbformat": 3,
 "nbformat_minor": 0,
 "worksheets": [
  {
   "cells": [
    {
     "cell_type": "markdown",
     "metadata": {},
     "source": [
      "* \u5217\u8868\u7684\u5185\u5bb9\u662f\u53ef\u53d8\u7684"
     ]
    },
    {
     "cell_type": "markdown",
     "metadata": {},
     "source": [
      "* \u5217\u8868\u5143\u7d20\u7528\u65b9\u62ec\u53f7[]\u62ec\u8d77\u6765"
     ]
    },
    {
     "cell_type": "markdown",
     "metadata": {},
     "source": [
      "###list\u51fd\u6570\uff1a\u5c06\u5176\u4ed6\u5e8f\u5217\u7c7b\u578b\u8f6c\u6362\u4e3a\u5217\u8868"
     ]
    },
    {
     "cell_type": "code",
     "collapsed": false,
     "input": [
      "list(\"Hello\")"
     ],
     "language": "python",
     "metadata": {},
     "outputs": [
      {
       "metadata": {},
       "output_type": "pyout",
       "prompt_number": 1,
       "text": [
        "['H', 'e', 'l', 'l', 'o']"
       ]
      }
     ],
     "prompt_number": 1
    },
    {
     "cell_type": "markdown",
     "metadata": {},
     "source": [
      "###\u57fa\u672c\u7684\u5e8f\u5217\u64cd\u4f5c"
     ]
    },
    {
     "cell_type": "code",
     "collapsed": false,
     "input": [
      "numbers = list('0123456789')"
     ],
     "language": "python",
     "metadata": {},
     "outputs": [],
     "prompt_number": 2
    },
    {
     "cell_type": "code",
     "collapsed": false,
     "input": [
      "numbers"
     ],
     "language": "python",
     "metadata": {},
     "outputs": [
      {
       "metadata": {},
       "output_type": "pyout",
       "prompt_number": 3,
       "text": [
        "['0', '1', '2', '3', '4', '5', '6', '7', '8', '9']"
       ]
      }
     ],
     "prompt_number": 3
    },
    {
     "cell_type": "code",
     "collapsed": false,
     "input": [
      "#\u6539\u53d8\u5217\u8868\uff0c\u8d4b\u503c\n",
      "numbers[3] = 'x'"
     ],
     "language": "python",
     "metadata": {},
     "outputs": [],
     "prompt_number": 4
    },
    {
     "cell_type": "code",
     "collapsed": false,
     "input": [
      "numbers"
     ],
     "language": "python",
     "metadata": {},
     "outputs": [
      {
       "metadata": {},
       "output_type": "pyout",
       "prompt_number": 5,
       "text": [
        "['0', '1', '2', 'x', '4', '5', '6', '7', '8', '9']"
       ]
      }
     ],
     "prompt_number": 5
    },
    {
     "cell_type": "code",
     "collapsed": false,
     "input": [
      "#\u5220\u9664\u5143\u7d20\n",
      "del numbers[3]"
     ],
     "language": "python",
     "metadata": {},
     "outputs": [],
     "prompt_number": 6
    },
    {
     "cell_type": "code",
     "collapsed": false,
     "input": [
      "numbers"
     ],
     "language": "python",
     "metadata": {},
     "outputs": [
      {
       "metadata": {},
       "output_type": "pyout",
       "prompt_number": 7,
       "text": [
        "['0', '1', '2', '4', '5', '6', '7', '8', '9']"
       ]
      }
     ],
     "prompt_number": 7
    },
    {
     "cell_type": "code",
     "collapsed": false,
     "input": [
      "#\u5206\u7247\u8d4b\u503c\n",
      "numbers[3:] = list('345678')"
     ],
     "language": "python",
     "metadata": {},
     "outputs": [],
     "prompt_number": 8
    },
    {
     "cell_type": "code",
     "collapsed": false,
     "input": [
      "numbers"
     ],
     "language": "python",
     "metadata": {},
     "outputs": [
      {
       "metadata": {},
       "output_type": "pyout",
       "prompt_number": 9,
       "text": [
        "['0', '1', '2', '3', '4', '5', '6', '7', '8']"
       ]
      }
     ],
     "prompt_number": 9
    },
    {
     "cell_type": "code",
     "collapsed": false,
     "input": [
      "#\u751a\u81f3\u53ef\u4ee5\u6269\u5145\u5217\u8868\n",
      "numbers[8:] = list('89')"
     ],
     "language": "python",
     "metadata": {},
     "outputs": [],
     "prompt_number": 10
    },
    {
     "cell_type": "code",
     "collapsed": false,
     "input": [
      "numbers"
     ],
     "language": "python",
     "metadata": {},
     "outputs": [
      {
       "metadata": {},
       "output_type": "pyout",
       "prompt_number": 11,
       "text": [
        "['0', '1', '2', '3', '4', '5', '6', '7', '8', '9']"
       ]
      }
     ],
     "prompt_number": 11
    },
    {
     "cell_type": "code",
     "collapsed": false,
     "input": [
      "#\u800c\u4e14\u8fd8\u53ef\u4ee5\u63d2\u7a7a\uff01\n",
      "numbers[2:2] = [111111,222222]   #\u628a2\u540e\u9762\uff08\u542b\uff09\u7684\u6570\u90fd\u5f80\u540e\u63a8"
     ],
     "language": "python",
     "metadata": {},
     "outputs": [],
     "prompt_number": 22
    },
    {
     "cell_type": "code",
     "collapsed": false,
     "input": [
      "numbers"
     ],
     "language": "python",
     "metadata": {},
     "outputs": [
      {
       "metadata": {},
       "output_type": "pyout",
       "prompt_number": 23,
       "text": [
        "['0', '1', 111111, 222222, '2', '3', '4', '5', '6', '7', '8', '9']"
       ]
      }
     ],
     "prompt_number": 23
    },
    {
     "cell_type": "code",
     "collapsed": false,
     "input": [
      "#\u751a\u81f3\u751a\u81f3\u53ef\u4ee5\u62ff\u7a7a\u5217\u8868\u6765\u5220\u9664\u5143\u7d20\uff01\n",
      "numbers[2:4] = []"
     ],
     "language": "python",
     "metadata": {},
     "outputs": [],
     "prompt_number": 24
    },
    {
     "cell_type": "code",
     "collapsed": false,
     "input": [
      "numbers"
     ],
     "language": "python",
     "metadata": {},
     "outputs": [
      {
       "metadata": {},
       "output_type": "pyout",
       "prompt_number": 25,
       "text": [
        "['0', '1', '2', '3', '4', '5', '6', '7', '8', '9']"
       ]
      }
     ],
     "prompt_number": 25
    },
    {
     "cell_type": "code",
     "collapsed": false,
     "input": [
      "#\u5f53\u7136\u4e0a\u9762\u8fd9\u4e9b\u4e5f\u53ef\u4ee5\u52a0\u5165\u6b65\u957f\uff01\uff01"
     ],
     "language": "python",
     "metadata": {},
     "outputs": [],
     "prompt_number": 26
    },
    {
     "cell_type": "markdown",
     "metadata": {},
     "source": [
      "###\u5217\u8868\u65b9\u6cd5"
     ]
    },
    {
     "cell_type": "code",
     "collapsed": false,
     "input": [
      "numbers = list('0123456789')"
     ],
     "language": "python",
     "metadata": {},
     "outputs": [],
     "prompt_number": 27
    },
    {
     "cell_type": "code",
     "collapsed": false,
     "input": [
      "numbers"
     ],
     "language": "python",
     "metadata": {},
     "outputs": [
      {
       "metadata": {},
       "output_type": "pyout",
       "prompt_number": 28,
       "text": [
        "['0', '1', '2', '3', '4', '5', '6', '7', '8', '9']"
       ]
      }
     ],
     "prompt_number": 28
    },
    {
     "cell_type": "code",
     "collapsed": false,
     "input": [
      "#append\uff1a\u5728\u5217\u8868\u672b\u5c3e\u8ffd\u52a0\u4e00\u4e2a\u5bf9\u8c61\uff0c\u4e0d\u8fd4\u56de\u503c\n",
      "numbers.append('a')"
     ],
     "language": "python",
     "metadata": {},
     "outputs": [],
     "prompt_number": 29
    },
    {
     "cell_type": "code",
     "collapsed": false,
     "input": [
      "numbers"
     ],
     "language": "python",
     "metadata": {},
     "outputs": [
      {
       "metadata": {},
       "output_type": "pyout",
       "prompt_number": 30,
       "text": [
        "['0', '1', '2', '3', '4', '5', '6', '7', '8', '9', 'a']"
       ]
      }
     ],
     "prompt_number": 30
    },
    {
     "cell_type": "code",
     "collapsed": false,
     "input": [
      "#scount\uff1a\u8fd4\u56de\u67d0\u5143\u7d20\u51fa\u73b0\u7684\u6b21\u6570\n",
      "numbers.count('a')"
     ],
     "language": "python",
     "metadata": {},
     "outputs": [
      {
       "metadata": {},
       "output_type": "pyout",
       "prompt_number": 31,
       "text": [
        "1"
       ]
      }
     ],
     "prompt_number": 31
    },
    {
     "cell_type": "code",
     "collapsed": false,
     "input": [
      "#extend\uff1a\u5217\u8868\u62fc\u63a5\uff0c\u4e0d\u8fd4\u56de\u503c\n",
      "numbers.extend(list('bcd'))"
     ],
     "language": "python",
     "metadata": {},
     "outputs": [],
     "prompt_number": 39
    },
    {
     "cell_type": "code",
     "collapsed": false,
     "input": [
      "numbers"
     ],
     "language": "python",
     "metadata": {},
     "outputs": [
      {
       "metadata": {},
       "output_type": "pyout",
       "prompt_number": 40,
       "text": [
        "['0', '1', '2', '3', '4', '5', '6', '7', '8', '9', 'a', 'b', 'c', 'd']"
       ]
      }
     ],
     "prompt_number": 40
    },
    {
     "cell_type": "markdown",
     "metadata": {},
     "source": [
      "*\u5bf9\u6bd4\uff1a\u7528\u52a0\u53f7+\u62fc\u63a5*"
     ]
    },
    {
     "cell_type": "code",
     "collapsed": false,
     "input": [
      "x = [1, 2, 3]"
     ],
     "language": "python",
     "metadata": {},
     "outputs": [],
     "prompt_number": 41
    },
    {
     "cell_type": "code",
     "collapsed": false,
     "input": [
      "y = [4, 5, 6]"
     ],
     "language": "python",
     "metadata": {},
     "outputs": [],
     "prompt_number": 42
    },
    {
     "cell_type": "code",
     "collapsed": false,
     "input": [
      "x + y"
     ],
     "language": "python",
     "metadata": {},
     "outputs": [
      {
       "metadata": {},
       "output_type": "pyout",
       "prompt_number": 43,
       "text": [
        "[1, 2, 3, 4, 5, 6]"
       ]
      }
     ],
     "prompt_number": 43
    },
    {
     "cell_type": "code",
     "collapsed": false,
     "input": [
      "x"
     ],
     "language": "python",
     "metadata": {},
     "outputs": [
      {
       "metadata": {},
       "output_type": "pyout",
       "prompt_number": 44,
       "text": [
        "[1, 2, 3]"
       ]
      }
     ],
     "prompt_number": 44
    },
    {
     "cell_type": "code",
     "collapsed": false,
     "input": [
      "y"
     ],
     "language": "python",
     "metadata": {},
     "outputs": [
      {
       "metadata": {},
       "output_type": "pyout",
       "prompt_number": 45,
       "text": [
        "[4, 5, 6]"
       ]
      }
     ],
     "prompt_number": 45
    },
    {
     "cell_type": "markdown",
     "metadata": {},
     "source": [
      "**\u52a0\u6cd5\u8fd4\u56de\u4e00\u4e2a\u65b0\u7684\u5217\u8868\uff0c\u800c\u4e0d\u662f\u5728\u539f\u5217\u8868\u4e0a\u64cd\u4f5c**"
     ]
    },
    {
     "cell_type": "code",
     "collapsed": false,
     "input": [
      "#index\uff1a\u627e\u51fa\u5217\u8868\u4e2d\u7b2c\u4e00\u4e2a\u5339\u914d\u9879\uff08\u503c\uff09\u7684\u5bf9\u5e94\u7d22\u5f15\n",
      "numbers.index('b')"
     ],
     "language": "python",
     "metadata": {},
     "outputs": [
      {
       "metadata": {},
       "output_type": "pyout",
       "prompt_number": 46,
       "text": [
        "11"
       ]
      }
     ],
     "prompt_number": 46
    },
    {
     "cell_type": "code",
     "collapsed": false,
     "input": [
      "numbers.index('g')"
     ],
     "language": "python",
     "metadata": {},
     "outputs": [
      {
       "ename": "ValueError",
       "evalue": "'g' is not in list",
       "output_type": "pyerr",
       "traceback": [
        "\u001b[0;31m---------------------------------------------------------------------------\u001b[0m\n\u001b[0;31mValueError\u001b[0m                                Traceback (most recent call last)",
        "\u001b[0;32m<ipython-input-47-cc50eb9479de>\u001b[0m in \u001b[0;36m<module>\u001b[0;34m()\u001b[0m\n\u001b[0;32m----> 1\u001b[0;31m \u001b[0mnumbers\u001b[0m\u001b[0;34m.\u001b[0m\u001b[0mindex\u001b[0m\u001b[0;34m(\u001b[0m\u001b[0;34m'g'\u001b[0m\u001b[0;34m)\u001b[0m\u001b[0;34m\u001b[0m\u001b[0m\n\u001b[0m",
        "\u001b[0;31mValueError\u001b[0m: 'g' is not in list"
       ]
      }
     ],
     "prompt_number": 47
    },
    {
     "cell_type": "code",
     "collapsed": false,
     "input": [
      "#insert\uff1a\u5c06\u4e00\u4e2a\u5143\u7d20\u63d2\u5165\u6307\u5b9a\u4f4d\u7f6e\uff0c\u4e0d\u8fd4\u56de\u503c"
     ],
     "language": "python",
     "metadata": {},
     "outputs": [],
     "prompt_number": 50
    },
    {
     "cell_type": "code",
     "collapsed": false,
     "input": [
      "x = [0 , 1, 3]"
     ],
     "language": "python",
     "metadata": {},
     "outputs": [],
     "prompt_number": 56
    },
    {
     "cell_type": "code",
     "collapsed": false,
     "input": [
      "x.insert(2, 'two')"
     ],
     "language": "python",
     "metadata": {},
     "outputs": [],
     "prompt_number": 57
    },
    {
     "cell_type": "code",
     "collapsed": false,
     "input": [
      "x"
     ],
     "language": "python",
     "metadata": {},
     "outputs": [
      {
       "metadata": {},
       "output_type": "pyout",
       "prompt_number": 58,
       "text": [
        "[0, 1, 'two', 3]"
       ]
      }
     ],
     "prompt_number": 58
    },
    {
     "cell_type": "code",
     "collapsed": false,
     "input": [
      "#pop\uff1a\u79fb\u9664\u4e00\u4e2a\u5143\u7d20\uff08\u82e5\u4e0d\u6307\u5b9a\u7d22\u5f15\u53f7\uff0c\u76f4\u63a5\u79fb\u9664\u6700\u540e\u4e00\u4e2a\uff09\uff0c\u8fd4\u56de\u88ab\u79fb\u9664\u7684\u503c"
     ],
     "language": "python",
     "metadata": {},
     "outputs": [],
     "prompt_number": 59
    },
    {
     "cell_type": "code",
     "collapsed": false,
     "input": [
      "x.pop(2)"
     ],
     "language": "python",
     "metadata": {},
     "outputs": [
      {
       "metadata": {},
       "output_type": "pyout",
       "prompt_number": 60,
       "text": [
        "'two'"
       ]
      }
     ],
     "prompt_number": 60
    },
    {
     "cell_type": "code",
     "collapsed": false,
     "input": [
      "x.pop()"
     ],
     "language": "python",
     "metadata": {},
     "outputs": [
      {
       "metadata": {},
       "output_type": "pyout",
       "prompt_number": 61,
       "text": [
        "3"
       ]
      }
     ],
     "prompt_number": 61
    },
    {
     "cell_type": "markdown",
     "metadata": {},
     "source": [
      "*pop\u65b9\u6cd5\u53ef\u4ee5\u548cappend\u65b9\u6cd5\u642d\u914d\uff0c\u5b9e\u73b0\u6808\u7684\u6570\u636e\u7ed3\u6784*"
     ]
    },
    {
     "cell_type": "code",
     "collapsed": false,
     "input": [
      "#remove\uff1a\u79fb\u9664\u7b2c\u4e00\u4e2a\u5339\u914d\u9879\uff08\u503c\uff09\uff0c\u4e0d\u8fd4\u56de\u503c"
     ],
     "language": "python",
     "metadata": {},
     "outputs": [],
     "prompt_number": 62
    },
    {
     "cell_type": "code",
     "collapsed": false,
     "input": [
      "numbers = [0,1,2,3,4,5,6,7,8,9,[1,2]]"
     ],
     "language": "python",
     "metadata": {},
     "outputs": [],
     "prompt_number": 65
    },
    {
     "cell_type": "code",
     "collapsed": false,
     "input": [
      "numbers"
     ],
     "language": "python",
     "metadata": {},
     "outputs": [
      {
       "metadata": {},
       "output_type": "pyout",
       "prompt_number": 66,
       "text": [
        "[0, 1, 2, 3, 4, 5, 6, 7, 8, 9, [1, 2]]"
       ]
      }
     ],
     "prompt_number": 66
    },
    {
     "cell_type": "code",
     "collapsed": false,
     "input": [
      "numbers.remove([1,2])"
     ],
     "language": "python",
     "metadata": {},
     "outputs": [],
     "prompt_number": 67
    },
    {
     "cell_type": "code",
     "collapsed": false,
     "input": [
      "numbers"
     ],
     "language": "python",
     "metadata": {},
     "outputs": [
      {
       "metadata": {},
       "output_type": "pyout",
       "prompt_number": 68,
       "text": [
        "[0, 1, 2, 3, 4, 5, 6, 7, 8, 9]"
       ]
      }
     ],
     "prompt_number": 68
    },
    {
     "cell_type": "code",
     "collapsed": false,
     "input": [
      "#reverse\uff1a\u53cd\u5411\u5b58\u653e\u5143\u7d20\uff0c\u4e0d\u8fd4\u56de\u503c\n",
      "numbers.reverse()"
     ],
     "language": "python",
     "metadata": {},
     "outputs": [],
     "prompt_number": 70
    },
    {
     "cell_type": "code",
     "collapsed": false,
     "input": [
      "numbers"
     ],
     "language": "python",
     "metadata": {},
     "outputs": [
      {
       "metadata": {},
       "output_type": "pyout",
       "prompt_number": 71,
       "text": [
        "[9, 8, 7, 6, 5, 4, 3, 2, 1, 0]"
       ]
      }
     ],
     "prompt_number": 71
    },
    {
     "cell_type": "code",
     "collapsed": false,
     "input": [
      "#sort\uff1a\u6392\u5e8f\uff0c\u4e0d\u8fd4\u56de\u503c\n",
      "numbers.sort()"
     ],
     "language": "python",
     "metadata": {},
     "outputs": [],
     "prompt_number": 72
    },
    {
     "cell_type": "code",
     "collapsed": false,
     "input": [
      "numbers"
     ],
     "language": "python",
     "metadata": {},
     "outputs": [
      {
       "metadata": {},
       "output_type": "pyout",
       "prompt_number": 73,
       "text": [
        "[0, 1, 2, 3, 4, 5, 6, 7, 8, 9]"
       ]
      }
     ],
     "prompt_number": 73
    },
    {
     "cell_type": "markdown",
     "metadata": {},
     "source": [
      "*\u5982\u679c\u8981\u628a\u6392\u5e8f\u7ed3\u679c\u8d4b\u7ed9\u53e6\u5916\u4e00\u4e2a\u53d8\u91cf*  \n",
      "**\u4e0d\u80fd\u8fd9\u4e48\u505a\u2014\u2014x=numbers.sort()**"
     ]
    },
    {
     "cell_type": "markdown",
     "metadata": {},
     "source": [
      "* 1\u3001\u53ef\u4ee5\u5148\u590d\u5236\u5230\u65b0\u53d8\u91cf\u4e0a\uff0c\u5bf9\u53d8\u91cf\u505asort\u6392\u5e8f"
     ]
    },
    {
     "cell_type": "code",
     "collapsed": false,
     "input": [
      "x = [3, 2, 1]"
     ],
     "language": "python",
     "metadata": {},
     "outputs": [],
     "prompt_number": 74
    },
    {
     "cell_type": "code",
     "collapsed": false,
     "input": [
      "y = x[:]     #\u5e38\u7528\u7684\u5217\u8868\u590d\u5236\u65b9\u6cd5"
     ],
     "language": "python",
     "metadata": {},
     "outputs": [],
     "prompt_number": 75
    },
    {
     "cell_type": "code",
     "collapsed": false,
     "input": [
      "y.sort()"
     ],
     "language": "python",
     "metadata": {},
     "outputs": [],
     "prompt_number": 76
    },
    {
     "cell_type": "code",
     "collapsed": false,
     "input": [
      "y"
     ],
     "language": "python",
     "metadata": {},
     "outputs": [
      {
       "metadata": {},
       "output_type": "pyout",
       "prompt_number": 77,
       "text": [
        "[1, 2, 3]"
       ]
      }
     ],
     "prompt_number": 77
    },
    {
     "cell_type": "markdown",
     "metadata": {},
     "source": [
      "* 2\u3001\u4e5f\u53ef\u4ee5\u91c7\u7528sorted\u51fd\u6570\uff0c\u8be5\u51fd\u6570\u8fd4\u56de\u4e86\u7ed3\u679c\u800c\u4e0d\u5728\u539f\u5217\u8868\u4e0a\u4f5c\u4fee\u6539"
     ]
    },
    {
     "cell_type": "code",
     "collapsed": false,
     "input": [
      "x = [3, 2, 1]"
     ],
     "language": "python",
     "metadata": {},
     "outputs": [],
     "prompt_number": 78
    },
    {
     "cell_type": "code",
     "collapsed": false,
     "input": [
      "z = sorted(x)"
     ],
     "language": "python",
     "metadata": {},
     "outputs": [],
     "prompt_number": 79
    },
    {
     "cell_type": "code",
     "collapsed": false,
     "input": [
      "x"
     ],
     "language": "python",
     "metadata": {},
     "outputs": [
      {
       "metadata": {},
       "output_type": "pyout",
       "prompt_number": 80,
       "text": [
        "[3, 2, 1]"
       ]
      }
     ],
     "prompt_number": 80
    },
    {
     "cell_type": "code",
     "collapsed": false,
     "input": [
      "z"
     ],
     "language": "python",
     "metadata": {},
     "outputs": [
      {
       "metadata": {},
       "output_type": "pyout",
       "prompt_number": 81,
       "text": [
        "[1, 2, 3]"
       ]
      }
     ],
     "prompt_number": 81
    },
    {
     "cell_type": "markdown",
     "metadata": {},
     "source": [
      "#### sort\u65b9\u6cd5\u8fd8\u53ef\u4ee5\u7528\u6765\u5b9e\u73b0\u9ad8\u7ea7\u6392\u5e8f\uff0c\u6709\u4e09\u4e2a\u53c2\u6570cmp, key, reserve  \n",
      "* cmp\u53c2\u6570\u662f\u63d0\u4f9b\u4e00\u4e2a\u6bd4\u8f83\u7684\u51fd\u6570\uff0c\u9ed8\u8ba4\u4f7f\u7528\u5185\u5efa\u51fd\u6570cmp\u8fdb\u884c\u4ece\u5c0f\u5230\u5927\u6392\u5e8f  \n",
      "* key\u53c2\u6570\u4e0ecmp\u7c7b\u4f3c\uff0c\u4f46\u662f\u63d0\u4f9b\u7684\u8fd9\u4e2a\u51fd\u6570\u4e0d\u8fdb\u884c\u76f4\u63a5\u7684\u6bd4\u8f83\uff0c\u800c\u662f\u4e3a\u6bcf\u4e2a\u5143\u7d20\u521b\u5efa\u4e00\u4e2a\u952e\uff0c\u7136\u540e\u6839\u636e\u952e\u6765\u6392\u5e8f\uff0c\u53ef\u4ee5\u4f7f\u7528\u51fd\u6570len\u6309\u5143\u7d20\u957f\u5ea6\u6392\u5e8f  \n",
      "* reserve\u53c2\u6570\u662f\u6307\u5b9a\u662f\u5426\u53cd\u5411\u6392\u5e8f\uff0c\u53ea\u662f\u4e00\u4e2a\u5e03\u5c14\u503c  \n",
      "*\u5982\uff1ax.sort(cmp)*  \n",
      "*x.sort(key=len)*  \n",
      "*x.sort(reverse=True)*  \n",
      "**\u8fd9\u4e9b\u53c2\u6570\u4e5f\u53ef\u4ee5\u7528\u5728sorted\u51fd\u6570\u4e0a**"
     ]
    },
    {
     "cell_type": "code",
     "collapsed": false,
     "input": [],
     "language": "python",
     "metadata": {},
     "outputs": []
    }
   ],
   "metadata": {}
  }
 ]
}