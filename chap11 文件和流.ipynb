{
 "metadata": {
  "name": "",
  "signature": "sha256:0fe56413e1ccae2efce29a2221b5257abdc3cc44eb491913e3d025a108d60198"
 },
 "nbformat": 3,
 "nbformat_minor": 0,
 "worksheets": [
  {
   "cells": [
    {
     "cell_type": "code",
     "collapsed": false,
     "input": [],
     "language": "python",
     "metadata": {},
     "outputs": []
    }
   ],
   "metadata": {}
  }
 ]
}