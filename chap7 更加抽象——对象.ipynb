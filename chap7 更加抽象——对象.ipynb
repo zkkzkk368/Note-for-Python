{
 "metadata": {
  "name": "",
  "signature": "sha256:76eba70967ddecac25e95ccb49fda6022c92146701b7a5477a0085c70a1a96b7"
 },
 "nbformat": 3,
 "nbformat_minor": 0,
 "worksheets": [
  {
   "cells": [
    {
     "cell_type": "markdown",
     "metadata": {},
     "source": [
      "###\u5bf9\u8c61\uff08object\uff09  \n",
      "\u57fa\u672c\u4e0a\u53ef\u4ee5\u770b\u4f5c\u6570\u636e\u4ee5\u53ca\u7531\u4e00\u7cfb\u5217\u53ef\u4ee5\u5b58\u53d6\u3001\u64cd\u4f5c\u8fd9\u4e9b\u6570\u636e\u7684\u65b9\u6cd5\u6240\u7ec4\u6210\u7684\u96c6\u5408   \n",
      "\u5177\u6709\u4ee5\u4e0b\u4f18\u70b9\u2014\u2014  \n",
      "1. \u591a\u6001\uff08Polymorphism\uff09\uff1a\u53ef\u4ee5\u5bf9\u4e0d\u540c\u7c7b\u7684\u5bf9\u8c61\u4f7f\u7528\u540c\u6837\u7684\u64cd\u4f5c  \n",
      "2. \u5c01\u88c5\uff08Encapsulation\uff09\uff1a\u5bf9\u5916\u90e8\u4e16\u754c\u9690\u85cf\u5bf9\u8c61\u7684\u5de5\u4f5c\u7ec6\u8282  \n",
      "3. \u7ee7\u627f\uff08Inheritance\uff09\uff1a\u4ee5\u901a\u7528\u7684\u7c7b\u4e3a\u57fa\u7840\u5efa\u7acb\u4e13\u95e8\u7684\u7c7b\u5bf9\u8c61"
     ]
    },
    {
     "cell_type": "markdown",
     "metadata": {},
     "source": [
      "####\u591a\u6001\uff08Polymorphism\uff09  \n",
      "\u4e0d\u77e5\u9053\u53d8\u91cf\u6240\u5f15\u7528\u7684\u5bf9\u8c61\u7c7b\u578b\u662f\u4ec0\u4e48\uff0c\u8fd8\u80fd\u5bf9\u5b83\u8fdb\u884c\u64cd\u4f5c\uff0c\u56e0\u4e3a\u5b83\u4f1a\u6839\u636e\u5bf9\u8c61\uff08\u6216\u7c7b\uff09\u7684\u7c7b\u578b\u7684\u4e0d\u540c\u800c\u91c7\u53d6\u4e0d\u540c\u7684\u884c\u4e3a"
     ]
    },
    {
     "cell_type": "code",
     "collapsed": false,
     "input": [
      "from random import choice    #choice\u4f1a\u4ece\u53c2\u6570\uff08\u5e8f\u5217\uff09\u4e2d\u968f\u673a\u53d6\u51fa\u4e00\u4e2a\u5143\u7d20\u5e76\u8fd4\u56de"
     ],
     "language": "python",
     "metadata": {},
     "outputs": [],
     "prompt_number": 2
    },
    {
     "cell_type": "code",
     "collapsed": false,
     "input": [
      "x = choice( [ \"hello, world\", [1, 2, 'e','e', 4] ] )\n",
      "#\u5e8f\u5217\u91cc\u65e2\u6709\u5b57\u7b26\u4e32\u53c8\u6709\u5217\u8868\uff0c\u90a3\u4e48x\u662f\u5b57\u7b26\u4e32\u8fd8\u662f\u5217\u8868\u5462\uff1f\u7a0b\u5e8f\u4f1a\u81ea\u884c\u5224\u65ad"
     ],
     "language": "python",
     "metadata": {},
     "outputs": [],
     "prompt_number": 3
    },
    {
     "cell_type": "code",
     "collapsed": false,
     "input": [
      "x"
     ],
     "language": "python",
     "metadata": {},
     "outputs": [
      {
       "metadata": {},
       "output_type": "pyout",
       "prompt_number": 4,
       "text": [
        "'hello, world'"
       ]
      }
     ],
     "prompt_number": 4
    },
    {
     "cell_type": "markdown",
     "metadata": {},
     "source": [
      "####\u5c01\u88c5\uff08Encapsulation\uff09  \n",
      "\u5411\u7a0b\u5e8f\u7684\u5176\u4ed6\u90e8\u5206\u9690\u85cf\u5bf9\u8c61\u7684\u5177\u4f53\u5b9e\u73b0\u7ec6\u8282  \n",
      "\u62bd\u8c61\u5730\u5904\u7406\u7a0b\u5e8f\u7ec4\u4ef6\u800c\u4e0d\u5173\u6ce8\u5b9e\u73b0\u7ec6\u8282  \n",
      "*\u591a\u6001\u548c\u5c01\u88c5\u7684\u6982\u5ff5\u533a\u5206\u2014\u2014*\n",
      "*\u591a\u6001\u9488\u5bf9\u7684\u662f\u5bf9\u8c61\u7684\u7c7b*  \n",
      "*\u5c01\u88c5\u9488\u5bf9\u7684\u662f\u5bf9\u8c61\u7684\u6784\u5efa\u7ec6\u8282*"
     ]
    },
    {
     "cell_type": "markdown",
     "metadata": {},
     "source": [
      "####\u7ee7\u627f\uff08Inheritance\uff09  \n",
      "A\u7c7b\u4eceB\u7c7b\u7ee7\u627f\u65b9\u6cd5\uff0c\u5728A\u7c7b\u4e0a\u8c03\u7528\u65b9\u6cd5\u65f6\uff0c\u7a0b\u5e8f\u4f1a\u81ea\u52a8\u4eceB\u7c7b\u8c03\u7528\u76f8\u5e94\u7684\u65b9\u6cd5"
     ]
    },
    {
     "cell_type": "markdown",
     "metadata": {},
     "source": [
      "###\u7c7b\u548c\u7c7b\u578b  \n",
      "\u6240\u6709\u5c5e\u4e8e\u540c\u4e00\u4e2a\u7c7b\u7684\u5bf9\u8c61\uff0c\u6210\u4e3a\u7c7b\u7684**\u5b9e\u4f8b**\uff08instance\uff09  \n",
      "\u5927\u7c7b\u4ee5\u4e0b\u7ec6\u5206\u4e3a\u82e5\u5e72\u5c0f\u7c7b\uff0c\u5c0f\u7c7b\u79f0\u4e3a\u5927\u7c7b\u7684**\u5b50\u7c7b**\uff0c\u5927\u7c7b\u6210\u4e3a\u5c0f\u7c7b\u7684**\u8d85\u7c7b**  \n",
      "python\u4e2d\u4e60\u60ef\u7528\u9996\u5b57\u6bcd\u5927\u5199\u7684\u5355\u8bcd\u63cf\u8ff0\u4e00\u4e2a\u7c7b  \n",
      "\u65b9\u6cd5\uff1a\uff08\u66f4\u4e13\u4e1a\u7684\u53eb\u6cd5\u662f\u201c\u7ed1\u5b9a\u65b9\u6cd5\u201d\uff09\u4e0e\u51fd\u6570\u4e0d\u540c\uff0c\u5b83\u662f\u7ed1\u5b9a\u5230\u67d0\u4e2a\u7279\u5b9a\u7684\u7c7b\u4e0a\u7684"
     ]
    },
    {
     "cell_type": "markdown",
     "metadata": {},
     "source": [
      "####\u521b\u5efa\u7c7b"
     ]
    },
    {
     "cell_type": "code",
     "collapsed": false,
     "input": [
      "#\u65b0\u5f0f\u7c7b\u7684\u8bed\u6cd5\u4e2d\uff0c\u5728\u6a21\u5757\u6216\u811a\u672c\u7684\u5f00\u5934\u52a0\u5165\u4ee5\u4e0b\u8d4b\u503c\u8bed\u53e5\n",
      "__metaclass__ = type"
     ],
     "language": "python",
     "metadata": {},
     "outputs": [],
     "prompt_number": 6
    },
    {
     "cell_type": "code",
     "collapsed": false,
     "input": [
      "class Person:     #\u7528class\u8bed\u53e5\u521b\u5efa\u7c7b\uff0cPerson\u5373\u662f\u7c7b\u540d\n",
      "    def setName(self, name):        #\u7c7b\u7684\u65b9\u6cd5\u5b9a\u4e49\u8ddf\u51fd\u6570\u5b9a\u4e49\u5f62\u5f0f\u4e00\u81f4\uff0c\u800c\u4e14\u8fd9\u91cc\u7684self\u53c2\u6570\u8868\u793a\u7684\u662f\u5c5e\u4e8e\u7c7b\u7684\u5b9e\u4f8b\u81ea\u8eab\uff0c\u63a5\u53d7\u5b9e\u53c2\u65f6\u5b9e\u9645\u4e0a\u662f\u4e0d\u5305\u62ecself\u7684\n",
      "        self.name = name        #\u8bbe\u7f6e\u5bf9\u8c61\u7684name\u5c5e\u6027\n",
      "    def getName(self):\n",
      "        return self.name\n",
      "    def greet(self):\n",
      "        print \"Hello, world! I'm %s\" % self.name\n",
      "#\u65b9\u6cd5\u662f\u7c7b\u5185\u7684\u51fd\u6570\uff0c\u7b2c\u4e00\u4e2a\u53c2\u6570\u603b\u4e3aself"
     ],
     "language": "python",
     "metadata": {},
     "outputs": [],
     "prompt_number": 7
    },
    {
     "cell_type": "code",
     "collapsed": false,
     "input": [
      "foo = Person()          #foo\u662fPerson\u7c7b\u7684\u4e00\u4e2a\u5b9e\u4f8b"
     ],
     "language": "python",
     "metadata": {},
     "outputs": [],
     "prompt_number": 8
    },
    {
     "cell_type": "code",
     "collapsed": false,
     "input": [
      "foo.setName(\"Zk\")"
     ],
     "language": "python",
     "metadata": {},
     "outputs": [],
     "prompt_number": 9
    },
    {
     "cell_type": "code",
     "collapsed": false,
     "input": [
      "foo.getName()"
     ],
     "language": "python",
     "metadata": {},
     "outputs": [
      {
       "metadata": {},
       "output_type": "pyout",
       "prompt_number": 10,
       "text": [
        "'Zk'"
       ]
      }
     ],
     "prompt_number": 10
    },
    {
     "cell_type": "code",
     "collapsed": false,
     "input": [
      "foo.greet()"
     ],
     "language": "python",
     "metadata": {},
     "outputs": [
      {
       "output_type": "stream",
       "stream": "stdout",
       "text": [
        "Hello, world! I'm Zk\n"
       ]
      }
     ],
     "prompt_number": 12
    },
    {
     "cell_type": "code",
     "collapsed": false,
     "input": [
      "#\u4ee5\u4e0a\u8bed\u53e5\u4e5f\u80fd\u5199\u6210\u201c\u7c7b.\u65b9\u6cd5(\u53c2\u6570)\u201d\u7684\u5f62\u5f0f\n",
      "#\u8fd9\u91cc\u7684\u53c2\u6570self\u9700\u8981\u6307\u5b9a\u4e3a\u5b9e\u4f8bfoo\n",
      "Person.greet(foo)"
     ],
     "language": "python",
     "metadata": {},
     "outputs": [
      {
       "output_type": "stream",
       "stream": "stdout",
       "text": [
        "Hello, world! I'm Zk\n"
       ]
      }
     ],
     "prompt_number": 13
    },
    {
     "cell_type": "code",
     "collapsed": false,
     "input": [
      "#\u7528\u53d8\u91cf\u5f15\u7528\u7ed1\u5b9a\u65b9\u6cd5\n",
      "foogreet = foo.greet     #\u6ce8\u610f\u6b64\u5904\u4e0d\u80fd\u6709\u62ec\u53f7"
     ],
     "language": "python",
     "metadata": {},
     "outputs": [],
     "prompt_number": 16
    },
    {
     "cell_type": "code",
     "collapsed": false,
     "input": [
      "foogreet()"
     ],
     "language": "python",
     "metadata": {},
     "outputs": [
      {
       "output_type": "stream",
       "stream": "stdout",
       "text": [
        "Hello, world! I'm Zk\n"
       ]
      }
     ],
     "prompt_number": 17
    },
    {
     "cell_type": "markdown",
     "metadata": {},
     "source": [
      "####\u79c1\u6709\u5316  \n",
      "\u5728\u5176\u4ed6\u4e00\u4e9b\u8bed\u8a00\u4e2d\uff0c\u80fd\u591f\u5c06\u5bf9\u8c61\u7684\u65b9\u6cd5\u548c\u7279\u6027\u53d8\u4e3a\u79c1\u6709\uff0c\u4ece\u5916\u90e8\u65e0\u6cd5\u8bbf\u95ee  \n",
      "\u4f46\u662fpython\u4e0d\u5b58\u5728\u79c1\u6709\u5316\u529f\u80fd  \n",
      "\u4e0d\u8fc7\u5374\u6709\u4e00\u79cd\u201c\u540d\u5b57\u53d8\u6362\u672f\u201d"
     ]
    },
    {
     "cell_type": "code",
     "collapsed": false,
     "input": [
      "class Secretive:\n",
      "    def __inaccessible(self):       #\u65b9\u6cd5\u540d\u524d\u52a0\u4e0a\u53cc\u4e0b\u5212\u7ebf\uff0c\u5916\u90e8\u5c06\u4e0d\u80fd\u8bbf\u95ee\u8fd9\u4e2a\u65b9\u6cd5\n",
      "        print \"Bet you can't see me...\"\n",
      "    def accessible(self):\n",
      "        print \"The secret message is: \"\n",
      "        self.__inaccessible()          #\u4ece\u5185\u90e8\u5374\u53ef\u4ee5\u8bbf\u95ee"
     ],
     "language": "python",
     "metadata": {},
     "outputs": [],
     "prompt_number": 27
    },
    {
     "cell_type": "code",
     "collapsed": false,
     "input": [
      "s = Secretive()"
     ],
     "language": "python",
     "metadata": {},
     "outputs": [],
     "prompt_number": 28
    },
    {
     "cell_type": "code",
     "collapsed": false,
     "input": [
      "s.__inaccessiable()         #\u5916\u90e8\u4e0d\u80fd\u8bbf\u95ee"
     ],
     "language": "python",
     "metadata": {},
     "outputs": [
      {
       "ename": "AttributeError",
       "evalue": "'Secretive' object has no attribute '__inaccessiable'",
       "output_type": "pyerr",
       "traceback": [
        "\u001b[0;31m---------------------------------------------------------------------------\u001b[0m\n\u001b[0;31mAttributeError\u001b[0m                            Traceback (most recent call last)",
        "\u001b[0;32m<ipython-input-29-7b7e334938e7>\u001b[0m in \u001b[0;36m<module>\u001b[0;34m()\u001b[0m\n\u001b[0;32m----> 1\u001b[0;31m \u001b[0ms\u001b[0m\u001b[0;34m.\u001b[0m\u001b[0m__inaccessiable\u001b[0m\u001b[0;34m(\u001b[0m\u001b[0;34m)\u001b[0m         \u001b[0;31m#\u5916\u90e8\u4e0d\u80fd\u8bbf\u95ee\u001b[0m\u001b[0;34m\u001b[0m\u001b[0m\n\u001b[0m",
        "\u001b[0;31mAttributeError\u001b[0m: 'Secretive' object has no attribute '__inaccessiable'"
       ]
      }
     ],
     "prompt_number": 29
    },
    {
     "cell_type": "code",
     "collapsed": false,
     "input": [
      "s.accessible()        #\u5185\u90e8\u53ef\u4ee5\u8bbf\u95ee"
     ],
     "language": "python",
     "metadata": {},
     "outputs": [
      {
       "output_type": "stream",
       "stream": "stdout",
       "text": [
        "The secret message is: \n",
        "Bet you can't see me...\n"
       ]
      }
     ],
     "prompt_number": 30
    },
    {
     "cell_type": "code",
     "collapsed": false,
     "input": [
      "#\u4e8b\u5b9e\u4e0a\uff0c\u4ee5\u53cc\u4e0b\u5212\u7ebf\u4e3a\u524d\u7f00\u7684\u65b9\u6cd5\u540d\u5728\u5185\u90e8\u4f1a\u81ea\u52a8\u7ffb\u8bd1\u4e3a   \uff08\u5355\u4e0b\u5212\u7ebf_\uff09+\u201c\u7c7b\u540d\u201d+\u201c\u5e26\u53cc\u4e0b\u5212\u7ebf\u7684\u65b9\u6cd5\u540d\u201d\n",
      "#\u4e5f\u5c31\u662f\u8bf4\uff0c\u6211\u4eec\u4f9d\u65e7\u80fd\u591f\u8bbf\u95ee\u8fd9\u4e2a\u65b9\u6cd5\n",
      "s._Secretive__inaccessible()"
     ],
     "language": "python",
     "metadata": {},
     "outputs": [
      {
       "output_type": "stream",
       "stream": "stdout",
       "text": [
        "Bet you can't see me...\n"
       ]
      }
     ],
     "prompt_number": 31
    },
    {
     "cell_type": "markdown",
     "metadata": {},
     "source": [
      "**\u5982\u679c\u4e0d\u9700\u8981\u4f7f\u7528\u8fd9\u79cd\u65b9\u6cd5\uff0c\u53c8\u4e0d\u60f3\u8ba9\u5176\u4ed6\u5bf9\u8c61\u8bbf\u95ee\u5185\u90e8\u6570\u636e\uff0c\u53ef\u4ee5\u4f7f\u7528\u5355\u4e0b\u5212\u7ebf**  \n",
      "**\u6bd5\u7adf\u201cfrom module import \\*\u201d\u8bed\u53e5\u662f\u4e0d\u4f1a\u5bfc\u5165\u4ee5\u5355\u4e0b\u5212\u7ebf\u4e3a\u524d\u7f00\u7684\u540d\u5b57\u7684**"
     ]
    },
    {
     "cell_type": "markdown",
     "metadata": {},
     "source": [
      "####\u7c7b\u547d\u540d\u7a7a\u95f4  "
     ]
    },
    {
     "cell_type": "code",
     "collapsed": false,
     "input": [
      "class MemberCounter():\n",
      "    members = 0           #\u4e3a\u7c7b\u5b9a\u4e49\u4e00\u4e2a\u53d8\u91cf\n",
      "    def init(self):\n",
      "        MemberCounter.members += 1"
     ],
     "language": "python",
     "metadata": {},
     "outputs": [],
     "prompt_number": 32
    },
    {
     "cell_type": "code",
     "collapsed": false,
     "input": [
      "m1 = MemberCounter()"
     ],
     "language": "python",
     "metadata": {},
     "outputs": [],
     "prompt_number": 34
    },
    {
     "cell_type": "code",
     "collapsed": false,
     "input": [
      "m1.init()"
     ],
     "language": "python",
     "metadata": {},
     "outputs": [],
     "prompt_number": 35
    },
    {
     "cell_type": "code",
     "collapsed": false,
     "input": [
      "MemberCounter.members        #\u901a\u8fc7\u201c\u7c7b.\u53d8\u91cf\u201d\u7684\u5f62\u5f0f\u5c31\u53ef\u4ee5\u4ece\u5916\u90e8\u8bbf\u95ee\u7c7b\u5185\u90e8\u7684\u53d8\u91cf"
     ],
     "language": "python",
     "metadata": {},
     "outputs": [
      {
       "metadata": {},
       "output_type": "pyout",
       "prompt_number": 36,
       "text": [
        "1"
       ]
      }
     ],
     "prompt_number": 36
    },
    {
     "cell_type": "code",
     "collapsed": false,
     "input": [
      "m2 = MemberCounter()"
     ],
     "language": "python",
     "metadata": {},
     "outputs": [],
     "prompt_number": 37
    },
    {
     "cell_type": "code",
     "collapsed": false,
     "input": [
      "m2.init()"
     ],
     "language": "python",
     "metadata": {},
     "outputs": [],
     "prompt_number": 38
    },
    {
     "cell_type": "code",
     "collapsed": false,
     "input": [
      "MemberCounter.members"
     ],
     "language": "python",
     "metadata": {},
     "outputs": [
      {
       "metadata": {},
       "output_type": "pyout",
       "prompt_number": 39,
       "text": [
        "2"
       ]
      }
     ],
     "prompt_number": 39
    },
    {
     "cell_type": "code",
     "collapsed": false,
     "input": [
      "#\u4e5f\u53ef\u4ee5\u901a\u8fc7\u5b9e\u4f8b\u8bbf\u95ee\u8fd9\u4e2a\u53d8\u91cf\n",
      "m1.members"
     ],
     "language": "python",
     "metadata": {},
     "outputs": [
      {
       "metadata": {},
       "output_type": "pyout",
       "prompt_number": 40,
       "text": [
        "2"
       ]
      }
     ],
     "prompt_number": 40
    },
    {
     "cell_type": "code",
     "collapsed": false,
     "input": [
      "#\u5982\u679c\u6211\u4eec\u7ed9\u5bf9\u8c61\u8bbe\u7f6e\u4e00\u4e2a\u540c\u540d\u53d8\u91cf\u5462\uff1f\n",
      "m1.members = 'Two'"
     ],
     "language": "python",
     "metadata": {},
     "outputs": [],
     "prompt_number": 41
    },
    {
     "cell_type": "code",
     "collapsed": false,
     "input": [
      "m1.members           #\u5bf9\u8c61m1\u5185\u7684\u53d8\u91cf\u5c4f\u853d\u4e86\u7c7b\u7684\u53d8\u91cf"
     ],
     "language": "python",
     "metadata": {},
     "outputs": [
      {
       "metadata": {},
       "output_type": "pyout",
       "prompt_number": 42,
       "text": [
        "'Two'"
       ]
      }
     ],
     "prompt_number": 42
    },
    {
     "cell_type": "code",
     "collapsed": false,
     "input": [
      "m2.members           #\u5bf9\u8c61m2\u5185\u5e76\u6ca1\u6709\u540c\u540d\u53d8\u91cf"
     ],
     "language": "python",
     "metadata": {},
     "outputs": [
      {
       "metadata": {},
       "output_type": "pyout",
       "prompt_number": 43,
       "text": [
        "2"
       ]
      }
     ],
     "prompt_number": 43
    },
    {
     "cell_type": "code",
     "collapsed": false,
     "input": [
      "MemberCounter.members"
     ],
     "language": "python",
     "metadata": {},
     "outputs": [
      {
       "metadata": {},
       "output_type": "pyout",
       "prompt_number": 44,
       "text": [
        "2"
       ]
      }
     ],
     "prompt_number": 44
    },
    {
     "cell_type": "code",
     "collapsed": false,
     "input": [
      "#\u5bf9\u8c61\u547d\u540d\u7a7a\u95f4\u662f\u7c7b\u547d\u540d\u7a7a\u95f4\u7684\u5b50\u7a7a\u95f4\n",
      "#\u5bf9\u8c61\u547d\u540d\u7a7a\u95f4\u5185\u7684\u540c\u540d\u53d8\u91cf\u4f1a\u5c4f\u853d\u6389\u7c7b\u547d\u540d\u7a7a\u95f4\u7684\u53d8\u91cf\n",
      "#\u201c\u5bf9\u8c61\u5185\u53d8\u91cf  \u548c  \u7c7b\u5185\u53d8\u91cf\u201d \u7684\u5173\u7cfb\u7c7b\u4f3c\u4e8e\u201c\u5c40\u90e8\u53d8\u91cf  \u548c  \u5168\u5c40\u53d8\u91cf\u201d\u7684\u5173\u7cfb"
     ],
     "language": "python",
     "metadata": {},
     "outputs": [],
     "prompt_number": 45
    },
    {
     "cell_type": "markdown",
     "metadata": {},
     "source": [
      "####\u6307\u5b9a\u8d85\u7c7b"
     ]
    },
    {
     "cell_type": "code",
     "collapsed": false,
     "input": [
      "class Filter:\n",
      "    def init(self):\n",
      "        self.blocked = []\n",
      "    def filter(self, sequence):\n",
      "        return [x for x in sequence if x not in self.blocked]"
     ],
     "language": "python",
     "metadata": {},
     "outputs": [],
     "prompt_number": 46
    },
    {
     "cell_type": "code",
     "collapsed": false,
     "input": [
      "class SPAMFilter(Filter):         #SPAMFliter\u662fFilter\u7684\u5b50\u7c7b\n",
      "    def init(self):      #\u91cd\u5199init\u65b9\u6cd5\n",
      "        self.blocked = ['SPAM']"
     ],
     "language": "python",
     "metadata": {},
     "outputs": [],
     "prompt_number": 47
    },
    {
     "cell_type": "code",
     "collapsed": false,
     "input": [
      "#\u6b64\u5904Filter\u662f\u5e8f\u5217\u8fc7\u6ee4\u7684\u901a\u7528\u7c7b\n",
      "#SPAMFilter\u662f\u8fd9\u4e2a\u901a\u7528\u7c7b\u4e0b\u7684\u4e00\u79cd\u60c5\u51b5\uff0c\u4e00\u4e2a\u5b50\u7c7b\uff0c\u5b83\u7ee7\u627f\u4e86\u8d85\u7c7b\u7684\u65b9\u6cd5\uff0c\u4f46\u662f\u6211\u4eec\u91cd\u5199\u4e86init\u65b9\u6cd5"
     ],
     "language": "python",
     "metadata": {},
     "outputs": [],
     "prompt_number": 52
    },
    {
     "cell_type": "code",
     "collapsed": false,
     "input": [
      "s = SPAMFilter()"
     ],
     "language": "python",
     "metadata": {},
     "outputs": [],
     "prompt_number": 49
    },
    {
     "cell_type": "code",
     "collapsed": false,
     "input": [
      "s.init()"
     ],
     "language": "python",
     "metadata": {},
     "outputs": [],
     "prompt_number": 50
    },
    {
     "cell_type": "code",
     "collapsed": false,
     "input": [
      "s.filter(['SPAM', 'SPAM', 'SPAM', 'SPAM', 'eggs', 'bacon', 'SPAM'])"
     ],
     "language": "python",
     "metadata": {},
     "outputs": [
      {
       "metadata": {},
       "output_type": "pyout",
       "prompt_number": 51,
       "text": [
        "['eggs', 'bacon']"
       ]
      }
     ],
     "prompt_number": 51
    },
    {
     "cell_type": "markdown",
     "metadata": {},
     "source": [
      "####\u68c0\u67e5\u7ee7\u627f  \n",
      "issubclass\u51fd\u6570\uff1a\u67e5\u770b\u4e00\u4e2a\u7c7b\u662f\u4e0d\u662f\u53e6\u4e00\u4e2a\u7c7b\u7684\u5b50\u7c7b  \n",
      "isinstance\u51fd\u6570\uff1a\u67e5\u770b\u4e00\u4e2a\u5bf9\u8c61\u662f\u4e0d\u662f\u4e00\u4e2a\u7c7b\u7684\u5b9e\u4f8b\uff08\u5e94\u5c11\u7528\uff09  \n",
      "\\_\\_bases\\_\\_\u7279\u6027\uff1a\u67e5\u770b\u7c7b\u7684\u8d85\u7c7b\uff08\u4eec\uff09  \n",
      "\\_\\_class\\_\\_\u7279\u6027\uff1a\u67e5\u770b\u5bf9\u8c61\u7684\u7c7b"
     ]
    },
    {
     "cell_type": "code",
     "collapsed": false,
     "input": [
      "issubclass(SPAMFilter, Filter)       #\u7b2c\u4e00\u4e2a\u53c2\u6570\u662f\u5b50\u7c7b\uff0c\u7b2c\u4e8c\u4e2a\u53c2\u6570\u662f\u8d85\u7c7b\uff0c\u5219\u8fd4\u56deTrue"
     ],
     "language": "python",
     "metadata": {},
     "outputs": [
      {
       "metadata": {},
       "output_type": "pyout",
       "prompt_number": 54,
       "text": [
        "True"
       ]
      }
     ],
     "prompt_number": 54
    },
    {
     "cell_type": "code",
     "collapsed": false,
     "input": [
      "issubclass(Filter, SPAMFilter)"
     ],
     "language": "python",
     "metadata": {},
     "outputs": [
      {
       "metadata": {},
       "output_type": "pyout",
       "prompt_number": 55,
       "text": [
        "False"
       ]
      }
     ],
     "prompt_number": 55
    },
    {
     "cell_type": "code",
     "collapsed": false,
     "input": [
      "SPAMFilter.__bases__"
     ],
     "language": "python",
     "metadata": {},
     "outputs": [
      {
       "metadata": {},
       "output_type": "pyout",
       "prompt_number": 57,
       "text": [
        "(__main__.Filter,)"
       ]
      }
     ],
     "prompt_number": 57
    },
    {
     "cell_type": "code",
     "collapsed": false,
     "input": [
      "Filter.__bases__"
     ],
     "language": "python",
     "metadata": {},
     "outputs": [
      {
       "metadata": {},
       "output_type": "pyout",
       "prompt_number": 58,
       "text": [
        "(object,)"
       ]
      }
     ],
     "prompt_number": 58
    },
    {
     "cell_type": "code",
     "collapsed": false,
     "input": [
      "isinstance(s, SPAMFilter)       #\u7b2c\u4e00\u4e2a\u53c2\u6570\u662f\u5bf9\u8c61\uff0c\u7b2c\u4e8c\u4e2a\u53c2\u6570\u662f\u7c7b\uff0c\u8fd4\u56de\u5e03\u5c14\u503c"
     ],
     "language": "python",
     "metadata": {},
     "outputs": [
      {
       "metadata": {},
       "output_type": "pyout",
       "prompt_number": 60,
       "text": [
        "True"
       ]
      }
     ],
     "prompt_number": 60
    },
    {
     "cell_type": "code",
     "collapsed": false,
     "input": [
      "s.__class__"
     ],
     "language": "python",
     "metadata": {},
     "outputs": [
      {
       "metadata": {},
       "output_type": "pyout",
       "prompt_number": 61,
       "text": [
        "__main__.SPAMFilter"
       ]
      }
     ],
     "prompt_number": 61
    },
    {
     "cell_type": "code",
     "collapsed": false,
     "input": [
      "#\u65b0\u5f0f\u7c7b\u7684\u5bf9\u8c61\u8fd8\u53ef\u4ee5\u4f7f\u7528type\u51fd\u6570\n",
      "type(s)"
     ],
     "language": "python",
     "metadata": {},
     "outputs": [
      {
       "metadata": {},
       "output_type": "pyout",
       "prompt_number": 62,
       "text": [
        "__main__.SPAMFilter"
       ]
      }
     ],
     "prompt_number": 62
    },
    {
     "cell_type": "markdown",
     "metadata": {},
     "source": [
      "####\u591a\u91cd\u7ee7\u627f\uff08multiple inheritance\uff09  \n",
      "**\u5982\u975e\u7279\u522b\u719f\u6089\uff0c\u5426\u5219\u5e94\u8be5\u5c3d\u91cf\u907f\u514d\u591a\u91cd\u7ee7\u627f**  \n",
      "* \u4e00\u4e2a\u7c7b\u53ef\u4ee5\u540c\u65f6\u5c5e\u4e8e\u591a\u4e2a\u8d85\u7c7b\uff0c\u540c\u65f6\u7ee7\u627f\u591a\u4e2a\u8d85\u7c7b\u7684\u7279\u6027\u548c\u65b9\u6cd5  \n",
      "\u6b64\u65f6\u5982\u679c\u6709\u91cd\u590d\u7684\u7279\u6027\u540d\u6216\u65b9\u6cd5\u540d\uff0c\u5148\u5217\u51fa\uff08\u5728\u5de6\u8fb9\uff09\u7684\u8d85\u7c7b\u6709\u6548  \n",
      "\u5176\u5b9e\u5c31\u662f\u53c2\u6570\u4ece\u53f3\u5230\u5de6\u4f20\u5165\u7684\u539f\u7406\uff0c\u53f3\u8fb9\u7684\u8d85\u7c7b\u5148\u4f20\u5165\uff0c\u5de6\u8fb9\u7684\u8d85\u7c7b\u5c31\u4f1a\u91cd\u5199\u91cd\u590d\u7684\u7279\u6027\u6216\u8005\u65b9\u6cd5  \n",
      "* \u591a\u4e2a\u8d85\u7c7b\u53c8\u5171\u4eab\u540c\u4e00\u4e2a\u8d85\u7c7b  \n",
      "\u6b64\u65f6\u4f1a\u6709\u4e00\u4e2a\u67e5\u627e\u987a\u5e8f\uff0c\u79f0\u4e3aMRO\uff08Method Resolution Order\uff0c\u65b9\u6cd5\u5224\u5b9a\u987a\u5e8f\uff09  \n",
      "\u5176\u7b97\u6cd5\u76f8\u5f53\u590d\u6742\uff0c\u4f46\u662f\u80fd\u591f\u786e\u4fdd\u5de5\u4f5c\u987a\u5229\u8fdb\u884c"
     ]
    },
    {
     "cell_type": "markdown",
     "metadata": {},
     "source": [
      "####\u63a5\u53e3\uff08\u6216\u201c\u534f\u8bae\u201d\uff09  \n",
      "\u5373\u516c\u5f00\u7684\u65b9\u6cd5\u548c\u7279\u6027  "
     ]
    },
    {
     "cell_type": "code",
     "collapsed": false,
     "input": [
      "#hasattr\u51fd\u6570\uff1a\u68c0\u67e5\u65b9\u6cd5\u662f\u5426\u5b58\u5728\uff0c\u8fd4\u56de\u5e03\u5c14\u503c\n",
      "hasattr(SPAMFilter, 'filter')      #\u7b2c\u4e00\u4e2a\u53c2\u6570\u4e3a\u7c7b\u540d\u6216\u5bf9\u8c61\u540d\uff0c\u7b2c\u4e8c\u4e2a\u53c2\u6570\u4e3a\u7279\u6027\u540d\u6216\u65b9\u6cd5\u540d\uff08\u5fc5\u987b\u4e3a\u5b57\u7b26\u4e32\uff09"
     ],
     "language": "python",
     "metadata": {},
     "outputs": [
      {
       "metadata": {},
       "output_type": "pyout",
       "prompt_number": 64,
       "text": [
        "True"
       ]
      }
     ],
     "prompt_number": 64
    },
    {
     "cell_type": "code",
     "collapsed": false,
     "input": [
      "#getattr\u51fd\u6570\uff1a\u5c1d\u8bd5\u8bbf\u95ee\u7279\u6027\uff0c\u5982\u679c\u5b58\u5728\uff0c\u8fd4\u56de\u8be5\u7279\u6027\n",
      "getattr(s, 'filter', None)    #\u7b2c\u4e00\u4e2a\u53c2\u6570\u4e3a\u7c7b\u540d\u6216\u5bf9\u8c61\u540d\uff0c\u7b2c\u4e8c\u4e2a\u53c2\u6570\u4e3a\u7279\u6027\u540d\u6216\u65b9\u6cd5\u540d\uff08\u5fc5\u987b\u4e3a\u5b57\u7b26\u4e32\uff09\uff0c\u7b2c\u4e09\u4e2a\u53c2\u6570\u4e3a\u9ed8\u8ba4\u503c"
     ],
     "language": "python",
     "metadata": {},
     "outputs": [
      {
       "metadata": {},
       "output_type": "pyout",
       "prompt_number": 70,
       "text": [
        "<bound method SPAMFilter.filter of <__main__.SPAMFilter object at 0x7f48bc502250>>"
       ]
      }
     ],
     "prompt_number": 70
    },
    {
     "cell_type": "code",
     "collapsed": false,
     "input": [
      "#\u5982\u679c\u4e0d\u5b58\u5728\uff0c\u8fd4\u56de\u6307\u5b9a\u7684\u9ed8\u8ba4\u503c\n",
      "getattr(s, 'aaa', 'N/A')     "
     ],
     "language": "python",
     "metadata": {},
     "outputs": [
      {
       "metadata": {},
       "output_type": "pyout",
       "prompt_number": 71,
       "text": [
        "'N/A'"
       ]
      }
     ],
     "prompt_number": 71
    },
    {
     "cell_type": "code",
     "collapsed": false,
     "input": [
      "#\u5982\u679c\u6ca1\u6709\u8bbe\u7f6e\u9ed8\u8ba4\u503c\uff0c\u7a0b\u5e8f\u51fa\u9519\n",
      "getattr(s, 'aaa')"
     ],
     "language": "python",
     "metadata": {},
     "outputs": [
      {
       "ename": "AttributeError",
       "evalue": "'SPAMFilter' object has no attribute 'aaa'",
       "output_type": "pyerr",
       "traceback": [
        "\u001b[0;31m---------------------------------------------------------------------------\u001b[0m\n\u001b[0;31mAttributeError\u001b[0m                            Traceback (most recent call last)",
        "\u001b[0;32m<ipython-input-72-0fc80992df7a>\u001b[0m in \u001b[0;36m<module>\u001b[0;34m()\u001b[0m\n\u001b[1;32m      1\u001b[0m \u001b[0;31m#\u5982\u679c\u6ca1\u6709\u8bbe\u7f6e\u9ed8\u8ba4\u503c\uff0c\u7a0b\u5e8f\u51fa\u9519\u001b[0m\u001b[0;34m\u001b[0m\u001b[0;34m\u001b[0m\u001b[0m\n\u001b[0;32m----> 2\u001b[0;31m \u001b[0mgetattr\u001b[0m\u001b[0;34m(\u001b[0m\u001b[0ms\u001b[0m\u001b[0;34m,\u001b[0m \u001b[0;34m'aaa'\u001b[0m\u001b[0;34m)\u001b[0m\u001b[0;34m\u001b[0m\u001b[0m\n\u001b[0m",
        "\u001b[0;31mAttributeError\u001b[0m: 'SPAMFilter' object has no attribute 'aaa'"
       ]
      }
     ],
     "prompt_number": 72
    },
    {
     "cell_type": "code",
     "collapsed": false,
     "input": [
      "#getattr\u51fd\u6570\u53ef\u4ee5\u914d\u5408callable\u51fd\u6570\uff0c\u5224\u65ad\u65b9\u6cd5\u80fd\u5426\u88ab\u8c03\u7528\n",
      "callable( getattr(s,'filter', None) )"
     ],
     "language": "python",
     "metadata": {},
     "outputs": [
      {
       "metadata": {},
       "output_type": "pyout",
       "prompt_number": 73,
       "text": [
        "True"
       ]
      }
     ],
     "prompt_number": 73
    },
    {
     "cell_type": "code",
     "collapsed": false,
     "input": [
      "callable( getattr(s, 'aaa', None) )"
     ],
     "language": "python",
     "metadata": {},
     "outputs": [
      {
       "metadata": {},
       "output_type": "pyout",
       "prompt_number": 74,
       "text": [
        "False"
       ]
      }
     ],
     "prompt_number": 74
    },
    {
     "cell_type": "code",
     "collapsed": false,
     "input": [
      "#\u4f46\u662fcallable\u5728python3\u4e2d\u5df2\u7ecf\u4e0d\u80fd\u4f7f\u7528\n",
      "#\u6211\u4eec\u53ef\u4ee5\u68c0\u67e5__call__\u6765\u4ee3\u66ff\n",
      "hasattr(getattr(s, 'filter', None) , '__call__')"
     ],
     "language": "python",
     "metadata": {},
     "outputs": [
      {
       "metadata": {},
       "output_type": "pyout",
       "prompt_number": 79,
       "text": [
        "True"
       ]
      }
     ],
     "prompt_number": 79
    },
    {
     "cell_type": "code",
     "collapsed": false,
     "input": [
      "hasattr(pow, '__call__')     #\u4e5f\u53ef\u4ee5\u662f\u51fd\u6570"
     ],
     "language": "python",
     "metadata": {},
     "outputs": [
      {
       "metadata": {},
       "output_type": "pyout",
       "prompt_number": 80,
       "text": [
        "True"
       ]
      }
     ],
     "prompt_number": 80
    },
    {
     "cell_type": "code",
     "collapsed": false,
     "input": [
      "#setattr\u51fd\u6570\uff1a\u4e3a\u5bf9\u8c61\u8bbe\u7f6e\u7279\u6027\n",
      "setattr(s, 'name', 'Zk')      #\u7b2c\u4e00\u4e2a\u53c2\u6570\u662f\u5bf9\u8c61\uff0c\u7b2c\u4e8c\u4e2a\u53c2\u6570\u662f\u7279\u6027\u540d\uff0c\u7b2c\u4e09\u4e2a\u53c2\u6570\u662f\u7279\u6027\u503c"
     ],
     "language": "python",
     "metadata": {},
     "outputs": [],
     "prompt_number": 81
    },
    {
     "cell_type": "code",
     "collapsed": false,
     "input": [
      "s.name"
     ],
     "language": "python",
     "metadata": {},
     "outputs": [
      {
       "metadata": {},
       "output_type": "pyout",
       "prompt_number": 82,
       "text": [
        "'Zk'"
       ]
      }
     ],
     "prompt_number": 82
    },
    {
     "cell_type": "code",
     "collapsed": false,
     "input": [
      "#\u53ef\u4ee5\u901a\u8fc7\u8bbf\u95ee__dict__\u7279\u6027\u67e5\u770b\u5bf9\u8c61\u6240\u6709\u5b58\u50a8\u503c\n",
      "s.__dict__"
     ],
     "language": "python",
     "metadata": {},
     "outputs": [
      {
       "metadata": {},
       "output_type": "pyout",
       "prompt_number": 83,
       "text": [
        "{'blocked': ['SPAM'], 'name': 'Zk'}"
       ]
      }
     ],
     "prompt_number": 83
    },
    {
     "cell_type": "markdown",
     "metadata": {},
     "source": [
      "###\u9762\u5411\u5bf9\u8c61\u7a0b\u5e8f\u8bbe\u8ba1  \n",
      "####\u7b80\u5355\u8981\u70b9  \n",
      "* \u5c06\u5c5e\u4e8e\u4e00\u7c7b\u7684\u5bf9\u8c61\u653e\u5728\u4e00\u8d77  \n",
      "*\u6bd4\u5982\uff0c\u4e00\u4e2a\u51fd\u6570\u64cd\u4f5c\u4e00\u4e2a\u5168\u5c40\u53d8\u91cf\uff0c\u90a3\u4e48\u8fd9\u4e2a\u51fd\u6570\u548c\u8fd9\u4e2a\u53d8\u91cf\u6700\u597d\u5728\u540c\u4e00\u4e2a\u7c7b\u5185\u4f5c\u4e3a\u65b9\u6cd5\u6216\u8005\u7279\u6027\u51fa\u73b0*  \n",
      "* \u4e0d\u8981\u8ba9\u5bf9\u8c61\u8fc7\u4e8e\u4eb2\u5bc6  \n",
      "\u5b9e\u4f8b\u53ea\u5173\u5fc3\u81ea\u5df1\u7684\u72b6\u6001  \n",
      "* \u5c0f\u5fc3\u7ee7\u627f\uff0c\u5c24\u5176\u662f\u591a\u91cd\u7ee7\u627f  \n",
      "* \u7b80\u5355\u3001\u6613\u61c2\u3001\u5c0f\u5de7  \n",
      "####\u8bbe\u8ba1\u8349\u56fe  \n",
      "1. \u5199\u51fa\u529f\u80fd\u63cf\u8ff0\uff0c\u5173\u6ce8\u540d\u8bcd\uff0c\u52a8\u8bcd\uff0c\u5f62\u5bb9\u8bcd  \n",
      "2. \u540d\u8bcd==>\u7c7b\n",
      "3. \u52a8\u8bcd==>\u65b9\u6cd5  \n",
      "4. \u5f62\u5bb9\u8bcd==>\u7279\u6027\n",
      "5. \u5c06\u65b9\u6cd5\u548c\u7279\u6027\u5206\u914d\u5230\u7c7b"
     ]
    },
    {
     "cell_type": "code",
     "collapsed": false,
     "input": [],
     "language": "python",
     "metadata": {},
     "outputs": []
    }
   ],
   "metadata": {}
  }
 ]
}