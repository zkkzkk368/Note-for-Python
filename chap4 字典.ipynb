{
 "metadata": {
  "name": "",
  "signature": "sha256:dd30856b39464670e683ec141f37080145fad90e7cad896bcef44f5ea5c52dc0"
 },
 "nbformat": 3,
 "nbformat_minor": 0,
 "worksheets": [
  {
   "cells": [
    {
     "cell_type": "markdown",
     "metadata": {},
     "source": [
      "###\u5b57\u5178\u7684\u521b\u5efa\n",
      "**\u5b57\u5178\u7684\u952e\u53ef\u4ee5\u662f\u6574\u578b\u3001\u5b57\u7b26\u4e32\u3001\u6d6e\u70b9\u578b\u3001\u751a\u81f3\u5143\u7ec4**  \n",
      "**\u66f4\u795e\u5947\u7684\u662f\uff0c\u8bbf\u95ee\u5b57\u5178\u65f6\u952e\u53ef\u4ee5\u662f\u53d8\u91cf\u5462\uff01\uff01**"
     ]
    },
    {
     "cell_type": "code",
     "collapsed": false,
     "input": [
      "#\u76f4\u63a5\u521b\u5efa\n",
      "#\u5b57\u5178\u540d={\u952e:\u503c,........}"
     ],
     "language": "python",
     "metadata": {},
     "outputs": [],
     "prompt_number": 5
    },
    {
     "cell_type": "code",
     "collapsed": false,
     "input": [
      "phonebook = {'Zk' : '510', 'Zps' : '877', 'Jqj' : '177'}"
     ],
     "language": "python",
     "metadata": {},
     "outputs": [],
     "prompt_number": 2
    },
    {
     "cell_type": "code",
     "collapsed": false,
     "input": [
      "phonebook"
     ],
     "language": "python",
     "metadata": {},
     "outputs": [
      {
       "metadata": {},
       "output_type": "pyout",
       "prompt_number": 3,
       "text": [
        "{'Jqj': '177', 'Zk': '510', 'Zps': '877'}"
       ]
      }
     ],
     "prompt_number": 3
    },
    {
     "cell_type": "code",
     "collapsed": false,
     "input": [
      "phonebook['Zk']"
     ],
     "language": "python",
     "metadata": {},
     "outputs": [
      {
       "metadata": {},
       "output_type": "pyout",
       "prompt_number": 4,
       "text": [
        "'510'"
       ]
      }
     ],
     "prompt_number": 4
    },
    {
     "cell_type": "code",
     "collapsed": false,
     "input": [
      "#\u5229\u7528dict\u51fd\u6570\uff0c\u5c06\u5176\u4ed6\u6620\u5c04\u5bf9\u5e94\u5efa\u7acb\u5b57\u5178"
     ],
     "language": "python",
     "metadata": {},
     "outputs": [],
     "prompt_number": 6
    },
    {
     "cell_type": "code",
     "collapsed": false,
     "input": [
      "item = [('Zk', '510'), ('Zps', '877')]"
     ],
     "language": "python",
     "metadata": {},
     "outputs": [],
     "prompt_number": 10
    },
    {
     "cell_type": "code",
     "collapsed": false,
     "input": [
      "pbook = dict(item)"
     ],
     "language": "python",
     "metadata": {},
     "outputs": [],
     "prompt_number": 11
    },
    {
     "cell_type": "code",
     "collapsed": false,
     "input": [
      "pbook"
     ],
     "language": "python",
     "metadata": {},
     "outputs": [
      {
       "metadata": {},
       "output_type": "pyout",
       "prompt_number": 12,
       "text": [
        "{'Zk': '510', 'Zps': '877'}"
       ]
      }
     ],
     "prompt_number": 12
    },
    {
     "cell_type": "code",
     "collapsed": false,
     "input": [
      "#\u4e5f\u53ef\u4ee5\u76f4\u63a5\u7528dict\u51fd\u6570\u7684\u53c2\u6570\u521b\u5efa\u5b57\u5178\n",
      "#\u6b64\u65f6\u952e\u53ea\u80fd\u662f\u5b57\u7b26\u4e32\uff0c\u53c2\u6570\u91cc\u7684\u952e\u4e0d\u9700\u8981\u52a0\u5f15\u53f7\uff01\uff01"
     ],
     "language": "python",
     "metadata": {},
     "outputs": [],
     "prompt_number": 13
    },
    {
     "cell_type": "code",
     "collapsed": false,
     "input": [
      "ppbook = dict(Zk = '510', Zps = '877')"
     ],
     "language": "python",
     "metadata": {},
     "outputs": [],
     "prompt_number": 18
    },
    {
     "cell_type": "code",
     "collapsed": false,
     "input": [
      "ppbook"
     ],
     "language": "python",
     "metadata": {},
     "outputs": [
      {
       "metadata": {},
       "output_type": "pyout",
       "prompt_number": 15,
       "text": [
        "{'Zk': '510', 'Zps': '877'}"
       ]
      }
     ],
     "prompt_number": 15
    },
    {
     "cell_type": "code",
     "collapsed": false,
     "input": [
      "#\u6210\u5458\u8d44\u683c\uff08in\uff09\u67e5\u627e\u7684\u662f\u952e\uff0c\u800c\u4e0d\u662f\u503c\uff01\uff01\n",
      "'Zk' in ppbook"
     ],
     "language": "python",
     "metadata": {},
     "outputs": [
      {
       "metadata": {},
       "output_type": "pyout",
       "prompt_number": 19,
       "text": [
        "True"
       ]
      }
     ],
     "prompt_number": 19
    },
    {
     "cell_type": "code",
     "collapsed": false,
     "input": [
      "'510' in ppbook"
     ],
     "language": "python",
     "metadata": {},
     "outputs": [
      {
       "metadata": {},
       "output_type": "pyout",
       "prompt_number": 20,
       "text": [
        "False"
       ]
      }
     ],
     "prompt_number": 20
    },
    {
     "cell_type": "code",
     "collapsed": false,
     "input": [
      "#\u5217\u8868\u4e0d\u80fd\u7ed9\u4efb\u610f\u7d22\u5f15\u8d4b\u503c\uff0c\u5b57\u5178\u53ef\u4ee5\uff01\n",
      "#\u5217\u8868\u4e0d\u80fd\u76f4\u63a5\u8d4b\u503c\u6765\u8ffd\u52a0\u5143\u7d20\uff0c\u5b57\u5178\u53ef\u4ee5\uff01"
     ],
     "language": "python",
     "metadata": {},
     "outputs": [],
     "prompt_number": 21
    },
    {
     "cell_type": "code",
     "collapsed": false,
     "input": [
      "a = []"
     ],
     "language": "python",
     "metadata": {},
     "outputs": [],
     "prompt_number": 22
    },
    {
     "cell_type": "code",
     "collapsed": false,
     "input": [
      "a[42] = 'a'"
     ],
     "language": "python",
     "metadata": {},
     "outputs": [
      {
       "ename": "IndexError",
       "evalue": "list assignment index out of range",
       "output_type": "pyerr",
       "traceback": [
        "\u001b[0;31m---------------------------------------------------------------------------\u001b[0m\n\u001b[0;31mIndexError\u001b[0m                                Traceback (most recent call last)",
        "\u001b[0;32m<ipython-input-23-7dde01b75258>\u001b[0m in \u001b[0;36m<module>\u001b[0;34m()\u001b[0m\n\u001b[0;32m----> 1\u001b[0;31m \u001b[0ma\u001b[0m\u001b[0;34m[\u001b[0m\u001b[0;36m42\u001b[0m\u001b[0;34m]\u001b[0m \u001b[0;34m=\u001b[0m \u001b[0;34m'a'\u001b[0m\u001b[0;34m\u001b[0m\u001b[0m\n\u001b[0m",
        "\u001b[0;31mIndexError\u001b[0m: list assignment index out of range"
       ]
      }
     ],
     "prompt_number": 23
    },
    {
     "cell_type": "code",
     "collapsed": false,
     "input": [
      "b = {}"
     ],
     "language": "python",
     "metadata": {},
     "outputs": [],
     "prompt_number": 24
    },
    {
     "cell_type": "code",
     "collapsed": false,
     "input": [
      "b[42] = 'b'"
     ],
     "language": "python",
     "metadata": {},
     "outputs": [],
     "prompt_number": 25
    },
    {
     "cell_type": "code",
     "collapsed": false,
     "input": [
      "b"
     ],
     "language": "python",
     "metadata": {},
     "outputs": [
      {
       "metadata": {},
       "output_type": "pyout",
       "prompt_number": 26,
       "text": [
        "{42: 'b'}"
       ]
      }
     ],
     "prompt_number": 26
    },
    {
     "cell_type": "markdown",
     "metadata": {},
     "source": [
      "###\u5b57\u5178\u7684\u683c\u5f0f\u5316\u5b57\u7b26\u4e32\n",
      "**\u6b64\u65f6\u7684\u952e\u5fc5\u987b\u662f\u5b57\u7b26\u4e32\u54e6\uff01\uff01**"
     ]
    },
    {
     "cell_type": "code",
     "collapsed": false,
     "input": [
      "ppbook"
     ],
     "language": "python",
     "metadata": {},
     "outputs": [
      {
       "metadata": {},
       "output_type": "pyout",
       "prompt_number": 28,
       "text": [
        "{'Zk': '510', 'Zps': '877'}"
       ]
      }
     ],
     "prompt_number": 28
    },
    {
     "cell_type": "code",
     "collapsed": false,
     "input": [
      "\"Zk's phone number is %(Zk)s.\" % ppbook"
     ],
     "language": "python",
     "metadata": {},
     "outputs": [
      {
       "metadata": {},
       "output_type": "pyout",
       "prompt_number": 29,
       "text": [
        "\"Zk's phone number is 510.\""
       ]
      }
     ],
     "prompt_number": 29
    },
    {
     "cell_type": "markdown",
     "metadata": {},
     "source": [
      "###\u5b57\u5178\u65b9\u6cd5"
     ]
    },
    {
     "cell_type": "markdown",
     "metadata": {},
     "source": [
      "* clear\uff1a\u6e05\u7a7a\u5b57\u5178\uff0c\u4e0d\u8fd4\u56de\u503c"
     ]
    },
    {
     "cell_type": "code",
     "collapsed": false,
     "input": [
      "phonebook"
     ],
     "language": "python",
     "metadata": {},
     "outputs": [
      {
       "metadata": {},
       "output_type": "pyout",
       "prompt_number": 39,
       "text": [
        "{'Jqj': '177', 'Zk': '510', 'Zps': '877'}"
       ]
      }
     ],
     "prompt_number": 39
    },
    {
     "cell_type": "code",
     "collapsed": false,
     "input": [
      "phonebook.clear()"
     ],
     "language": "python",
     "metadata": {},
     "outputs": [],
     "prompt_number": 40
    },
    {
     "cell_type": "code",
     "collapsed": false,
     "input": [
      "phonebook"
     ],
     "language": "python",
     "metadata": {},
     "outputs": [
      {
       "metadata": {},
       "output_type": "pyout",
       "prompt_number": 41,
       "text": [
        "{}"
       ]
      }
     ],
     "prompt_number": 41
    },
    {
     "cell_type": "markdown",
     "metadata": {},
     "source": [
      "**x={}\u548cx.clear()\u53ef\u662f\u6709\u533a\u522b\u7684\u54e6\u54e6\u54e6\u54e6\u54e6\uff01\uff01\uff01**  \n",
      "**x={}\u4e0d\u5f71\u54cd\u4e0ex\u5173\u8054\u7684\u5b57\u5178\uff0c\u4f46\u662fx.clear()\u4f1a\u628a\u76f8\u5173\u8054\u7684\u5b57\u5178\u90fd\u6e05\u7a7a\u4e86\uff01**"
     ]
    },
    {
     "cell_type": "code",
     "collapsed": false,
     "input": [
      "x = {'Name': 'Zk'}"
     ],
     "language": "python",
     "metadata": {},
     "outputs": [],
     "prompt_number": 43
    },
    {
     "cell_type": "code",
     "collapsed": false,
     "input": [
      "y = x"
     ],
     "language": "python",
     "metadata": {},
     "outputs": [],
     "prompt_number": 44
    },
    {
     "cell_type": "code",
     "collapsed": false,
     "input": [
      "y"
     ],
     "language": "python",
     "metadata": {},
     "outputs": [
      {
       "metadata": {},
       "output_type": "pyout",
       "prompt_number": 47,
       "text": [
        "{'Name': 'Zk'}"
       ]
      }
     ],
     "prompt_number": 47
    },
    {
     "cell_type": "code",
     "collapsed": false,
     "input": [
      "x = {}"
     ],
     "language": "python",
     "metadata": {},
     "outputs": [],
     "prompt_number": 48
    },
    {
     "cell_type": "code",
     "collapsed": false,
     "input": [
      "y"
     ],
     "language": "python",
     "metadata": {},
     "outputs": [
      {
       "metadata": {},
       "output_type": "pyout",
       "prompt_number": 49,
       "text": [
        "{'Name': 'Zk'}"
       ]
      }
     ],
     "prompt_number": 49
    },
    {
     "cell_type": "code",
     "collapsed": false,
     "input": [
      "#######################"
     ],
     "language": "python",
     "metadata": {},
     "outputs": [],
     "prompt_number": 50
    },
    {
     "cell_type": "code",
     "collapsed": false,
     "input": [
      "x = {'Name': 'Zk'}"
     ],
     "language": "python",
     "metadata": {},
     "outputs": [],
     "prompt_number": 51
    },
    {
     "cell_type": "code",
     "collapsed": false,
     "input": [
      "y = x"
     ],
     "language": "python",
     "metadata": {},
     "outputs": [],
     "prompt_number": 52
    },
    {
     "cell_type": "code",
     "collapsed": false,
     "input": [
      "y"
     ],
     "language": "python",
     "metadata": {},
     "outputs": [
      {
       "metadata": {},
       "output_type": "pyout",
       "prompt_number": 53,
       "text": [
        "{'Name': 'Zk'}"
       ]
      }
     ],
     "prompt_number": 53
    },
    {
     "cell_type": "code",
     "collapsed": false,
     "input": [
      "x.clear()"
     ],
     "language": "python",
     "metadata": {},
     "outputs": [],
     "prompt_number": 54
    },
    {
     "cell_type": "code",
     "collapsed": false,
     "input": [
      "y"
     ],
     "language": "python",
     "metadata": {},
     "outputs": [
      {
       "metadata": {},
       "output_type": "pyout",
       "prompt_number": 55,
       "text": [
        "{}"
       ]
      }
     ],
     "prompt_number": 55
    },
    {
     "cell_type": "markdown",
     "metadata": {},
     "source": [
      "* copy\uff1a\u6d45\u590d\u5236\uff08shallow copy\uff09\uff0c\u8fd4\u56de\u4e00\u4e2a\u76f8\u540c\u952e-\u503c\u5bf9\u7684\u65b0\u5b57\u5178  \n",
      "**\u66ff\u6362\u503c\u4e0d\u5f71\u54cd\u539f\u59cb\u5b57\u5178**  \n",
      "**\u4f46\u662f\u539f\u5730\u4fee\u6539\uff08\u6bd4\u5982\u4e00\u4e9b\u65b9\u6cd5\uff09\u4f1a\u5f71\u54cd\u5230\u539f\u59cb\u5b57\u5178**"
     ]
    },
    {
     "cell_type": "code",
     "collapsed": false,
     "input": [
      "x = {\n",
      "    'username' : 'admin', \n",
      "    'machines' : ['foo', 'bar', 'baz']\n",
      "}"
     ],
     "language": "python",
     "metadata": {},
     "outputs": [],
     "prompt_number": 57
    },
    {
     "cell_type": "code",
     "collapsed": false,
     "input": [
      "y = x.copy()"
     ],
     "language": "python",
     "metadata": {},
     "outputs": [],
     "prompt_number": 58
    },
    {
     "cell_type": "code",
     "collapsed": false,
     "input": [
      "y['username'] = 'zk'   #\u76f4\u63a5\u66ff\u6362\u503c"
     ],
     "language": "python",
     "metadata": {},
     "outputs": [],
     "prompt_number": 59
    },
    {
     "cell_type": "code",
     "collapsed": false,
     "input": [
      "y['machines'].remove('bar')   #remove\u65b9\u6cd5\u662f\u539f\u5730\u64cd\u4f5c\u7684"
     ],
     "language": "python",
     "metadata": {},
     "outputs": [],
     "prompt_number": 61
    },
    {
     "cell_type": "code",
     "collapsed": false,
     "input": [
      "x"
     ],
     "language": "python",
     "metadata": {},
     "outputs": [
      {
       "metadata": {},
       "output_type": "pyout",
       "prompt_number": 62,
       "text": [
        "{'machines': ['foo', 'baz'], 'username': 'admin'}"
       ]
      }
     ],
     "prompt_number": 62
    },
    {
     "cell_type": "code",
     "collapsed": false,
     "input": [
      "y"
     ],
     "language": "python",
     "metadata": {},
     "outputs": [
      {
       "metadata": {},
       "output_type": "pyout",
       "prompt_number": 63,
       "text": [
        "{'machines': ['foo', 'baz'], 'username': 'zk'}"
       ]
      }
     ],
     "prompt_number": 63
    },
    {
     "cell_type": "code",
     "collapsed": false,
     "input": [
      "#\u53ef\u4ee5\u770b\u5230\n",
      "#y\u7684admin\u88ab\u66ff\u6362\u6210\u4e86zk\uff0cx\u4e0d\u53d8\n",
      "#y\u7684machines\u5c11\u4e86\u4e00\u4e2abar\uff0cx\u7684bar\u4e5f\u4e0d\u89c1\u4e86\u54a7\uff01\uff01"
     ],
     "language": "python",
     "metadata": {},
     "outputs": [],
     "prompt_number": 64
    },
    {
     "cell_type": "markdown",
     "metadata": {},
     "source": [
      "* deep copy()\u51fd\u6570\uff1a\u6df1\u590d\u5236\uff0c\u5373\u4f7f\u5728\u539f\u5730\u64cd\u4f5c\u4e5f\u4e0d\u5f71\u54cd\u539f\u59cb\u5b57\u5178"
     ]
    },
    {
     "cell_type": "code",
     "collapsed": false,
     "input": [
      "from copy import deepcopy"
     ],
     "language": "python",
     "metadata": {},
     "outputs": [],
     "prompt_number": 66
    },
    {
     "cell_type": "code",
     "collapsed": false,
     "input": [
      "x"
     ],
     "language": "python",
     "metadata": {},
     "outputs": [
      {
       "metadata": {},
       "output_type": "pyout",
       "prompt_number": 67,
       "text": [
        "{'machines': ['foo', 'baz'], 'username': 'admin'}"
       ]
      }
     ],
     "prompt_number": 67
    },
    {
     "cell_type": "code",
     "collapsed": false,
     "input": [
      "y = deepcopy(x)"
     ],
     "language": "python",
     "metadata": {},
     "outputs": [],
     "prompt_number": 68
    },
    {
     "cell_type": "code",
     "collapsed": false,
     "input": [
      "y['machines'].append('bar')"
     ],
     "language": "python",
     "metadata": {},
     "outputs": [],
     "prompt_number": 69
    },
    {
     "cell_type": "code",
     "collapsed": false,
     "input": [
      "x"
     ],
     "language": "python",
     "metadata": {},
     "outputs": [
      {
       "metadata": {},
       "output_type": "pyout",
       "prompt_number": 70,
       "text": [
        "{'machines': ['foo', 'baz'], 'username': 'admin'}"
       ]
      }
     ],
     "prompt_number": 70
    },
    {
     "cell_type": "code",
     "collapsed": false,
     "input": [
      "y"
     ],
     "language": "python",
     "metadata": {},
     "outputs": [
      {
       "metadata": {},
       "output_type": "pyout",
       "prompt_number": 71,
       "text": [
        "{'machines': ['foo', 'baz', 'bar'], 'username': 'admin'}"
       ]
      }
     ],
     "prompt_number": 71
    },
    {
     "cell_type": "markdown",
     "metadata": {},
     "source": [
      "* fromkeys\uff1a\uff08\u6ce8\u610f\u662f\u590d\u6570\uff09\u4f7f\u7528\u7ed9\u5b9a\u7684\u952e\u5efa\u7acb\u4e00\u4e2a\u9ed8\u8ba4\u503c\u90fd\u4e3aNone\u7684\u5b57\u5178\uff0c\u8fd4\u56de\u8be5\u5b57\u5178"
     ]
    },
    {
     "cell_type": "code",
     "collapsed": false,
     "input": [
      "{}.fromkeys(['name', 'age'])"
     ],
     "language": "python",
     "metadata": {},
     "outputs": [
      {
       "metadata": {},
       "output_type": "pyout",
       "prompt_number": 74,
       "text": [
        "{'age': None, 'name': None}"
       ]
      }
     ],
     "prompt_number": 74
    },
    {
     "cell_type": "code",
     "collapsed": false,
     "input": [
      "#\u4e5f\u53ef\u4ee5\u4e0d\u5148\u5efa\u7acb\u7a7a\u5b57\u5178{}\uff0c\u800c\u76f4\u63a5\u5728dict\u7c7b\u578b\u4e0a\u64cd\u4f5c\n",
      "dict.fromkeys(['name', 'age'])"
     ],
     "language": "python",
     "metadata": {},
     "outputs": [
      {
       "metadata": {},
       "output_type": "pyout",
       "prompt_number": 75,
       "text": [
        "{'age': None, 'name': None}"
       ]
      }
     ],
     "prompt_number": 75
    },
    {
     "cell_type": "code",
     "collapsed": false,
     "input": [
      "#\u4e5f\u53ef\u4ee5\u81ea\u884c\u6307\u5b9a\u9ed8\u8ba4\u503c\n",
      "dict.fromkeys(['name', 'age'], '(unknown)')"
     ],
     "language": "python",
     "metadata": {},
     "outputs": [
      {
       "metadata": {},
       "output_type": "pyout",
       "prompt_number": 76,
       "text": [
        "{'age': '(unknown)', 'name': '(unknown)'}"
       ]
      }
     ],
     "prompt_number": 76
    },
    {
     "cell_type": "markdown",
     "metadata": {},
     "source": [
      "* get\uff1a\u66f4\u5bbd\u677e\u7684\u8bbf\u95ee\u5b57\u5178\u9879\uff0c\u5373\u4f7f\u4e0d\u5b58\u5728\u9879\u4e5f\u4e0d\u4f1a\u51fa\u9519"
     ]
    },
    {
     "cell_type": "code",
     "collapsed": false,
     "input": [
      "d = {}"
     ],
     "language": "python",
     "metadata": {},
     "outputs": [],
     "prompt_number": 77
    },
    {
     "cell_type": "code",
     "collapsed": false,
     "input": [
      "d['name'] "
     ],
     "language": "python",
     "metadata": {},
     "outputs": [
      {
       "ename": "KeyError",
       "evalue": "'name'",
       "output_type": "pyerr",
       "traceback": [
        "\u001b[0;31m---------------------------------------------------------------------------\u001b[0m\n\u001b[0;31mKeyError\u001b[0m                                  Traceback (most recent call last)",
        "\u001b[0;32m<ipython-input-78-b2a947adae93>\u001b[0m in \u001b[0;36m<module>\u001b[0;34m()\u001b[0m\n\u001b[0;32m----> 1\u001b[0;31m \u001b[0md\u001b[0m\u001b[0;34m[\u001b[0m\u001b[0;34m'name'\u001b[0m\u001b[0;34m]\u001b[0m\u001b[0;34m\u001b[0m\u001b[0m\n\u001b[0m",
        "\u001b[0;31mKeyError\u001b[0m: 'name'"
       ]
      }
     ],
     "prompt_number": 78
    },
    {
     "cell_type": "code",
     "collapsed": false,
     "input": [
      "#\u54fc\u54fc\uff0c\u76f4\u63a5\u8bbf\u95ee\u53ef\u662f\u4f1a\u51fa\u9519\u7684\u54e6\uff01"
     ],
     "language": "python",
     "metadata": {},
     "outputs": [],
     "prompt_number": 79
    },
    {
     "cell_type": "code",
     "collapsed": false,
     "input": [
      "print( d.get('name') )"
     ],
     "language": "python",
     "metadata": {},
     "outputs": [
      {
       "output_type": "stream",
       "stream": "stdout",
       "text": [
        "None\n"
       ]
      }
     ],
     "prompt_number": 81
    },
    {
     "cell_type": "code",
     "collapsed": false,
     "input": [
      "#\u540c\u6837\u7684\uff0c\u4e5f\u53ef\u4ee5\u6765\u6307\u5b9a\u9ed8\u8ba4\u503c\n",
      "print( d.get('name', 'N/A') )"
     ],
     "language": "python",
     "metadata": {},
     "outputs": [
      {
       "output_type": "stream",
       "stream": "stdout",
       "text": [
        "N/A\n"
       ]
      }
     ],
     "prompt_number": 82
    },
    {
     "cell_type": "markdown",
     "metadata": {},
     "source": [
      "* has_key\uff1a\u76f8\u5f53\u4e8ein\uff0c\u4f46\u662fpython3\u4e0d\u652f\u6301\uff0c\u8fd8\u662f\u522b\u7528\u7684\u53f7  \n",
      "\u2026\u2026"
     ]
    },
    {
     "cell_type": "markdown",
     "metadata": {},
     "source": [
      "* items\uff1a\u4ee5\u5217\u8868\u7684\u65b9\u5f0f\u8fd4\u56de\u5b57\u5178\u7684\u6240\u6709\u9879\uff0c\u5217\u8868\u4e2d\u4e3a(\u952e, \u503c)\u5f62\u5f0f\u7684\u5143\u7ec4"
     ]
    },
    {
     "cell_type": "code",
     "collapsed": false,
     "input": [
      "pbook"
     ],
     "language": "python",
     "metadata": {},
     "outputs": [
      {
       "metadata": {},
       "output_type": "pyout",
       "prompt_number": 83,
       "text": [
        "{'Zk': '510', 'Zps': '877'}"
       ]
      }
     ],
     "prompt_number": 83
    },
    {
     "cell_type": "code",
     "collapsed": false,
     "input": [
      "pbook.items()"
     ],
     "language": "python",
     "metadata": {},
     "outputs": [
      {
       "metadata": {},
       "output_type": "pyout",
       "prompt_number": 84,
       "text": [
        "[('Zps', '877'), ('Zk', '510')]"
       ]
      }
     ],
     "prompt_number": 84
    },
    {
     "cell_type": "markdown",
     "metadata": {},
     "source": [
      "* iteritems\uff1a\u4e0eitems\u7c7b\u4f3c\uff0c\u4f46\u662f\u8fd4\u56de\u7684\u662f\u4ee5\u4e2a\u8fed\u4ee3\u5668\u5bf9\u8c61\uff0c\u800c\u4e0d\u662f\u5217\u8868"
     ]
    },
    {
     "cell_type": "code",
     "collapsed": false,
     "input": [
      "pbook.iteritems()"
     ],
     "language": "python",
     "metadata": {},
     "outputs": [
      {
       "metadata": {},
       "output_type": "pyout",
       "prompt_number": 86,
       "text": [
        "<dictionary-itemiterator at 0x7f947ace4aa0>"
       ]
      }
     ],
     "prompt_number": 86
    },
    {
     "cell_type": "markdown",
     "metadata": {},
     "source": [
      "* keys\uff1a\u4ee5\u5217\u8868\u7684\u65b9\u5f0f\u8fd4\u56de\u5b57\u5178\u7684\u6240\u6709\u952e"
     ]
    },
    {
     "cell_type": "code",
     "collapsed": false,
     "input": [
      "pbook"
     ],
     "language": "python",
     "metadata": {},
     "outputs": [
      {
       "metadata": {},
       "output_type": "pyout",
       "prompt_number": 87,
       "text": [
        "{'Zk': '510', 'Zps': '877'}"
       ]
      }
     ],
     "prompt_number": 87
    },
    {
     "cell_type": "code",
     "collapsed": false,
     "input": [
      "pbook.keys()"
     ],
     "language": "python",
     "metadata": {},
     "outputs": [
      {
       "metadata": {},
       "output_type": "pyout",
       "prompt_number": 88,
       "text": [
        "['Zps', 'Zk']"
       ]
      }
     ],
     "prompt_number": 88
    },
    {
     "cell_type": "markdown",
     "metadata": {},
     "source": [
      "* iterkeys\uff1a\u4e0ekeys\u7c7b\u4f3c\uff0c\u8fd4\u56de\u4e00\u4e2a\u8fed\u4ee3\u5668\u5bf9\u8c61"
     ]
    },
    {
     "cell_type": "code",
     "collapsed": false,
     "input": [
      "pbook.iterkeys()"
     ],
     "language": "python",
     "metadata": {},
     "outputs": [
      {
       "metadata": {},
       "output_type": "pyout",
       "prompt_number": 89,
       "text": [
        "<dictionary-keyiterator at 0x7f947ace4d60>"
       ]
      }
     ],
     "prompt_number": 89
    },
    {
     "cell_type": "markdown",
     "metadata": {},
     "source": [
      "* pop\uff1a\u83b7\u5f97\u6307\u5b9a\u952e\u7684\u503c\uff0c\u5e76\u628a\u5b83\u79fb\u9664"
     ]
    },
    {
     "cell_type": "code",
     "collapsed": false,
     "input": [
      "pbook"
     ],
     "language": "python",
     "metadata": {},
     "outputs": [
      {
       "metadata": {},
       "output_type": "pyout",
       "prompt_number": 90,
       "text": [
        "{'Zk': '510', 'Zps': '877'}"
       ]
      }
     ],
     "prompt_number": 90
    },
    {
     "cell_type": "code",
     "collapsed": false,
     "input": [
      "pbook.pop('Zk')"
     ],
     "language": "python",
     "metadata": {},
     "outputs": [
      {
       "metadata": {},
       "output_type": "pyout",
       "prompt_number": 91,
       "text": [
        "'510'"
       ]
      }
     ],
     "prompt_number": 91
    },
    {
     "cell_type": "code",
     "collapsed": false,
     "input": [
      "pbook"
     ],
     "language": "python",
     "metadata": {},
     "outputs": [
      {
       "metadata": {},
       "output_type": "pyout",
       "prompt_number": 92,
       "text": [
        "{'Zps': '877'}"
       ]
      }
     ],
     "prompt_number": 92
    },
    {
     "cell_type": "markdown",
     "metadata": {},
     "source": [
      "* popitem\uff1a\u4e0epop\u7c7b\u4f3c\uff0c\u4f46\u662f\u5b83\u662f\u53d6\u51fa\u4e00\u4e2a\u968f\u673a\u9879\uff08\u4e0d\u662f\u6700\u540e\u4e00\u9879\uff0c\u5b57\u5178\u662f\u6ca1\u6709\u987a\u5e8f\u7684\u554a\uff01\uff01\uff09  \n",
      "\u2026\u2026"
     ]
    },
    {
     "cell_type": "markdown",
     "metadata": {},
     "source": [
      "* setdefault\uff1aget\u7684\u5347\u7ea7\u7248\uff0c\u5982\u679c\u952e\u4e0d\u5b58\u5728\uff0c\u5b83\u4f1a\u4e3b\u52a8\u53bb\u521b\u5efa\u8fd9\u4e2a\u952e\uff01"
     ]
    },
    {
     "cell_type": "code",
     "collapsed": false,
     "input": [
      "pbook"
     ],
     "language": "python",
     "metadata": {},
     "outputs": [
      {
       "metadata": {},
       "output_type": "pyout",
       "prompt_number": 93,
       "text": [
        "{'Zps': '877'}"
       ]
      }
     ],
     "prompt_number": 93
    },
    {
     "cell_type": "code",
     "collapsed": false,
     "input": [
      "pbook.setdefault('Zk', 'N/A')"
     ],
     "language": "python",
     "metadata": {},
     "outputs": [
      {
       "metadata": {},
       "output_type": "pyout",
       "prompt_number": 94,
       "text": [
        "'N/A'"
       ]
      }
     ],
     "prompt_number": 94
    },
    {
     "cell_type": "code",
     "collapsed": false,
     "input": [
      "pbook"
     ],
     "language": "python",
     "metadata": {},
     "outputs": [
      {
       "metadata": {},
       "output_type": "pyout",
       "prompt_number": 95,
       "text": [
        "{'Zk': 'N/A', 'Zps': '877'}"
       ]
      }
     ],
     "prompt_number": 95
    },
    {
     "cell_type": "markdown",
     "metadata": {},
     "source": [
      "* update\uff1a\u7528\u4e00\u4e2a\u5b57\u5178\uff08\u53c2\u6570\uff09\u53bb\u66f4\u65b0\u53e6\u4e00\u4e2a\u5b57\u5178\uff0c\u4e5f\u5c31\u662f\u8bf4\u5982\u679c\u6709\u76f8\u540c\u7684\u952e\uff0c\u90a3\u4e48\u8986\u76d6\u5b83\u7684\u503c\uff1b\u5982\u679c\u6ca1\u6709\uff0c\u90a3\u4e48\u628a\u65b0\u9879\u6dfb\u52a0\u4e0a\u53bb\uff0c\u4e0d\u8fd4\u56de\u503c"
     ]
    },
    {
     "cell_type": "code",
     "collapsed": false,
     "input": [
      "pbook"
     ],
     "language": "python",
     "metadata": {},
     "outputs": [
      {
       "metadata": {},
       "output_type": "pyout",
       "prompt_number": 97,
       "text": [
        "{'Zk': 'N/A', 'Zps': '877'}"
       ]
      }
     ],
     "prompt_number": 97
    },
    {
     "cell_type": "code",
     "collapsed": false,
     "input": [
      "n_pbook = {\n",
      "    'Zk' : '510',\n",
      "    'Jqj' :'177'\n",
      "}"
     ],
     "language": "python",
     "metadata": {},
     "outputs": [],
     "prompt_number": 98
    },
    {
     "cell_type": "code",
     "collapsed": false,
     "input": [
      "pbook.update(n_pbook)"
     ],
     "language": "python",
     "metadata": {},
     "outputs": [],
     "prompt_number": 99
    },
    {
     "cell_type": "code",
     "collapsed": false,
     "input": [
      "pbook"
     ],
     "language": "python",
     "metadata": {},
     "outputs": [
      {
       "metadata": {},
       "output_type": "pyout",
       "prompt_number": 100,
       "text": [
        "{'Jqj': '177', 'Zk': '510', 'Zps': '877'}"
       ]
      }
     ],
     "prompt_number": 100
    },
    {
     "cell_type": "code",
     "collapsed": false,
     "input": [
      "#\u53ef\u4ee5\u770b\u5230\uff0cZk\u7684\u503c\u88ab\u6539\u53d8\uff0cZps\u7684\u503c\u4e0d\u53d8\uff0c\u65b0\u589e\u4e86Jqj"
     ],
     "language": "python",
     "metadata": {},
     "outputs": [],
     "prompt_number": 101
    },
    {
     "cell_type": "markdown",
     "metadata": {},
     "source": [
      "* values\uff1a\u4ee5\u5217\u8868\u7684\u5f62\u5f0f\u8fd4\u56de\u5b57\u5178\u7684\u6240\u6709\u503c"
     ]
    },
    {
     "cell_type": "code",
     "collapsed": false,
     "input": [
      "pbook"
     ],
     "language": "python",
     "metadata": {},
     "outputs": [
      {
       "metadata": {},
       "output_type": "pyout",
       "prompt_number": 102,
       "text": [
        "{'Jqj': '177', 'Zk': '510', 'Zps': '877'}"
       ]
      }
     ],
     "prompt_number": 102
    },
    {
     "cell_type": "code",
     "collapsed": false,
     "input": [
      "pbook.values()"
     ],
     "language": "python",
     "metadata": {},
     "outputs": [
      {
       "metadata": {},
       "output_type": "pyout",
       "prompt_number": 103,
       "text": [
        "['877', '177', '510']"
       ]
      }
     ],
     "prompt_number": 103
    },
    {
     "cell_type": "markdown",
     "metadata": {},
     "source": [
      "* itervalues\uff1a\u4e0evalues\u7c7b\u4f3c\uff0c\u4f46\u662f\u8fd4\u56de\u7684\u662f\u4e00\u4e2a\u8fed\u4ee3\u5668\u5bf9\u8c61  \n",
      "\u2026\u2026"
     ]
    },
    {
     "cell_type": "code",
     "collapsed": false,
     "input": [],
     "language": "python",
     "metadata": {},
     "outputs": []
    }
   ],
   "metadata": {}
  }
 ]
}