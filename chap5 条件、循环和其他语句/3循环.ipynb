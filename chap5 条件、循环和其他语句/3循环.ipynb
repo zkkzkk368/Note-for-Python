{
 "metadata": {
  "name": "",
  "signature": "sha256:0007ffad4575613548a401ede562a77681bdfddefcfda640f82e701907976131"
 },
 "nbformat": 3,
 "nbformat_minor": 0,
 "worksheets": [
  {
   "cells": [
    {
     "cell_type": "markdown",
     "metadata": {},
     "source": [
      "###while\u5faa\u73af  \n",
      "\u4e0eC\u8bed\u8a00\u7c7b\u4f3c"
     ]
    },
    {
     "cell_type": "code",
     "collapsed": false,
     "input": [
      "x = 1"
     ],
     "language": "python",
     "metadata": {},
     "outputs": [],
     "prompt_number": 1
    },
    {
     "cell_type": "code",
     "collapsed": false,
     "input": [
      "while x <=4:\n",
      "    print x\n",
      "    x += 1"
     ],
     "language": "python",
     "metadata": {},
     "outputs": [
      {
       "output_type": "stream",
       "stream": "stdout",
       "text": [
        "1\n",
        "2\n",
        "3\n",
        "4\n"
       ]
      }
     ],
     "prompt_number": 2
    },
    {
     "cell_type": "markdown",
     "metadata": {},
     "source": [
      "###for\u5faa\u73af  \n",
      "\u5e38\u7528\u4e8e\u53ef\u8fed\u4ee3\u5bf9\u8c61"
     ]
    },
    {
     "cell_type": "code",
     "collapsed": false,
     "input": [
      "for number in range(1, 4):      #range\u51fd\u6570\uff0c\u8fd4\u56de\u4e00\u4e2a\u5217\u8868\uff0c\u5305\u542b1~3\u7684\u6574\u6570\n",
      "    print number"
     ],
     "language": "python",
     "metadata": {},
     "outputs": [
      {
       "output_type": "stream",
       "stream": "stdout",
       "text": [
        "1\n",
        "2\n",
        "3\n"
       ]
      }
     ],
     "prompt_number": 5
    },
    {
     "cell_type": "code",
     "collapsed": false,
     "input": [
      "#xrange\u51fd\u6570\u4e0erange\u51fd\u6570\u7c7b\u4f3c\n",
      "#range\u51fd\u6570\u4e00\u6b21\u6027\u4ea7\u751f\u6574\u4e2a\u5e8f\u5217\n",
      "#xrange\u51fd\u6570\u4e00\u6b21\u53ea\u4ea7\u751f\u4e00\u4e2a\u6570"
     ],
     "language": "python",
     "metadata": {},
     "outputs": [],
     "prompt_number": 6
    },
    {
     "cell_type": "code",
     "collapsed": false,
     "input": [
      "#\u904d\u5386\u5b57\u5178\u5143\u7d20"
     ],
     "language": "python",
     "metadata": {},
     "outputs": [],
     "prompt_number": 7
    },
    {
     "cell_type": "code",
     "collapsed": false,
     "input": [
      "d = {'x': 1, 'y': 2, 'z':3}"
     ],
     "language": "python",
     "metadata": {},
     "outputs": [],
     "prompt_number": 8
    },
    {
     "cell_type": "code",
     "collapsed": false,
     "input": [
      "for key in d:\n",
      "    print key, 'corresponds to', d[key]"
     ],
     "language": "python",
     "metadata": {},
     "outputs": [
      {
       "output_type": "stream",
       "stream": "stdout",
       "text": [
        "y corresponds to 2\n",
        "x corresponds to 1\n",
        "z corresponds to 3\n"
       ]
      }
     ],
     "prompt_number": 9
    },
    {
     "cell_type": "markdown",
     "metadata": {},
     "source": [
      "###\u4e00\u4e9b\u8fed\u4ee3\u5de5\u5177"
     ]
    },
    {
     "cell_type": "markdown",
     "metadata": {},
     "source": [
      "* \u5e76\u884c\u8fed\u4ee3"
     ]
    },
    {
     "cell_type": "code",
     "collapsed": false,
     "input": [
      "#\u540c\u65f6\u8fed\u4ee3\u4e24\u4e2a\u5e8f\u5217"
     ],
     "language": "python",
     "metadata": {},
     "outputs": [],
     "prompt_number": 10
    },
    {
     "cell_type": "code",
     "collapsed": false,
     "input": [
      "names = ['Zk', 'Zps', 'Zjx', 'Jqj']"
     ],
     "language": "python",
     "metadata": {},
     "outputs": [],
     "prompt_number": 11
    },
    {
     "cell_type": "code",
     "collapsed": false,
     "input": [
      "numbers = [1, 2, 3, 4]"
     ],
     "language": "python",
     "metadata": {},
     "outputs": [],
     "prompt_number": 12
    },
    {
     "cell_type": "code",
     "collapsed": false,
     "input": [
      "for i in range( len(names) ):\n",
      "    print names[i], 'is', numbers[i], '.'"
     ],
     "language": "python",
     "metadata": {},
     "outputs": [
      {
       "output_type": "stream",
       "stream": "stdout",
       "text": [
        "Zk is 1 .\n",
        "Zps is 2 .\n",
        "Zjx is 3 .\n",
        "Jqj is 4 .\n"
       ]
      }
     ],
     "prompt_number": 13
    },
    {
     "cell_type": "code",
     "collapsed": false,
     "input": [
      "#\u5e76\u884c\u8fed\u4ee3\uff0c\u7528zip\u51fd\u6570\u628a\u4e24\u4e2a\u4ee5\u4e0a\u7684\u5e8f\u5217\u538b\u7f29\u8d77\u6765"
     ],
     "language": "python",
     "metadata": {},
     "outputs": [],
     "prompt_number": 14
    },
    {
     "cell_type": "code",
     "collapsed": false,
     "input": [
      "zip(names, numbers)"
     ],
     "language": "python",
     "metadata": {},
     "outputs": [
      {
       "metadata": {},
       "output_type": "pyout",
       "prompt_number": 15,
       "text": [
        "[('Zk', 1), ('Zps', 2), ('Zjx', 3), ('Jqj', 4)]"
       ]
      }
     ],
     "prompt_number": 15
    },
    {
     "cell_type": "code",
     "collapsed": false,
     "input": [
      "for name, number in zip(names, numbers):\n",
      "    print name, 'is', number, '.'"
     ],
     "language": "python",
     "metadata": {},
     "outputs": [
      {
       "output_type": "stream",
       "stream": "stdout",
       "text": [
        "Zk is 1 .\n",
        "Zps is 2 .\n",
        "Zjx is 3 .\n",
        "Jqj is 4 .\n"
       ]
      }
     ],
     "prompt_number": 16
    },
    {
     "cell_type": "code",
     "collapsed": false,
     "input": [
      "#zip\u51fd\u6570\u5f88\u5c4c\u54d2\uff01\uff01\uff01\u5b83\u751a\u81f3\u53ef\u4ee5\u5904\u7406\u4e0d\u7b49\u957f\u5e8f\u5217\uff0c\u4e00\u76f4\u8fed\u4ee3\u5230\u6700\u77ed\u7684\u5e8f\u5217\u7ed3\u675f\u4e3a\u6b62"
     ],
     "language": "python",
     "metadata": {},
     "outputs": [],
     "prompt_number": 18
    },
    {
     "cell_type": "code",
     "collapsed": false,
     "input": [
      "zip( range(5), xrange(100000000))     #\u8fd9\u91cc\u53ef\u522b\u62ffrange\u6765\u4ee3\u66ffxrange\uff0c\u4e0d\u7136\u7b97\u6b7b\u4f60"
     ],
     "language": "python",
     "metadata": {},
     "outputs": [
      {
       "metadata": {},
       "output_type": "pyout",
       "prompt_number": 20,
       "text": [
        "[(0, 0), (1, 1), (2, 2), (3, 3), (4, 4)]"
       ]
      }
     ],
     "prompt_number": 20
    },
    {
     "cell_type": "markdown",
     "metadata": {},
     "source": [
      "* \u6309\u7d22\u5f15\u8fed\u4ee3"
     ]
    },
    {
     "cell_type": "code",
     "collapsed": false,
     "input": [
      "strings = ['Zk', 'Zxxxpxxxs', 'Jxxxqxxxj']"
     ],
     "language": "python",
     "metadata": {},
     "outputs": [],
     "prompt_number": 26
    },
    {
     "cell_type": "code",
     "collapsed": false,
     "input": [
      "enumerate(strings)       #enumerate\u51fd\u6570\u8fd4\u56de\u5e8f\u5217\u7684\u7d22\u5f15-\u503c\u5bf9\u8fed\u4ee3\u5668\u5bf9\u8c61"
     ],
     "language": "python",
     "metadata": {},
     "outputs": [
      {
       "metadata": {},
       "output_type": "pyout",
       "prompt_number": 23,
       "text": [
        "<enumerate at 0x7f5b090180a0>"
       ]
      }
     ],
     "prompt_number": 23
    },
    {
     "cell_type": "code",
     "collapsed": false,
     "input": [
      "for index, string in enumerate(strings):\n",
      "    if 'xxx' in string:\n",
      "        strings[index] = '==='\n",
      "#\u8fd9\u6bb5\u7a0b\u5e8f\u628a\u5b57\u7b26\u4e32\u5e8f\u5217\u4e2d\u542bxxx\u7684\u5b57\u7b26\u4e32\u90fd\u66ff\u6362\u4e3a==="
     ],
     "language": "python",
     "metadata": {},
     "outputs": [],
     "prompt_number": 28
    },
    {
     "cell_type": "code",
     "collapsed": false,
     "input": [
      "strings"
     ],
     "language": "python",
     "metadata": {},
     "outputs": [
      {
       "metadata": {},
       "output_type": "pyout",
       "prompt_number": 29,
       "text": [
        "['Zk', '===', '===']"
       ]
      }
     ],
     "prompt_number": 29
    },
    {
     "cell_type": "markdown",
     "metadata": {},
     "source": [
      "* \u7ffb\u8f6c\u548c\u6392\u5e8f\u8fed\u4ee3"
     ]
    },
    {
     "cell_type": "code",
     "collapsed": false,
     "input": [
      "#sorted\u51fd\u6570\uff0c\u6392\u5e8f\uff0c\u8fd4\u56de\u5217\u8868"
     ],
     "language": "python",
     "metadata": {},
     "outputs": [],
     "prompt_number": 30
    },
    {
     "cell_type": "code",
     "collapsed": false,
     "input": [
      "sorted([4,3,6,8,3])"
     ],
     "language": "python",
     "metadata": {},
     "outputs": [
      {
       "metadata": {},
       "output_type": "pyout",
       "prompt_number": 31,
       "text": [
        "[3, 3, 4, 6, 8]"
       ]
      }
     ],
     "prompt_number": 31
    },
    {
     "cell_type": "code",
     "collapsed": false,
     "input": [
      "#reversed\u51fd\u6570\uff0c\u7ffb\u8f6c\uff0c\u8fd4\u56de\u8fed\u4ee3\u5668\u5bf9\u8c61"
     ],
     "language": "python",
     "metadata": {},
     "outputs": [],
     "prompt_number": 32
    },
    {
     "cell_type": "code",
     "collapsed": false,
     "input": [
      "reversed('Hello, world')"
     ],
     "language": "python",
     "metadata": {},
     "outputs": [
      {
       "metadata": {},
       "output_type": "pyout",
       "prompt_number": 33,
       "text": [
        "<reversed at 0x7f5b09c9dad0>"
       ]
      }
     ],
     "prompt_number": 33
    },
    {
     "cell_type": "code",
     "collapsed": false,
     "input": [
      "list( reversed('Hello, world') )"
     ],
     "language": "python",
     "metadata": {},
     "outputs": [
      {
       "metadata": {},
       "output_type": "pyout",
       "prompt_number": 34,
       "text": [
        "['d', 'l', 'r', 'o', 'w', ' ', ',', 'o', 'l', 'l', 'e', 'H']"
       ]
      }
     ],
     "prompt_number": 34
    },
    {
     "cell_type": "code",
     "collapsed": false,
     "input": [
      "''.join( reversed('Hello, world') )      #\u8fde\u63a5\u5b57\u7b26\u6210\u4e3a\u5b57\u7b26\u4e32"
     ],
     "language": "python",
     "metadata": {},
     "outputs": [
      {
       "metadata": {},
       "output_type": "pyout",
       "prompt_number": 35,
       "text": [
        "'dlrow ,olleH'"
       ]
      }
     ],
     "prompt_number": 35
    },
    {
     "cell_type": "markdown",
     "metadata": {},
     "source": [
      "###\u8df3\u51fa\u5faa\u73af"
     ]
    },
    {
     "cell_type": "markdown",
     "metadata": {},
     "source": [
      "* break\u8bed\u53e5  \n",
      "* continue\u8bed\u53e5  \n",
      "*\u4f7f\u7528\u65b9\u6cd5\u4e0eC\u8bed\u8a00\u7c7b\u4f3c\uff0c\u6b64\u5904\u4e0d\u505a\u8be6\u7ec6\u89e3\u91ca*\n",
      "* while True/break\u7528\u6cd5\n",
      "\u5176\u5b9e\u5c31\u76f8\u5f53\u4e8ewhile 1/break\u5566\uff01  \n",
      "  \n",
      "**break\u8bed\u53e5\u5e94\u8be5\u5c3d\u91cf\u5c11\u7528\uff0c\u63d0\u9ad8\u7a0b\u5e8f\u53ef\u8bfb\u6027**"
     ]
    },
    {
     "cell_type": "markdown",
     "metadata": {},
     "source": [
      "* else\u5b50\u53e5  \n",
      "C\u8bed\u8a00\u4e2d\uff0c\u6211\u4eec\u5e38\u5e38\u9700\u8981\u7528\u4e00\u4e2a\u6807\u5fd7\u53d8\u91cf\u6765\u786e\u5b9a\u5faa\u73af\u662f\u5426\u6709\u88ab\u6267\u884c\uff0cpython\u91cc\u53ef\u662f\u65b9\u4fbf\u591a\u54af\uff01"
     ]
    },
    {
     "cell_type": "code",
     "collapsed": false,
     "input": [
      "from math import sqrt"
     ],
     "language": "python",
     "metadata": {},
     "outputs": [],
     "prompt_number": 36
    },
    {
     "cell_type": "code",
     "collapsed": false,
     "input": [
      "for n in range(99, 81, -1):    #\u6ca1\u9519\uff01range\u8fd8\u53ef\u4ee5\u52a0\u5165\u6b65\u957f\u53c2\u6570\n",
      "    root =sqrt(n)\n",
      "    if root == int(root):       #\u5224\u65ad\u662f\u5426\u4e3a\u6574\u6570\n",
      "        print n\n",
      "        break\n",
      "else:\n",
      "    print \"Didn't find it!\"\n",
      "#\u8fd9\u6bb5\u7a0b\u5e8f\u67e5\u627e\u4e8699~80\u95f4\u5f00\u5e73\u65b9\u540e\u80fd\u4e3a\u6574\u6570\u7684\u6570"
     ],
     "language": "python",
     "metadata": {},
     "outputs": [
      {
       "output_type": "stream",
       "stream": "stdout",
       "text": [
        "Didn't find it!\n"
       ]
      }
     ],
     "prompt_number": 37
    },
    {
     "cell_type": "markdown",
     "metadata": {},
     "source": [
      "###\u5217\u8868\u63a8\u5bfc\u5f0f\u2014\u2014\u8f7b\u91cf\u7ea7\u5faa\u73af  \n",
      "\u827e\u739b\uff01\u8fd9\u4e0d\u662f\u6570\u5217\u901a\u9879\u561b\uff01  \n",
      "\u5728\u5217\u8868\u5185\u5199for\u8bed\u53e5\u54e6\uff01"
     ]
    },
    {
     "cell_type": "code",
     "collapsed": false,
     "input": [
      "[x*x for x in range(10)]"
     ],
     "language": "python",
     "metadata": {},
     "outputs": [
      {
       "metadata": {},
       "output_type": "pyout",
       "prompt_number": 38,
       "text": [
        "[0, 1, 4, 9, 16, 25, 36, 49, 64, 81]"
       ]
      }
     ],
     "prompt_number": 38
    },
    {
     "cell_type": "code",
     "collapsed": false,
     "input": [
      "[x*x for x in range(10) if x % 3 == 0]    #\u54c7\u585e\uff0c\u8fd8\u80fd\u7ed9x\u52a0\u6761\u4ef6"
     ],
     "language": "python",
     "metadata": {},
     "outputs": [
      {
       "metadata": {},
       "output_type": "pyout",
       "prompt_number": 39,
       "text": [
        "[0, 9, 36, 81]"
       ]
      }
     ],
     "prompt_number": 39
    },
    {
     "cell_type": "code",
     "collapsed": false,
     "input": [
      "[(x, y, x*y) for x in range(1,4)   for y in range(1,4)]     #\u5efa\u7acb\u4e5d\u4e5d\u4e58\u6cd5\u8868\uff081~3\uff09\uff01\uff01"
     ],
     "language": "python",
     "metadata": {},
     "outputs": [
      {
       "metadata": {},
       "output_type": "pyout",
       "prompt_number": 44,
       "text": [
        "[(1, 1, 1),\n",
        " (1, 2, 2),\n",
        " (1, 3, 3),\n",
        " (2, 1, 2),\n",
        " (2, 2, 4),\n",
        " (2, 3, 6),\n",
        " (3, 1, 3),\n",
        " (3, 2, 6),\n",
        " (3, 3, 9)]"
       ]
      }
     ],
     "prompt_number": 44
    },
    {
     "cell_type": "code",
     "collapsed": false,
     "input": [
      "a = ['a1', 'b2', 'c3']"
     ],
     "language": "python",
     "metadata": {},
     "outputs": [],
     "prompt_number": 47
    },
    {
     "cell_type": "code",
     "collapsed": false,
     "input": [
      "b = ['a2', 'b2', 'd3']"
     ],
     "language": "python",
     "metadata": {},
     "outputs": [],
     "prompt_number": 48
    },
    {
     "cell_type": "code",
     "collapsed": false,
     "input": [
      "[x + '+' + y for x in a for y in b if x[0] == y[0]]    #\u52a0\u5165if\u5b50\u53e5\uff0c\u53ea\u6709\u9996\u5b57\u7b26\u76f8\u7b49\u7684\u5b57\u7b26\u4e32\u624d\u4f1a\u88ab\u521b\u5efa\u5230\u5217\u8868\u91cc"
     ],
     "language": "python",
     "metadata": {},
     "outputs": [
      {
       "metadata": {},
       "output_type": "pyout",
       "prompt_number": 51,
       "text": [
        "['a1+a2', 'b2+b2']"
       ]
      }
     ],
     "prompt_number": 51
    },
    {
     "cell_type": "markdown",
     "metadata": {},
     "source": [
      "*\u4e0d\u5b58\u5728\u5143\u7ec4\u63a8\u5bfc\u5f0f\u8fd9\u79cd\u4e1c\u897f\u54c8\uff01\uff01*  \n",
      "*python2.3\u4ee5\u524d\u4f1a\u62a5\u9519\uff0c\u65b0\u7248\u672c\u4e2d\u4f1a\u4ea7\u751f\u4e00\u4e2a\u751f\u6210\u5668*"
     ]
    },
    {
     "cell_type": "code",
     "collapsed": false,
     "input": [],
     "language": "python",
     "metadata": {},
     "outputs": []
    }
   ],
   "metadata": {}
  }
 ]
}