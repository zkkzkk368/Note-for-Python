{
 "metadata": {
  "name": "",
  "signature": "sha256:15221b525daa6fb7097a40a0e7d2df5b8550b8017696fe3bc2259ced9aafb794"
 },
 "nbformat": 3,
 "nbformat_minor": 0,
 "worksheets": [
  {
   "cells": [
    {
     "cell_type": "markdown",
     "metadata": {},
     "source": [
      "###pass\u8bed\u53e5  \n",
      "\u4f5c\u4e3a\u5360\u4f4d\u7b26"
     ]
    },
    {
     "cell_type": "code",
     "collapsed": false,
     "input": [
      "#python\u4e0d\u5141\u8bb8\u7a7a\u4ee3\u7801\u5757\n",
      "if 1 > 0 :"
     ],
     "language": "python",
     "metadata": {},
     "outputs": [
      {
       "ename": "IndentationError",
       "evalue": "expected an indented block (<ipython-input-1-516673b5c7ed>, line 2)",
       "output_type": "pyerr",
       "traceback": [
        "\u001b[0;36m  File \u001b[0;32m\"<ipython-input-1-516673b5c7ed>\"\u001b[0;36m, line \u001b[0;32m2\u001b[0m\n\u001b[0;31m    if 1 > 0 :\u001b[0m\n\u001b[0m              ^\u001b[0m\n\u001b[0;31mIndentationError\u001b[0m\u001b[0;31m:\u001b[0m expected an indented block\n"
       ]
      }
     ],
     "prompt_number": 1
    },
    {
     "cell_type": "code",
     "collapsed": false,
     "input": [
      "#\u6211\u4eec\u9700\u8981\u5229\u7528pass\u8bed\u53e5\u6765\u5360\u4f4d\n",
      "if 1 > 0 :\n",
      "    pass"
     ],
     "language": "python",
     "metadata": {},
     "outputs": [],
     "prompt_number": 2
    },
    {
     "cell_type": "markdown",
     "metadata": {},
     "source": [
      "###del\u8bed\u53e5  \n",
      "\u8d4b\u503c\u65f6\uff0c\u5185\u5b58\u4f1a\u5f00\u8f9f\u7a7a\u95f4\u7ed9\u8fd9\u4e2a\u503c  \n",
      "\u5f53\u503c\u6539\u53d8\u65f6\uff0c\u539f\u6765\u7684\u90a3\u4e2a\u503c\u5c31\u4f1a\u5728\u5185\u5b58\u4e2d\u6d88\u5931\uff08\u79f0\u4e3a\u5783\u573e\u6536\u96c6\uff09  \n",
      "\u6211\u4eec\u53ef\u4ee5\u4f7f\u7528del\u8bed\u53e5\uff0c\u8ba9\u4e00\u4e2a\u5bf9\u8c61\u5220\u9664\u6d88\u5931  \n",
      "\u6ce8\u610f\uff1apython\u91cc\u662f\u4e0d\u80fd\u5220\u9664\u503c\u7684\uff0c\u6211\u4eec\u5220\u9664\u7684\u662f\u8fd9\u4e2a\u5bf9\u8c61\uff0c\u8fd9\u4e2a\u540d\u79f0"
     ]
    },
    {
     "cell_type": "markdown",
     "metadata": {},
     "source": [
      "###\u4f7f\u7528exec\u548ceval\u6267\u884c\u548c\u6c42\u503c\u5b57\u7b26\u4e32  \n",
      "\u52a8\u6001\u521b\u9020python\u4ee3\u7801\uff0c\u7136\u540e\u5c06\u5176\u4f5c\u4e3a\u8868\u8fbe\u5f0f\u548c\u8bed\u53e5\u6267\u884c  \n",
      "* exec\u8bed\u53e5\uff0c\u6267\u884c\u4e00\u4e2a\u547d\u4ee4\u5b57\u7b26\u4e32\uff08\u8bed\u53e5\uff09"
     ]
    },
    {
     "cell_type": "code",
     "collapsed": false,
     "input": [
      "exec \"x = 1\""
     ],
     "language": "python",
     "metadata": {},
     "outputs": [],
     "prompt_number": 3
    },
    {
     "cell_type": "code",
     "collapsed": false,
     "input": [
      "x"
     ],
     "language": "python",
     "metadata": {},
     "outputs": [
      {
       "metadata": {},
       "output_type": "pyout",
       "prompt_number": 4,
       "text": [
        "1"
       ]
      }
     ],
     "prompt_number": 4
    },
    {
     "cell_type": "code",
     "collapsed": false,
     "input": [
      "#\u4f46\u662f\u91c7\u7528\u547d\u4ee4\u5b57\u7b26\u4e32\u53ef\u80fd\u4f1a\u6270\u4e71\u547d\u540d\u7a7a\u95f4"
     ],
     "language": "python",
     "metadata": {},
     "outputs": [],
     "prompt_number": 5
    },
    {
     "cell_type": "code",
     "collapsed": false,
     "input": [
      "from math import sqrt"
     ],
     "language": "python",
     "metadata": {},
     "outputs": [],
     "prompt_number": 6
    },
    {
     "cell_type": "code",
     "collapsed": false,
     "input": [
      "exec \"sqrt = 1\""
     ],
     "language": "python",
     "metadata": {},
     "outputs": [],
     "prompt_number": 7
    },
    {
     "cell_type": "code",
     "collapsed": false,
     "input": [
      "sqrt(4)"
     ],
     "language": "python",
     "metadata": {},
     "outputs": [
      {
       "ename": "TypeError",
       "evalue": "'int' object is not callable",
       "output_type": "pyerr",
       "traceback": [
        "\u001b[0;31m---------------------------------------------------------------------------\u001b[0m\n\u001b[0;31mTypeError\u001b[0m                                 Traceback (most recent call last)",
        "\u001b[0;32m<ipython-input-8-718d7f173e1d>\u001b[0m in \u001b[0;36m<module>\u001b[0;34m()\u001b[0m\n\u001b[0;32m----> 1\u001b[0;31m \u001b[0msqrt\u001b[0m\u001b[0;34m(\u001b[0m\u001b[0;36m4\u001b[0m\u001b[0;34m)\u001b[0m\u001b[0;34m\u001b[0m\u001b[0m\n\u001b[0m",
        "\u001b[0;31mTypeError\u001b[0m: 'int' object is not callable"
       ]
      }
     ],
     "prompt_number": 8
    },
    {
     "cell_type": "code",
     "collapsed": false,
     "input": [
      "#\u9ed1\u5ba2\u6709\u53ef\u80fd\u900f\u8fc7\u8fd9\u6837\u6765\u7834\u574f\u547d\u540d\u7a7a\u95f4\uff0c\u5f71\u54cd\u67d0\u4e9b\u5173\u952e\u51fd\u6570\u7684\u4f7f\u7528\n",
      "#\u547d\u540d\u7a7a\u95f4\u662f\u4e00\u4e2a\u653e\u7f6e\u53d8\u91cf\u7684\u5730\u65b9  \n",
      "#\u6211\u4eec\u53ef\u4ee5\u624b\u52a8\u7ed9\u4e88\u4e00\u4e2a\u5b57\u5178\u6765\u5b58\u50a8\u8fd9\u4e2a\u53d8\u91cf"
     ],
     "language": "python",
     "metadata": {},
     "outputs": [],
     "prompt_number": 9
    },
    {
     "cell_type": "code",
     "collapsed": false,
     "input": [
      "from math import sqrt"
     ],
     "language": "python",
     "metadata": {},
     "outputs": [],
     "prompt_number": 15
    },
    {
     "cell_type": "code",
     "collapsed": false,
     "input": [
      "scope = {}"
     ],
     "language": "python",
     "metadata": {},
     "outputs": [],
     "prompt_number": 16
    },
    {
     "cell_type": "code",
     "collapsed": false,
     "input": [
      "exec \"sqrt = 1\" in scope"
     ],
     "language": "python",
     "metadata": {},
     "outputs": [],
     "prompt_number": 17
    },
    {
     "cell_type": "code",
     "collapsed": false,
     "input": [
      "sqrt(4)    #\u8fd9\u56de\u547d\u540d\u7a7a\u95f4\u5c31\u4e0d\u4f1a\u88ab\u5e72\u6270\u5566"
     ],
     "language": "python",
     "metadata": {},
     "outputs": [
      {
       "metadata": {},
       "output_type": "pyout",
       "prompt_number": 18,
       "text": [
        "2.0"
       ]
      }
     ],
     "prompt_number": 18
    },
    {
     "cell_type": "code",
     "collapsed": false,
     "input": [
      "len(scope)"
     ],
     "language": "python",
     "metadata": {},
     "outputs": [
      {
       "metadata": {},
       "output_type": "pyout",
       "prompt_number": 20,
       "text": [
        "2"
       ]
      }
     ],
     "prompt_number": 20
    },
    {
     "cell_type": "code",
     "collapsed": false,
     "input": [
      "scope"
     ],
     "language": "python",
     "metadata": {},
     "outputs": [
      {
       "metadata": {},
       "output_type": "pyout",
       "prompt_number": 21,
       "text": [
        "{'__builtins__': {'ArithmeticError': ArithmeticError,\n",
        "  'AssertionError': AssertionError,\n",
        "  'AttributeError': AttributeError,\n",
        "  'BaseException': BaseException,\n",
        "  'BufferError': BufferError,\n",
        "  'BytesWarning': BytesWarning,\n",
        "  'DeprecationWarning': DeprecationWarning,\n",
        "  'EOFError': EOFError,\n",
        "  'Ellipsis': Ellipsis,\n",
        "  'EnvironmentError': EnvironmentError,\n",
        "  'Exception': Exception,\n",
        "  'False': False,\n",
        "  'FloatingPointError': FloatingPointError,\n",
        "  'FutureWarning': FutureWarning,\n",
        "  'GeneratorExit': GeneratorExit,\n",
        "  'IOError': IOError,\n",
        "  'ImportError': ImportError,\n",
        "  'ImportWarning': ImportWarning,\n",
        "  'IndentationError': IndentationError,\n",
        "  'IndexError': IndexError,\n",
        "  'KeyError': KeyError,\n",
        "  'KeyboardInterrupt': KeyboardInterrupt,\n",
        "  'LookupError': LookupError,\n",
        "  'MemoryError': MemoryError,\n",
        "  'NameError': NameError,\n",
        "  'None': None,\n",
        "  'NotImplemented': NotImplemented,\n",
        "  'NotImplementedError': NotImplementedError,\n",
        "  'OSError': OSError,\n",
        "  'OverflowError': OverflowError,\n",
        "  'PendingDeprecationWarning': PendingDeprecationWarning,\n",
        "  'ReferenceError': ReferenceError,\n",
        "  'RuntimeError': RuntimeError,\n",
        "  'RuntimeWarning': RuntimeWarning,\n",
        "  'StandardError': StandardError,\n",
        "  'StopIteration': StopIteration,\n",
        "  'SyntaxError': SyntaxError,\n",
        "  'SyntaxWarning': SyntaxWarning,\n",
        "  'SystemError': SystemError,\n",
        "  'SystemExit': SystemExit,\n",
        "  'TabError': TabError,\n",
        "  'True': True,\n",
        "  'TypeError': TypeError,\n",
        "  'UnboundLocalError': UnboundLocalError,\n",
        "  'UnicodeDecodeError': UnicodeDecodeError,\n",
        "  'UnicodeEncodeError': UnicodeEncodeError,\n",
        "  'UnicodeError': UnicodeError,\n",
        "  'UnicodeTranslateError': UnicodeTranslateError,\n",
        "  'UnicodeWarning': UnicodeWarning,\n",
        "  'UserWarning': UserWarning,\n",
        "  'ValueError': ValueError,\n",
        "  'Warning': Warning,\n",
        "  'ZeroDivisionError': ZeroDivisionError,\n",
        "  '__IPYTHON__': True,\n",
        "  '__IPYTHON__active': 'Deprecated, check for __IPYTHON__',\n",
        "  '__debug__': True,\n",
        "  '__doc__': \"Built-in functions, exceptions, and other objects.\\n\\nNoteworthy: None is the `nil' object; Ellipsis represents `...' in slices.\",\n",
        "  '__import__': <function __import__>,\n",
        "  '__name__': '__builtin__',\n",
        "  '__package__': None,\n",
        "  'abs': <function abs>,\n",
        "  'all': <function all>,\n",
        "  'any': <function any>,\n",
        "  'apply': <function apply>,\n",
        "  'basestring': basestring,\n",
        "  'bin': <function bin>,\n",
        "  'bool': bool,\n",
        "  'buffer': buffer,\n",
        "  'bytearray': bytearray,\n",
        "  'bytes': str,\n",
        "  'callable': <function callable>,\n",
        "  'chr': <function chr>,\n",
        "  'classmethod': classmethod,\n",
        "  'cmp': <function cmp>,\n",
        "  'coerce': <function coerce>,\n",
        "  'compile': <function compile>,\n",
        "  'complex': complex,\n",
        "  'copyright': Copyright (c) 2001-2014 Python Software Foundation.\n",
        "  All Rights Reserved.\n",
        "  \n",
        "  Copyright (c) 2000 BeOpen.com.\n",
        "  All Rights Reserved.\n",
        "  \n",
        "  Copyright (c) 1995-2001 Corporation for National Research Initiatives.\n",
        "  All Rights Reserved.\n",
        "  \n",
        "  Copyright (c) 1991-1995 Stichting Mathematisch Centrum, Amsterdam.\n",
        "  All Rights Reserved.,\n",
        "  'credits':     Thanks to CWI, CNRI, BeOpen.com, Zope Corporation and a cast of thousands\n",
        "      for supporting Python development.  See www.python.org for more information.,\n",
        "  'delattr': <function delattr>,\n",
        "  'dict': dict,\n",
        "  'dir': <function dir>,\n",
        "  'divmod': <function divmod>,\n",
        "  'dreload': <function IPython.lib.deepreload.reload>,\n",
        "  'enumerate': enumerate,\n",
        "  'eval': <function eval>,\n",
        "  'execfile': <function execfile>,\n",
        "  'file': file,\n",
        "  'filter': <function filter>,\n",
        "  'float': float,\n",
        "  'format': <function format>,\n",
        "  'frozenset': frozenset,\n",
        "  'get_ipython': <bound method ZMQInteractiveShell.get_ipython of <IPython.kernel.zmq.zmqshell.ZMQInteractiveShell object at 0x7f8c03903a50>>,\n",
        "  'getattr': <function getattr>,\n",
        "  'globals': <function globals>,\n",
        "  'hasattr': <function hasattr>,\n",
        "  'hash': <function hash>,\n",
        "  'help': Type help() for interactive help, or help(object) for help about object.,\n",
        "  'hex': <function hex>,\n",
        "  'id': <function id>,\n",
        "  'input': <function IPython.kernel.zmq.ipkernel.<lambda>>,\n",
        "  'int': int,\n",
        "  'intern': <function intern>,\n",
        "  'isinstance': <function isinstance>,\n",
        "  'issubclass': <function issubclass>,\n",
        "  'iter': <function iter>,\n",
        "  'len': <function len>,\n",
        "  'license': Type license() to see the full license text,\n",
        "  'list': list,\n",
        "  'locals': <function locals>,\n",
        "  'long': long,\n",
        "  'map': <function map>,\n",
        "  'max': <function max>,\n",
        "  'memoryview': memoryview,\n",
        "  'min': <function min>,\n",
        "  'next': <function next>,\n",
        "  'object': object,\n",
        "  'oct': <function oct>,\n",
        "  'open': <function open>,\n",
        "  'ord': <function ord>,\n",
        "  'pow': <function pow>,\n",
        "  'print': <function print>,\n",
        "  'property': property,\n",
        "  'range': <function range>,\n",
        "  'raw_input': <function IPython.kernel.zmq.ipkernel.<lambda>>,\n",
        "  'reduce': <function reduce>,\n",
        "  'reload': <function reload>,\n",
        "  'repr': <function repr>,\n",
        "  'reversed': reversed,\n",
        "  'round': <function round>,\n",
        "  'set': set,\n",
        "  'setattr': <function setattr>,\n",
        "  'slice': slice,\n",
        "  'sorted': <function sorted>,\n",
        "  'staticmethod': staticmethod,\n",
        "  'str': str,\n",
        "  'sum': <function sum>,\n",
        "  'super': super,\n",
        "  'tuple': tuple,\n",
        "  'type': type,\n",
        "  'unichr': <function unichr>,\n",
        "  'unicode': unicode,\n",
        "  'vars': <function vars>,\n",
        "  'xrange': xrange,\n",
        "  'zip': <function zip>},\n",
        " 'sqrt': 1}"
       ]
      }
     ],
     "prompt_number": 21
    },
    {
     "cell_type": "code",
     "collapsed": false,
     "input": [
      "#\u547c\u2026\u2026\u8fd9\u4e2a\u5b57\u5178\u5185\u5bb9\u53ef\u771f\u662f\u591a\uff0c\u8fd9\u662f\u56e0\u4e3a\u5185\u5efa\u7684__builtins__\u5b57\u5178\u81ea\u52a8\u5305\u542b\u4e86\u6240\u6709\u7684\u5185\u5efa\u51fd\u6570\u548c\u503c"
     ],
     "language": "python",
     "metadata": {},
     "outputs": [],
     "prompt_number": 22
    },
    {
     "cell_type": "markdown",
     "metadata": {},
     "source": [
      "* eval\u51fd\u6570\uff0c\u6267\u884c\u4e00\u4e2a\u547d\u4ee4\u5b57\u7b26\u4e32\uff08\u8868\u8fbe\u5f0f\uff09"
     ]
    },
    {
     "cell_type": "code",
     "collapsed": false,
     "input": [
      "eval( 'raw_input(\"Enter your name: \")' )"
     ],
     "language": "python",
     "metadata": {},
     "outputs": [
      {
       "name": "stdout",
       "output_type": "stream",
       "stream": "stdout",
       "text": [
        "Enter your name: Zk\n"
       ]
      },
      {
       "metadata": {},
       "output_type": "pyout",
       "prompt_number": 1,
       "text": [
        "'Zk'"
       ]
      }
     ],
     "prompt_number": 1
    },
    {
     "cell_type": "code",
     "collapsed": false,
     "input": [
      "#\u8868\u8fbe\u5f0f\u4e00\u822c\u4e0d\u4f1a\u50cf\u8bed\u53e5\u90a3\u6837\u91cd\u65b0\u4e3a\u53d8\u91cf\u8d4b\u503c\n",
      "#\u4f46\u662feval\u786e\u5b9e\u4e5f\u53ef\u4ee5\u4f7f\u7528\u547d\u540d\u7a7a\u95f4\n",
      "#\u53ef\u4ee5\u63d0\u4f9b\u4e00\u4e2a\u5168\u5c40\u7684\uff0c\u4e00\u4e2a\u5c40\u90e8\u7684\n",
      "#\u5168\u5c40\u5fc5\u987b\u662f\u5b57\u5178\uff0c\u5c40\u90e8\u53ef\u4ee5\u662f\u4efb\u4f55\u5f62\u5f0f\u7684\u6620\u5c04"
     ],
     "language": "python",
     "metadata": {},
     "outputs": [],
     "prompt_number": 2
    },
    {
     "cell_type": "markdown",
     "metadata": {},
     "source": [
      "* \u563f\u563f\uff0c\u6211\u4eec\u4e5f\u53ef\u4ee5\u63d0\u524d\u5728\u521b\u5efa\u7684\u547d\u540d\u7a7a\u95f4\u524d\u653e\u5165\u4e00\u4e9b\u53d8\u91cf"
     ]
    },
    {
     "cell_type": "code",
     "collapsed": false,
     "input": [
      "scope = {}"
     ],
     "language": "python",
     "metadata": {},
     "outputs": [],
     "prompt_number": 4
    },
    {
     "cell_type": "code",
     "collapsed": false,
     "input": [
      "exec 'x = 2' in scope"
     ],
     "language": "python",
     "metadata": {},
     "outputs": [],
     "prompt_number": 5
    },
    {
     "cell_type": "code",
     "collapsed": false,
     "input": [
      "eval('x*x', scope)  #\u6307\u5b9a\u547d\u540d\u7a7a\u95f4scope\uff0c\u547c\u547c\uff0c\u91cc\u9762\u53ef\u662f\u6709x =2"
     ],
     "language": "python",
     "metadata": {},
     "outputs": [
      {
       "metadata": {},
       "output_type": "pyout",
       "prompt_number": 6,
       "text": [
        "4"
       ]
      }
     ],
     "prompt_number": 6
    },
    {
     "cell_type": "markdown",
     "metadata": {},
     "source": [
      "**\u5176\u5b9e\uff0c\u8fd9\u4e24\u4e2a\u51fd\u6570\u5e76\u4e0d\u5e38\u7528\uff0c\u4f46\u5374\u662f\u4e00\u4e2a\u6709\u529b\u7684\u5de5\u5177**"
     ]
    },
    {
     "cell_type": "code",
     "collapsed": false,
     "input": [],
     "language": "python",
     "metadata": {},
     "outputs": []
    }
   ],
   "metadata": {}
  }
 ]
}