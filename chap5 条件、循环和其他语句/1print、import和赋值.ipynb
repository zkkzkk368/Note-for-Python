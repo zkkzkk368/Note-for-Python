{
 "metadata": {
  "name": "",
  "signature": "sha256:93dba62258b2b30e5aced9612490e96ef926297b8bdc70fdead62d89bc65bdad"
 },
 "nbformat": 3,
 "nbformat_minor": 0,
 "worksheets": [
  {
   "cells": [
    {
     "cell_type": "markdown",
     "metadata": {},
     "source": [
      "###print\u8bed\u53e5"
     ]
    },
    {
     "cell_type": "markdown",
     "metadata": {},
     "source": [
      "* \u6253\u5370\u591a\u4e2a\u8868\u8fbe\u5f0f\uff0c\u6bcf\u4e2a\u8868\u8fbe\u5f0f\u7684\u7ed3\u679c\u901a\u8fc7\u7a7a\u683c\u95f4\u9694"
     ]
    },
    {
     "cell_type": "code",
     "collapsed": false,
     "input": [
      "print \"age: \", 21"
     ],
     "language": "python",
     "metadata": {},
     "outputs": [
      {
       "output_type": "stream",
       "stream": "stdout",
       "text": [
        "age:  21\n"
       ]
      }
     ],
     "prompt_number": 2
    },
    {
     "cell_type": "code",
     "collapsed": false,
     "input": [
      "#\u6253\u5370\u5143\u7ec4\u65f6\u5fc5\u987b\u52a0\u4e0a\u62ec\u53f7"
     ],
     "language": "python",
     "metadata": {},
     "outputs": [],
     "prompt_number": 3
    },
    {
     "cell_type": "code",
     "collapsed": false,
     "input": [
      "print 1, 2, 3"
     ],
     "language": "python",
     "metadata": {},
     "outputs": [
      {
       "output_type": "stream",
       "stream": "stdout",
       "text": [
        "1 2 3\n"
       ]
      }
     ],
     "prompt_number": 4
    },
    {
     "cell_type": "code",
     "collapsed": false,
     "input": [
      "print (1, 2, 3)"
     ],
     "language": "python",
     "metadata": {},
     "outputs": [
      {
       "output_type": "stream",
       "stream": "stdout",
       "text": [
        "(1, 2, 3)\n"
       ]
      }
     ],
     "prompt_number": 5
    },
    {
     "cell_type": "markdown",
     "metadata": {},
     "source": [
      "###import\u8bed\u53e5  \n",
      "\u6709\u4ee5\u4e0b\u56db\u4e2d\u5bfc\u5165\u5f62\u5f0f\uff1a  \n",
      "* import (module)  \n",
      "* from (module) import (function)  \n",
      "* from (module) import (function1), (function2), (function3), ..........  \n",
      "* from (module) import \\*  \n",
      "**\u6700\u540e\u4e00\u79cd\u4f1a\u5bfc\u5165\u6a21\u5757\u5185\u7684\u6240\u6709\u51fd\u6570**"
     ]
    },
    {
     "cell_type": "code",
     "collapsed": false,
     "input": [
      "#\u4e3a\u6a21\u5757\u63d0\u4f9b\u522b\u540d\uff08as\u5b50\u8bed\u53e5\uff09\n",
      "import math as foobar"
     ],
     "language": "python",
     "metadata": {},
     "outputs": [],
     "prompt_number": 6
    },
    {
     "cell_type": "code",
     "collapsed": false,
     "input": [
      "foobar.sqrt(4)"
     ],
     "language": "python",
     "metadata": {},
     "outputs": [
      {
       "metadata": {},
       "output_type": "pyout",
       "prompt_number": 7,
       "text": [
        "2.0"
       ]
      }
     ],
     "prompt_number": 7
    },
    {
     "cell_type": "code",
     "collapsed": false,
     "input": [
      "#\u4e3a\u51fd\u6570\u63d0\u4f9b\u522b\u540d\uff08as\u5b50\u8bed\u53e5\uff09\n",
      "from math import sqrt as foobar"
     ],
     "language": "python",
     "metadata": {},
     "outputs": [],
     "prompt_number": 8
    },
    {
     "cell_type": "code",
     "collapsed": false,
     "input": [
      "foobar(4)"
     ],
     "language": "python",
     "metadata": {},
     "outputs": [
      {
       "metadata": {},
       "output_type": "pyout",
       "prompt_number": 9,
       "text": [
        "2.0"
       ]
      }
     ],
     "prompt_number": 9
    },
    {
     "cell_type": "markdown",
     "metadata": {},
     "source": [
      "###\u8d4b\u503c\u8bed\u53e5"
     ]
    },
    {
     "cell_type": "code",
     "collapsed": false,
     "input": [
      "#\u591a\u4e2a\u53d8\u91cf\u540c\u65f6\u8d4b\u503c\n",
      "x, y, z = 1, 2, 3"
     ],
     "language": "python",
     "metadata": {},
     "outputs": [],
     "prompt_number": 10
    },
    {
     "cell_type": "code",
     "collapsed": false,
     "input": [
      "#python\u4ea4\u6362\u53d8\u91cf\u7684\u503c\u975e\u5e38\u7b80\u5355\uff01\uff01\uff01"
     ],
     "language": "python",
     "metadata": {},
     "outputs": [],
     "prompt_number": 11
    },
    {
     "cell_type": "code",
     "collapsed": false,
     "input": [
      "print x, y"
     ],
     "language": "python",
     "metadata": {},
     "outputs": [
      {
       "output_type": "stream",
       "stream": "stdout",
       "text": [
        "1 2\n"
       ]
      }
     ],
     "prompt_number": 12
    },
    {
     "cell_type": "code",
     "collapsed": false,
     "input": [
      "x, y = y ,x"
     ],
     "language": "python",
     "metadata": {},
     "outputs": [],
     "prompt_number": 13
    },
    {
     "cell_type": "code",
     "collapsed": false,
     "input": [
      "print x, y"
     ],
     "language": "python",
     "metadata": {},
     "outputs": [
      {
       "output_type": "stream",
       "stream": "stdout",
       "text": [
        "2 1\n"
       ]
      }
     ],
     "prompt_number": 14
    },
    {
     "cell_type": "markdown",
     "metadata": {},
     "source": [
      "* \u4ee5\u4e0a\u4e24\u4e2a\u64cd\u4f5c\u505a\u7684\u662f\u5e8f\u5217\u89e3\u5305sequence unpacking\uff08\u9012\u5f52\u89e3\u5305\uff09\u2014\u2014\u8bb2\u591a\u4e2a\u503c\u7684\u5e8f\u5217\u89e3\u5f00\uff0c\u7136\u540e\u653e\u4e2a\u53d8\u91cf\u5e8f\u5217\u4e2d"
     ]
    },
    {
     "cell_type": "code",
     "collapsed": false,
     "input": [
      "#\u8fd9\u4e2a\u7279\u6027\u5141\u8bb8\u51fd\u6570\u6216\u8005\u65b9\u6cd5\u8fd4\u56de\u591a\u4e2a\u503c\n",
      "#\u6b64\u65f6\u7b49\u53f7\u5de6\u53f3\u4e24\u8fb9\u7684\u91cf\u7684\u6570\u8981\u76f8\u7b49\uff0c\u800c\u4e14\u5bf9\u5e94\u6b63\u786e"
     ],
     "language": "python",
     "metadata": {},
     "outputs": [],
     "prompt_number": 15
    },
    {
     "cell_type": "code",
     "collapsed": false,
     "input": [
      "pbook = {'Zk': '510', 'Zps' : '877'}"
     ],
     "language": "python",
     "metadata": {},
     "outputs": [],
     "prompt_number": 16
    },
    {
     "cell_type": "code",
     "collapsed": false,
     "input": [
      "key, value = pbook.popitem()"
     ],
     "language": "python",
     "metadata": {},
     "outputs": [],
     "prompt_number": 19
    },
    {
     "cell_type": "code",
     "collapsed": false,
     "input": [
      "print key , value"
     ],
     "language": "python",
     "metadata": {},
     "outputs": [
      {
       "output_type": "stream",
       "stream": "stdout",
       "text": [
        "Zps 877\n"
       ]
      }
     ],
     "prompt_number": 20
    },
    {
     "cell_type": "markdown",
     "metadata": {},
     "source": [
      "* \u94fe\u5f0f\u8d4b\u503c\uff08chained assignment\uff09"
     ]
    },
    {
     "cell_type": "code",
     "collapsed": false,
     "input": [
      "x = y = 3"
     ],
     "language": "python",
     "metadata": {},
     "outputs": [],
     "prompt_number": 21
    },
    {
     "cell_type": "code",
     "collapsed": false,
     "input": [
      "print x, y"
     ],
     "language": "python",
     "metadata": {},
     "outputs": [
      {
       "output_type": "stream",
       "stream": "stdout",
       "text": [
        "3 3\n"
       ]
      }
     ],
     "prompt_number": 22
    },
    {
     "cell_type": "markdown",
     "metadata": {},
     "source": [
      "* \u589e\u91cf\u8d4b\u503c\uff08augmented assignment\uff09\uff0c\u8fd9\u4e2a\u529f\u80fdC\u4e5f\u6709"
     ]
    },
    {
     "cell_type": "code",
     "collapsed": false,
     "input": [
      "s = \"Hello,\""
     ],
     "language": "python",
     "metadata": {},
     "outputs": [],
     "prompt_number": 23
    },
    {
     "cell_type": "code",
     "collapsed": false,
     "input": [
      "s += \"world!\""
     ],
     "language": "python",
     "metadata": {},
     "outputs": [],
     "prompt_number": 24
    },
    {
     "cell_type": "code",
     "collapsed": false,
     "input": [
      "s *= 2"
     ],
     "language": "python",
     "metadata": {},
     "outputs": [],
     "prompt_number": 25
    },
    {
     "cell_type": "code",
     "collapsed": false,
     "input": [
      "s"
     ],
     "language": "python",
     "metadata": {},
     "outputs": [
      {
       "metadata": {},
       "output_type": "pyout",
       "prompt_number": 26,
       "text": [
        "'Hello,world!Hello,world!'"
       ]
      }
     ],
     "prompt_number": 26
    },
    {
     "cell_type": "code",
     "collapsed": false,
     "input": [],
     "language": "python",
     "metadata": {},
     "outputs": []
    }
   ],
   "metadata": {}
  }
 ]
}