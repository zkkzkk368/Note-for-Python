{
 "metadata": {
  "name": "",
  "signature": "sha256:e2120ee5334d10872ce161d0a7fa3bf93889294bb39662d807766d9b9575097f"
 },
 "nbformat": 3,
 "nbformat_minor": 0,
 "worksheets": [
  {
   "cells": [
    {
     "cell_type": "markdown",
     "metadata": {},
     "source": [
      "* \u8bed\u53e5\u5757\uff08\u55ef\u2026\u2026\u8ddfC\u5dee\u4e0d\u591a\uff09  \n",
      "\u5728C\u8bed\u8a00\u4e2d\uff0c\u8bed\u53e5\u5757\u7528\u82b1\u62ec\u53f7{}\u5305\u542b\u8d77\u6765  \n",
      "\u5728Python\u4e2d\uff0c\u8bed\u53e5\u5757\u4ee5\u5192\u53f7:\u4e3a\u8d77\u59cb\uff0c\u968f\u540e\u8fde\u7eed\u4e14\u91c7\u7528\u76f8\u540c\u7f29\u8fdb\u7684\u8bed\u53e5\u5373\u4e3a\u8bed\u53e5\u5757  \n",
      "\uff08\u6b64\u5904\u7684\u7f29\u8fdb\u6700\u597d\u91c7\u7528\u7a7a\u683c\u800c\u4e0d\u662ftab\uff09\n",
      "* \u771f\u503c\uff0c\u53c8\u79f0\u5e03\u5c14\u503c\uff0c\u5305\u62ecFalse\u548cTrue\u4e24\u79cd  \n",
      "False\u3001None\u30010\u3001\"\"\u3001()\u3001[]\u3001{}\u90fd\u770b\u4f5c\u5047\uff08False\uff09  \n",
      "\u5176\u4ed6\u503c\u5305\u62ecTrue\u90fd\u770b\u4f5c\u662f\u771f\uff08True\uff09  "
     ]
    },
    {
     "cell_type": "markdown",
     "metadata": {},
     "source": [
      "###bool\u51fd\u6570\uff0c\u5c06\u5176\u4ed6\u7c7b\u578b\u8f6c\u6362\u4e3a\u5e03\u5c14\u503c"
     ]
    },
    {
     "cell_type": "code",
     "collapsed": false,
     "input": [
      "bool(\"hahahahha\")"
     ],
     "language": "python",
     "metadata": {},
     "outputs": [
      {
       "metadata": {},
       "output_type": "pyout",
       "prompt_number": 1,
       "text": [
        "True"
       ]
      }
     ],
     "prompt_number": 1
    },
    {
     "cell_type": "code",
     "collapsed": false,
     "input": [
      "bool(0)"
     ],
     "language": "python",
     "metadata": {},
     "outputs": [
      {
       "metadata": {},
       "output_type": "pyout",
       "prompt_number": 2,
       "text": [
        "False"
       ]
      }
     ],
     "prompt_number": 2
    },
    {
     "cell_type": "markdown",
     "metadata": {},
     "source": [
      "###if\u8bed\u53e5  \n",
      "* elif\u5b50\u53e5\u548celse\u5b50\u53e5  \n",
      "* else\u5b50\u53e5\u540e\u9762\u8bb0\u5f97\u52a0\u4e0a\u5192\u53f7\uff01"
     ]
    },
    {
     "cell_type": "code",
     "collapsed": false,
     "input": [
      "name = raw_input(\"What's your name? \")"
     ],
     "language": "python",
     "metadata": {},
     "outputs": [
      {
       "name": "stdout",
       "output_type": "stream",
       "stream": "stdout",
       "text": [
        "What's your name? Zheng Kai\n"
       ]
      }
     ],
     "prompt_number": 4
    },
    {
     "cell_type": "code",
     "collapsed": false,
     "input": [
      "if name.endswith('Kai'):      #endswith\u65b9\u6cd5\uff0c\u5224\u65ad\u63a5\u53d7\u7684\u5b57\u7b26\u4e32\u7ed3\u5c3e\u662f\u5426\u4e3a\u6307\u5b9a\u5b57\u7b26\u4e32\n",
      "    print 'Hello, K!'\n",
      "elif name.endwith(\"Xi\"):\n",
      "    print 'Hello, X'\n",
      "else:\n",
      "    print 'Hello, stranger'"
     ],
     "language": "python",
     "metadata": {},
     "outputs": [
      {
       "output_type": "stream",
       "stream": "stdout",
       "text": [
        "Hello, K!\n"
       ]
      }
     ],
     "prompt_number": 5
    },
    {
     "cell_type": "markdown",
     "metadata": {},
     "source": [
      "###\u6bd4\u8f83\u8fd0\u7b97\u7b26  \n",
      "* ==\u3001<\u3001>\u3001>=\u3001<=\u3001!=\u542b\u4e49\u548cC\u8bed\u8a00\u76f8\u540c  \n",
      "* \u7279\u6b8a\u7684\u8fd0\u7b97\u7b26\u2014\u2014  \n",
      "x is y\uff1ax\u548cy\u662f\u540c\u4e00\u4e2a\u5bf9\u8c61  \n",
      "x is not y\uff1ax\u548cy\u662f\u4e0d\u540c\u7684\u5bf9\u8c61  \n",
      "x in y\uff1ax\u662fy\u5bb9\u5668\u7684\u6210\u5458  \n",
      "x not in\uff1ax\u4e0d\u662fy\u5bb9\u5668\u7684\u6210\u5458  \n",
      "*\uff5e\uff5e\u6211\u53bb\uff0c\u8fd9\u8fd8\u7b26\u5408\u82f1\u6587\u8bed\u6cd5\u7684\uff0cnot in\u548cis not\uff5e\uff5e*  \n",
      "\u2026\u2026\u2026\u2026\u2026\u2026\u2026\u2026  \n",
      "\u5176\u5b9e!=\u8fd8\u53ef\u4ee5\u5199\u6210<>\uff0c\u6bd4\u5982x<>y\uff0c\u4f46\u4e0d\u5efa\u8bae\u8fd9\u4e48\u5199\uff01\uff01\uff01"
     ]
    },
    {
     "cell_type": "code",
     "collapsed": false,
     "input": [
      "#python\u7684\u6bd4\u8f83\u8fd0\u7b97\u7b26\u53ef\u4ee5\u8fde\u63a5\u7684\uff0c\u54df\uff0c\u597d\u6d41\u5f0a\u54e6\uff01\n",
      "0<1<2"
     ],
     "language": "python",
     "metadata": {},
     "outputs": [
      {
       "metadata": {},
       "output_type": "pyout",
       "prompt_number": 6,
       "text": [
        "True"
       ]
      }
     ],
     "prompt_number": 6
    },
    {
     "cell_type": "code",
     "collapsed": false,
     "input": [
      "#is\u8fd0\u7b97\u7b26\n",
      "#\u907f\u514d\u7528is\u8fd0\u7b97\u7b26\u6765\u6bd4\u8f83\u6570\u503c\u3001\u5b57\u7b26\u4e32\u7b49\u4e0d\u53ef\u53d8\u503c\uff0c\u4ed6\u4eec\u7684\u7ed3\u679c\u662f\u4e0d\u53ef\u9884\u6d4b\u7684"
     ],
     "language": "python",
     "metadata": {},
     "outputs": [],
     "prompt_number": 12
    },
    {
     "cell_type": "code",
     "collapsed": false,
     "input": [
      "x = y = [1, 2, 3]      #\u6b64\u65f6\uff0cx\u548cy\u662f\u540c\u4e00\u4e2a\u5bf9\u8c61"
     ],
     "language": "python",
     "metadata": {},
     "outputs": [],
     "prompt_number": 8
    },
    {
     "cell_type": "code",
     "collapsed": false,
     "input": [
      "z = [1, 2, 3]       #\u867d\u7136\u503c\u76f8\u540c\uff0c\u4f46\u662f\u662f\u4e24\u4e2a\u4e0d\u540c\u7684\u5bf9\u8c61"
     ],
     "language": "python",
     "metadata": {},
     "outputs": [],
     "prompt_number": 9
    },
    {
     "cell_type": "code",
     "collapsed": false,
     "input": [
      "x is y"
     ],
     "language": "python",
     "metadata": {},
     "outputs": [
      {
       "metadata": {},
       "output_type": "pyout",
       "prompt_number": 10,
       "text": [
        "True"
       ]
      }
     ],
     "prompt_number": 10
    },
    {
     "cell_type": "code",
     "collapsed": false,
     "input": [
      "x is z"
     ],
     "language": "python",
     "metadata": {},
     "outputs": [
      {
       "metadata": {},
       "output_type": "pyout",
       "prompt_number": 11,
       "text": [
        "False"
       ]
      }
     ],
     "prompt_number": 11
    },
    {
     "cell_type": "code",
     "collapsed": false,
     "input": [
      "#\u5b57\u7b26\u4e32\u6bd4\u8f83\uff0c\u7c7b\u4f3c\u4e8eC\u8bed\u8a00\u7684strcmp\u51fd\u6570\uff0c\u4f46\u662f\u66f4\u76f4\u89c2\u554a\u54c8\u54c8\u54c8\n",
      "\"alpha\" < \"beta\""
     ],
     "language": "python",
     "metadata": {},
     "outputs": [
      {
       "metadata": {},
       "output_type": "pyout",
       "prompt_number": 13,
       "text": [
        "True"
       ]
      }
     ],
     "prompt_number": 13
    },
    {
     "cell_type": "code",
     "collapsed": false,
     "input": [
      "#\u5176\u4ed6\u5e8f\u5217\u7684\u6bd4\u8f83\n",
      "[1, 2] < [2, 1]"
     ],
     "language": "python",
     "metadata": {},
     "outputs": [
      {
       "metadata": {},
       "output_type": "pyout",
       "prompt_number": 14,
       "text": [
        "True"
       ]
      }
     ],
     "prompt_number": 14
    },
    {
     "cell_type": "markdown",
     "metadata": {},
     "source": [
      "###\u5e03\u5c14\u8fd0\u7b97\u7b26\uff08\u903b\u8f91\u8fd0\u7b97\u7b26\uff1f\uff09   \n",
      "\u76f4\u63a5\u7528\u5355\u8bcdand\u548cor  \n",
      "**\u548cC\u8bed\u8a00\u4e00\u6837\uff0cpython\u5185\u4e5f\u91c7\u7528\u77ed\u8def\u903b\u8f91\uff08\u60f0\u6027\u6c42\u503c\uff09**"
     ]
    },
    {
     "cell_type": "markdown",
     "metadata": {},
     "source": [
      "###\u6761\u4ef6\u8868\u8fbe\u5f0f  \n",
      "**a if b else c**  \n",
      "\u5982\u679cb\u4e3a\u771f\uff0c\u5219\u8fd4\u56dea\uff0c\u5426\u5219\u8fd4\u56dec  \n",
      "\u76f8\u5f53\u4e8eC\u8bed\u8a00\u7684**b?a:c**"
     ]
    },
    {
     "cell_type": "markdown",
     "metadata": {},
     "source": [
      "###assert\u65ad\u8a00  \n",
      "\u5982\u679c\u4e0d\u7b26\u5408\u6761\u4ef6\uff0c\u6211\u5c31\u7ec8\u6b62\u7a0b\u5e8f\u54fc\uff01\uff01"
     ]
    },
    {
     "cell_type": "code",
     "collapsed": false,
     "input": [
      "age = 10"
     ],
     "language": "python",
     "metadata": {},
     "outputs": [],
     "prompt_number": 17
    },
    {
     "cell_type": "code",
     "collapsed": false,
     "input": [
      "assert 0 < age < 100"
     ],
     "language": "python",
     "metadata": {},
     "outputs": [],
     "prompt_number": 18
    },
    {
     "cell_type": "code",
     "collapsed": false,
     "input": [
      "age = -1"
     ],
     "language": "python",
     "metadata": {},
     "outputs": [],
     "prompt_number": 19
    },
    {
     "cell_type": "code",
     "collapsed": false,
     "input": [
      "assert 0 < age <100"
     ],
     "language": "python",
     "metadata": {},
     "outputs": [
      {
       "ename": "AssertionError",
       "evalue": "",
       "output_type": "pyerr",
       "traceback": [
        "\u001b[0;31m---------------------------------------------------------------------------\u001b[0m\n\u001b[0;31mAssertionError\u001b[0m                            Traceback (most recent call last)",
        "\u001b[0;32m<ipython-input-20-84c973b9468c>\u001b[0m in \u001b[0;36m<module>\u001b[0;34m()\u001b[0m\n\u001b[0;32m----> 1\u001b[0;31m \u001b[0;32massert\u001b[0m \u001b[0;36m0\u001b[0m \u001b[0;34m<\u001b[0m \u001b[0mage\u001b[0m \u001b[0;34m<\u001b[0m\u001b[0;36m100\u001b[0m\u001b[0;34m\u001b[0m\u001b[0m\n\u001b[0m",
        "\u001b[0;31mAssertionError\u001b[0m: "
       ]
      }
     ],
     "prompt_number": 20
    },
    {
     "cell_type": "code",
     "collapsed": false,
     "input": [],
     "language": "python",
     "metadata": {},
     "outputs": []
    }
   ],
   "metadata": {}
  }
 ]
}