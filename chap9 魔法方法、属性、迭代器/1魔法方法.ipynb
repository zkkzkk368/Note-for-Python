{
 "metadata": {
  "name": "",
  "signature": "sha256:aeb2e8f03c156f9df257f8e19152b7e7004512647dd78693fed50686aa02291a"
 },
 "nbformat": 3,
 "nbformat_minor": 0,
 "worksheets": [
  {
   "cells": [
    {
     "cell_type": "markdown",
     "metadata": {},
     "source": [
      "###\u6784\u9020\u65b9\u6cd5  \n",
      "\u5f53\u4e00\u4e2a\u5bf9\u8c61\u521b\u5efa\u65f6\uff0c\u4f1a\u81ea\u52a8\u8c03\u7528\u6784\u9020\u65b9\u6cd5"
     ]
    },
    {
     "cell_type": "code",
     "collapsed": false,
     "input": [
      "class FooBar:\n",
      "    def __init__(self):           #\u521b\u5efa\u4e00\u4e2a\u540d\u4e3a__init__\u7684\u65b9\u6cd5\uff0c\u5b83\u4f1a\u81ea\u52a8\u6210\u4e3a\u6784\u9020\u65b9\u6cd5\n",
      "        self.somevar = 42"
     ],
     "language": "python",
     "metadata": {},
     "outputs": [],
     "prompt_number": 4
    },
    {
     "cell_type": "code",
     "collapsed": false,
     "input": [
      "f  = FooBar()"
     ],
     "language": "python",
     "metadata": {},
     "outputs": [],
     "prompt_number": 5
    },
    {
     "cell_type": "code",
     "collapsed": false,
     "input": [
      "f.somevar"
     ],
     "language": "python",
     "metadata": {},
     "outputs": [
      {
       "metadata": {},
       "output_type": "pyout",
       "prompt_number": 6,
       "text": [
        "42"
       ]
      }
     ],
     "prompt_number": 6
    },
    {
     "cell_type": "code",
     "collapsed": false,
     "input": [
      "#\u5176\u5b9e\uff0c\u8fd9\u4e2a\u65b9\u6cd5\u8fd8\u80fd\u52a0\u5165\u53c2\u6570\n",
      "class FooBar2:\n",
      "    def __init__(self, value = 42):\n",
      "        self.somevar = value"
     ],
     "language": "python",
     "metadata": {},
     "outputs": [],
     "prompt_number": 7
    },
    {
     "cell_type": "code",
     "collapsed": false,
     "input": [
      "f1 = FooBar()"
     ],
     "language": "python",
     "metadata": {},
     "outputs": [],
     "prompt_number": 8
    },
    {
     "cell_type": "code",
     "collapsed": false,
     "input": [
      "f1.somevar"
     ],
     "language": "python",
     "metadata": {},
     "outputs": [
      {
       "metadata": {},
       "output_type": "pyout",
       "prompt_number": 10,
       "text": [
        "42"
       ]
      }
     ],
     "prompt_number": 10
    },
    {
     "cell_type": "code",
     "collapsed": false,
     "input": [
      "#\u600e\u4e48\u7ed9\u51favalue\u7684\u503c\u5462\uff1f\u76f4\u63a5\u5728\u7c7b\u540d\u7684\u62ec\u53f7\u5185\u7ed9\u51fa\u5c31\u53ef\u4ee5\u4e86\n",
      "f2 = FooBar2(24)"
     ],
     "language": "python",
     "metadata": {},
     "outputs": [],
     "prompt_number": 12
    },
    {
     "cell_type": "code",
     "collapsed": false,
     "input": [
      "f2.somevar"
     ],
     "language": "python",
     "metadata": {},
     "outputs": [
      {
       "metadata": {},
       "output_type": "pyout",
       "prompt_number": 13,
       "text": [
        "24"
       ]
      }
     ],
     "prompt_number": 13
    },
    {
     "cell_type": "markdown",
     "metadata": {},
     "source": [
      "**\u4e0e__init__\u76f8\u5bf9\u7684\u8fd8\u6709\u4e00\u4e2a__del__\u65b9\u6cd5**  \n",
      "**\u5b83\u5728\u5bf9\u8c61\u8981\u88ab\u5783\u573e\u56de\u6536\u4e4b\u524d\u8c03\u7528\uff0c\u5177\u4f53\u65f6\u95f4\u662f\u4e0d\u53ef\u9884\u6599\u7684\uff0c\u5e94\u8be5\u5c3d\u91cf\u907f\u514d**"
     ]
    },
    {
     "cell_type": "markdown",
     "metadata": {},
     "source": [
      "###\u6784\u9020\u65b9\u6cd5\u91cd\u5199\u95ee\u9898  \n",
      "\u5047\u8bbe\u5b58\u5728\u4e00\u4e2a\u7c7bA\u548c\u5b83\u7684\u5b50\u7c7bB\uff0c\u4e24\u4e2a\u7c7b\u90fd\u5199\u6709\u5404\u81ea\u7684\u6784\u9020\u65b9\u6cd5  \n",
      "\u90a3\u4e48B\u7684\u6784\u9020\u65b9\u6cd5\u5c31\u4f1a\u88ab\u91cd\u5199\u800c\u8986\u76d6\u6389A\u7684\u6784\u9020\u65b9\u6cd5  \n",
      "\u90a3\u4e48\u521d\u59cb\u5316\u7684\u65f6\u5019\u5e76\u6ca1\u6709\u7ee7\u627f\u8d85\u7c7b\u7684\u521d\u59cb\u5316  \n",
      "\u800c\u5f80\u5f80\u6211\u4eec\u53c8\u9700\u8981\u5b83\u7ee7\u627f\u8d85\u7c7b\u7684\u521d\u59cb\u5316\uff0c\u7136\u540e\u81ea\u5df1\u6dfb\u52a0\u9700\u8981\u7684\u65b0\u7684\u521d\u59cb\u5316  \n",
      "\u8fd9\u65f6\u5019\u53ef\u4ee5\u901a\u8fc7\u4e24\u4e2a\u65b9\u6cd5\u89e3\u51b3\u2014\u2014\u8c03\u7528\u8d85\u7c7b\u6784\u9020\u65b9\u6cd5\u7684\u672a\u7ed1\u5b9a\u7248\u672c\u3001\u4f7f\u7528super\u51fd\u6570"
     ]
    },
    {
     "cell_type": "code",
     "collapsed": false,
     "input": [
      "class Bird:\n",
      "    def __init__(self):\n",
      "        self.hungry = True\n",
      "    def eat(self):\n",
      "        if self.hungry:\n",
      "            print 'Ahhhh......'\n",
      "            self.hungry = False\n",
      "        else:\n",
      "            print 'No, thanks!'\n",
      "#\u5b9a\u4e49\u4e00\u4e2a\u57fa\u7c7bBird\uff0c\u5b83\u4f1a\u81ea\u52a8\u521d\u59cb\u5316\u4e3ahungry\uff0c\u5b83\u6709\u4e00\u4e2a\u65b9\u6cd5eat\uff0c\u4f1a\u5224\u65ad\u81ea\u5df1\u662f\u5426hungry\u6765\u9009\u62e9\u884c\u4e3a"
     ],
     "language": "python",
     "metadata": {},
     "outputs": [],
     "prompt_number": 16
    },
    {
     "cell_type": "markdown",
     "metadata": {},
     "source": [
      "####\u8c03\u7528\u8d85\u7c7b\u6784\u9020\u65b9\u6cd5\u7684\u672a\u7ed1\u5b9a\u7248\u672c  \n",
      "\u4e3b\u8981\u7528\u4e8e\u65e7\u5f0f\u7c7b\uff0c\u770b\u61c2\u5c31\u597d  \n",
      "\u4e00\u822c\u5728\u8c03\u7528\u4e00\u4e2a\u5b9e\u4f8b\u65f6\uff0cself\u4f1a\u81ea\u52a8\u7ed1\u5b9a\u5230\u5b9e\u4f8b\u81ea\u8eab\uff0c\u79f0\u4e3a\u7ed1\u5b9a\u65b9\u6cd5  \n",
      "\u4f46\u662f\u6211\u4eec\u4e5f\u53ef\u4ee5\u624b\u52a8\u7ed9\u51faself\u7684\u503c\uff0c\u79f0\u4e3a\u672a\u7ed1\u5b9a\uff08unbound\uff09\u65b9\u6cd5"
     ]
    },
    {
     "cell_type": "code",
     "collapsed": false,
     "input": [
      "class SongBird(Bird):\n",
      "    def __init__(self):\n",
      "        Bird.__init__(self)     #\u5982\u679c\u53bb\u6389\u8fd9\u884c\uff0c\u90a3\u4e48\u7531\u4e8e__init__\u65b9\u6cd5\u7684\u91cd\u5199\uff0c\u5e76\u4e0d\u4f1a\u6267\u884cself.hungry = True\n",
      "        #\u8d85\u7c7b.__init__(self)\n",
      "        self.sound = 'Squawk'\n",
      "    def sing(self):\n",
      "        print self.sound\n",
      "#\u5b9a\u4e49\u4e00\u4e2aBird\u7684\u5b50\u7c7bSongBird\uff0c\u5b83\u4f1a\u7ee7\u627f\u8d85\u7c7b\u7684\u521d\u59cb\u5316\uff0c\u5e76\u4e14\u6dfb\u52a0\u4e0a\u81ea\u5df1\u7684\u521d\u59cb\u5316sound\uff0c\u5e76\u4e14\u5177\u6709\u65b9\u6cd5sing\n",
      "#\u6ce8\u610f\u7b2c\u4e09\u884c\u4ee3\u7801"
     ],
     "language": "python",
     "metadata": {},
     "outputs": [],
     "prompt_number": 20
    },
    {
     "cell_type": "markdown",
     "metadata": {},
     "source": [
      "**\u6ce8\u610f\u7b2c\u4e09\u884cself\uff0c\u5b83\u4e0d\u662fBird\u81ea\u8eab\uff0c\u800c\u662fSongBird\uff08\u7684\u5b9e\u4f8b\uff09**"
     ]
    },
    {
     "cell_type": "markdown",
     "metadata": {},
     "source": [
      "####\u4f7f\u7528super\u51fd\u6570  \n",
      "\u53ea\u80fd\u7528\u4e8e\u65b0\u5f0f\u7c7b\uff08\u5fc5\u987b\u5728\u6a21\u5757\u6216\u8005\u7a0b\u5e8f\u7684\u5f00\u5934\u52a0\u5165\u8d4b\u503c\u8bed\u53e5\u201c\\_\\_metaclass\\_\\_=type\u201d\uff09\uff0c\u8981\u638c\u63e1  \n",
      "\u4f18\u70b9\u2014\u2014  \n",
      "1. \u76f4\u89c2\n",
      "2. \u667a\u80fd\uff0c\u53ef\u4ee5\u7ee7\u627f\u8d85\u7c7b\u7684\u8d85\u7c7b\uff08\u4f46\u662f\u8981\u786e\u4fdd\u8d85\u7c7b\u4e5f\u4f7f\u7528\u4e86super\u51fd\u6570\uff09  \n",
      "*\u5982\u679c\u4f60\u53ea\u60f3\u7ee7\u627f\u8d85\u7c7b\uff0c\u800c\u4e0d\u60f3\u7ee7\u627f\u8d85\u7c7b\u7684\u8d85\u7c7b\uff0c\u62ff\u8fd8\u662f\u4f7f\u7528\u65e7\u5f0f\u7c7b\u7684\u65b9\u6cd5\u5427*  \n",
      "**\u5176\u539f\u7406\u6bd4\u8f83\u590d\u6742\uff0c\u65e0\u9700\u7ec6\u7a76\uff0c\u4f1a\u7528\u5c31\u597d**"
     ]
    },
    {
     "cell_type": "code",
     "collapsed": false,
     "input": [
      "class SongBird(Bird):\n",
      "    def __init__(self):\n",
      "        super(SongBird, self).__init__()        #\u628a\u7b2c\u4e09\u884c\u6539\u6210\u8fd9\u6837\n",
      "        #super(\u5b50\u7c7b,self).__init__()\n",
      "        self.sound = 'Squawk'\n",
      "    def sing(self):\n",
      "        print self.sound"
     ],
     "language": "python",
     "metadata": {},
     "outputs": [],
     "prompt_number": 19
    },
    {
     "cell_type": "markdown",
     "metadata": {},
     "source": [
      "###\u5e38\u89c1\u9b54\u6cd5\u65b9\u6cd5\u2014\u2014\u521b\u5efa\u884c\u4e3a\u7c7b\u4f3c\u4e0e\u5e8f\u5217\u6216\u6620\u5c04\u7684\u5bf9\u8c61  \n",
      "\u89c4\u5219\uff08protocol\uff09\uff1a\u63cf\u8ff0\u7ba1\u7406\u67d0\u79cd\u5f62\u5f0f\u884c\u4e3a\u7684\u89c4\u5219\uff0c\u8bf4\u660e\u4e86\u5e94\u8be5\u5b9e\u73b0\u4f55\u79cd\u65b9\u6cd5\u4ee5\u53ca\u8fd9\u4e9b\u65b9\u6cd5\u505a\u4ec0\u4e48  \n",
      "**python\u4e2d\u7684\u591a\u6001\u6027\u662f\u57fa\u4e8e\u5bf9\u8c61\u7684\u884c\u4e3a\uff0c\u800c\u4e0d\u662f\u7956\u5148\u7684\u884c\u4e3a**  \n",
      "\u5176\u4ed6\u8bed\u8a00\u4e2d\u5bf9\u8c61\u53ef\u80fd\u88ab\u8981\u6c42\u5c5e\u4e8e\u67d0\u4e2a\u7c7b\uff0c\u6216\u8005\u5b9e\u73b0\u67d0\u4e2a\u501f\u53e3\uff0c\u4f46\u662fpython\u53ea\u8981\u6c42\u5bf9\u8c61\u9075\u5faa\u7ed9\u5b9a\u7684\u89c4\u5219\u5373\u53ef"
     ]
    },
    {
     "cell_type": "markdown",
     "metadata": {},
     "source": [
      "####\u57fa\u672c\u7684\u5e8f\u5217\u548c\u6620\u5c04\u89c4\u5219  \n",
      "\u82e5\u5bf9\u8c61\u53ef\u53d8\uff0c\u90a3\u4e48\u9700\u8981\u4f7f\u7528\u4e24\u4e2a\u9b54\u6cd5\u65b9\u6cd5\uff1b  \n",
      "\u82e5\u5bf9\u8c61\u4e0d\u53ef\u53d8\uff0c\u90a3\u4e48\u9700\u8981\u4f7f\u7528\u56db\u4e2a\u9b54\u6cd5\u65b9\u6cd5  \n",
      "\uff08\u5047\u8bbe\u6211\u4eec\u521b\u5efa\u4e86\u4e00\u4e2a\u7c7b\u4f3c\u5e8f\u5217\u6216\u6620\u5c04\u7684\u5bf9\u8c61a\uff09   \n",
      "* \\_\\_len\\_\\_(self)\uff1a\u8fd4\u56de\u96c6\u5408\u4e2d\u9879\u76ee\u7684\u6570\u91cf  \n",
      "\u5982\u679c\u8be5\u65b9\u6cd5\u8fd4\u56de0\uff0c\u4e14\u6ca1\u6709\u5b9e\u73b0\u91cd\u5199\u8be5\u884c\u4e3a\u7684\\_\\_nonzero\\_\\_\uff0c\u90a3\u4e48\u8fd9\u4e2a\u5bf9\u8c61\u4f1a\u88ab\u4f5c\u4e3aFalse   \n",
      "\u6267\u884c\u8bf8\u5982**len(a)**\u7684\u64cd\u4f5c\u4f1a\u8c03\u7528\u8be5\u65b9\u6cd5  \n",
      "* \\_\\_getitem\\_\\_(self, key)\uff1a\u8fd4\u56de\u6240\u7ed9\u952e\u7684\u5bf9\u5e94\u503c  \n",
      "\u6267\u884c\u8bf8\u5982**a[2]**\u7684\u64cd\u4f5c\u4f1a\u8c03\u7528\u8be5\u65b9\u6cd5  \n",
      "\u5982\u679c\u662f\u5e8f\u5217\uff0c\u952e\u662f\u6574\u65700~n-1\uff1b   \u5982\u679c\u662f\u6620\u5c04\uff0c\u952e\u53ef\u4ee5\u662f\u4efb\u610f\u79cd\u7c7b  \n",
      "* \\_\\_setitem\\_\\_(self, key, value)\uff1a\u6309\u7167\u4e00\u5b9a\u7684\u65b9\u5f0f\u5b58\u50a8key\u548c\u76f8\u5173\u7684value  \n",
      "\u6267\u884c\u8bf8\u5982**a[2] = 2**\u7684\u64cd\u4f5c\u65f6\u4f1a\u8c03\u7528\u8be5\u65b9\u6cd5  \n",
      "* \\_\\_delitem\\_\\_(self, key)\uff1a\u4f7f\u7528del\u8bed\u53e5\u65f6\u4f1a\u88ab\u8c03\u7528\uff0c\u5220\u9664\u5bf9\u8c61  \n",
      "\u6267\u884c\u8bf8\u5982**del a[2]**\u65f6\u4f1a\u8c03\u7528\u8be5\u65b9\u6cd5  \n",
      " \n",
      "* \u9644\u52a0\u8981\u6c42\u2014\u2014  \n",
      "    1. \u5982\u679c\u952e\u662f\u8d1f\u6574\u6570\uff0c\u8868\u793a\u4ece\u672b\u5c3e\u8ba1\u6570  \n",
      "    2. \u5982\u679c\u952e\u662f\u4e0d\u5408\u9002\u7684\u7c7b\u578b\uff0c\u4f1a\u5f15\u53d1TypeError  \n",
      "    3. \u5982\u679c\u5e8f\u5217\u7d22\u5f15\u662f\u6b63\u786e\u7c7b\u578b\uff0c\u4f46\u662f\u8d85\u51fa\u8303\u56f4\uff0c\u4f1a\u5f15\u53d1IndexError"
     ]
    },
    {
     "cell_type": "code",
     "collapsed": false,
     "input": [
      "#\u63a5\u4e0b\u6765\u6211\u4eec\u6765\u6a21\u62df\u65e0\u7a77\u5e8f\u5217\u7684\u76f8\u5173\u64cd\u4f5c  "
     ],
     "language": "python",
     "metadata": {},
     "outputs": [],
     "prompt_number": 22
    },
    {
     "cell_type": "code",
     "collapsed": false,
     "input": [
      "def checkIndex(key):\n",
      "    '''\n",
      "    \u68c0\u67e5\u6240\u7ed9\u7684\u952e\u662f\u5426\u662f\u80fd\u63a5\u53d7\u7684\u7d22\u5f15\n",
      "    \u952e\u5e94\u8be5\u662f\u975e\u8d1f\u6574\u6570\n",
      "    \u5982\u679c\u4e0d\u662f\u6574\u6570\uff0c\u5f15\u53d1TypeError\n",
      "    \u5982\u679c\u662f\u8d1f\u6570\uff0c\u5f15\u53d1IndexError\uff08\u56e0\u4e3a\u8fd9\u662f\u4e00\u4e2a\u65e0\u7a77\u5e8f\u5217\uff09\n",
      "    '''\n",
      "    if not isinstance(key, (int, long)): raise TypeError     #\u5982\u679ckey\u4e0d\u662fint\u6216long\u7c7b\u578b\uff0c\u5f15\u53d1TypeError\n",
      "                      #\u8fd9\u91cc\u4f7f\u7528\u7684isinstance\u51fd\u6570\uff0c\u8fd9\u4e2a\u51fd\u6570\u5e94\u8be5\u907f\u514d\u4f7f\u7528\u7684\uff0c\u4f46\u662f\u4e3a\u4e86\u9075\u5faa\u5e8f\u5217\u7684\u89c4\u5219\uff0c\u6211\u4eec\u4e0d\u5f97\u4e0d\u4f7f\u7528\u5b83\n",
      "    if key < 0: raise IndexError"
     ],
     "language": "python",
     "metadata": {},
     "outputs": [],
     "prompt_number": 23
    },
    {
     "cell_type": "code",
     "collapsed": false,
     "input": [
      "class ArithmeticSequence:\n",
      "    def __init__(self, start = 0, step = 1):\n",
      "        '''\n",
      "        \u521d\u59cb\u5316\u7b97\u672f\u5e8f\u5217\n",
      "        start\uff1a\u5e8f\u5217\u7684\u7b2c\u4e00\u4e2a\u503c\n",
      "        step\uff1a\u6b65\u957f\n",
      "        changed\uff1a\u7528\u6237\u4fee\u6539\u7684\u503c\u7684\u5b57\u5178\n",
      "        '''\n",
      "        self.start = start\n",
      "        self.step = step\n",
      "        self.changed = {}\n",
      "    def __getitem__(self, key):\n",
      "        '\u4f18\u5148\u53bb\u68c0\u67e5\u7528\u6237\u4fee\u6539\u7684\u9879\uff0c\u5426\u5219\u8ba1\u7b97\u5bf9\u5e94\u7684\u503c'\n",
      "        checkIndex(key)\n",
      "        \n",
      "        try:\n",
      "            return self.changed[key]     #\u5c1d\u8bd5\u53bb\u53d6\u8fd9\u4e2a\u503c\n",
      "        except KeyError:    #\u5982\u679c\u952e\u9519\u8bef\n",
      "            return self.start + key * self.step      #\u8fd4\u56de\u8ba1\u7b97\u503c\n",
      "    def __setitem__(self, key, value):\n",
      "        checkIndex(key)\n",
      "        \n",
      "        self.changed[key] = value"
     ],
     "language": "python",
     "metadata": {},
     "outputs": [],
     "prompt_number": 24
    },
    {
     "cell_type": "code",
     "collapsed": false,
     "input": [
      "s = ArithmeticSequence(1, 2)      #\u53c2\u65701,2\u5206\u522b\u4f20\u9012\u7ed9start\u548cstep\u7684\u521d\u59cb\u5316"
     ],
     "language": "python",
     "metadata": {},
     "outputs": [],
     "prompt_number": 25
    },
    {
     "cell_type": "code",
     "collapsed": false,
     "input": [
      "s[4]"
     ],
     "language": "python",
     "metadata": {},
     "outputs": [
      {
       "metadata": {},
       "output_type": "pyout",
       "prompt_number": 27,
       "text": [
        "9"
       ]
      }
     ],
     "prompt_number": 27
    },
    {
     "cell_type": "code",
     "collapsed": false,
     "input": [
      "s[4] = 2"
     ],
     "language": "python",
     "metadata": {},
     "outputs": [],
     "prompt_number": 28
    },
    {
     "cell_type": "code",
     "collapsed": false,
     "input": [
      "s[4]"
     ],
     "language": "python",
     "metadata": {},
     "outputs": [
      {
       "metadata": {},
       "output_type": "pyout",
       "prompt_number": 29,
       "text": [
        "2"
       ]
      }
     ],
     "prompt_number": 29
    },
    {
     "cell_type": "code",
     "collapsed": false,
     "input": [
      "s[5]"
     ],
     "language": "python",
     "metadata": {},
     "outputs": [
      {
       "metadata": {},
       "output_type": "pyout",
       "prompt_number": 30,
       "text": [
        "11"
       ]
      }
     ],
     "prompt_number": 30
    },
    {
     "cell_type": "code",
     "collapsed": false,
     "input": [
      "s.changed"
     ],
     "language": "python",
     "metadata": {},
     "outputs": [
      {
       "metadata": {},
       "output_type": "pyout",
       "prompt_number": 31,
       "text": [
        "{4: 2}"
       ]
      }
     ],
     "prompt_number": 31
    },
    {
     "cell_type": "code",
     "collapsed": false,
     "input": [
      "del s[4]     #\u6211\u4eec\u6ca1\u6709\u7ed9\u51fa__delitem__\u65b9\u6cd5\uff0c\u6240\u4ee5\u4f1a\u62a5\u9519"
     ],
     "language": "python",
     "metadata": {},
     "outputs": [
      {
       "ename": "AttributeError",
       "evalue": "ArithmeticSequence instance has no attribute '__delitem__'",
       "output_type": "pyerr",
       "traceback": [
        "\u001b[0;31m---------------------------------------------------------------------------\u001b[0m\n\u001b[0;31mAttributeError\u001b[0m                            Traceback (most recent call last)",
        "\u001b[0;32m<ipython-input-32-85b7a7e2e37f>\u001b[0m in \u001b[0;36m<module>\u001b[0;34m()\u001b[0m\n\u001b[0;32m----> 1\u001b[0;31m \u001b[0;32mdel\u001b[0m \u001b[0ms\u001b[0m\u001b[0;34m[\u001b[0m\u001b[0;36m4\u001b[0m\u001b[0;34m]\u001b[0m     \u001b[0;31m#\u6211\u4eec\u6ca1\u6709\u7ed9\u51fa__delitem__\u65b9\u6cd5\uff0c\u6240\u4ee5\u4f1a\u62a5\u9519\u001b[0m\u001b[0;34m\u001b[0m\u001b[0m\n\u001b[0m",
        "\u001b[0;31mAttributeError\u001b[0m: ArithmeticSequence instance has no attribute '__delitem__'"
       ]
      }
     ],
     "prompt_number": 32
    },
    {
     "cell_type": "code",
     "collapsed": false,
     "input": [
      "len(s)      #\u6211\u4eec\u6ca1\u6709\u7ed9\u51fa__len__\u65b9\u6cd5\uff0c\u6240\u4ee5\u4e5f\u4f1a\u62a5\u9519"
     ],
     "language": "python",
     "metadata": {},
     "outputs": [
      {
       "ename": "AttributeError",
       "evalue": "ArithmeticSequence instance has no attribute '__len__'",
       "output_type": "pyerr",
       "traceback": [
        "\u001b[0;31m---------------------------------------------------------------------------\u001b[0m\n\u001b[0;31mAttributeError\u001b[0m                            Traceback (most recent call last)",
        "\u001b[0;32m<ipython-input-33-c872e39408df>\u001b[0m in \u001b[0;36m<module>\u001b[0;34m()\u001b[0m\n\u001b[0;32m----> 1\u001b[0;31m \u001b[0mlen\u001b[0m\u001b[0;34m(\u001b[0m\u001b[0ms\u001b[0m\u001b[0;34m)\u001b[0m      \u001b[0;31m#\u6211\u4eec\u6ca1\u6709\u7ed9\u51fa__len__\u65b9\u6cd5\uff0c\u6240\u4ee5\u4e5f\u4f1a\u62a5\u9519\u001b[0m\u001b[0;34m\u001b[0m\u001b[0m\n\u001b[0m",
        "\u001b[0;31mAttributeError\u001b[0m: ArithmeticSequence instance has no attribute '__len__'"
       ]
      }
     ],
     "prompt_number": 33
    },
    {
     "cell_type": "markdown",
     "metadata": {},
     "source": [
      "###\u5b50\u7c7b\u5316\u5217\u8868\uff0c\u5b57\u5178\uff0c\u5b57\u7b26\u4e32  \n",
      "\u5982\u679c\u6211\u4eec\u8981\u5199\u4e00\u4e2a\u7c7b\uff0c\u5b83\u5177\u6709\u5217\u8868\u7684\u5927\u90e8\u5206\u529f\u80fd\uff0c\u4f46\u662f\u53c8\u8981\u4fee\u6539\u4e00\u90e8\u5206\u529f\u80fd  \n",
      "\u5c31\u53ef\u4ee5\u628a\u8fd9\u4e2a\u7c7b\uff0c\u4f5c\u4e3alist\u7c7b\u578b\u7684\u5b50\u7c7b\uff0c\u7136\u540e\u91cd\u5199\u4f60\u6240\u9700\u8981\u4fee\u6539\u7684\u65b9\u6cd5\uff08\u8fd9\u4e2a\u884c\u4e3a\u79f0\u4e3a\u5b50\u7c7b\u5316\uff09  \n",
      "\u76f8\u5e94\u7684\u5b57\u5178\u7684\u7c7b\u578b\u662fdict\uff0c\u5b57\u7b26\u4e32\u7684\u7c7b\u578b\u662fstring"
     ]
    },
    {
     "cell_type": "code",
     "collapsed": false,
     "input": [],
     "language": "python",
     "metadata": {},
     "outputs": []
    }
   ],
   "metadata": {}
  }
 ]
}