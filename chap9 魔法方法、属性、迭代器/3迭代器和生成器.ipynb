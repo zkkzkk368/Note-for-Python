{
 "metadata": {
  "name": "",
  "signature": "sha256:55e632ab4c52a697e71e2672efce17d670707689e02666db0433fb54a066d01d"
 },
 "nbformat": 3,
 "nbformat_minor": 0,
 "worksheets": [
  {
   "cells": [
    {
     "cell_type": "markdown",
     "metadata": {},
     "source": [
      "###\u8fed\u4ee3\u5668\uff08iterator\uff09  \n",
      "\u91cd\u590d\u505a\u591a\u6b21\u4e8b\u60c5  \n",
      "* \u8fed\u4ee3\u5668\u5fc5\u987b\u8981\u6709\\_\\_next\\_\\_\u65b9\u6cd5\uff08python2\u4e3anext\u65b9\u6cd5\uff09  \n",
      "    \u3010python3\u53ef\u4ee5\u901a\u8fc7next\u51fd\u6570\u8bbf\u95ee\\_\\_next\\_\\_\u65b9\u6cd5\u3011  \n",
      "    \u8be5\u65b9\u6cd5\u4f1a\u8fd4\u56de\u8fed\u4ee3\u5668\u7684\u4e0b\u4e00\u4e2a\u503c\uff1b\u82e5\u6ca1\u6709\u8fd4\u56de\u503c\u6216\u8005\u6ca1\u6709\u503c\u80fd\u8fd4\u56de\u4e86\uff0c\u4f1a\u4ea7\u751fStopIteration\u5f02\u5e38  \n",
      "* \u5b9e\u73b0\u8fed\u4ee3\u5c31\u8c03\u7528\u5bf9\u8c61\u7684\\_\\_iter\\_\\_\u65b9\u6cd5  \n",
      "* \u5217\u8868\u8fed\u4ee3\u5668\u7684\u7f3a\u70b9\u2014\u2014  \n",
      "    \u5fc5\u987b\u4e00\u6b21\u6027\u628a\u6240\u6709\u503c\u90fd\u8ba1\u7b97\u51fa\u6765\uff08\u8003\u8651range()\u548cxrange()\uff09  \n",
      "    \u4e0d\u9002\u7528\u4e8e\u65e0\u7a77\u5143\u7d20\u7684\u60c5\u51b5  \n",
      "* \u53ef\u8fed\u4ee3  \u548c  \u8fed\u4ee3\u5668  \n",
      "    \u5b9e\u73b0\u4e86\\_\\_iter\\_\\_\u65b9\u6cd5\u7684\u5bf9\u8c61\u662f\u53ef\u8fed\u4ee3\u7684  \n",
      "    \u5b9e\u73b0\u4e86\\_\\_next\\_\\_\u65b9\u6cd5\u7684\u5bf9\u8c61\u662f\u8fed\u4ee3\u5668"
     ]
    },
    {
     "cell_type": "code",
     "collapsed": false,
     "input": [
      "#\u88f4\u6ce2\u90a3\u5951\u6570\u5217\uff0c\u6bcf\u4e2a\u6570\u662f\u524d\u4e24\u4e2a\u6570\u7684\u548c\n",
      "class Fibs():\n",
      "    def __init__(self):\n",
      "        self.a = 0\n",
      "        self.b = 1\n",
      "    def next(self):            #\u8fd4\u56de\u8fed\u4ee3\u5668\u7684\u4e0b\u4e00\u4e2a\u503c\n",
      "        self.a, self.b = self.b, self.a + self.b\n",
      "        return self.a\n",
      "    def __iter__(self):             #\u8fed\u4ee3\uff0c\u8fd4\u56deself\n",
      "        return self"
     ],
     "language": "python",
     "metadata": {},
     "outputs": [],
     "prompt_number": 4
    },
    {
     "cell_type": "code",
     "collapsed": false,
     "input": [
      "fibs = Fibs()"
     ],
     "language": "python",
     "metadata": {},
     "outputs": [],
     "prompt_number": 5
    },
    {
     "cell_type": "code",
     "collapsed": false,
     "input": [
      "for f in fibs:\n",
      "    if f > 1000:\n",
      "        print f\n",
      "        break"
     ],
     "language": "python",
     "metadata": {},
     "outputs": [
      {
       "output_type": "stream",
       "stream": "stdout",
       "text": [
        "1597\n"
       ]
      }
     ],
     "prompt_number": 6
    },
    {
     "cell_type": "code",
     "collapsed": false,
     "input": [
      "#\u53ef\u4ee5\u901a\u8fc7iter\u51fd\u6570\u4ece\u53ef\u8fed\u4ee3\u7684\u5bf9\u8c61\u83b7\u53d6\u8fed\u4ee3\u5668\n",
      "it = iter([1,3,7])"
     ],
     "language": "python",
     "metadata": {},
     "outputs": [],
     "prompt_number": 7
    },
    {
     "cell_type": "code",
     "collapsed": false,
     "input": [
      "it.next()"
     ],
     "language": "python",
     "metadata": {},
     "outputs": [
      {
       "metadata": {},
       "output_type": "pyout",
       "prompt_number": 8,
       "text": [
        "1"
       ]
      }
     ],
     "prompt_number": 8
    },
    {
     "cell_type": "code",
     "collapsed": false,
     "input": [
      "it.next()"
     ],
     "language": "python",
     "metadata": {},
     "outputs": [
      {
       "metadata": {},
       "output_type": "pyout",
       "prompt_number": 9,
       "text": [
        "3"
       ]
      }
     ],
     "prompt_number": 9
    },
    {
     "cell_type": "code",
     "collapsed": false,
     "input": [
      "it.next()"
     ],
     "language": "python",
     "metadata": {},
     "outputs": [
      {
       "metadata": {},
       "output_type": "pyout",
       "prompt_number": 10,
       "text": [
        "7"
       ]
      }
     ],
     "prompt_number": 10
    },
    {
     "cell_type": "code",
     "collapsed": false,
     "input": [
      "it.next()         #\u5df2\u7ecf\u6ca1\u6709\u503c\u53ef\u4ee5\u8fd4\u56de\u4e86"
     ],
     "language": "python",
     "metadata": {},
     "outputs": [
      {
       "ename": "StopIteration",
       "evalue": "",
       "output_type": "pyerr",
       "traceback": [
        "\u001b[0;31m---------------------------------------------------------------------------\u001b[0m\n\u001b[0;31mStopIteration\u001b[0m                             Traceback (most recent call last)",
        "\u001b[0;32m<ipython-input-11-54f0920595b2>\u001b[0m in \u001b[0;36m<module>\u001b[0;34m()\u001b[0m\n\u001b[0;32m----> 1\u001b[0;31m \u001b[0mit\u001b[0m\u001b[0;34m.\u001b[0m\u001b[0mnext\u001b[0m\u001b[0;34m(\u001b[0m\u001b[0;34m)\u001b[0m\u001b[0;34m\u001b[0m\u001b[0m\n\u001b[0m",
        "\u001b[0;31mStopIteration\u001b[0m: "
       ]
      }
     ],
     "prompt_number": 11
    },
    {
     "cell_type": "code",
     "collapsed": false,
     "input": [
      "#\u4ece\u8fed\u4ee3\u5668\u83b7\u5f97\u5e8f\u5217"
     ],
     "language": "python",
     "metadata": {},
     "outputs": [],
     "prompt_number": 12
    },
    {
     "cell_type": "code",
     "collapsed": false,
     "input": [
      "class Fibs():\n",
      "    def __init__(self):\n",
      "        self.a = 0\n",
      "        self.b = 1\n",
      "    def next(self):\n",
      "        self.a, self.b = self.b, self.a + self.b\n",
      "        if self.a > 1000:                       #\u6784\u9020\u4e00\u4e2a1000\u4ee5\u5185\u7684\u88f4\u6ce2\u90a3\u5951\u5e8f\u5217\n",
      "            raise StopIteration             #\u5e8f\u5217\u5143\u7d20\u5fc5\u987b\u662f\u6709\u7a77\u7684\uff0c\u5f15\u53d1\u5f02\u5e38StopIteration\u5373\u53ef\u7ec8\u6b62\u8fed\u4ee3\n",
      "        else:\n",
      "            return self.a\n",
      "    def __iter__(self):\n",
      "        return self"
     ],
     "language": "python",
     "metadata": {},
     "outputs": [],
     "prompt_number": 16
    },
    {
     "cell_type": "code",
     "collapsed": false,
     "input": [
      "fib = Fibs()      #\u83b7\u53d6\u4e00\u4e2a\u8fed\u4ee3\u5668"
     ],
     "language": "python",
     "metadata": {},
     "outputs": [],
     "prompt_number": 17
    },
    {
     "cell_type": "code",
     "collapsed": false,
     "input": [
      "list(fib)       #\u901a\u8fc7list\u51fd\u6570\u663e\u793a\u5730\u628a\u8fed\u4ee3\u5668\u6784\u9020\u4e3a\u5217\u8868"
     ],
     "language": "python",
     "metadata": {},
     "outputs": [
      {
       "metadata": {},
       "output_type": "pyout",
       "prompt_number": 18,
       "text": [
        "[1, 1, 2, 3, 5, 8, 13, 21, 34, 55, 89, 144, 233, 377, 610, 987]"
       ]
      }
     ],
     "prompt_number": 18
    },
    {
     "cell_type": "markdown",
     "metadata": {},
     "source": [
      "###\u751f\u6210\u5668\uff08\u7b80\u5355\u751f\u6210\u5668\uff09  \n",
      "\u4efb\u4f55\u5305\u542byield\u8bed\u53e5\u7684\u51fd\u6570\u90fd\u53eb\u751f\u6210\u5668  \n",
      "yield\u8bed\u53e5\u4ea7\u751f\u4e00\u4e2a\u503c\uff0c\u5e76\u4e14\u4f7f\u51fd\u6570\u6682\u505c\uff0c\u7b49\u5f85\u4e0b\u4e00\u6b21\u5524\u9192\uff08\u518d\u6b21\u8c03\u7528\uff09  \n",
      "####\u521b\u5efa\u751f\u6210\u5668"
     ]
    },
    {
     "cell_type": "code",
     "collapsed": false,
     "input": [
      "nested = [[1,2], [3,4], [5]]"
     ],
     "language": "python",
     "metadata": {},
     "outputs": [],
     "prompt_number": 24
    },
    {
     "cell_type": "code",
     "collapsed": false,
     "input": [
      "def flatten(nested):\n",
      "    for sublist in nested:       #\u8fed\u4ee3\u5217\u8868\u4e2d\u7684\u5217\u8868\n",
      "        for element in sublist:        #\u8fed\u4ee3\u6700\u91cc\u5c42\u7684\u5143\u7d20\n",
      "            yield element        #\u4ea7\u751f\u4e00\u4e2aelement\u503c\u5e76\u4e14\u6682\u505c\uff0c\u7b49\u5230\u4e0b\u4e00\u6b21\u5524\u9192\u4f1a\u4ece\u539f\u5904\u7ee7\u7eed\u6267\u884c"
     ],
     "language": "python",
     "metadata": {},
     "outputs": [],
     "prompt_number": 25
    },
    {
     "cell_type": "code",
     "collapsed": false,
     "input": [
      "for num in flatten(nested):      #\u628a\u751f\u6210\u5668\u62ff\u6765\u8fed\u4ee3\u4f7f\u7528\n",
      "    print num"
     ],
     "language": "python",
     "metadata": {},
     "outputs": [
      {
       "output_type": "stream",
       "stream": "stdout",
       "text": [
        "1\n",
        "2\n",
        "3\n",
        "4\n",
        "5\n"
       ]
      }
     ],
     "prompt_number": 26
    },
    {
     "cell_type": "code",
     "collapsed": false,
     "input": [
      "#\u628a\u751f\u6210\u5668\u8f6c\u6362\u4e3a\u5217\u8868 \n",
      "list(flatten(nested))"
     ],
     "language": "python",
     "metadata": {},
     "outputs": [
      {
       "metadata": {},
       "output_type": "pyout",
       "prompt_number": 27,
       "text": [
        "[1, 2, 3, 4, 5]"
       ]
      }
     ],
     "prompt_number": 27
    },
    {
     "cell_type": "markdown",
     "metadata": {},
     "source": [
      "####\u751f\u6210\u5668\u63a8\u5bfc\u5f0f  \n",
      "\u5217\u8868\u63a8\u5bfc\u5f0f\u53ef\u4ee5\u5f97\u5230\u4e00\u4e2a\u5217\u8868\uff08\u4e00\u6b21\u6027\u5217\u51fa\uff09  \n",
      "\u751f\u6210\u5668\u63a8\u5bfc\u5f0f\u53ef\u4ee5\u5f97\u5230\u4e00\u4e2a\u751f\u6210\u5668\uff08\u4e00\u4e2a\u4e00\u4e2a\u5217\u51fa\uff09  \n",
      "\u4e24\u8005\u7684\u5173\u7cfb\u7c7b\u4f3c\u4e0erange()\u548cxrange()\u7684\u5173\u7cfb"
     ]
    },
    {
     "cell_type": "code",
     "collapsed": false,
     "input": [
      "g = ( (x, y, x * y) for x in range(1,9) for y in range(1, 9) )      #\u4ea7\u751f\u4e00\u4e2a\u751f\u6210\u4e5d\u4e5d\u4e58\u6cd5\u8868\u7684\u751f\u6210\u5668"
     ],
     "language": "python",
     "metadata": {},
     "outputs": [],
     "prompt_number": 28
    },
    {
     "cell_type": "code",
     "collapsed": false,
     "input": [
      "g.next()       #\u548c\u8fed\u4ee3\u5668\u4e00\u6837\uff0c\u6709next\u65b9\u6cd5"
     ],
     "language": "python",
     "metadata": {},
     "outputs": [
      {
       "metadata": {},
       "output_type": "pyout",
       "prompt_number": 29,
       "text": [
        "(1, 1, 1)"
       ]
      }
     ],
     "prompt_number": 29
    },
    {
     "cell_type": "code",
     "collapsed": false,
     "input": [
      "g.next()"
     ],
     "language": "python",
     "metadata": {},
     "outputs": [
      {
       "metadata": {},
       "output_type": "pyout",
       "prompt_number": 30,
       "text": [
        "(1, 2, 2)"
       ]
      }
     ],
     "prompt_number": 30
    },
    {
     "cell_type": "code",
     "collapsed": false,
     "input": [
      "#\u751f\u6210\u5668\u63a8\u5bfc\u5f0f\u4e0d\u4e00\u5b9a\u8981\u6709\u72ec\u7acb\u7684\u5706\u62ec\u53f7\u62ec\u8d77\u6765\uff0c\u53ea\u8981\u4e24\u8fb9\u662f\u5706\u62ec\u53f7\uff0c\u5373\u4f7f\u4e0d\u662f\u81ea\u5df1\u7684\uff0c\u4e5f\u80fd\u5b9e\u73b0\n",
      "sum(i ** 2 for i in range(10))      #\u8fd9\u91cc\u4e24\u8fb9\u7684\u62ec\u53f7\u662f\u5c5e\u6027\u6c42\u548c\u51fd\u6570sum\u7684\n",
      "                                                      #\u8fd9\u91cc\u8868\u793a\u6c4210\u4ee5\u5185\u7684\u5e73\u65b9\u548c"
     ],
     "language": "python",
     "metadata": {},
     "outputs": [
      {
       "metadata": {},
       "output_type": "pyout",
       "prompt_number": 31,
       "text": [
        "285"
       ]
      }
     ],
     "prompt_number": 31
    },
    {
     "cell_type": "markdown",
     "metadata": {},
     "source": [
      "####\u9012\u5f52\u751f\u6210\u5668"
     ]
    },
    {
     "cell_type": "code",
     "collapsed": false,
     "input": [
      "nested = [[1,2,3],4,[ [5,6],7 ],8]        #\u6709\u4efb\u610f\u5c42\u5d4c\u5957\u7684\u5217\u8868"
     ],
     "language": "python",
     "metadata": {},
     "outputs": [],
     "prompt_number": 1
    },
    {
     "cell_type": "code",
     "collapsed": false,
     "input": [
      "def flatten(nested):\n",
      "    try:\n",
      "        for sublist in nested:\n",
      "            for element in flatten(sublist):     #\u5d4c\u5957\n",
      "                yield element\n",
      "    except TypeError:          #\u6700\u91cc\u5c42\u7684\u9012\u5f52\u5728\u6267\u884c\u7b2c\u4e09\u884c\u65f6\uff0cnested\u53c2\u6570\u5df2\u7ecf\u662f\u5143\u7d20\uff0c\u4e0d\u53ef\u8fed\u4ee3\n",
      "        yield nested\n",
      "#\u5b57\u7b26\u4e32\u7b49\u5bf9\u8c61\uff08\u5b57\u7b26\u4e32\u3001Unicode\u3001UserString\u7b49\uff09\u4e0d\u9002\u5408\u8fed\u4ee3\uff0c\u6b64\u5904\u65e0\u6cd5\u5904\u7406\u5b57\u7b26\u4e32\u7b49\u5bf9\u8c61"
     ],
     "language": "python",
     "metadata": {},
     "outputs": [],
     "prompt_number": 2
    },
    {
     "cell_type": "code",
     "collapsed": false,
     "input": [
      "list( flatten(nested) )"
     ],
     "language": "python",
     "metadata": {},
     "outputs": [
      {
       "metadata": {},
       "output_type": "pyout",
       "prompt_number": 3,
       "text": [
        "[1, 2, 3, 4, 5, 6, 7, 8]"
       ]
      }
     ],
     "prompt_number": 3
    },
    {
     "cell_type": "code",
     "collapsed": false,
     "input": [
      "#\u56e0\u4e3a\u5b57\u7b26\u4e32\u7b49\u5bf9\u8c61\u4e0d\u9002\u5408\u8fed\u4ee3\uff0c\u6240\u4ee5\u6211\u4eec\u5e94\u5f53\u52a0\u5165\u4e00\u6bb5\u68c0\u67e5\u8bed\u53e5\n",
      "def flatten(nested):\n",
      "    try:\n",
      "        #\u68c0\u67e5\u662f\u5426\u4e3a\u5b57\u7b26\u4e32\u7b49\u5bf9\u8c61\n",
      "        try:\n",
      "            nested + ''        #\u5c1d\u8bd5\u5b57\u7b26\u4e32\u8fde\u63a5\n",
      "        except TypeError:\n",
      "            pass\n",
      "        else:\n",
      "            raise TypeError            #\u5982\u679c\u6210\u529f\u8fde\u63a5\u4e86\uff0c\u8bf4\u660enested\u662f\u7c7b\u4f3c\u5b57\u7b26\u4e32\u7684\u5bf9\u8c61\uff0c\u5f15\u8d77TypeError\uff0c\u8df3\u8f6c\u5230\u6700\u540e\u4e00\u884c\u76f4\u63a5\u751f\u6210\u5b57\u7b26\u4e32\n",
      "        \n",
      "        for sublist in nested:\n",
      "            for element in flatten(sublist):\n",
      "                yield element\n",
      "    except TypeError:\n",
      "        yield nested"
     ],
     "language": "python",
     "metadata": {},
     "outputs": [],
     "prompt_number": 4
    },
    {
     "cell_type": "code",
     "collapsed": false,
     "input": [
      "list( flatten(['aaaa', 'bbbb', [1,2,3], [[4,5],6],7]) )"
     ],
     "language": "python",
     "metadata": {},
     "outputs": [
      {
       "metadata": {},
       "output_type": "pyout",
       "prompt_number": 5,
       "text": [
        "['aaaa', 'bbbb', 1, 2, 3, 4, 5, 6, 7]"
       ]
      }
     ],
     "prompt_number": 5
    },
    {
     "cell_type": "markdown",
     "metadata": {},
     "source": [
      "####\u901a\u7528\u751f\u6210\u5668  \n",
      "\u751f\u6210\u5668\u5305\u62ec\u4e24\u4e2a\u90e8\u5206\u2014\u2014\u751f\u6210\u5668\u7684\u51fd\u6570 \u548c \u751f\u6210\u5668\u7684\u8fed\u4ee3\u5668"
     ]
    },
    {
     "cell_type": "code",
     "collapsed": false,
     "input": [
      "def simple_generator():\n",
      "    yield 1"
     ],
     "language": "python",
     "metadata": {},
     "outputs": [],
     "prompt_number": 6
    },
    {
     "cell_type": "code",
     "collapsed": false,
     "input": [
      "simple_generator        #\u751f\u6210\u5668\u7684\u51fd\u6570"
     ],
     "language": "python",
     "metadata": {},
     "outputs": [
      {
       "metadata": {},
       "output_type": "pyout",
       "prompt_number": 7,
       "text": [
        "<function __main__.simple_generator>"
       ]
      }
     ],
     "prompt_number": 7
    },
    {
     "cell_type": "code",
     "collapsed": false,
     "input": [
      "simple_generator()           #\u751f\u6210\u5668\u7684\u8fed\u4ee3\u5668"
     ],
     "language": "python",
     "metadata": {},
     "outputs": [
      {
       "metadata": {},
       "output_type": "pyout",
       "prompt_number": 8,
       "text": [
        "<generator object simple_generator at 0x7fbaec227cd0>"
       ]
      }
     ],
     "prompt_number": 8
    },
    {
     "cell_type": "markdown",
     "metadata": {},
     "source": [
      "####\u751f\u6210\u5668\u65b9\u6cd5  \n",
      "* send\u65b9\u6cd5\uff1a\u4e0enext\u65b9\u6cd5\u7c7b\u4f3c\uff0c\u4f46\u5b83\u9700\u8981\u4e00\u4e2a\u53c2\u6570\uff0c\u5b83\u53ef\u4ee5\u662f\u4efb\u610f\u5bf9\u8c61\uff0c\u5e76\u4e14\u628a\u8fd9\u4e2a\u5bf9\u8c61\u4f5c\u4e3a\u53c2\u6570\u4f20\u9012\u7ed9\u751f\u6210\u5668\u5e76\u4e14\u8fd4\u56de\u7ed3\u679c  \n",
      "* yield\u8868\u8fbe\u5f0f\uff1ayield\u9664\u4e86\u662f\u8bed\u53e5\u8fd8\u53ef\u4ee5\u662f\u8868\u8fbe\u5f0f\uff0c\u800c\u4e14\u901a\u5e38\u8fd9\u4e2a\u8868\u8fbe\u5f0f\u4e24\u8fb9\u8981\u7528\u5706\u62ec\u53f7\u62ec\u8d77\u6765  \n",
      "    \u5982\u679c\u751f\u6210\u5668\u6302\u8d77\u671f\u95f4\u8c03\u7528\u4e86send\u65b9\u6cd5\uff0c\u90a3\u4e48\u8868\u8fbe\u5f0f\u53d6\u51fa\u7684\u662fsend\u4f20\u9012\u7684\u5bf9\u8c61  \n",
      "    \u5982\u679c\u751f\u6210\u5668\u6302\u8d77\u671f\u95f4\u6ca1\u6709\u8c03\u7528send\u65b9\u6cd5\uff0c\u90a3\u4e48\u8868\u8fbe\u5f0f\u53d6\u51fa\u7684\u662f\u8fed\u4ee3\u5668\u7684\u4e0b\u4e00\u4e2a\u503c\uff08\u8c03\u7528\u4e86next\u65b9\u6cd5\uff09"
     ]
    },
    {
     "cell_type": "code",
     "collapsed": false,
     "input": [
      "def repeater(value):\n",
      "    while True:\n",
      "        new = (yield value)    #yield\u8868\u8fbe\u5f0f\uff0c\u4e24\u8fb9\u6700\u597d\u6709\u5706\u62ec\u53f7\n",
      "        if new is not None: value = new            #\u5982\u679cnew\u53d6\u5230\u7684\u4e0d\u662f\u7a7a\u503c\uff0c\u62ff\u5c31\u628a\u5b83\u8d4b\u7ed9value\u65b9\u4fbf\u4e0b\u4e00\u6b21\u8c03\u7528"
     ],
     "language": "python",
     "metadata": {},
     "outputs": [],
     "prompt_number": 9
    },
    {
     "cell_type": "code",
     "collapsed": false,
     "input": [
      "r = repeater(42)"
     ],
     "language": "python",
     "metadata": {},
     "outputs": [],
     "prompt_number": 10
    },
    {
     "cell_type": "code",
     "collapsed": false,
     "input": [
      "r.next()"
     ],
     "language": "python",
     "metadata": {},
     "outputs": [
      {
       "metadata": {},
       "output_type": "pyout",
       "prompt_number": 11,
       "text": [
        "42"
       ]
      }
     ],
     "prompt_number": 11
    },
    {
     "cell_type": "code",
     "collapsed": false,
     "input": [
      "r.next()"
     ],
     "language": "python",
     "metadata": {},
     "outputs": [
      {
       "metadata": {},
       "output_type": "pyout",
       "prompt_number": 12,
       "text": [
        "42"
       ]
      }
     ],
     "prompt_number": 12
    },
    {
     "cell_type": "code",
     "collapsed": false,
     "input": [
      "r.send('Hello world!')"
     ],
     "language": "python",
     "metadata": {},
     "outputs": [
      {
       "metadata": {},
       "output_type": "pyout",
       "prompt_number": 13,
       "text": [
        "'Hello world!'"
       ]
      }
     ],
     "prompt_number": 13
    },
    {
     "cell_type": "markdown",
     "metadata": {},
     "source": [
      "* throw\u65b9\u6cd5\uff1a\u4f7f\u7528\u5f02\u5e38\u7c7b\u578b\u8c03\u7528\uff0c\u8fd8\u6709\u53ef\u9009\u7684\u503c\u4ee5\u53ca\u56de\u6eaf\u5bf9\u8c61\uff0c\u7528\u4e8e\u5728\u751f\u6210\u5668\u5185\u7684yield\u8868\u8fbe\u5f0f\u4e2d\u5f15\u53d1\u5f02\u5e38  \n",
      "* close\u65b9\u6cd5\uff1a\u65e0\u9700\u53c2\u6570\uff0c\u505c\u6b62\u751f\u6210\u5668  "
     ]
    },
    {
     "cell_type": "markdown",
     "metadata": {},
     "source": [
      "####\u6a21\u62df\u751f\u6210\u5668  \n",
      "\u65e7\u7248python\u5e76\u4e0d\u80fd\u4f7f\u7528\u751f\u6210\u5668\uff0c\u4f46\u6211\u4eec\u53ef\u4ee5\u6a21\u62df\u51fa\u5927\u90e8\u5206\u7684\u751f\u6210\u5668\uff08\u53ea\u80fd\u6709\u7a77\uff09"
     ]
    },
    {
     "cell_type": "code",
     "collapsed": false,
     "input": [
      "#\u6539\u5199flatten\n",
      "def flatten(nested):\n",
      "    result = []           #\u628a\u8fd9\u4e2a\u5217\u8868\u4f5c\u4e3a\u8fed\u4ee3\u5668\n",
      "    try:\n",
      "        try:\n",
      "            nested + ''\n",
      "        except TypeError:\n",
      "            pass\n",
      "        else:\n",
      "            raise TypeError \n",
      "        \n",
      "        for sublist in nested:\n",
      "            for element in flatten(sublist):\n",
      "                result.append(element)              #\u7ed9result\u8ffd\u52a0\u5143\u7d20\u53d6\u4ee3yield\u8bed\u53e5\n",
      "    except TypeError:\n",
      "        result.append(nested)               #\u53d6\u4ee3yield\u8bed\u53e5\n",
      "    return result          #\u628a\u5217\u8868\u4f5c\u4e3a\u7ed3\u679c\u8fd4\u56de"
     ],
     "language": "python",
     "metadata": {},
     "outputs": [],
     "prompt_number": 14
    },
    {
     "cell_type": "code",
     "collapsed": false,
     "input": [],
     "language": "python",
     "metadata": {},
     "outputs": []
    }
   ],
   "metadata": {}
  }
 ]
}