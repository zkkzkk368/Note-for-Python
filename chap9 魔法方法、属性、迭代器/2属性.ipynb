{
 "metadata": {
  "name": "",
  "signature": "sha256:9869f37270ae85bda15a0de05838859d331bfade3aa2d32ddd19bb98928c6a14"
 },
 "nbformat": 3,
 "nbformat_minor": 0,
 "worksheets": [
  {
   "cells": [
    {
     "cell_type": "markdown",
     "metadata": {},
     "source": [
      "###\u8bbf\u95ee\u5668\u65b9\u6cd5\u6765\u8bbe\u7f6e\u3001\u83b7\u53d6\u5bf9\u8c61\u7684\u5c5e\u6027"
     ]
    },
    {
     "cell_type": "markdown",
     "metadata": {},
     "source": [
      "class Rectangle:\n",
      "    def __init__(self):\n",
      "        self.width = 0\n",
      "        self.height = 0\n",
      "    def setSize(self, size):\n",
      "        self.width, self.height = size\n",
      "    def getSzie(self):\n",
      "        return self.width, self.height\n",
      "#\u5bf9\u4e8e\u8fd9\u4e2a\u7c7b\uff0c\u6709width\u548cheight\u4e24\u4e2a\u5c5e\u6027\n",
      "#\u6211\u4eec\u53ef\u4ee5\u901a\u8fc7setSize\u65b9\u6cd5\uff0c\u63a5\u53d7size\u5143\u7ec4\u6765\u7ed9\u8fd9\u4e24\u4e2a\u5c5e\u6027\u8d4b\u503c\n",
      "#\u53ef\u4ee5\u901a\u8fc7getSize\u65b9\u6cd5\uff0c\u4ee5\u5143\u7ec4\u7684\u5f62\u5f0f\u83b7\u53d6\u8fd9\u4e24\u4e2a\u5c5e\u6027"
     ]
    },
    {
     "cell_type": "markdown",
     "metadata": {},
     "source": [
      "**\u4f46\u662f\u6bcf\u4e2a\u64cd\u4f5c\u90fd\u8981\u6709\u4e00\u4e2a\u65b9\u6cd5\u5bf9\u5e94\uff0c\u6709\u6ca1\u6709\u7b80\u5355\u7684\u65b9\u6cd5\u6765\u8bbf\u95ee\u5bf9\u8c61\u7684\u5c5e\u6027\u5462\uff1f**"
     ]
    },
    {
     "cell_type": "markdown",
     "metadata": {},
     "source": [
      "###property\u51fd\u6570\u6765\u64cd\u4f5c\u5bf9\u8c61\u7684\u5c5e\u6027  \n",
      "\u53ea\u80fd\u7528\u4e8e\u65b0\u5f0f\u7c7b  \n",
      "property\u51fd\u6570\u53ef\u4ee5\u63a5\u53d7\u96f6\u4e2a\u3001\u4e00\u4e2a\u3001\u4e09\u4e2a\u3001\u6216\u56db\u4e2a\u53c2\u6570  \n",
      "\u5176\u539f\u578b\u4e3aproperty(fget, fset, fdel, doc)  \n",
      "* fget\u53c2\u6570\u63a5\u53d7\u4e00\u4e2a\u83b7\u53d6\u5c5e\u6027\u7684\u65b9\u6cd5  \n",
      "* fset\u53c2\u6570\u63a5\u53d7\u4e00\u4e2a\u8bbe\u7f6e\u5c5e\u6027\u7684\u65b9\u6cd5  \n",
      "* fdel\u53c2\u6570\u63a5\u53d7\u4e00\u4e2a\u5220\u9664\u5c5e\u6027\u7684\u65b9\u6cd5\n",
      "* doc\u53c2\u6570\u63a5\u53d7\u4e00\u4e2a\u6587\u6863\u5b57\u7b26\u4e32  \n",
      "**\u5982\u679c\u4e0d\u6309\u987a\u5e8f\u7ed9\u51fa\u53c2\u6570\uff0c\u53ef\u4ee5\u91c7\u7528\u5173\u952e\u8bcd\u53c2\u6570**  "
     ]
    },
    {
     "cell_type": "code",
     "collapsed": false,
     "input": [
      "__metaclass__=type"
     ],
     "language": "python",
     "metadata": {},
     "outputs": [],
     "prompt_number": 1
    },
    {
     "cell_type": "code",
     "collapsed": false,
     "input": [
      "class Rectangle:\n",
      "    def __init__(self):\n",
      "        self.width = 0\n",
      "        self.height = 0\n",
      "    def setSize(self, size):\n",
      "        self.width, self.height = size\n",
      "    def getSize(self):\n",
      "        return self.width, self.height\n",
      "    size = property(getSize, setSize)          #\u6ce8\u610f\u8fd9\u884c\u4ee3\u7801\uff0c\u8fd9\u6837\u6211\u4eec\u5c31\u53ef\u4ee5\u7b80\u5355\u5730\u5bf9size\u5c5e\u6027\u8fdb\u884c\u8d4b\u503c\u548c\u83b7\u53d6\uff0c\u76f8\u5173\u7684\u65b9\u6cd5\u4f1a\u81ea\u52a8\u8c03\u7528"
     ],
     "language": "python",
     "metadata": {},
     "outputs": [],
     "prompt_number": 3
    },
    {
     "cell_type": "code",
     "collapsed": false,
     "input": [
      "r = Rectangle()"
     ],
     "language": "python",
     "metadata": {},
     "outputs": [],
     "prompt_number": 4
    },
    {
     "cell_type": "code",
     "collapsed": false,
     "input": [
      "r.size = 150, 100           #\u6211\u4eec\u53ef\u4ee5\u76f4\u63a5\u7ed9\u5c5e\u6027\u8d4b\u503c\uff0csetSize\u65b9\u6cd5\u4f1a\u88ab\u81ea\u52a8\u8c03\u7528"
     ],
     "language": "python",
     "metadata": {},
     "outputs": [],
     "prompt_number": 6
    },
    {
     "cell_type": "code",
     "collapsed": false,
     "input": [
      "r.size           #\u6211\u4eec\u53ef\u4ee5\u76f4\u63a5\u83b7\u53d6\u5c5e\u6027\u7684\u503c\uff0cgetSize\u65b9\u6cd5\u4f1a\u88ab\u81ea\u52a8\u8c03\u7528"
     ],
     "language": "python",
     "metadata": {},
     "outputs": [
      {
       "metadata": {},
       "output_type": "pyout",
       "prompt_number": 7,
       "text": [
        "(150, 100)"
       ]
      }
     ],
     "prompt_number": 7
    },
    {
     "cell_type": "markdown",
     "metadata": {},
     "source": [
      "###\u9759\u6001\u65b9\u6cd5  \u548c  \u7c7b\u6210\u5458\u65b9\u6cd5  \n",
      "* \u9759\u6001\u65b9\u6cd5\u5728\u521b\u5efa\u65f6\u4f1a\u88c5\u5165Staticmethod\u7c7b\u578b\u7684\u5bf9\u8c61\u4e2d\uff1b  \n",
      "\u7c7b\u6210\u5458\u65b9\u6cd5\u5728\u521b\u5efa\u65f6\u4f1a\u88c5\u5165Classmethod\u7c7b\u578b\u7684\u5bf9\u8c61\u4e2d  \n",
      "* \u9759\u6001\u65b9\u6cd5\u6ca1\u6709self\u5bf9\u8c61\uff0c\u4f46\u5374\u80fd\u88ab\u7c7b\u672c\u8eab\u8c03\u7528\uff08\u800c\u4e0d\u4e00\u5b9a\u88ab\u5b9e\u4f8b\u8c03\u7528\uff09  \n",
      "\u7c7b\u65b9\u6cd5\u5728\u5b9a\u4e49\u65f6\u7528cls\u53c2\u6570\u53d6\u4ee3self\u53c2\u6570  \n",
      "\u7c7b\u6210\u5458\u65b9\u6cd5\u53ef\u4ee5\u76f4\u63a5\u7528\u7c7b\u7684\u5177\u4f53\u5bf9\u8c61\u6765\u8c03\u7528\uff0c\u6b64\u65f6cls\u53c2\u6570\u662f\u81ea\u52a8\u7ed1\u5b9a\u5230\u7c7b\u7684  \n",
      " \n",
      "**<font color='red'>\u8fd9\u4e24\u79cd\u65b9\u6cd5\u5e76\u4e0d\u662f\u5f88\u91cd\u8981\uff0c\u56e0\u4e3a\u901a\u5e38\u53ef\u4ee5\u4f7f\u7528\u51fd\u6570\u6216\u8005\u7ed1\u5b9a\u65b9\u6cd5\u6765\u4ee3\u66ff</font>**"
     ]
    },
    {
     "cell_type": "code",
     "collapsed": false,
     "input": [
      "__metaclass__ = type"
     ],
     "language": "python",
     "metadata": {},
     "outputs": [],
     "prompt_number": 1
    },
    {
     "cell_type": "code",
     "collapsed": false,
     "input": [
      "#\u624b\u52a8\u5305\u88c5\u548c\u66ff\u6362\u65b9\u6cd5\u7684\u6280\u672f\n",
      "class Myclass:\n",
      "    def smeth():    #\u6ca1\u6709self\u53c2\u6570\n",
      "        print 'This is a static method'\n",
      "    smeth = staticmethod(smeth)   #\u624b\u52a8\u628asmeth\u65b9\u6cd5\u5305\u88c5\u6210staticmethod\u7c7b\u578b\u5e76\u4e14\u540c\u540d\u66ff\u6362\n",
      "    \n",
      "    def cmeth(cls):       #\u7528cls\u4ee3\u66ffself\u53c2\u6570\n",
      "        print 'This is a class method of', cls\n",
      "    cmeth = classmethod(cmeth)       #\u4e0esmeth\u7c7b\u4f3c"
     ],
     "language": "python",
     "metadata": {},
     "outputs": [],
     "prompt_number": 2
    },
    {
     "cell_type": "code",
     "collapsed": false,
     "input": [
      "#\u65b0\u7684\u88c5\u9970\u5668\uff08decorator\uff09\u8bed\u6cd5\n",
      "class Myclass:\n",
      "    @staticmethod       #\u5728\u65b9\u6cd5\u6216\u51fd\u6570\u7684\u4e0a\u65b9\u5217\u51fa\u88c5\u9970\u5668\uff08@\u64cd\u4f5c\u7b26\uff09\n",
      "    def smeth():\n",
      "        print 'This is a static method'\n",
      "    \n",
      "    @classmethod\n",
      "    def cmeth(cls):\n",
      "        print 'This is a class method of', cls\n",
      "#\u88c5\u9970\u5668\u53ef\u4ee5\u6709\u591a\u4e2a\uff0c\u4f46\u662f\u5e94\u7528\u7684\u987a\u5e8f\u4e0e\u6307\u5b9a\u7684\u987a\u5e8f\u76f8\u53cd    "
     ],
     "language": "python",
     "metadata": {},
     "outputs": [],
     "prompt_number": 3
    },
    {
     "cell_type": "code",
     "collapsed": false,
     "input": [
      "Myclass.smeth()       #\u53ef\u4ee5\u76f4\u63a5\u5bf9\u7c7b\u8c03\u7528\u9759\u6001\u65b9\u6cd5"
     ],
     "language": "python",
     "metadata": {},
     "outputs": [
      {
       "output_type": "stream",
       "stream": "stdout",
       "text": [
        "This is a static method\n"
       ]
      }
     ],
     "prompt_number": 4
    },
    {
     "cell_type": "code",
     "collapsed": false,
     "input": [
      "Myclass.cmeth()       #\u4e5f\u53ef\u4ee5\u5bf9\u7c7b\u76f4\u63a5\u8c03\u7528\u7c7b\u65b9\u6cd5"
     ],
     "language": "python",
     "metadata": {},
     "outputs": [
      {
       "output_type": "stream",
       "stream": "stdout",
       "text": [
        "This is a class method of <class '__main__.Myclass'>\n"
       ]
      }
     ],
     "prompt_number": 5
    },
    {
     "cell_type": "markdown",
     "metadata": {},
     "source": [
      "###\u4e0e\u7279\u6027\u6709\u5173\u7684\u9b54\u6cd5\u65b9\u6cd5  \n",
      "* \\_\\_getattribute\\_\\_(self, name)\uff1a\u5f53name\u7279\u6027\u88ab***\u8bd5\u56fe\u8bbf\u95ee***\u65f6\u81ea\u52a8\u88ab\u8c03\u7528\uff08\u53ea\u9002\u7528\u4e8e\u65b0\u5f0f\u7c7b\uff09\n",
      "* \\_\\_getattr\\_\\_(self, name)\uff1a\u5f53name\u7279\u6027\u88ab***\u8bd5\u56fe\u8bbf\u95ee\u4e14\u8be5\u7279\u6027\u4e0d\u5b58\u5728***\u65f6\u81ea\u52a8\u88ab\u8c03\u7528  \n",
      "    \uffe5\u533a\u5206\\_\\_getattribute\\_\\_\u548c\\_\\_getattr\\_\\_\uffe5  \n",
      "    \u524d\u8005\u53ea\u9002\u7528\u4e8e\u65b0\u5f0f\u7c7b\uff0c\u540e\u8005\u901a\u7528  \n",
      "    \u524d\u8005\u65e0\u8bba\u6307\u5b9a\u7684\u7279\u6027\u662f\u5426\u5b58\u5728\u90fd\u4f1a\u8c03\u7528\uff0c\u540e\u8005\u53ea\u6709\u5728\u7279\u6027\u4e0d\u5b58\u5728\u65f6\u624d\u4f1a\u8c03\u7528  \n",
      "    \u524d\u8005\u4f1a\u622a\u65ad\u6240\u6709\u7279\u6027\uff08\u5305\u62ec\\_\\_dict\\_\\_\u548chasattr\u3001getattr\u5bf9\u7279\u6027\u7684\u8bbf\u95ee\uff09\uff0c\u540e\u8005\u53ea\u4f1a\u622a\u65ad\u4e00\u822c\u7279\u6027\uff08\u4e0d\u5305\u62ec\u524d\u9762\u6240\u8ff0\u7684\u7279\u6b8a\u8bbf\u95ee\uff09  \n",
      "    **\u6240\u4ee5\uff0c\u5728\u4f7f\u7528\u524d\u8005\u65f6\uff0c\u8981\u5728\u65b9\u6cd5\u4e2d\u8bbf\u95ee\u4e0eself\u6709\u5173\u7684\u7279\u6027\uff0c\u5c31\u8981\u901a\u8fc7\u8d85\u7c7b\u7684\\_\\_getattribute\\_\\_\u65b9\u6cd5\uff0c\u5e76\u501f\u52a9super\u51fd\u6570**\n",
      "* \\_\\_setattr\\_\\_(self, name, value)\uff1a\u5f53name\u7279\u6027\u88ab***\u8bd5\u56fe\u8d4b\u503c***\u65f6\u81ea\u52a8\u88ab\u8c03\u7528\uff0c\u800c\u4e14\u6240\u8d4b\u7684\u503c\u4e5f\u4f5c\u4e3avalue\u88ab\u622a\u65ad\n",
      "* \\_\\_delattr\\_\\_(self, name)\uff1a\u5f53name\u7279\u6027\u88ab***\u8bd5\u56fe\u5220\u9664***\u65f6\u81ea\u52a8\u88ab\u8c03\u7528  \n",
      "* \\_\\_dict\\_\\_\uff1a\u7279\u6027\u662f\u50a8\u5b58\u5728\u4e00\u4e2a\u5b57\u5178\u4e2d\u7684\uff0c\u901a\u8fc7\u8fd9\u4e2a\u65b9\u6cd5\u53ef\u4ee5\u8fd4\u56de\u8fd9\u4e2a\u5b57\u5178\n",
      " \n",
      "\u4f7f\u7528\u8fd9\u4e9b\u65b9\u6cd5\u6211\u4eec\u53ef\u4ee5\u5b9e\u73b0\u5bf9\u8c61\u7279\u6027\u8bbf\u95ee\u3001\u8d4b\u503c\u3001\u5220\u9664\u7684\u622a\u65ad"
     ]
    },
    {
     "cell_type": "code",
     "collapsed": false,
     "input": [
      "#\u53ef\u4ee5\u7528\u8fd9\u4e9b\u65b9\u6cd5\u6765\u5b9e\u73b0property\u51fd\u6570\u4e2d\u7684Rectangle\u7c7b\n",
      "class Rectangle:\n",
      "    def __init__(self):\n",
      "        self.width = 0\n",
      "        self.height = 0\n",
      "    def __setattr__(self, name, value):         #\u5982\u679c\u8d4b\u503c\u7684\u7279\u6027\u4e0d\u662fname\uff0c\u8fd9\u4e2a\u65b9\u6cd5\u4e5f\u4f1a\u88ab\u8c03\u7528\uff0c\u4e24\u65b9\u9762\u90fd\u8981\u8003\u8651\uff0c__getattr__\u540c\u7406\n",
      "        if name == 'size':\n",
      "            self.width, self.height = size\n",
      "        else:\n",
      "            self.__dict__[name] = value           #\u53ef\u4ee5\u76f4\u63a5\u901a\u8fc7\u4fee\u6539__dict__\u8fd4\u56de\u7684\u5b57\u5178\u76f4\u63a5\u4fee\u6539\u7279\u6027\n",
      "            #\u6b64\u5904\u5982\u679c\u6539\u6210self.name = value\u7684\u8d4b\u503c\u64cd\u4f5c\uff0c\u4f1a\u5bfc\u81f4__setattr__\u65b9\u6cd5\u518d\u6b21\u88ab\u8c03\u7528\u5e76\u4e14\u9677\u5165\u6b7b\u5faa\u73af\uff0c\u8981\u6ce8\u610f\uff01\uff01\uff01\n",
      "    def __getattr__(self, name):      #\u8fd9\u91cc\u4e0d\u80fd\u4f7f\u7528__getattribute__\uff0c\u5426\u5219\u4e5f\u4f1a\u9677\u5165\u6b7b\u5faa\u73af\n",
      "        if name == 'size':\n",
      "            return self.width, self.height        #\u56e0\u4e3awidth\u548cheight\u7279\u6027\u662f\u5b58\u5728\u7684\uff0c\u6240\u4ee5\u8bbf\u95ee\u65f6\u4e0d\u4f1a\u518d\u6b21\u8c03\u7528\u8fd9\u4e2a\u65b9\u6cd5\n",
      "        else:\n",
      "            raise AttributeError"
     ],
     "language": "python",
     "metadata": {},
     "outputs": [],
     "prompt_number": 2
    },
    {
     "cell_type": "code",
     "collapsed": false,
     "input": [
      "#\u5982\u4f55\u5728__getattribute__\u65b9\u6cd5\u5185\u8bbf\u95eeself\u7684\u7279\u6027"
     ],
     "language": "python",
     "metadata": {},
     "outputs": [],
     "prompt_number": 31
    },
    {
     "cell_type": "code",
     "collapsed": false,
     "input": [
      "__metaclass__ = type         #__getattribute__\u65b9\u6cd5\u53ea\u9002\u7528\u4e8e\u65b0\u5f0f\u7c7b"
     ],
     "language": "python",
     "metadata": {},
     "outputs": [],
     "prompt_number": 3
    },
    {
     "cell_type": "code",
     "collapsed": false,
     "input": [
      "class Object:\n",
      "    def __getattribute__(self, name):\n",
      "        return 'hahahhahahha'"
     ],
     "language": "python",
     "metadata": {},
     "outputs": [],
     "prompt_number": 18
    },
    {
     "cell_type": "code",
     "collapsed": false,
     "input": [
      "class Person(Object):         #Person\u662fObject\u7684\u5b50\u7c7b\n",
      "    def __init__(self):\n",
      "        self.name = 'Zk'\n",
      "        self.age = 21\n",
      "    def __getattribute__(self, name):\n",
      "        return super(Object,self).__getattribute__(name)\n",
      "        #\u901a\u8fc7\u8c03\u7528\u8d85\u7c7b\u7684__getattribute__\u65b9\u6cd5\n",
      "        #\u800c\u4e14\u8fd9\u91cc\u7684\u8d85\u7c7bObject\u5fc5\u987b\u4f7f\u7528super\u51fd\u6570\n",
      "        #super\u51fd\u6570\u7684\u53c2\u6570\u662f\u8d85\u7c7bObject\u800c\u4e0d\u662fPerson\uff08\u8fd9\u548c\u7ee7\u627f\u8d85\u7c7b\u7684\u521d\u59cb\u503csuper(Person, self).__init__()\u4e0d\u540c\uff09\n",
      "        #\u800c\u4e14\u8fd9\u4e2a\u65b9\u6cd5\u4e0d\u53d7\u8d85\u7c7b\u7684__getattribute__\u65b9\u6cd5\u8fd4\u56de\u503c\u5f71\u54cd"
     ],
     "language": "python",
     "metadata": {},
     "outputs": [],
     "prompt_number": 32
    },
    {
     "cell_type": "code",
     "collapsed": false,
     "input": [
      "a = Person()"
     ],
     "language": "python",
     "metadata": {},
     "outputs": [],
     "prompt_number": 29
    },
    {
     "cell_type": "code",
     "collapsed": false,
     "input": [
      "a.name          #\u5f97\u5230\u4e0d\u662f\u201chahahahahhahah\u201d\u54e6\uff01"
     ],
     "language": "python",
     "metadata": {},
     "outputs": [
      {
       "metadata": {},
       "output_type": "pyout",
       "prompt_number": 30,
       "text": [
        "'Zk'"
       ]
      }
     ],
     "prompt_number": 30
    },
    {
     "cell_type": "code",
     "collapsed": false,
     "input": [],
     "language": "python",
     "metadata": {},
     "outputs": []
    }
   ],
   "metadata": {}
  }
 ]
}