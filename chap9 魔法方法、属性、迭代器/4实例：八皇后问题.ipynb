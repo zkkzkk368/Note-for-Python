{
 "metadata": {
  "name": "",
  "signature": "sha256:8b2432ac601da810f340a92b3769ce89138b750eca7374e2c3a69ab58c3c5d22"
 },
 "nbformat": 3,
 "nbformat_minor": 0,
 "worksheets": [
  {
   "cells": [
    {
     "cell_type": "markdown",
     "metadata": {},
     "source": [
      "###\u95ee\u9898\u63cf\u8ff0  \n",
      "\u8fd9\u662f\u4e00\u4e2a\u7ecf\u5178\u7684\u8ba1\u7b97\u673a\u79d1\u5b66\u95ee\u9898\u2014\u2014  \n",
      "\u5047\u8bbe\u4e00\u4e2a8 \u00d7 8\u7684\u68cb\u76d8\u4e0a\u653e\u7f6e\u516b\u4e2a\u7687\u540e\uff08\u56fd\u9645\u8c61\u68cb\uff0c\u7687\u540e\u53ea\u80fd\u6cbf\u659c\u7ebf\u884c\u8d70\u4efb\u610f\u6b65\u6570\uff09  \n",
      "\u8981\u6c42\u516b\u4e2a\u7687\u540e\u4f4d\u4e0e\u4e0d\u540c\u884c\u4e0d\u540c\u5217\u4e0d\u80fd\u53d1\u751f\u77db\u76fe\uff08\u4e5f\u5c31\u662f\u4e0d\u76f8\u5a01\u80c1\uff09\uff0c\u8981\u6211\u4eec\u627e\u51fa\u6240\u6709\u653e\u7f6e\u65b9\u6848  \n",
      "###\u89e3\u51b3\u601d\u8def  \n",
      "\u904d\u5386\u6240\u6709\u653e\u7f6e\u4f4d\u7f6e\u5e76\u5224\u65ad\u662f\u5426\u7b26\u5408\u8981\u6c42  \n",
      "* \u76f8\u5173\u6982\u5ff5\u2014\u2014\u56de\u6eaf\uff08\u501f\u52a9\u9012\u5f52\u5b9e\u73b0\uff09  \n",
      "    \u6bd4\u5982\u8fdb\u4e00\u4e2a\u5927\u5385\u6709\u4e24\u4e2a\u95e8\uff0c\u8fdb\u5165\u5de6\u8fb9\u7684\u95e8\u540e\u53d1\u73b0\u4e0d\u662f\u4f60\u8981\u7684\u623f\u95f4\uff0c\u90a3\u4e48\u6211\u4eec\u5c31\u8981\u9000\u56de\uff08\u56de\u6eaf\uff09\u5927\u5385\uff0c\u91cd\u65b0\u9009\u62e9\u5927\u95e8  \n",
      "* \u4f4d\u7f6e\u7684\u8bb0\u5f55\uff0c\u91c7\u7528\u5217\u8868\uff0c**\u201c\u7d22\u5f15-\u503c\u201d**\u5bf9\u4ee3\u8868**\u201c\u884c-\u5217\u201d**\u5bf9\uff0c\u6ce8\u610f\uff1a\u6211\u4eec\u89c4\u5b9a\u5e8f\u53f7\u4ece0\u8ba1\u8d77  \n",
      "* \u4f4d\u7f6e\u7684\u83b7\u53d6\uff0c\u901a\u8fc7\u751f\u6210\u5668\u751f\u6210  \n",
      " \n",
      "\u904d\u5386\u662f\u4e00\u79cd\u201c\u8822\u201d\u65b9\u6cd5\uff0c\u53ea\u80fd\u89e3\u51b3\u7687\u540e\u6570\u91cf\u4e0d\u591a\u7684\u60c5\u51b5\uff0c\u66f4\u591a\u9ad8\u6548\u7b97\u6cd5\uff0c\u53c2\u8003  \n",
      "www.cit.gu.edu.au/~sosic/nqueens.html  "
     ]
    },
    {
     "cell_type": "code",
     "collapsed": false,
     "input": [
      "#\u51b2\u7a81\u5224\u65ad\n",
      "def conflict(state, nextX): \n",
      "    '''\n",
      "    \u5224\u65ad\u65b0\u7687\u540e\u4e0e\u5df2\u77e5\u7684\u7687\u540e\u662f\u5426\u53d1\u751f\u51b2\u7a81\n",
      "    state\u53c2\u6570\u63a5\u53d7\u4e00\u4e2a\u5df2\u77e5\u7684\u4f4d\u7f6e\u5143\u7ec4\n",
      "    nextX\u53c2\u6570\u63a5\u53d7\u4e0b\u4e00\u4e2a\u5217\u4f4d\u7f6e\n",
      "    '''\n",
      "    nextY = len(state)          #nextY\u901a\u8fc7state\u957f\u5ea6\u5f97\u5230\u4e0b\u4e00\u4e2a\u884c\u4f4d\u7f6e\n",
      "    for i in range(nextY):           #\u904d\u53860\uff5enextY - 1\u884c\uff08\u5373\u5df2\u653e\u7f6e\u7684\u6240\u6709\u884c\uff09\n",
      "        if abs(state[i] - nextX) in (0, nextY - i):      \n",
      "            #\u7687\u540e\u6cbf\u659c\u7ebf\u884c\u8d70\uff0c\u5982\u679c\u884c\u6570\u5dee\u503c\u4e0e\u5217\u6570\u5dee\u503c\u76f8\u7b49\uff0c\u8bf4\u660e\u5b58\u5728\u77db\u76fe\n",
      "            #\u5982\u679c\u884c\u6570\u5dee\u503c\u4e3a0\uff0c\u8bf4\u660e\u8be5\u5217\u5df2\u88ab\u5176\u4ed6\u7687\u540e\u5360\u7528\uff0c\u4e0d\u7b26\u5408\u8981\u6c42\n",
      "            return True\n",
      "    return False"
     ],
     "language": "python",
     "metadata": {},
     "outputs": [],
     "prompt_number": 1
    },
    {
     "cell_type": "code",
     "collapsed": false,
     "input": [
      "#\u9012\u5f52\uff0c\u4f4d\u7f6e\u751f\u6210\u5668\n",
      "def queens(num = 8, state = ()):\n",
      "    '''\n",
      "    \u4ea7\u751f\u7687\u540e\u7684\u4f4d\u7f6e\u5e76\u5224\u65ad\u662f\u5426\u7b26\u5408\u8981\u6c42\uff0c\u5982\u679c\u7b26\u5408\u8981\u6c42\u5219\u751f\u6210\u5404\u4e2a\u7687\u540e\u7684\u4f4d\u7f6e\u7ec4\u6210\u4e86\u5143\u7ec4\n",
      "    num\u8868\u793a\u7687\u540e\u4e2a\u6570\uff08\u548c\u68cb\u76d8\u89c4\u683cnum \u00d7 num\uff09\n",
      "    state\u8868\u793a\u5df2\u77e5\u7684\u7687\u540e\u4e2a\u6570\uff0c\u56e0\u4e3a\u6700\u5f00\u59cb\u662f\u6ca1\u6709\u653e\u7f6e\u597d\u7684\u7687\u540e\u7684\uff0c\u6240\u4ee5\u7ed9\u5b83\u4e00\u4e2a\u9ed8\u8ba4\u503c()\u7a7a\u5143\u7ec4\uff0c\u65b9\u4fbf\u540e\u9762\u7684\u5143\u7ec4\u8fde\u63a5\n",
      "    '''\n",
      "    for pos in range(num):          #\u904d\u53860\uff5enum - 1\u5217\uff08\u5373\u6240\u6709\u5217\uff09\n",
      "        if not conflict(state, pos):       #\u5224\u65ad\u5f53\u524d\u4f4d\u7f6e\uff08len(state)\u884c\uff0cpos\u5217\uff09\u662f\u5426\u51b2\u7a81\n",
      "            if len(state) == num - 1:              #\u5982\u679c\u662f\u6700\u540e\u4e00\u4e2a\u7687\u540e\uff08\u6700\u91cc\u5c42\u7684\u9012\u5f52\uff09\n",
      "                yield (pos,)                              #\u76f4\u63a5\u751f\u6210\u8be5\u7687\u540e\u4f4d\u7f6e\uff0c\u65b9\u4fbf\u5916\u5c42\u9012\u5f52\u7684\u8fde\u63a5\uff0c\u800c\u4e14\u5fc5\u987b\u5199\u6210\u5143\u7ec4\u7684\u5f62\u5f0f\uff08\u5fc5\u987b\u52a0\u4e0a\u9017\u53f7\u548c\u62ec\u53f7\u4ee3\u8868\u5b83\u662f\u5143\u7ec4\uff09\n",
      "            else:                                                                      #\u5982\u679c\u4e0d\u662f\u6700\u540e\u4e00\u4e2a\u7687\u540e\uff08\u5916\u5c42\u9012\u5f52\uff09\n",
      "                for result in queens(num, state + (pos,)):         #\u9012\u5f52\u8c03\u7528\uff0c\u52a0\u5165\u5f53\u524d\u4f4d\u7f6e\uff0c\u653e\u7f6e\u4e0b\u4e00\u4e2a\u7687\u540e\uff08\u8fdb\u5165\u4e0b\u4e00\u5c42\u9012\u5f52\uff09\n",
      "                                                                                           #\u904d\u5386\u6240\u6709\u5269\u4e0b\u7684\u7687\u540e\u90fd\u7b26\u5408\u7684\u4f4d\u7f6e\n",
      "                    yield (pos,) + result                                       #\u8ffd\u52a0\u5f53\u524d\u4f4d\u7f6e\uff0c\u8fd4\u56de\u5230\u4e0a\u4e00\u5c42\u9012\u5f52\uff0c\u76f4\u5230\u4f4d\u7f6e\u90fd\u6574\u5408\u5230\u540c\u4e00\u4e2a\u5143\u7ec4\u91cc"
     ],
     "language": "python",
     "metadata": {},
     "outputs": [],
     "prompt_number": 2
    },
    {
     "cell_type": "code",
     "collapsed": false,
     "input": [
      "#\u6574\u7406\u6253\u5370\n",
      "def prettyprint(solution):\n",
      "    '''\n",
      "    \u7528\u5f62\u8c61\u7684\u65b9\u5f0f\u6253\u5370\u68cb\u76d8\uff0c_\u4ee3\u8868\u7a7a\u683c\uff0cX\u8868\u793a\u7687\u540e\u7684\u4f4d\u7f6e\n",
      "    solution\u8868\u793a\u67d0\u4e00\u4e2a\u89e3\u51b3\u65b9\u6848\uff08\u5143\u7ec4\uff09\n",
      "    '''\n",
      "    def line(pos, lenth=len(solution)):              #\u52a9\u624b\u51fd\u6570\uff0c\u6253\u5370\u4e00\u884c\uff0c\u56e0\u4e3a\u5176\u4ed6\u5916\u90e8\u51fd\u6570\u7528\u4e0d\u7740\uff0c\u7d22\u6027\u5d4c\u5957\u5728\u8be5\u51fd\u6570\u5185\n",
      "        return '_ ' * (pos) + 'X' + '_ ' * (lenth-pos-1)\n",
      "    for pos in solution:\n",
      "        print line(pos)\n",
      "    \n",
      "    #\u4e5f\u53ef\u4ee5\u76f4\u63a5\u5199\u6210\u2014\u2014\n",
      "    #for pos in solution:\n",
      "    #    print '_ ' * (pos) + 'X' + '_ ' * ( len(solution) - pos - 1 )"
     ],
     "language": "python",
     "metadata": {},
     "outputs": [],
     "prompt_number": 3
    },
    {
     "cell_type": "code",
     "collapsed": false,
     "input": [
      "list( queens(4) )          #\u56db\u4e2a\u7687\u540e\u7684\u60c5\u51b5"
     ],
     "language": "python",
     "metadata": {},
     "outputs": [
      {
       "metadata": {},
       "output_type": "pyout",
       "prompt_number": 5,
       "text": [
        "[(1, 3, 0, 2), (2, 0, 3, 1)]"
       ]
      }
     ],
     "prompt_number": 5
    },
    {
     "cell_type": "code",
     "collapsed": false,
     "input": [
      "len( list( queens(8) ) )          #\u516b\u7687\u540e\u7684\u53ef\u80fd\u6570"
     ],
     "language": "python",
     "metadata": {},
     "outputs": [
      {
       "metadata": {},
       "output_type": "pyout",
       "prompt_number": 7,
       "text": [
        "92"
       ]
      }
     ],
     "prompt_number": 7
    },
    {
     "cell_type": "code",
     "collapsed": false,
     "input": [
      "from random import choice"
     ],
     "language": "python",
     "metadata": {},
     "outputs": [],
     "prompt_number": 8
    },
    {
     "cell_type": "code",
     "collapsed": false,
     "input": [
      "prettyprint(   choice(  list( queens(8) )  )   )          #\u968f\u673a\u9009\u53d6\u516b\u7687\u540e\u7684\u4e00\u79cd\u65b9\u6848\u5e76\u6253\u5370"
     ],
     "language": "python",
     "metadata": {},
     "outputs": [
      {
       "output_type": "stream",
       "stream": "stdout",
       "text": [
        "_ X_ _ _ _ _ _ \n",
        "_ _ _ _ _ X_ _ \n",
        "_ _ _ _ _ _ _ X\n",
        "_ _ X_ _ _ _ _ \n",
        "X_ _ _ _ _ _ _ \n",
        "_ _ _ X_ _ _ _ \n",
        "_ _ _ _ _ _ X_ \n",
        "_ _ _ _ X_ _ _ \n"
       ]
      }
     ],
     "prompt_number": 9
    },
    {
     "cell_type": "code",
     "collapsed": false,
     "input": [],
     "language": "python",
     "metadata": {},
     "outputs": []
    }
   ],
   "metadata": {}
  }
 ]
}