{
 "metadata": {
  "name": "",
  "signature": "sha256:f2c3d8dc8d1628b01f0724d8cbe54190a8597510eca30efbdc71b97d1cf408ea"
 },
 "nbformat": 3,
 "nbformat_minor": 0,
 "worksheets": [
  {
   "cells": [
    {
     "cell_type": "markdown",
     "metadata": {},
     "source": [
      "###\u5e38\u89c1\u5b57\u7b26\u4e32\u5e38\u91cf\uff08string\u6a21\u5757\u4e2d\uff09"
     ]
    },
    {
     "cell_type": "code",
     "collapsed": false,
     "input": [
      "import string"
     ],
     "language": "python",
     "metadata": {},
     "outputs": [],
     "prompt_number": 2
    },
    {
     "cell_type": "code",
     "collapsed": false,
     "input": [
      "#\u6570\u5b57\n",
      "string.digits"
     ],
     "language": "python",
     "metadata": {},
     "outputs": [
      {
       "metadata": {},
       "output_type": "pyout",
       "prompt_number": 3,
       "text": [
        "'0123456789'"
       ]
      }
     ],
     "prompt_number": 3
    },
    {
     "cell_type": "code",
     "collapsed": false,
     "input": [
      "#\u5b57\u6bcd\n",
      "string.letters"
     ],
     "language": "python",
     "metadata": {},
     "outputs": [
      {
       "metadata": {},
       "output_type": "pyout",
       "prompt_number": 4,
       "text": [
        "'ABCDEFGHIJKLMNOPQRSTUVWXYZabcdefghijklmnopqrstuvwxyz'"
       ]
      }
     ],
     "prompt_number": 4
    },
    {
     "cell_type": "code",
     "collapsed": false,
     "input": [
      "#\u5c0f\u5199\u5b57\u6bcd\n",
      "string.lowercase"
     ],
     "language": "python",
     "metadata": {},
     "outputs": [
      {
       "metadata": {},
       "output_type": "pyout",
       "prompt_number": 5,
       "text": [
        "'abcdefghijklmnopqrstuvwxyz'"
       ]
      }
     ],
     "prompt_number": 5
    },
    {
     "cell_type": "code",
     "collapsed": false,
     "input": [
      "#\u5927\u5199\u5b57\u6bcd\n",
      "string.uppercase"
     ],
     "language": "python",
     "metadata": {},
     "outputs": [
      {
       "metadata": {},
       "output_type": "pyout",
       "prompt_number": 6,
       "text": [
        "'ABCDEFGHIJKLMNOPQRSTUVWXYZ'"
       ]
      }
     ],
     "prompt_number": 6
    },
    {
     "cell_type": "code",
     "collapsed": false,
     "input": [
      "#\u53ef\u6253\u5370\u5b57\u7b26\n",
      "string.printable"
     ],
     "language": "python",
     "metadata": {},
     "outputs": [
      {
       "metadata": {},
       "output_type": "pyout",
       "prompt_number": 7,
       "text": [
        "'0123456789abcdefghijklmnopqrstuvwxyzABCDEFGHIJKLMNOPQRSTUVWXYZ!\"#$%&\\'()*+,-./:;<=>?@[\\\\]^_`{|}~ \\t\\n\\r\\x0b\\x0c'"
       ]
      }
     ],
     "prompt_number": 7
    },
    {
     "cell_type": "code",
     "collapsed": false,
     "input": [
      "#\u6807\u70b9\n",
      "string.punctuation"
     ],
     "language": "python",
     "metadata": {},
     "outputs": [
      {
       "metadata": {},
       "output_type": "pyout",
       "prompt_number": 8,
       "text": [
        "'!\"#$%&\\'()*+,-./:;<=>?@[\\\\]^_`{|}~'"
       ]
      }
     ],
     "prompt_number": 8
    },
    {
     "cell_type": "code",
     "collapsed": false,
     "input": [],
     "language": "python",
     "metadata": {},
     "outputs": [],
     "prompt_number": 8
    },
    {
     "cell_type": "markdown",
     "metadata": {},
     "source": [
      "* find\uff1a\u5728\u957f\u5b57\u7b26\u4e32\u4e2d\u67e5\u627e\u5b50\u5b57\u7b26\u4e32\uff0c\u8fd4\u56de\u7b2c\u4e00\u4e2a\u5339\u914d\u9879\u6700\u5de6\u7aef\u7684\u7d22\u5f15\uff0c\u5426\u5219\u8fd4\u56de-1"
     ]
    },
    {
     "cell_type": "code",
     "collapsed": false,
     "input": [
      "title = \"Zk | Zjx | Zps | Jqj\""
     ],
     "language": "python",
     "metadata": {},
     "outputs": [],
     "prompt_number": 9
    },
    {
     "cell_type": "code",
     "collapsed": false,
     "input": [
      "title.find(\"Zk\")"
     ],
     "language": "python",
     "metadata": {},
     "outputs": [
      {
       "metadata": {},
       "output_type": "pyout",
       "prompt_number": 10,
       "text": [
        "0"
       ]
      }
     ],
     "prompt_number": 10
    },
    {
     "cell_type": "code",
     "collapsed": false,
     "input": [
      "title.find(\"Zps\")"
     ],
     "language": "python",
     "metadata": {},
     "outputs": [
      {
       "metadata": {},
       "output_type": "pyout",
       "prompt_number": 11,
       "text": [
        "11"
       ]
      }
     ],
     "prompt_number": 11
    },
    {
     "cell_type": "code",
     "collapsed": false,
     "input": [
      "title.find(\"Cc\")"
     ],
     "language": "python",
     "metadata": {},
     "outputs": [
      {
       "metadata": {},
       "output_type": "pyout",
       "prompt_number": 12,
       "text": [
        "-1"
       ]
      }
     ],
     "prompt_number": 12
    },
    {
     "cell_type": "code",
     "collapsed": false,
     "input": [
      "#\u8fd8\u53ef\u4ee5\u63a5\u53d7\u8d77\u59cb\u70b9\u548c\u7ed3\u675f\u70b9\u53c2\u6570\n",
      "#\u6ce8\u610f\uff1a\u8ddf\u5206\u7247\u4e00\u6837\uff0c\u641c\u7d22\u8303\u56f4\u5305\u62ec\u8d77\u59cb\u70b9\u4f46\u662f\u4e0d\u5305\u62ec\u7ed3\u675f\u70b9"
     ],
     "language": "python",
     "metadata": {},
     "outputs": [],
     "prompt_number": 13
    },
    {
     "cell_type": "code",
     "collapsed": false,
     "input": [
      "title.find(\"Zk\", 3)"
     ],
     "language": "python",
     "metadata": {},
     "outputs": [
      {
       "metadata": {},
       "output_type": "pyout",
       "prompt_number": 14,
       "text": [
        "-1"
       ]
      }
     ],
     "prompt_number": 14
    },
    {
     "cell_type": "code",
     "collapsed": false,
     "input": [
      "title.find(\"Zps\", 3 , 15)"
     ],
     "language": "python",
     "metadata": {},
     "outputs": [
      {
       "metadata": {},
       "output_type": "pyout",
       "prompt_number": 17,
       "text": [
        "11"
       ]
      }
     ],
     "prompt_number": 17
    },
    {
     "cell_type": "markdown",
     "metadata": {},
     "source": [
      "* join\uff1a\u5c06\u64cd\u4f5c\u7684\u5b57\u7b26\uff08\u4e32\uff09\u63d2\u5165\u5230\u7531\u591a\u4e2a\u5b57\u7b26\uff08\u4e32\uff09\u4e4b\u95f4\u3010\u5217\u8868\u6216\u5143\u7ec4\u3011\uff0c\u8fd4\u56de\u7ed3\u679c"
     ]
    },
    {
     "cell_type": "code",
     "collapsed": false,
     "input": [
      "dirs = '', 'usr', 'bin', 'env'"
     ],
     "language": "python",
     "metadata": {},
     "outputs": [],
     "prompt_number": 18
    },
    {
     "cell_type": "code",
     "collapsed": false,
     "input": [
      "'/'.join(dirs)"
     ],
     "language": "python",
     "metadata": {},
     "outputs": [
      {
       "metadata": {},
       "output_type": "pyout",
       "prompt_number": 19,
       "text": [
        "'/usr/bin/env'"
       ]
      }
     ],
     "prompt_number": 19
    },
    {
     "cell_type": "code",
     "collapsed": false,
     "input": [
      "num = list(\"12345\")"
     ],
     "language": "python",
     "metadata": {},
     "outputs": [],
     "prompt_number": 21
    },
    {
     "cell_type": "code",
     "collapsed": false,
     "input": [
      "num"
     ],
     "language": "python",
     "metadata": {},
     "outputs": [
      {
       "metadata": {},
       "output_type": "pyout",
       "prompt_number": 22,
       "text": [
        "['1', '2', '3', '4', '5']"
       ]
      }
     ],
     "prompt_number": 22
    },
    {
     "cell_type": "code",
     "collapsed": false,
     "input": [
      "'+'.join(num)"
     ],
     "language": "python",
     "metadata": {},
     "outputs": [
      {
       "metadata": {},
       "output_type": "pyout",
       "prompt_number": 23,
       "text": [
        "'1+2+3+4+5'"
       ]
      }
     ],
     "prompt_number": 23
    },
    {
     "cell_type": "markdown",
     "metadata": {},
     "source": [
      "* lower\uff1a\u628a\u5b57\u7b26\u4e32\u6539\u4e3a\u5c0f\u5199\uff0c\u8fd4\u56de\u7ed3\u679c"
     ]
    },
    {
     "cell_type": "code",
     "collapsed": false,
     "input": [
      "\"HELLO\".lower()"
     ],
     "language": "python",
     "metadata": {},
     "outputs": [
      {
       "metadata": {},
       "output_type": "pyout",
       "prompt_number": 24,
       "text": [
        "'hello'"
       ]
      }
     ],
     "prompt_number": 24
    },
    {
     "cell_type": "markdown",
     "metadata": {},
     "source": [
      "* replace\uff1a\u5c06\u6240\u6709\u5339\u914d\u9879\u66ff\u6362\u540e\u8fd4\u56de\u7ed3\u679c"
     ]
    },
    {
     "cell_type": "code",
     "collapsed": false,
     "input": [
      "\"1111 2222 3333\".replace(\"2222\", \"bbbb\")"
     ],
     "language": "python",
     "metadata": {},
     "outputs": [
      {
       "metadata": {},
       "output_type": "pyout",
       "prompt_number": 25,
       "text": [
        "'1111 bbbb 3333'"
       ]
      }
     ],
     "prompt_number": 25
    },
    {
     "cell_type": "markdown",
     "metadata": {},
     "source": [
      "* split\uff1a\u6309\u6307\u5b9a\u7684\u5206\u9694\u7b26\u5206\u5272\u5b57\u7b26\u4e32\uff0c\u8fd4\u56de\u5217\u8868\uff08\u82e5\u4e0d\u6307\u5b9a\u5206\u9694\u7b26\uff0c\u5219\u628a\u7a7a\u683c\uff0c\u65e0\u8bba\u6570\u76ee\uff0c\u4f5c\u4e3a\u5206\u9694\u7b26\uff09"
     ]
    },
    {
     "cell_type": "code",
     "collapsed": false,
     "input": [
      "\"1+2+3+4+5\".split('+')"
     ],
     "language": "python",
     "metadata": {},
     "outputs": [
      {
       "metadata": {},
       "output_type": "pyout",
       "prompt_number": 26,
       "text": [
        "['1', '2', '3', '4', '5']"
       ]
      }
     ],
     "prompt_number": 26
    },
    {
     "cell_type": "code",
     "collapsed": false,
     "input": [
      "\"Using the        default\".split()"
     ],
     "language": "python",
     "metadata": {},
     "outputs": [
      {
       "metadata": {},
       "output_type": "pyout",
       "prompt_number": 27,
       "text": [
        "['Using', 'the', 'default']"
       ]
      }
     ],
     "prompt_number": 27
    },
    {
     "cell_type": "markdown",
     "metadata": {},
     "source": [
      "* strip\uff1a\u53bb\u9664\u4e24\u4fa7\u7684\u6307\u5b9a\u5b57\u7b26\uff0c\u591a\u4e2a\u5b57\u7b26\u653e\u5728\u5b57\u7b26\u4e32\u91cc\u5c31\u53ef\u4ee5\u4e86\uff0c\u8fd4\u56de\u7ed3\u679c\uff08\u82e5\u4e0d\u6307\u5b9a\uff0c\u5219\u53bb\u9664\u7a7a\u683c\uff09"
     ]
    },
    {
     "cell_type": "code",
     "collapsed": false,
     "input": [
      "\"   Mike              \".strip()"
     ],
     "language": "python",
     "metadata": {},
     "outputs": [
      {
       "metadata": {},
       "output_type": "pyout",
       "prompt_number": 28,
       "text": [
        "'Mike'"
       ]
      }
     ],
     "prompt_number": 28
    },
    {
     "cell_type": "code",
     "collapsed": false,
     "input": [
      "\"===***Hello world***---\".strip('-=*')"
     ],
     "language": "python",
     "metadata": {},
     "outputs": [
      {
       "metadata": {},
       "output_type": "pyout",
       "prompt_number": 29,
       "text": [
        "'Hello world'"
       ]
      }
     ],
     "prompt_number": 29
    },
    {
     "cell_type": "code",
     "collapsed": false,
     "input": [
      "\"sfdshfhdsfh232323232sdsdsdsdsd232323fjdsfjdsjfo\".strip(string.letters)"
     ],
     "language": "python",
     "metadata": {},
     "outputs": [
      {
       "metadata": {},
       "output_type": "pyout",
       "prompt_number": 30,
       "text": [
        "'232323232sdsdsdsdsd232323'"
       ]
      }
     ],
     "prompt_number": 30
    },
    {
     "cell_type": "markdown",
     "metadata": {},
     "source": [
      "* translate\uff1a\u6309\u7167\u63d0\u4f9b\u7684\u8f6c\u6362\u8868\u4f5c\u5b57\u7b26\u8f6c\u6362\uff0c\u8fd4\u56de\u7ed3\u679c\uff08\u642d\u914dmaketrans\u51fd\u6570\u4f7f\u7528\uff09"
     ]
    },
    {
     "cell_type": "markdown",
     "metadata": {},
     "source": [
      "* maketrans\u51fd\u6570\uff0c\u5305\u542b\u5728string\u6a21\u5757\u5185\uff0c\u5c06\u7b2c\u4e00\u4e2a\u53c2\u6570\u7684\u5b57\u7b26\u90fd\u66ff\u6362\u6210\u7b2c\u4e8c\u4e2a\u53c2\u6570\u7684\u5b57\u7b26\uff08\u6309\u987a\u5e8f\u4e00\u4e00\u5bf9\u5e94\uff09\uff0c\u8fd4\u56de\u8f6c\u6362\u8868"
     ]
    },
    {
     "cell_type": "code",
     "collapsed": false,
     "input": [
      "from string import maketrans"
     ],
     "language": "python",
     "metadata": {},
     "outputs": [],
     "prompt_number": 33
    },
    {
     "cell_type": "code",
     "collapsed": false,
     "input": [
      "table = maketrans(\"cs\", \"kz\")"
     ],
     "language": "python",
     "metadata": {},
     "outputs": [],
     "prompt_number": 34
    },
    {
     "cell_type": "code",
     "collapsed": false,
     "input": [
      "table[97:123]"
     ],
     "language": "python",
     "metadata": {},
     "outputs": [
      {
       "metadata": {},
       "output_type": "pyout",
       "prompt_number": 36,
       "text": [
        "'abkdefghijklmnopqrztuvwxyz'"
       ]
      }
     ],
     "prompt_number": 36
    },
    {
     "cell_type": "code",
     "collapsed": false,
     "input": [
      "maketrans('', '')[97:123]"
     ],
     "language": "python",
     "metadata": {},
     "outputs": [
      {
       "metadata": {},
       "output_type": "pyout",
       "prompt_number": 38,
       "text": [
        "'abcdefghijklmnopqrstuvwxyz'"
       ]
      }
     ],
     "prompt_number": 38
    },
    {
     "cell_type": "code",
     "collapsed": false,
     "input": [
      "\"abccccccdefg          opqrssssssstuvwxyz\".translate(table)"
     ],
     "language": "python",
     "metadata": {},
     "outputs": [
      {
       "metadata": {},
       "output_type": "pyout",
       "prompt_number": 41,
       "text": [
        "'abkkkkkkdefg          opqrzzzzzzztuvwxyz'"
       ]
      }
     ],
     "prompt_number": 41
    },
    {
     "cell_type": "code",
     "collapsed": false,
     "input": [
      "#\u53ef\u4ee5\u52a0\u5165\u7b2c\u4e8c\u4e2a\u53c2\u6570\uff0c\u628a\u6307\u5b9a\u5b57\u7b26\u90fd\u5220\u9664\u6389\n",
      "\"abccccccdefg          opqrssssssstuvwxyz\".translate(table, ' ')"
     ],
     "language": "python",
     "metadata": {},
     "outputs": [
      {
       "metadata": {},
       "output_type": "pyout",
       "prompt_number": 42,
       "text": [
        "'abkkkkkkdefgopqrzzzzzzztuvwxyz'"
       ]
      }
     ],
     "prompt_number": 42
    }
   ],
   "metadata": {}
  }
 ]
}