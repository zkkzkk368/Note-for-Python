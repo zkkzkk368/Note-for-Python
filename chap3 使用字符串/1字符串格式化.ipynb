{
 "metadata": {
  "name": "",
  "signature": "sha256:a0addc0839a736b7f781242112a71650fa803d7b442e7d92c68439438ff56b22"
 },
 "nbformat": 3,
 "nbformat_minor": 0,
 "worksheets": [
  {
   "cells": [
    {
     "cell_type": "markdown",
     "metadata": {},
     "source": [
      "* \u5b57\u7b26\u4e32\u7684\u5143\u7d20\u662f\u4e0d\u53ef\u6539\u53d8\u7684"
     ]
    },
    {
     "cell_type": "code",
     "collapsed": false,
     "input": [
      "#\u5b57\u7b26\u4e32\u683c\u5f0f\u5316\u64cd\u4f5c\u7b26\u4e3a%\uff0c\u5de6\u8fb9\u4e3a\u683c\u5f0f\u5316\u5b57\u7b26\u4e32\uff0c\u53f3\u4fa7\u653e\u5e0c\u671b\u88ab\u683c\u5f0f\u5316\u7684\u503c\uff08\u591a\u4e2a\u5143\u7d20\u5219\u91c7\u7528\u5143\u7ec4\u3001\u5b57\u5178\uff09"
     ],
     "language": "python",
     "metadata": {},
     "outputs": [],
     "prompt_number": 1
    },
    {
     "cell_type": "code",
     "collapsed": false,
     "input": [
      "format = \"Hello, %s. %s enough for ya?\""
     ],
     "language": "python",
     "metadata": {},
     "outputs": [],
     "prompt_number": 2
    },
    {
     "cell_type": "code",
     "collapsed": false,
     "input": [
      "values = ('world', 'Hot')"
     ],
     "language": "python",
     "metadata": {},
     "outputs": [],
     "prompt_number": 3
    },
    {
     "cell_type": "code",
     "collapsed": false,
     "input": [
      "print(format % values)"
     ],
     "language": "python",
     "metadata": {},
     "outputs": [
      {
       "output_type": "stream",
       "stream": "stdout",
       "text": [
        "Hello, world. Hot enough for ya?\n"
       ]
      }
     ],
     "prompt_number": 4
    },
    {
     "cell_type": "markdown",
     "metadata": {},
     "source": [
      "**\u8f6c\u6362\u8bf4\u660e\u7b26\uff1a    % [-+ 0] [\u6700\u5c0f\u5bbd\u5ea6].[\u7cbe\u5ea6]\u8f6c\u6362\u7c7b\u578b**  \n",
      "*   \n",
      "* -\u8868\u793a\u5de6\u5bf9\u9f50  \n",
      "* +\u8868\u793a\u52a0\u4e0a\u6b63\u8d1f\u53f7  \n",
      "* \u7a7a\u683c\u8868\u793a\u6b63\u6570\u4e4b\u524d\u7684\u7b26\u53f7\u4f4d\u7559\u7a7a\u683c  \n",
      "* 0\u8868\u793a\u4f4d\u6570\u4e0d\u591f\u7684\u75280\u8865\u5145  \n",
      "*   \n",
      "* \u6700\u5c0f\u5bbd\u5ea6\u5373\u6700\u5c0f\u5b57\u7b26\u6570\n",
      "#### \u7cbe\u5ea6\n",
      "* \u5bf9\u6d6e\u70b9\u6570\u6765\u8bf4\u662f\u5c0f\u6570\u70b9\u540e\u7684\u4f4d\u6570\n",
      "* \u5bf9\u5b57\u7b26\u4e32\u6765\u8bf4\u662f\u6700\u5927\u5b57\u7b26\u6570\n",
      "####\u8f6c\u6362\u7c7b\u578b\n",
      "* d,i\uff1a\u5e26\u7b26\u53f7\u7684\u5341\u8fdb\u5236\u6574\u6570\n",
      "* o\uff1a\u4e0d\u5e26\u7b26\u53f7\u7684\u516b\u8fdb\u5236\u6574\u6570\n",
      "* u\uff1a\u4e0d\u5e26\u7b26\u53f7\u7684\u5341\u8fdb\u5236\n",
      "* x\uff1a\u4e0d\u5e26\u7b26\u53f7\u7684\u5341\u516d\u8fdb\u5236\uff08\u5c0f\u5199\uff09\n",
      "* X\uff1a\u4e0d\u5e26\u7b26\u53f7\u7684\u5341\u516d\u8fdb\u5236\uff08\u5927\u5199\uff09\n",
      "* e\uff1a\u79d1\u5b66\u8ba1\u6570\u6cd5\u8868\u793a\u7684\u6d6e\u70b9\u6570\uff08\u5c0f\u5199\uff09\n",
      "* E\uff1a\u79d1\u5b66\u8ba1\u6570\u6cd5\u8868\u793a\u7684\u6d6e\u70b9\u6570\uff08\u5927\u5199\uff09\n",
      "* f,F\uff1a\u5341\u8fdb\u5236\u6d6e\u70b9\u6570\n",
      "* g,G\uff1a\u5982\u679c\u6307\u6570\u5927\u4e8e-4\u6216\u8005\u5c0f\u4e8e\u7cbe\u5ea6\u503c\u5219\u548ce\uff08E\uff09\u540c\uff0c\u5176\u4ed6\u60c5\u51b5\u548cf\uff08F\uff09\u540c\n",
      "* C\uff1a\uff08\u6ce8\u610f\u662f\u5927\u5199\uff09\u5355\u5b57\u7b26\n",
      "* r\uff1a\u5b57\u7b26\u4e32\uff08repr\uff09\n",
      "* s\uff1a\u5b57\u7b26\u4e32\uff08str\uff09"
     ]
    },
    {
     "cell_type": "code",
     "collapsed": false,
     "input": [
      "#\u5b57\u6bb5\u5bbd\u5ea6  \u548c   \u7cbe\u5ea6\u90fd\u53ef\u4ee5\u7528*\u4ee3\u66ff\uff0c\u5176\u503c\u4ece\u5143\u7ec4\u4e2d\u83b7\u53d6\n",
      "\"%.*s\" % (5, 'Guido van Rossum')"
     ],
     "language": "python",
     "metadata": {},
     "outputs": [
      {
       "metadata": {},
       "output_type": "pyout",
       "prompt_number": 5,
       "text": [
        "'Guido'"
       ]
      }
     ],
     "prompt_number": 5
    },
    {
     "cell_type": "code",
     "collapsed": false,
     "input": [],
     "language": "python",
     "metadata": {},
     "outputs": []
    }
   ],
   "metadata": {}
  }
 ]
}