{
 "metadata": {
  "name": "",
  "signature": "sha256:e2aa11c3471356cdeb5891c5883c4c1a4f7304ae6bbc4e049f84738ebbc67dbc"
 },
 "nbformat": 3,
 "nbformat_minor": 0,
 "worksheets": [
  {
   "cells": [
    {
     "cell_type": "markdown",
     "metadata": {},
     "source": [
      "re\u6a21\u5757\u5305\u542b\u6b63\u5219\u8868\u8fbe\u5f0f\u7684\u652f\u6301\uff0c\u8fd9\u4e2a\u529f\u80fd\u5f88\u6709\u7528\uff0c\u6240\u4ee5\u5355\u72ec\u62ff\u51fa\u6765     \n",
      "\u6b63\u5219\u8868\u8fbe\u5f0f\u7684\u5b66\u4e60\u4e2d\uff0c\u6bcf\u6b21\u53ea\u9700\u6839\u636e\u81ea\u5df1\u7684\u9700\u8981\u4e00\u6b21\u53ea\u5b66\u4e00\u70b9\uff0c\u4e0d\u5fc5\u4e00\u6b21\u6027\u5168\u90e8\u638c\u63e1      \n",
      "\u9664\u4e86\u6807\u51c6\u6587\u6863\u5916\uff0chttp://amk.ca/python/howto/regex/ \u4e5f\u662f\u8fd9\u65b9\u9762\u7684\u6709\u7528\u8d44\u6e90     \n",
      "###\u6b63\u5219\u8868\u8fbe\u5f0f\n",
      "* \u901a\u914d\u7b26    \n",
      "    \u5c0f\u6570\u70b9\uff08.\uff09\u8868\u793a\u4e00\u4e2a\u4efb\u610f\u5b57\u7b26\uff08\u9664\u4e86\u6362\u884c\u7b26\uff09        \n",
      "* \u91cd\u590d    \n",
      "    \u5728\u5b57\u7b26\u540e\u63a5\u52a0\u53f7\uff08+\uff09\u8868\u793a\u8fd9\u4e2a\u5b57\u7b26\u53ef\u4ee5\u91cd\u590d\u591a\u6b21\uff0c\u5982ht+p\n",
      "* \u7279\u6b8a\u5b57\u7b26\u8f6c\u4e49  \n",
      "    \u53cd\u659c\u7ebf\uff08\\\uff09   \n",
      "* \u5b57\u7b26\u96c6      \n",
      "    \u65b9\u62ec\u53f7\uff08[]\uff09\u628a\u53ef\u4ee5\u5339\u914d\u7684\u5b57\u7b26\u5305\u542b\u8d77\u6765\u6210\u4e3a\u5b57\u7b26\u96c6\uff0c\u8fd9\u6837\u5c31\u53ef\u4ee5\u5339\u914d\u5230\u5b57\u7b26\u96c6\u5185\u7684\u4efb\u610f\u5b57\u7b26\u4e00\u4e2a\uff0c\u5982[abc]      \n",
      "    \u8fd8\u53ef\u4ee5\u7528\u6a2a\u7ebf\uff08-\uff09\u53ef\u4ee5\u6307\u5b9a\u8303\u56f4\uff0c\u5982[a-zA-Z0-9]         \n",
      "    \u8131\u5b57\u7b26\uff08^\uff09\u53ef\u4ee5\u521b\u5efa\u4e00\u4e2a\u53cd\u8f6c\u5b57\u7b26\u96c6\uff0c\u5982[^abc]\u8868\u793a\u9664\u4e86'a','b','c'\u7684\u4efb\u610f\u5b57\u7b26\u4e00\u4e2a     \n",
      "    \u5728\u5b57\u7b26\u96c6\u4e2d\u7684\u5b57\u7b26\u4e00\u822c\u4e0d\u9700\u8981\u8f6c\u4e49\uff08\u9664\u4e86^\u3001-\u3001]\u7b49\u5b57\u7b26\u96c6\u91cc\u7684\u7279\u6b8a\u5b57\u7b26\uff09\uff0c\u4e0d\u8fc7\u8f6c\u4e49\u5012\u4e5f\u662f\u5408\u6cd5\u7684      \n",
      "* \u9009\u62e9\u7b26\u548c\u5b50\u6a21\u5f0f     \n",
      "    \u7ba1\u9053\u7b26\u53f7\uff08|\uff09\u8868\u793a\u201c\u6216\u201d\uff0c\u5982python|perl      \n",
      "    \u5706\u62ec\u53f7\uff08()\uff09\u8868\u793a\u62ec\u53f7\u5185\u4e3a\u5b50\u6a21\u5f0f\uff0c\u5373\u662f\u5728\u9650\u5236\u62ec\u53f7\u5185\u7b26\u53f7\u7684\u4f5c\u7528\u8303\u56f4\uff0c\u5982p(ython|erl)     \n",
      "* \u53ef\u9009\u9879\u548c\u91cd\u590d\u5b50\u6a21\u5f0f      \n",
      "    \u5b50\u6a21\u5f0f\u540e\u63a5\u95ee\u53f7\uff08?\uff09\u8868\u793a\u5b50\u6a21\u5f0f\u662f\u53ef\u9009\u7684\uff0c\u53ef\u6709\u53ef\u65e0\u7684\uff0c\u5982(http://)?(www\\.)?python\\.org       \n",
      "    \u5b50\u6a21\u5f0f\u540e\u63a5\u661f\u53f7\uff08\\*\uff09\u8868\u793a\u5b50\u6a21\u5f0f\u53ef\u4ee5\u91cd\u590d\u96f6\u5230\u65e0\u7a77\u591a\u6b21\uff0c\u5982(pattern)\\*    \n",
      "    \u5b50\u6a21\u5f0f\u540e\u63a5\u52a0\u53f7\uff08+\uff09\u8868\u793a\u5b50\u6a21\u5f0f\u53ef\u4ee5\u91cd\u590d\u4e00\u5230\u65e0\u7a77\u591a\u6b21\uff0c\u5982(pattern)+     \n",
      "    \u5b50\u6a21\u5f0f\u540e\u63a5\u82b1\u62ec\u53f7\uff08{m, n}\uff09\u8868\u793a\u5b50\u6a21\u5f0f\u53ef\u4ee5\u91cd\u590dm\uff5en\u6b21\uff0c\u5982(pattern){m, n}\uff0c\u4e5f\u53ef\u4ee5\u662f(pattern){n}\u76f4\u63a5\u6307\u5b9a\u4e3an\u6b21             \n",
      "    \u8fd9\u4e9b\u7b26\u53f7\u4e0d\u6b62\u53ef\u4ee5\u7528\u5728\u5b50\u6a21\u5f0f\u4e2d\uff0c\u8fd8\u53ef\u4ee5\u7528\u5728\u666e\u901a\u7684\u5355\u4e2a\u5b57\u7b26\u6216\u8005\u901a\u914d\u7b26\n",
      "    \n",
      "**\u66f4\u591a\u8fd0\u7b97\u7b26\u53c2\u8003http://python.org/doc/lib/re-syntax **"
     ]
    },
    {
     "cell_type": "markdown",
     "metadata": {},
     "source": [
      "###re\u6a21\u5757\u5185\u5bb9   \n",
      "* compile(pattern[, flags])\uff1a\u6839\u636e\u5305\u542b\u6b63\u5219\u8868\u8fbe\u5f0f\u7684\u5b57\u7b26\u4e32\u521b\u5efa\u6a21\u5f0f\u5bf9\u8c61\uff08\u5f62\u6210\u89c4\u5219\uff0c\u53ef\u4ee5\u591a\u6b21\u8c03\u7528\u5339\u914d\uff09      \n",
      "    \u5176\u5b9e\u5728\u8c03\u7528search\u548cmatch\u65f6\u4e5f\u4f1a\u5728\u5185\u5bb9\u521b\u5efa\u6a21\u5f0f\u5bf9\u8c61\u7684    \n",
      "    \u6a21\u5f0f\u5bf9\u8c61\u672c\u8eab\u5177\u6709search\u548cmatch\u51fd\u6570\uff0c\u7528\u6cd5\u4e0ere\u6a21\u5757\u7684\u540c\u540d\u51fd\u6570\u4e00\u81f4       \n",
      "    flags\u53c2\u6570\u7528\u4e8e\u6539\u53d8\u89e3\u91ca\u6b63\u5219\u8868\u8fbe\u5f0f\u7684\u65b9\u6cd5\n",
      "* search(pattern, string[, flags])\uff1a\u5728\u5b57\u7b26\u4e32\u4e2d\u5bfb\u627e\u6307\u5b9a\u6a21\u5f0f\u7684\u5b50\u5b57\u7b26\u4e32     \n",
      "    \u82e5\u67e5\u627e\u5230\u7b2c\u4e00\u4e2a\u5339\u914d\u9879\uff0c\u5373\u8fd4\u56deMatchObject\uff08\u503c\u4e3aTrue\uff09     \n",
      "    \u82e5\u67e5\u627e\u4e0d\u5230\uff0c\u5373\u8fd4\u56deNone\uff08\u503c\u4e3aFalse\uff09\n",
      "* match(pattern, string[, flags])\uff1a\u5728\u5b57\u7b26\u4e32\u7684\u5f00\u59cb\u5904\u5339\u914d\u6a21\u5f0f     \n",
      "    \u53ea\u4f1a\u5339\u914d\u5f00\u59cb\u90e8\u5206\uff0c\u4e0d\u4f1a\u5339\u914d\u6574\u4e2a\u5b57\u7b26\u4e32      \n",
      "    \u4f46\u53ef\u4ee5\u5728\u6a21\u5f0f\u7684\u672b\u5c3e\u52a0\u5165\u7f8e\u5143\u7b26\u53f7\uff08$\uff09\uff0c\u4f7f\u8fd9\u4e2a\u6a21\u5f0f\u201c\u987a\u5ef6\u201d\u6574\u4e2a\u5b57\u7b26\u4e32       \n",
      "    \u5982\u679c\u5339\u914d\u5230\u4e86\uff0c\u8fd4\u56deMatchObject\u5bf9\u8c61\uff0c\u5426\u5219\u8fd4\u56deNone\n",
      "* split(pattern, string[, maxsplit=0])\uff1a\u6839\u636e\u6a21\u5f0f\u7684\u5339\u914d\u9879\u6765\u5206\u5272\u5b57\u7b26\u4e32     \n",
      "    \u5982\u679c\u6a21\u5f0f\u5305\u542b\u5b50\u6a21\u5f0f\uff0c\u90a3\u4e48\u5b50\u6a21\u5f0f\u4e5f\u662f\u5339\u914d\u7684\u4e00\u90e8\u5206\uff0c\u4f46\u662f\u5b57\u7b26\u4e32\u5206\u5272\u540e\u4f1a\u628a\u5b50\u6a21\u5f0f\u5185\u7684\u7ec4\u5408\u4f5c\u4e3a\u5206\u5272\u540e\u7684\u95f4\u9694\u5b57\u7b26\u4e32\n",
      "* findall(pattern, string)\uff1a\u5217\u51fa\u5b57\u7b26\u4e32\u4e2d\u6a21\u5f0f\u7684\u6240\u6709\u5339\u914d\u9879     \n",
      "* sub(pat, repl, string[, count=0])\uff1a\u5c06\u5b57\u7b26\u4e32\u4e2d\u6240\u6709pat\u7684\u5339\u914d\u9879\u7528repl\u66ff\u6362      \n",
      "    repl\u53c2\u6570\u4e2d\u53ef\u4ee5\u4ee5\u53cd\u659c\u6760\u52a0\u6570\u5b57\u7684\u5f62\u5f0f\u8868\u793a\u7ec4\uff0c\u5982\\\\1\u8868\u793a\u7ec41        \n",
      "    repl\u8fd8\u53ef\u4ee5\u662f\u4e00\u4e2a\u4f5c\u4e3a\u66ff\u6362\u89c4\u5219\u7684\u51fd\u6570\n",
      "* escape(string)\uff1a\u5c06\u5b57\u7b26\u4e32\u4e2d\u6240\u6709\u7279\u6b8a\u6b63\u5219\u8868\u8fbe\u5f0f\u5b57\u7b26\u52a0\u4e0a\u53cd\u659c\u6760\u8f6c\u4e49      \n",
      "     \n",
      "\u5728re\u6a21\u5757\u7684\u51fd\u6570\u4e2d\u53ef\u4ee5\u4f7f\u7528VERBOSE\u6807\u5fd7\uff0c\u5373\u52a0\u5165\u4e00\u4e2are.VERBOSE\u4f5c\u4e3a\u53c2\u6570            \n",
      "\u5b83\u5141\u8bb8\u5728\u6a21\u5f0f\u4e2d\u6dfb\u52a0\u7a7a\u767d\uff08\u7a7a\u683c\u3001tab\u3001\u6362\u884c\u7b26\u7b49\uff09\uff0c\u5f53\u9700\u8981\u4f7f\u7528\u7a7a\u767d\u7b26\u65f6\u518d\u7528\u53cd\u659c\u6760\u8fdb\u884c\u8f6c\u4e49\uff0c\u4e5f\u53ef\u4ee5\u4f7f\u7528#\u6ce8\u91ca"
     ]
    },
    {
     "cell_type": "markdown",
     "metadata": {},
     "source": [
      "import re"
     ]
    },
    {
     "cell_type": "code",
     "collapsed": false,
     "input": [
      "re.split('o(xx)', 'foobar|foxxbar|foxxoxxbar')"
     ],
     "language": "python",
     "metadata": {},
     "outputs": [
      {
       "metadata": {},
       "output_type": "pyout",
       "prompt_number": 6,
       "text": [
        "['foobar|f', 'xx', 'bar|f', 'xx', '', 'xx', 'bar']"
       ]
      }
     ],
     "prompt_number": 6
    },
    {
     "cell_type": "code",
     "collapsed": false,
     "input": [
      "re.findall('[a-zA-Z]+', '\"Hm...Err -- are you sure?\" he said. sounding insecure')"
     ],
     "language": "python",
     "metadata": {},
     "outputs": [
      {
       "metadata": {},
       "output_type": "pyout",
       "prompt_number": 3,
       "text": [
        "['Hm', 'Err', 'are', 'you', 'sure', 'he', 'said', 'sounding', 'insecure']"
       ]
      }
     ],
     "prompt_number": 3
    },
    {
     "cell_type": "code",
     "collapsed": false,
     "input": [
      "re.escape(\"www.python.com\")"
     ],
     "language": "python",
     "metadata": {},
     "outputs": [
      {
       "metadata": {},
       "output_type": "pyout",
       "prompt_number": 5,
       "text": [
        "'www\\\\.python\\\\.com'"
       ]
      }
     ],
     "prompt_number": 5
    },
    {
     "cell_type": "markdown",
     "metadata": {},
     "source": [
      "####\u5339\u914d\u5bf9\u8c61\u548c\u7ec4     \n",
      "\u5339\u914d\u6a21\u5f0f\u7684\u5b50\u5b57\u7b26\u4e32\uff08\u5b50\u6a21\u5f0f\uff09\u79f0\u4e3a\u7ec4\uff0c\u7ec4\u53f7\u4e0e\u5de6\u7aef\u5de6\u62ec\u53f7\u6570\u76f8\u7b49\uff0c\u6574\u4e2a\u5b57\u7b26\u4e32\u4e3a\u7ec40      \n",
      "\u5982\uff1a'There (was a (wee) (cooper)) who (lived in Fyfe)'\u5305\u542b\u4ee5\u4e0b\u7ec4      \n",
      "* 0 There was a wee cooper who lived in Fyfe      \n",
      "* 1 was a wee cooper      \n",
      "* 2 wee\n",
      "* 3 cooper\n",
      "* 4 lived in Fyfe    \n",
      "       \n",
      "\u90e8\u5206\u51fd\u6570\u4f1a\u8fd4\u56deMatchObject\u5bf9\u8c61\uff0c\u8fd9\u4e2a\u5bf9\u8c61\u5305\u542b\u5339\u914d\u6a21\u5f0f\u7684\u5404\u4e2a\u7ec4\u7684\u4fe1\u606f\uff0c\u53ef\u4ee5\u901a\u8fc7\u4e00\u4e9b\u65b9\u6cd5\u6765\u8bbf\u95ee       \n",
      "* group([group1, ......])\uff1a\u83b7\u53d6\u7ed9\u5b9a\u7684\u7ec4\u7684\u5339\u914d\u9879\uff08\u82e5\u4e3a\u591a\u4e2a\u7ec4\uff0c\u5c06\u4ee5\u5143\u7ec4\u7684\u5f62\u5f0f\u7ed9\u51fa\uff09        \n",
      "* start([group])\uff1a\u8fd4\u56de\u7ed9\u5b9a\u7ec4\u5339\u914d\u9879\u7684\u8d77\u59cb\u4f4d\u7f6e\uff08\u7d22\u5f15\uff09     \n",
      "* end([group])\uff1a\u8fd4\u56de\u7ed9\u5b9a\u7ec4\u5339\u914d\u9879\u7684\u7ed3\u675f\u4f4d\u7f6e\uff08\u7d22\u5f15+1\uff0c\u4fbf\u4e8e\u5206\u7247\u4f7f\u7528\uff09       \n",
      "* span([group])\uff1a\u8fd4\u56de\u7ed9\u5b9a\u7ec4\u5339\u914d\u9879\u7684\u59cb\u672b\u4f4d\u7f6e\uff08\u4ee5\u5143\u7ec4(start, end)\u5730\u5f62\u5f0f\u8fd4\u56de\uff09      \n",
      "  \n",
      "\u8fd9\u4e9b\u65b9\u6cd5\u53ef\u4ee5\u7701\u7565\u53c2\u6570\uff0c\u9ed8\u8ba4\u4e3a\u7ec40\u5373\u6574\u4e2a\u5b57\u7b26\u4e32    "
     ]
    },
    {
     "cell_type": "code",
     "collapsed": false,
     "input": [
      "m = re.match(r'www\\.(.*)\\..{3}', 'www.python.org')\n",
      "#\u6a21\u5f0f\u4f7f\u7528\u539f\u59cb\u5b57\u7b26\u4e32\uff0c\u9632\u6b62\u53cd\u659c\u6760\u88ab\u63d0\u524d\u8f6c\u4e49\n",
      "#.*\u8868\u793a\u4efb\u610f\u6570\u91cf\u7684\u4efb\u610f\u5b57\u7b26\n",
      "#.{3}\u8868\u793a\u4e09\u4e2a\u4efb\u610f\u5b57\u7b26\n",
      "#\u8fd9\u4e2a\u6a21\u5f0f\u5339\u914d\u5230\u7684\u662f\uff0c'www.'  \u4efb\u610f\u6570\u91cf\u7684\u4efb\u610f\u5b57\u7b26 . \u4e09\u4e2a\u4efb\u610f\u5b57\u7b26\n",
      "#\u7ec40\u4e3awww.python.org\n",
      "#\u7ec41\u4e3apython"
     ],
     "language": "python",
     "metadata": {},
     "outputs": [],
     "prompt_number": 8
    },
    {
     "cell_type": "code",
     "collapsed": false,
     "input": [
      "m.group(1)"
     ],
     "language": "python",
     "metadata": {},
     "outputs": [
      {
       "metadata": {},
       "output_type": "pyout",
       "prompt_number": 9,
       "text": [
        "'python'"
       ]
      }
     ],
     "prompt_number": 9
    },
    {
     "cell_type": "code",
     "collapsed": false,
     "input": [
      "m.start(1)        #\u8d77\u59cb\u7d22\u5f15"
     ],
     "language": "python",
     "metadata": {},
     "outputs": [
      {
       "metadata": {},
       "output_type": "pyout",
       "prompt_number": 10,
       "text": [
        "4"
       ]
      }
     ],
     "prompt_number": 10
    },
    {
     "cell_type": "code",
     "collapsed": false,
     "input": [
      "m.end(1)        #\u7ed3\u675f\u7d22\u5f15 + 1"
     ],
     "language": "python",
     "metadata": {},
     "outputs": [
      {
       "metadata": {},
       "output_type": "pyout",
       "prompt_number": 11,
       "text": [
        "10"
       ]
      }
     ],
     "prompt_number": 11
    },
    {
     "cell_type": "code",
     "collapsed": false,
     "input": [
      "m.span(1)            #\u8d77\u59cb\u548c\u7ed3\u675f\u7d22\u5f15"
     ],
     "language": "python",
     "metadata": {},
     "outputs": [
      {
       "metadata": {},
       "output_type": "pyout",
       "prompt_number": 12,
       "text": [
        "(4, 10)"
       ]
      }
     ],
     "prompt_number": 12
    },
    {
     "cell_type": "markdown",
     "metadata": {},
     "source": [
      "####sub\u51fd\u6570\u2014\u2014\u4f5c\u4e3a\u66ff\u6362\u7684\u7ec4\u53f7\u548c\u51fd\u6570       \n",
      "\u6a21\u62dfmarkdown\u5c06\u201c\\*somthing\\*\u201d\u81ea\u52a8\u8f6c\u6362\u4e3aHTML\u6807\u7b7e\u7684\u201c< em\\>somthing< /em\\>\u201d"
     ]
    },
    {
     "cell_type": "code",
     "collapsed": false,
     "input": [
      "emphasis_pattern = re.compile(r'''\n",
      "    \\*            #Beginning emphasis tag -- an asterisk\n",
      "    (              #Begin group for capturing phrase\n",
      "    [^\\*]+      #Capture anything except aster\n",
      "    )              #End group \n",
      "    \\*            #Ending emphasis tag\n",
      "    ''', re.VERBOSE)               #\u5bf9compile\u51fd\u6570\u91c7\u7528VERBOSE\u6807\u5fd7\uff0c\u5bf9\u6a21\u5f0f\u8fdb\u884c\u8be6\u7ec6\u8bf4\u660e"
     ],
     "language": "python",
     "metadata": {},
     "outputs": [],
     "prompt_number": 13
    },
    {
     "cell_type": "code",
     "collapsed": false,
     "input": [
      "re.sub(emphasis_pattern, r'<em>\\1</em>', 'Hello *world*!')\n",
      "#\u8fd9\u91cc\u7684\u7b2c\u4e8c\u4e2a\u53c2\u6570\u4f7f\u7528\u4e86\u201c\\1\u201d\uff0c\u8fd9\u91cc\u8868\u793a\u7ec41\n",
      "#\u7b49\u4ef7\u4e8eemphasis_pattern.sub(r'<em>\\1</em>', 'Hello *world*!')"
     ],
     "language": "python",
     "metadata": {},
     "outputs": [
      {
       "metadata": {},
       "output_type": "pyout",
       "prompt_number": 14,
       "text": [
        "'Hello <em>world</em>!'"
       ]
      }
     ],
     "prompt_number": 14
    },
    {
     "cell_type": "markdown",
     "metadata": {},
     "source": [
      "* \u8d2a\u5a6a\uff08greedy\uff09\u548c\u975e\u8d2a\u5a6a\u6a21\u5f0f      \n",
      "    \u4e0a\u9762\u7684\u6a21\u5f0f\u4e2d\u201c[^\\*]+\u201d\u8868\u793a\u4efb\u610f\u6570\u91cf\u7684\u975e\u661f\u53f7\u5b57\u7b26\uff0c\u5982\u679c\u6211\u4eec\u628a\u5b83\u6539\u6210\u201c.+\u201d\u4efb\u610f\u6570\u91cf\u5b57\u7b26\u5462\uff1f"
     ]
    },
    {
     "cell_type": "code",
     "collapsed": false,
     "input": [
      "emphasis_pattern = r'\\*(.+)\\*'"
     ],
     "language": "python",
     "metadata": {},
     "outputs": [],
     "prompt_number": 15
    },
    {
     "cell_type": "code",
     "collapsed": false,
     "input": [
      "text = '*This* is *it*!'"
     ],
     "language": "python",
     "metadata": {},
     "outputs": [],
     "prompt_number": 16
    },
    {
     "cell_type": "code",
     "collapsed": false,
     "input": [
      "repl = r'<em>\\1</em>'"
     ],
     "language": "python",
     "metadata": {},
     "outputs": [],
     "prompt_number": 17
    },
    {
     "cell_type": "code",
     "collapsed": false,
     "input": [
      "re.sub(emphasis_pattern, repl, text)\n",
      "#\u6a21\u5f0f\u5339\u914d\u4e86\u4ece\u5f00\u59cb\u661f\u53f7\u5230\u7ed3\u675f\u661f\u53f7\u7684\u6240\u6709\u5185\u5bb9\uff0c\u8fd9\u5c31\u662f\u8d2a\u5a6a\u6a21\u5f0f"
     ],
     "language": "python",
     "metadata": {},
     "outputs": [
      {
       "metadata": {},
       "output_type": "pyout",
       "prompt_number": 19,
       "text": [
        "'<em>This* is *it</em>!'"
       ]
      }
     ],
     "prompt_number": 19
    },
    {
     "cell_type": "code",
     "collapsed": false,
     "input": [
      "emphasis_pattern = r'\\*(.+?)\\*'\n",
      "#\u6211\u4eec\u5728+\u540e\u9762\u52a0\u4e0a?\uff0c\u5373\u53d8\u4e3a\u975e\u8d2a\u5a6a\u6a21\u5f0f\uff0c\u5b83\u4ec5\u4f1a\u5339\u914d\u5230\u4e0b\u4e00\u4e2a\u5339\u914d\u9879\u524d\u7684\u6700\u5c11\u5185\u5bb9"
     ],
     "language": "python",
     "metadata": {},
     "outputs": [],
     "prompt_number": 20
    },
    {
     "cell_type": "code",
     "collapsed": false,
     "input": [
      "re.sub(emphasis_pattern, repl, text)"
     ],
     "language": "python",
     "metadata": {},
     "outputs": [
      {
       "metadata": {},
       "output_type": "pyout",
       "prompt_number": 21,
       "text": [
        "'<em>This</em> is <em>it</em>!'"
       ]
      }
     ],
     "prompt_number": 21
    },
    {
     "cell_type": "code",
     "collapsed": false,
     "input": [],
     "language": "python",
     "metadata": {},
     "outputs": []
    }
   ],
   "metadata": {}
  }
 ]
}