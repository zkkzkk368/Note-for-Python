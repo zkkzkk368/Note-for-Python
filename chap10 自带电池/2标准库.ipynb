{
 "metadata": {
  "name": "",
  "signature": "sha256:4379ade3c062b52cc09f02eb22accecd6e3b56d844cf81516a16d80966fbf097"
 },
 "nbformat": 3,
 "nbformat_minor": 0,
 "worksheets": [
  {
   "cells": [
    {
     "cell_type": "markdown",
     "metadata": {},
     "source": [
      "\u672c\u8282\u4ecb\u7ecd\u5e38\u7528\u7684\u6a21\u5757\u548c\u51fd\u6570"
     ]
    },
    {
     "cell_type": "markdown",
     "metadata": {},
     "source": [
      "###sys   \n",
      "\u5305\u542b\u4e00\u4e9b\u4e0e\u89e3\u91ca\u5668\u5173\u7cfb\u7d27\u5bc6\u7684\u53d8\u91cf\u548c\u51fd\u6570    \n",
      "* argv\uff1a\u4f20\u9012\u5230\u89e3\u91ca\u5668\u7684\u547d\u4ee4\u884c\u53c2\u6570\uff0c\u5305\u62ec\u811a\u672c\u540d\u79f0     \n",
      "* exit([arg])\uff1a\u9000\u51fa\u5f53\u524d\u7a0b\u5e8f\uff08\u5982\u679c\u5728try/finally\u5757\u4e2d\u8c03\u7528\uff0cfinally\u5b50\u53e5\u4ecd\u4f1a\u6267\u884c\uff09\n",
      "    * \u53ef\u9009\u53c2\u6570arg\uff1a\u7ed9\u5b9a\u7684\u8fd4\u56de\u503c\uff08\u901a\u5e38\u75280\u8868\u793a\u6210\u529f\uff09\u6216\u9519\u8bef\u4fe1\u606f     \n",
      "* modules\uff1a\u6620\u5c04\u6a21\u5757\u540d\u5b57\u5230\u8f7d\u5165\u6a21\u5757\u7684\u5b57\u5178    \n",
      "* path\uff1a\u67e5\u627e\u6a21\u5757\u6240\u5728\u76ee\u5f55\u7684\u76ee\u5f55\u540d\u5217\u8868     \n",
      "* platform\uff1a\u7c7b\u4f3csunos5\u6216win32\u7684\u5e73\u53f0\u6807\u8bc6\u7b26       \n",
      "* stdin\uff1a\u6807\u51c6\u8f93\u5165\u6d41\u2014\u2014\u4e00\u4e2a\u7c7b\u6587\u4ef6\uff08file-like\uff09\u5bf9\u8c61      \n",
      "* stdout\uff1a\u6807\u51c6\u8f93\u51fa\u6d41\u2014\u2014\u4e00\u4e2a\u7c7b\u6587\u4ef6\u5bf9\u8c61      \n",
      "* stderr\uff1a\u6807\u51c6\u9519\u8bef\u7559\u2014\u2014\u4e00\u4e2a\u7c7b\u6587\u4ef6\u5bf9\u8c61"
     ]
    },
    {
     "cell_type": "code",
     "collapsed": false,
     "input": [
      "#argv\u53d8\u91cf\u7684\u4f7f\u7528\u2014\u2014\u53cd\u5e8f\u6253\u5370\u547d\u4ee4\u884c\u53c2\u6570"
     ],
     "language": "python",
     "metadata": {},
     "outputs": [],
     "prompt_number": 1
    },
    {
     "cell_type": "code",
     "collapsed": false,
     "input": [
      "import sys"
     ],
     "language": "python",
     "metadata": {},
     "outputs": [],
     "prompt_number": 2
    },
    {
     "cell_type": "code",
     "collapsed": false,
     "input": [
      "args = sys.argv[1:]       \n",
      "#\u6b64\u5904\u8df3\u8fc7\u4e86\u7b2c\u4e00\u4e2a\u5143\u7d20\uff0c\u90a3\u662f\u811a\u672c\u7684\u540d\u5b57\n",
      "#\u8fd9\u91cc\u5bf9sys.argv\u8fdb\u884c\u4e86\u590d\u5236\uff0c\u5f53\u7136\u6211\u4eec\u4e5f\u53ef\u4ee5\u5728\u539f\u59cb\u5217\u8868\u4e0a\u64cd\u4f5c\uff0c\u4f46\u662f\u4e0d\u5b89\u5168 "
     ],
     "language": "python",
     "metadata": {},
     "outputs": [],
     "prompt_number": 3
    },
    {
     "cell_type": "code",
     "collapsed": false,
     "input": [
      "args.reverse()      #\u53cd\u5e8f\u6392\u5217\uff0c\u4e0d\u8fd4\u56de\u503c"
     ],
     "language": "python",
     "metadata": {},
     "outputs": [],
     "prompt_number": 4
    },
    {
     "cell_type": "code",
     "collapsed": false,
     "input": [
      "print ' '.join(args)       #\u56e0\u4e3a\u662f\u7528ipython notebook\u6253\u5f00\uff0c\u4f1a\u6709\u5f88\u591a\u53c2\u6570"
     ],
     "language": "python",
     "metadata": {},
     "outputs": [
      {
       "output_type": "stream",
       "stream": "stdout",
       "text": [
        "--parent=1 /home/zk/.ipython/profile_default --profile-dir --IPKernelApp.parent_appname='ipython-notebook' /home/zk/.ipython/profile_default/security/kernel-24117013-540c-46fe-b513-2b15243e7304.json -f\n"
       ]
      }
     ],
     "prompt_number": 6
    },
    {
     "cell_type": "markdown",
     "metadata": {},
     "source": [
      "###os   \n",
      "\u63d0\u4f9b\u4e86\u8bbf\u95ee\u591a\u4e2a\u64cd\u4f5c\u7cfb\u7edf\u670d\u52a1\u7684\u529f\u80fd     \n",
      "os\u548c\u5b83\u7684\u5b50\u6a21\u5757os.path\u8fd8\u5305\u62ec\u4e00\u4e9b\u68c0\u67e5\u3001\u6784\u9020\u3001\u5220\u9664\u76ee\u5f55\u548c\u6587\u4ef6\u7684\u51fd\u6570\uff0c\u4ee5\u53ca\u4e00\u4e9b\u5904\u7406\u8def\u5f84\u7684\u51fd\u6570    \n",
      "* environ\uff1a\u5bf9\u73af\u5883\u53d8\u91cf\u8fdb\u884c\u6620\u5c04    \n",
      "* system(command)\uff1a\u5728\u5b50shell\u4e2d\u6267\u884c\u64cd\u4f5c\u7cfb\u7edf\u547d\u4ee4     \n",
      "    * \u5728Windows\u4e2d\uff0c\u8fd8\u6709\u7279\u6709\u7684\u51fd\u6570os.startfile\u7528\u6765\u6253\u5f00\u7a97\u53e3\u6587\u4ef6\u800c\u4e0d\u662fDOS\u7a97\u53e3     \n",
      "        \u7531os.system\u6216os.startfile\u542f\u52a8\u5916\u90e8\u7a0b\u5e8f\u540e\uff0cpython\u4ecd\u5728\u8fd0\u884c     \n",
      "    * \u5728UNIX\u4e2d\uff0cpython\u4f1a\u7ec8\u6b62\uff0c\u76f4\u5230\u547d\u4ee4\u6267\u884c\u5b8c\u6210\n",
      "* sep\uff1a\u8def\u5f84\u4e2d\u7684\u5206\u9694\u7b26   \n",
      "    * UINX\u662f\u5355\u659c\u6760\u201c/\u201d         \n",
      "    * Windows\u662f\u53cc\u53cd\u659c\u6760\u201c\\\\\\\\\u201d              \n",
      "    * Mac OS\u662f\u5192\u53f7\u201c:\u201d      \n",
      "    * \u6709\u4e9b\u5e73\u53f0\u4e0a\uff0cos.altsep\u5305\u542b\u53ef\u9009\u7684\u8def\u5f84\u5206\u9694\u7b26      \n",
      "        * Windows\u662f\u5355\u659c\u6760\u201c/\u201d\n",
      "        * UNIX\u4f3c\u4e4e\u6ca1\u6709\u53ef\u9009\u7684\u5206\u9694\u7b26\uff1f\uff1f\uff1f\n",
      "* pathsep\uff1a\u5206\u9694\u591a\u4e2a\u8def\u5f84\u7684\u5206\u9694\u7b26     \n",
      "    * UNIX\u662f\u5192\u53f7\u201c:\u201d\n",
      "    * Windows\u662f\u5206\u53f7\u201c;\u201d       \n",
      "    * Mac OS\u662f\u53cc\u5192\u53f7\u201c::\u201d       \n",
      "* linesep\uff1a\u6587\u672c\u5b57\u7b26\u4e32\u7684\u884c\u5206\u9694\u7b26      \n",
      "    * UNIX\u662f\u5355\u6362\u884c\u7b26\u201c\\\\n\u201d      \n",
      "    * Windows\u662f\u56de\u8f66\u7b26+\u6362\u884c\u7b26\"\\\\r\\\\n\"\n",
      "    * Mac OS\u662f\u5355\u56de\u8f66\u7b26\u201c\\\\r\u201d\n",
      "* urandom(n)\uff1a\u8fd4\u56den\u5b57\u8282\u7684\u52a0\u5bc6\u5f3a\u968f\u673a\u6570\u636e\uff08\u201c\u771f\u201d\u968f\u673a\u6570\uff09          \n",
      "    \u5982\u679c\u5e73\u53f0\u4e0d\u652f\u6301\uff0c\u4f1a\u4ea7\u751fNotImplementedError\u5f02\u5e38      "
     ]
    },
    {
     "cell_type": "code",
     "collapsed": false,
     "input": [
      "#environ\u6620\u5c04\u53ef\u4ee5\u8bbf\u95ee\u73af\u5883\u53d8\u91cf\uff0c\u4e5f\u53ef\u4ee5\u66f4\u6539\uff08\u4f46\u4e0d\u662f\u6240\u6709\u7cfb\u7edf\u90fd\u80fd\u652f\u6301\uff09"
     ],
     "language": "python",
     "metadata": {},
     "outputs": [],
     "prompt_number": 1
    },
    {
     "cell_type": "code",
     "collapsed": false,
     "input": [
      "import os"
     ],
     "language": "python",
     "metadata": {},
     "outputs": [],
     "prompt_number": 2
    },
    {
     "cell_type": "code",
     "collapsed": false,
     "input": [
      "#\u67e5\u770bLANG\u73af\u5883\u53d8\u91cf\n",
      "os.environ['LANG']"
     ],
     "language": "python",
     "metadata": {},
     "outputs": [
      {
       "metadata": {},
       "output_type": "pyout",
       "prompt_number": 5,
       "text": [
        "'zh_CN.UTF-8'"
       ]
      }
     ],
     "prompt_number": 5
    },
    {
     "cell_type": "code",
     "collapsed": false,
     "input": [
      "#sep\u662f\u5f53\u524d\u7cfb\u7edf\u7684\u8def\u5f84\u540d\u5206\u9694\u7b26\n",
      "os.sep"
     ],
     "language": "python",
     "metadata": {},
     "outputs": [
      {
       "metadata": {},
       "output_type": "pyout",
       "prompt_number": 6,
       "text": [
        "'/'"
       ]
      }
     ],
     "prompt_number": 6
    },
    {
     "cell_type": "code",
     "collapsed": false,
     "input": [
      "#UNIX\u597d\u50cf\u6ca1\u6709\u53ef\u9009\u7684\u5206\u9694\u7b26\uff1f\uff1f\uff1f\uff1f\n",
      "os.altsep"
     ],
     "language": "python",
     "metadata": {},
     "outputs": [],
     "prompt_number": 8
    },
    {
     "cell_type": "code",
     "collapsed": false,
     "input": [
      "#pathsep\u662f\u5f53\u524d\u7cfb\u7edf\u7684\u591a\u4e2a\u8def\u5f84\u540d\u7684\u5206\u9694\u7b26\n",
      "os.pathsep"
     ],
     "language": "python",
     "metadata": {},
     "outputs": [
      {
       "metadata": {},
       "output_type": "pyout",
       "prompt_number": 9,
       "text": [
        "':'"
       ]
      }
     ],
     "prompt_number": 9
    },
    {
     "cell_type": "markdown",
     "metadata": {},
     "source": [
      "###fileinput       \n",
      "\u7528\u4e8e\u904d\u5386\u6587\u672c\u6587\u4ef6\u7684\u6240\u6709\u884c      \n",
      "* input([files [, inplace [, backup] ])\uff1a\u904d\u5386\u591a\u4e2a\u8f93\u5165\u6d41\u7684\u884c      \n",
      "    * \u8fd4\u56de\u80fd\u591f\u7528\u4e8efor\u5faa\u73af\u904d\u5386\u7684\u5bf9\u8c61    \n",
      "    *  \u9ed8\u8ba4\uff08\u4e0d\u5e26\u53c2\u6570\uff09\u67e5\u627e\u9700\u8981\u5faa\u73af\u904d\u5386\u7684\u6587\u4ef6     \n",
      "    * files\u53c2\u6570\uff1a\u6307\u5b9a\u4e00\u4e2a\u6216\u591a\u4e2a\u6587\u4ef6\u540d\uff0c\u653e\u5165\u6587\u4ef6\u5e8f\u5217\u4f9d\u6b21\u8bbf\u95ee     \n",
      "    * inplace\u53c2\u6570\uff1a\uff08\u5e03\u5c14\u503c\uff09\u662f\u5426\u8fdb\u884c\u539f\u5730\u5904\u7406     \n",
      "        \u5bf9\u4e8e\u8981\u8bbf\u95ee\u7684\u6ca1\u4e00\u884c\uff0c\u9700\u8981\u6253\u5370\u51fa\u66ff\u4ee3\u7684\u5185\u5bb9\uff0c\u4ee5\u8fd4\u56de\u5230\u5f53\u524d\u7684\u8f93\u5165\u6587\u4ef6\u4e2d      \n",
      "    * backup\u53c2\u6570\uff1a\uff08\u5f53inplace=True\u65f6\uff0c\u53ef\u9009\u8be5\u53c2\u6570\uff09\uff1a\u5c06\u6587\u4ef6\u540d\u6269\u5c55\u5907\u4efd\u5230\u901a\u8fc7\u539f\u59cb\u6587\u4ef6\u521b\u5efa\u7684\u5907\u4efd\u6587\u4ef6\u4e2d     \n",
      "* filename()\uff1a\u8fd4\u56de\u5f53\u524d\u6b63\u5728\u5904\u7406\u7684\u6587\u4ef6\u540d\uff08\u5305\u62ec\u5f53\u524d\u6b63\u5728\u5904\u7406\u7684\u6587\u672c\u884c\u7684\u6587\u4ef6\uff09     \n",
      "* lineno()\uff1a\u8fd4\u56de\u5f53\u524d\u884c\u7684\u884c\u6570\n",
      "    \u8fd9\u662f\u4e00\u4e2a\u7d2f\u8ba1\u503c\uff0c\u5b8c\u6210\u4e00\u4e2a\u6587\u4ef6\u7684\u5904\u7406\u5e76\u5f00\u59cb\u5904\u7406\u4e0b\u4e00\u4e2a\u6587\u4ef6\u65f6\u5e76\u4e0d\u4f1a\u91cd\u7f6e      \n",
      "* filelineno()\uff1a\u8fd4\u56de\u5f53\u524d\u6587\u4ef6\u7684\u5f53\u524d\u884c\u6570     \n",
      "    \u975e\u7d2f\u8ba1\u503c\uff0c\u5904\u7406\u53e6\u4e00\u4e2a\u6587\u4ef6\u65f6\u4f1a\u88ab\u91cd\u7f6e     \n",
      "* isfirstline()\uff1a\u8fd4\u56de\u5e03\u5c14\u503c\uff0c\u68c0\u67e5\u5f53\u524d\u884c\u662f\u5426\u4e3a\u6587\u4ef6\u9996\u884c   \n",
      "* isstdin()\uff1a\u8fd4\u56de\u5e03\u5c14\u503c\uff0c\u68c0\u67e5\u6700\u540e\u4e00\u884c\u662f\u5426\u6765\u81easys.stdin     \n",
      "* nextfile()\uff1a\u5173\u95ed\u5f53\u524d\u6587\u4ef6\uff0c\u79fb\u52a8\u5230\u4e0b\u4e00\u4e2a\u6587\u4ef6      \n",
      "    \u8df3\u8fc7\u7684\u884c\u4e0d\u8ba1\u5165lineno()     \n",
      "* close()\uff1a\u5173\u95ed\u5e8f\u5217\uff08\u6574\u4e2a\u6587\u4ef6\u94fe\uff09\uff0c\u7ed3\u675f\u8fed\u4ee3"
     ]
    },
    {
     "cell_type": "code",
     "collapsed": false,
     "input": [
      "#fileinput\u4f7f\u7528\u2014\u2014\u4e3apython\u811a\u672c\u6dfb\u52a0\u884c\u53f7\uff08\u5728\u884c\u672b\u4f5c\u4e3a\u6ce8\u91ca\uff09"
     ],
     "language": "python",
     "metadata": {},
     "outputs": [],
     "prompt_number": 10
    },
    {
     "cell_type": "code",
     "collapsed": false,
     "input": [
      "import fileinput"
     ],
     "language": "python",
     "metadata": {},
     "outputs": [],
     "prompt_number": 11
    },
    {
     "cell_type": "code",
     "collapsed": false,
     "input": [
      "for line in fileinput.input('/home/zk/\u684c\u9762/chap10 \u81ea\u5e26\u7535\u6c60/hello2.py',inplace=True):         #inplace\u4e3a\u771f\uff0c\u6587\u672c\u5185\u5bb9\u53ef\u4fee\u6539\n",
      "    line = line.rstrip()                #rstrip\u65b9\u6cd5\u5220\u9664\u5b57\u7b26\u4e32\u672b\u5c3e\u7684\u6307\u5b9a\u5b57\u7b26\uff08\u9ed8\u8ba4\u4e3a\u7a7a\u683c\uff09\u5e76\u8fd4\u56de\u7ed3\u679c\n",
      "    num = fileinput.lineno()\n",
      "    print '%-40s # %2i' % (line, num)"
     ],
     "language": "python",
     "metadata": {},
     "outputs": [],
     "prompt_number": 20
    },
    {
     "cell_type": "code",
     "collapsed": false,
     "input": [
      "#inplace\u53c2\u6570\u7684\u4f7f\u7528\u5f88\u5bb9\u6613\u7834\u574f\u7a0b\u5e8f\uff0c\u8981\u5341\u5206\u5c0f\u5fc3"
     ],
     "language": "python",
     "metadata": {},
     "outputs": [],
     "prompt_number": 21
    },
    {
     "cell_type": "markdown",
     "metadata": {},
     "source": [
      "###\u96c6\u5408\u3001\u5806\u3001\u53cc\u7aef\u961f\u5217     \n",
      "####\u96c6\u5408\uff08sets\u6a21\u5757\uff0c\u65e0\u9700\u624b\u52a8\u5bfc\u5165\uff09         \n",
      "Set\u7c7b\u4f4d\u4e8esets\u6a21\u5757\u4e2d\uff0c\u4e00\u822c\u4e0d\u9700\u8981\u521b\u5efaSet\u7c7b\u7684\u5b9e\u4f8b\uff0c\u9664\u975e\u4e3a\u4e86\u517c\u5bb9python2.3\u4ee5\u524d\u7684\u7248\u672c      \n",
      "\u96c6\u5408\u662f\u7531\u5e8f\u5217\u6216\u8005\u5176\u4ed6\u53ef\u8fed\u4ee3\u5bf9\u8c61\u6784\u5efa\u7684\uff0c\u4e3b\u8981\u7528\u4e8e\u6210\u5458\u8d44\u683c\u68c0\u67e5\uff0c\u526f\u672c\u4f1a\u88ab\u5ffd\u7565\uff08\u96c6\u5408\u7684\u4e92\u5f02\u6027\uff09    \n",
      "* \u5e76\u96c6\uff1aunion\u65b9\u6cd5\u3001\u8fd0\u7b97\u7b26\u201c|\u201d\n",
      "* \u4ea4\u96c6\uff1aintersection\u65b9\u6cd5\u3001\u8fd0\u7b97\u7b26\u201c&\u201d\n",
      "* \u5224\u65ad\u662f\u5426\u4e3a\u5b50\u96c6\uff1aissubset\u65b9\u6cd5\u3001\u8fd0\u7b97\u7b26\u201c<=\u201d\n",
      "* \u5224\u65ad\u662f\u5426\u4e3a\u8d85\u96c6\uff1aissuperset\u65b9\u6cd5\u3001\u8fd0\u7b97\u7b26\u201c>=\u201d\n",
      "* \u8865\u96c6\uff1adifference\u65b9\u6cd5\u3001\u8fd0\u7b97\u7b26\u201c-\u201d\n",
      "* \u5bf9\u79f0\u5dee\uff1asymmetric\\_difference\u65b9\u6cd5\u3001\u8fd0\u7b97\u7b26\u201c^\u201d\n",
      "* \u590d\u5236\uff1acopy\u65b9\u6cd5\n",
      "* \u6dfb\u52a0\u5143\u7d20\uff1a\uff08\u539f\u4f4d\u64cd\u4f5c\uff09add\u65b9\u6cd5  \n",
      "* \u5220\u9664\u5143\u7d20\uff1a\uff08\u539f\u4f4d\u64cd\u4f5c\uff09remove\u65b9\u6cd5"
     ]
    },
    {
     "cell_type": "code",
     "collapsed": false,
     "input": [
      "#\u96c6\u5408\u7684\u4e92\u5f02\u6027\n",
      "set([0,0,0,0,0,0,0,1,1,1,1,2,3,])"
     ],
     "language": "python",
     "metadata": {},
     "outputs": [
      {
       "metadata": {},
       "output_type": "pyout",
       "prompt_number": 22,
       "text": [
        "{0, 1, 2, 3}"
       ]
      }
     ],
     "prompt_number": 22
    },
    {
     "cell_type": "code",
     "collapsed": false,
     "input": [],
     "language": "python",
     "metadata": {},
     "outputs": [],
     "prompt_number": 22
    },
    {
     "cell_type": "code",
     "collapsed": false,
     "input": [
      "a = set([1,2,3])"
     ],
     "language": "python",
     "metadata": {},
     "outputs": [],
     "prompt_number": 23
    },
    {
     "cell_type": "code",
     "collapsed": false,
     "input": [
      "b = set([2,3,4])"
     ],
     "language": "python",
     "metadata": {},
     "outputs": [],
     "prompt_number": 24
    },
    {
     "cell_type": "code",
     "collapsed": false,
     "input": [
      "#\u6c42\u5e76\u96c6\u2014\u2014union\u65b9\u6cd5\n",
      "a.union(b)"
     ],
     "language": "python",
     "metadata": {},
     "outputs": [
      {
       "metadata": {},
       "output_type": "pyout",
       "prompt_number": 25,
       "text": [
        "{1, 2, 3, 4}"
       ]
      }
     ],
     "prompt_number": 25
    },
    {
     "cell_type": "code",
     "collapsed": false,
     "input": [
      "#\u6c42\u5e76\u96c6\u2014\u2014\u6309\u4f4d\u6216\uff08OR\uff09\u8fd0\u7b97\u7b26\u201c|\u201d\n",
      "a | b"
     ],
     "language": "python",
     "metadata": {},
     "outputs": [
      {
       "metadata": {},
       "output_type": "pyout",
       "prompt_number": 26,
       "text": [
        "{1, 2, 3, 4}"
       ]
      }
     ],
     "prompt_number": 26
    },
    {
     "cell_type": "code",
     "collapsed": false,
     "input": [
      "#\u6c42\u4ea4\u96c6\n",
      "a & b"
     ],
     "language": "python",
     "metadata": {},
     "outputs": [
      {
       "metadata": {},
       "output_type": "pyout",
       "prompt_number": 27,
       "text": [
        "{2, 3}"
       ]
      }
     ],
     "prompt_number": 27
    },
    {
     "cell_type": "code",
     "collapsed": false,
     "input": [
      "c = a & b       #c\u662fa\u548cb\u7684\u4ea4\u96c6"
     ],
     "language": "python",
     "metadata": {},
     "outputs": [],
     "prompt_number": 28
    },
    {
     "cell_type": "code",
     "collapsed": false,
     "input": [
      "#\u5224\u65adc\u662f\u5426\u4e3aa\u7684\u5b50\u96c6\u2014\u2014issubset\u65b9\u6cd5\n",
      "c.issubset(a)"
     ],
     "language": "python",
     "metadata": {},
     "outputs": [
      {
       "metadata": {},
       "output_type": "pyout",
       "prompt_number": 29,
       "text": [
        "True"
       ]
      }
     ],
     "prompt_number": 29
    },
    {
     "cell_type": "code",
     "collapsed": false,
     "input": [
      "#\u5224\u65adc\u662f\u5426\u4e3aa\u7684\u5b50\u96c6\u2014\u2014\u8fd0\u7b97\u7b26\u201c<=\u201d\n",
      "c <= a"
     ],
     "language": "python",
     "metadata": {},
     "outputs": [
      {
       "metadata": {},
       "output_type": "pyout",
       "prompt_number": 30,
       "text": [
        "True"
       ]
      }
     ],
     "prompt_number": 30
    },
    {
     "cell_type": "code",
     "collapsed": false,
     "input": [
      "#\u5224\u65adc\u662f\u5426\u4e3aa\u7684\u8d85\u96c6\u2014\u2014issuperset\n",
      "c.issuperset(a)"
     ],
     "language": "python",
     "metadata": {},
     "outputs": [
      {
       "metadata": {},
       "output_type": "pyout",
       "prompt_number": 31,
       "text": [
        "False"
       ]
      }
     ],
     "prompt_number": 31
    },
    {
     "cell_type": "code",
     "collapsed": false,
     "input": [
      "#\u5224\u65adc\u662f\u5426\u4e3aa\u7684\u8d85\u96c6\u2014\u2014\u8fd0\u7b97\u7b26\u201c>=\u201d\n",
      "c >= a"
     ],
     "language": "python",
     "metadata": {},
     "outputs": [
      {
       "metadata": {},
       "output_type": "pyout",
       "prompt_number": 32,
       "text": [
        "False"
       ]
      }
     ],
     "prompt_number": 32
    },
    {
     "cell_type": "code",
     "collapsed": false,
     "input": [
      "#\u6c42\u4ea4\u96c6\u2014\u2014intersection\u65b9\u6cd5\n",
      "a.intersection(b)"
     ],
     "language": "python",
     "metadata": {},
     "outputs": [
      {
       "metadata": {},
       "output_type": "pyout",
       "prompt_number": 34,
       "text": [
        "{2, 3}"
       ]
      }
     ],
     "prompt_number": 34
    },
    {
     "cell_type": "code",
     "collapsed": false,
     "input": [
      "#\u6c42\u4ea4\u96c6\u2014\u2014\u6309\u4f4d\u4e0e\uff08AND\uff09\u8fd0\u7b97\u7b26\u201c&\u201d\n",
      "a & b"
     ],
     "language": "python",
     "metadata": {},
     "outputs": [
      {
       "metadata": {},
       "output_type": "pyout",
       "prompt_number": 35,
       "text": [
        "{2, 3}"
       ]
      }
     ],
     "prompt_number": 35
    },
    {
     "cell_type": "code",
     "collapsed": false,
     "input": [
      "#\u6c42b\u5173\u4e8ea\u7684\u8865\u96c6\uff08\u5c5e\u4e8ea\u800c\u4e0d\u5c5e\u4e8eb\uff09\u2014\u2014difference\u65b9\u6cd5\n",
      "a.difference(b)"
     ],
     "language": "python",
     "metadata": {},
     "outputs": [
      {
       "metadata": {},
       "output_type": "pyout",
       "prompt_number": 36,
       "text": [
        "{1}"
       ]
      }
     ],
     "prompt_number": 36
    },
    {
     "cell_type": "code",
     "collapsed": false,
     "input": [
      "#\u6c42b\u5173\u4e8ea\u7684\u8865\u96c6\uff08\u5c5e\u4e8ea\u800c\u4e0d\u5c5e\u4e8eb\uff09\u2014\u2014\u8fd0\u7b97\u7b26\u201c-\u201d\n",
      "a -b"
     ],
     "language": "python",
     "metadata": {},
     "outputs": [
      {
       "metadata": {},
       "output_type": "pyout",
       "prompt_number": 37,
       "text": [
        "{1}"
       ]
      }
     ],
     "prompt_number": 37
    },
    {
     "cell_type": "code",
     "collapsed": false,
     "input": [
      "#\u6c42\u5bf9\u79f0\u5dee\uff08\u4e24\u4e2a\u96c6\u5408\u4e2d\u4e0d\u5171\u6709\u7684\u6240\u6709\u5143\u7d20\uff09\u2014\u2014symmetric_difference\u65b9\u6cd5\n",
      "a.symmetric_difference(b)"
     ],
     "language": "python",
     "metadata": {},
     "outputs": [
      {
       "metadata": {},
       "output_type": "pyout",
       "prompt_number": 38,
       "text": [
        "{1, 4}"
       ]
      }
     ],
     "prompt_number": 38
    },
    {
     "cell_type": "code",
     "collapsed": false,
     "input": [
      "#\u6c42\u5bf9\u79f0\u5dee\uff08\u4e24\u4e2a\u96c6\u5408\u4e2d\u4e0d\u5171\u6709\u7684\u6240\u6709\u5143\u7d20\uff09\u2014\u2014\u8fd0\u7b97\u7b26\u201c^\u201d\n",
      "a ^ b"
     ],
     "language": "python",
     "metadata": {},
     "outputs": [
      {
       "metadata": {},
       "output_type": "pyout",
       "prompt_number": 39,
       "text": [
        "{1, 4}"
       ]
      }
     ],
     "prompt_number": 39
    },
    {
     "cell_type": "code",
     "collapsed": false,
     "input": [
      "#\u590d\u5236\u96c6\u5408\u2014\u2014copy\u65b9\u6cd5\n",
      "a.copy()"
     ],
     "language": "python",
     "metadata": {},
     "outputs": [
      {
       "metadata": {},
       "output_type": "pyout",
       "prompt_number": 40,
       "text": [
        "{1, 2, 3}"
       ]
      }
     ],
     "prompt_number": 40
    },
    {
     "cell_type": "code",
     "collapsed": false,
     "input": [
      "a.copy() is a"
     ],
     "language": "python",
     "metadata": {},
     "outputs": [
      {
       "metadata": {},
       "output_type": "pyout",
       "prompt_number": 41,
       "text": [
        "False"
       ]
      }
     ],
     "prompt_number": 41
    },
    {
     "cell_type": "code",
     "collapsed": false,
     "input": [
      "a"
     ],
     "language": "python",
     "metadata": {},
     "outputs": [
      {
       "metadata": {},
       "output_type": "pyout",
       "prompt_number": 42,
       "text": [
        "{1, 2, 3}"
       ]
      }
     ],
     "prompt_number": 42
    },
    {
     "cell_type": "code",
     "collapsed": false,
     "input": [
      "#\u6dfb\u52a0\u5143\u7d20\u2014\u2014\uff08\u539f\u4f4d\u64cd\u4f5c\uff09add\u65b9\u6cd5\n",
      "a.add(4)"
     ],
     "language": "python",
     "metadata": {},
     "outputs": [],
     "prompt_number": 43
    },
    {
     "cell_type": "code",
     "collapsed": false,
     "input": [
      "a"
     ],
     "language": "python",
     "metadata": {},
     "outputs": [
      {
       "metadata": {},
       "output_type": "pyout",
       "prompt_number": 44,
       "text": [
        "{1, 2, 3, 4}"
       ]
      }
     ],
     "prompt_number": 44
    },
    {
     "cell_type": "code",
     "collapsed": false,
     "input": [
      "#\u5220\u9664\u5143\u7d20\u2014\u2014\uff08\u539f\u4f4d\u64cd\u4f5c\uff09remove\u65b9\u6cd5\n",
      "a.remove(4)"
     ],
     "language": "python",
     "metadata": {},
     "outputs": [],
     "prompt_number": 45
    },
    {
     "cell_type": "code",
     "collapsed": false,
     "input": [
      "a"
     ],
     "language": "python",
     "metadata": {},
     "outputs": [
      {
       "metadata": {},
       "output_type": "pyout",
       "prompt_number": 46,
       "text": [
        "{1, 2, 3}"
       ]
      }
     ],
     "prompt_number": 46
    },
    {
     "cell_type": "markdown",
     "metadata": {},
     "source": [
      "\u96c6\u5408\uff08set\uff09\u662f\u53ef\u53d8\uff08\u4e0d\u53ef\u4f5c\u4e3a\u5b57\u5178\u7684\u952e\uff09\u3001\u53ef\u6563\u5217\u7684\uff0c\u4e0d\u80fd\u5305\u542b\u5176\u4ed6\u96c6\u5408       \n",
      "\u4f46\u662f\u6709\u4e00\u4e2afrozenset\u7c7b\u578b\uff0c\u662f\u4e0d\u53ef\u53d8\u3001\u53ef\u6563\u5217\u7684\u96c6\u5408"
     ]
    },
    {
     "cell_type": "code",
     "collapsed": false,
     "input": [
      "#set\u4e0d\u80fd\u5305\u542b\u5176\u4ed6set\n",
      "a.add(b)"
     ],
     "language": "python",
     "metadata": {},
     "outputs": [
      {
       "ename": "TypeError",
       "evalue": "unhashable type: 'set'",
       "output_type": "pyerr",
       "traceback": [
        "\u001b[0;31m---------------------------------------------------------------------------\u001b[0m\n\u001b[0;31mTypeError\u001b[0m                                 Traceback (most recent call last)",
        "\u001b[0;32m<ipython-input-47-b2a6299f5117>\u001b[0m in \u001b[0;36m<module>\u001b[0;34m()\u001b[0m\n\u001b[1;32m      1\u001b[0m \u001b[0;31m#set\u4e0d\u80fd\u5305\u542b\u5176\u4ed6set\u001b[0m\u001b[0;34m\u001b[0m\u001b[0;34m\u001b[0m\u001b[0m\n\u001b[0;32m----> 2\u001b[0;31m \u001b[0ma\u001b[0m\u001b[0;34m.\u001b[0m\u001b[0madd\u001b[0m\u001b[0;34m(\u001b[0m\u001b[0mb\u001b[0m\u001b[0;34m)\u001b[0m\u001b[0;34m\u001b[0m\u001b[0m\n\u001b[0m",
        "\u001b[0;31mTypeError\u001b[0m: unhashable type: 'set'"
       ]
      }
     ],
     "prompt_number": 47
    },
    {
     "cell_type": "code",
     "collapsed": false,
     "input": [
      "#\u4f46\u662fset\u53ef\u4ee5\u5305\u542bfrozenset\n",
      "a.add( frozenset(b) )"
     ],
     "language": "python",
     "metadata": {},
     "outputs": [],
     "prompt_number": 48
    },
    {
     "cell_type": "code",
     "collapsed": false,
     "input": [
      "a"
     ],
     "language": "python",
     "metadata": {},
     "outputs": [
      {
       "metadata": {},
       "output_type": "pyout",
       "prompt_number": 49,
       "text": [
        "{1, 2, 3, frozenset({2, 3, 4})}"
       ]
      }
     ],
     "prompt_number": 49
    },
    {
     "cell_type": "markdown",
     "metadata": {},
     "source": [
      "####\u5806\u2014\u2014heqpq\u6a21\u5757     \n",
      "*heap\u4e3a\u5806\uff0cq\u662fqueue\u7684\u7f29\u5199\u5373\u961f\u5217*        \n",
      "\u4f18\u5148\u961f\u5217\u7684\u4e00\u79cd     \n",
      "\u4f7f\u7528\u4f18\u5148\u961f\u5217\u80fd\u591f\u4ee5\u4efb\u610f\u987a\u5e8f\u6dfb\u52a0\u5bf9\u8c61\uff0c\u5e76\u4e14\u80fd\u5728\u4efb\u4f55\u65f6\u95f4\u627e\u5230\u6700\u5c0f\u7684\u5143\u7d20     \n",
      "python\u6ca1\u6709\u72ec\u7acb\u7684\u5806\u7c7b\u578b\uff0c\u4f46\u662f\u6709\u4e00\u4e9b\u5806\u64cd\u4f5c\u7684\u51fd\u6570        \n",
      "* heappush(heap, x)\uff1a\u5c06x\u5165\u5806     \n",
      "    \u53ea\u80fd\u7528\u4e8e\u901a\u8fc7\u5404\u79cd\u5806\u51fd\u6570\u5efa\u7acb\u7684\u5217\u8868\u4e2d      \n",
      "    \u5806\u4e2d\u7684\u5143\u7d20\u770b\u4f3c\u968f\u610f\u6392\u5217\u7684\uff0c\u4f46\u662f\u4ed6\u4eec\u7684\u987a\u5e8f\u5f88\u91cd\u8981     \n",
      "    \u5806\u7684\u5143\u7d20\u6392\u5217\u7684\u987a\u5e8f\u89c4\u5219\uff1a\u4f4d\u4e0ei\u4f4d\u7f6e\u4e0a\u7684\u5143\u7d20\u603b\u6bd4i////2\u4f4d\u7f6e\u5904\u7684\u5143\u7d20\u5927      \n",
      "    \u8fd9\u662f\u5e95\u5c42\u5806\u7b97\u6cd5\u7684\u57fa\u7840\uff0c\u8be5\u7279\u6027\u79f0\u4e3a\u5806\u5c5e\u6027\uff08heap property\uff09\n",
      "* heappop(heap)\uff1a\u5c06\u5806\u4e2d\u6700\u5c0f\u7684\u5143\u7d20\u5f39\u51fa      \n",
      "    \u4e00\u822c\u4f1a\u5f39\u51fa\u7d22\u5f15\u4e3a0\u7684\u5143\u7d20\uff0c\u5e76\u4e14\u5c06\u5269\u4f59\u5143\u7d20\u4e2d\u7684\u6700\u5c0f\u503c\u79fb\u52a8\u5230\u7d22\u5f15\u4e3a0\u7684\u4f4d\u7f6e\u4e0a       \n",
      "* heapify(heap)\uff1a\u5c06heap\u5c5e\u6027\u5f3a\u5236\u5e94\u7528\u5230\u4efb\u610f\u4e00\u4e2a\u5217\u8868        \n",
      "    \u5c06\u4e00\u4e2a\u4e00\u822c\u7684\u5217\u8868\u6309\u7167\u89c4\u5219\u8c03\u6574\u4e3a\u5806      \n",
      "* heapreplace(heap, x)\uff1a\u5c06\u5806\u4e2d\u7684\u6700\u5c0f\u5143\u7d20\u5f39\u51fa\uff0c\u540c\u65f6\u5c06x\u5165\u5806     \n",
      "    \u6548\u7387\u6bd4heappop + heappush\u9ad8     \n",
      "* nlargest(n, iter)\uff1a\u8fd4\u56deiter\u4e2d\u7b2cn\u5927\u7684\u5143\u7d20    \n",
      "* nsmllst(n, iter)\uff1a\u8fd4\u56deiter\u4e2d\u7b2cn\u5c0f\u7684\u5143\u7d20      \n",
      " \n",
      "nlargest\u51fd\u6570\u548cnsmallst\u51fd\u6570\u7684\u64cd\u4f5c\u5176\u5b9e\u53ef\u4ee5\u7528\u5206\u7247\u548c\u6392\u5e8f\u6765\u5b8c\u6210     \n",
      "\u4f46\u662f\u4f7f\u7528\u5806\u7b97\u6cd5\u6548\u7387\u66f4\u9ad8\uff0c\u53c8\u66f4\u6613\u7528"
     ]
    },
    {
     "cell_type": "code",
     "collapsed": false,
     "input": [
      "from heapq import *"
     ],
     "language": "python",
     "metadata": {},
     "outputs": [],
     "prompt_number": 51
    },
    {
     "cell_type": "code",
     "collapsed": false,
     "input": [
      "#heappush\u51fd\u6570\u4f7f\u7528"
     ],
     "language": "python",
     "metadata": {},
     "outputs": [],
     "prompt_number": 52
    },
    {
     "cell_type": "code",
     "collapsed": false,
     "input": [
      "from random import shuffle"
     ],
     "language": "python",
     "metadata": {},
     "outputs": [],
     "prompt_number": 53
    },
    {
     "cell_type": "code",
     "collapsed": false,
     "input": [
      "heap = []      #\u5148\u521b\u5efa\u4e00\u4e2a\u7a7a\u5217\u8868\uff0c\u4f9b\u5806\u51fd\u6570\u64cd\u4f5c"
     ],
     "language": "python",
     "metadata": {},
     "outputs": [],
     "prompt_number": 54
    },
    {
     "cell_type": "code",
     "collapsed": false,
     "input": [
      "data = range(10)"
     ],
     "language": "python",
     "metadata": {},
     "outputs": [],
     "prompt_number": 56
    },
    {
     "cell_type": "code",
     "collapsed": false,
     "input": [
      "shuffle(data)      #\u4f7f\u6309\u987a\u5e8f\u6392\u5217\u7684\u5217\u8868\u4e71\u5e8f\uff08\u539f\u4f4d\u64cd\u4f5c\uff09"
     ],
     "language": "python",
     "metadata": {},
     "outputs": [],
     "prompt_number": 57
    },
    {
     "cell_type": "code",
     "collapsed": false,
     "input": [
      "for n in data:  \n",
      "    heappush(heap, n)"
     ],
     "language": "python",
     "metadata": {},
     "outputs": [],
     "prompt_number": 58
    },
    {
     "cell_type": "code",
     "collapsed": false,
     "input": [
      "heap      #\u770b\u8d77\u6765\u662f\u4e00\u4e2a\u666e\u901a\u7684\u5217\u8868\uff0c\u4f46\u662f\u5b83\u6709\u7279\u5b9a\u7684\u6392\u5e8f\u89c4\u5219\uff0c\u662f\u4e00\u4e2a\u5806"
     ],
     "language": "python",
     "metadata": {},
     "outputs": [
      {
       "metadata": {},
       "output_type": "pyout",
       "prompt_number": 59,
       "text": [
        "[0, 1, 4, 2, 3, 5, 9, 8, 7, 6]"
       ]
      }
     ],
     "prompt_number": 59
    },
    {
     "cell_type": "code",
     "collapsed": false,
     "input": [
      "#heappop\u51fd\u6570\u7684\u4f7f\u7528\n",
      "heappop(heap)"
     ],
     "language": "python",
     "metadata": {},
     "outputs": [
      {
       "metadata": {},
       "output_type": "pyout",
       "prompt_number": 60,
       "text": [
        "0"
       ]
      }
     ],
     "prompt_number": 60
    },
    {
     "cell_type": "code",
     "collapsed": false,
     "input": [
      "heap     #\u90e8\u5206\u5143\u7d20\u7684\u4f4d\u7f6e\u8fdb\u884c\u4e86\u8c03\u6574"
     ],
     "language": "python",
     "metadata": {},
     "outputs": [
      {
       "metadata": {},
       "output_type": "pyout",
       "prompt_number": 61,
       "text": [
        "[1, 2, 4, 6, 3, 5, 9, 8, 7]"
       ]
      }
     ],
     "prompt_number": 61
    },
    {
     "cell_type": "code",
     "collapsed": false,
     "input": [
      "#heapify\u51fd\u6570\u7684\u4f7f\u7528 "
     ],
     "language": "python",
     "metadata": {},
     "outputs": [],
     "prompt_number": 62
    },
    {
     "cell_type": "code",
     "collapsed": false,
     "input": [
      "data      #\u4e00\u4e2a\u666e\u901a\u7684\u5217\u8868"
     ],
     "language": "python",
     "metadata": {},
     "outputs": [
      {
       "metadata": {},
       "output_type": "pyout",
       "prompt_number": 66,
       "text": [
        "[5, 7, 1, 2, 6, 4, 9, 8, 0, 3]"
       ]
      }
     ],
     "prompt_number": 66
    },
    {
     "cell_type": "code",
     "collapsed": false,
     "input": [
      "heapify(data)           #\u5c06data\u5217\u8868\u8c03\u6574\u4e3a\u5806"
     ],
     "language": "python",
     "metadata": {},
     "outputs": [],
     "prompt_number": 67
    },
    {
     "cell_type": "code",
     "collapsed": false,
     "input": [
      "data            #\u5143\u7d20\u987a\u5e8f\u6309\u7167\u5806\u7684\u89c4\u5219\u53d1\u751f\u4e86\u6539\u53d8"
     ],
     "language": "python",
     "metadata": {},
     "outputs": [
      {
       "metadata": {},
       "output_type": "pyout",
       "prompt_number": 68,
       "text": [
        "[0, 2, 1, 5, 3, 4, 9, 8, 7, 6]"
       ]
      }
     ],
     "prompt_number": 68
    },
    {
     "cell_type": "markdown",
     "metadata": {},
     "source": [
      "####\u53cc\u7aef\u961f\u5217\uff08double-ended queue\uff0cdeque\uff09   \n",
      "\u7528\u4e8e\u9700\u8981\u6309\u7167\u5143\u7d20\u6dfb\u52a0\u7684\u987a\u5e8f\u79fb\u9664\u7684\u60c5\u51b5    \n",
      "\u76f8\u5173\u6a21\u5757\u2014\u2014collections\u6a21\u5757\uff0c\u5305\u542bdeque\u7c7b\u578b\uff08\u901a\u8fc7\u5217\u8868\u7b49\u53ef\u8fed\u4ee3\u5bf9\u8c61\u521b\u5efa\uff09       \n",
      "\u662f\u4e00\u79cd\u7279\u6b8a\u7684\u5217\u8868\uff0c\u5143\u7d20\u7684\u5f39\u51fapop\u53ef\u4ee5\u6307\u5b9a\u65b9\u5411\uff0c\u800c\u4e14\u5143\u7d20\u53ef\u4ee5\u5de6\u79fb\u6216\u8005\u53f3\u79fb\uff0c\u6ea2\u51fa\u7684\u5143\u7d20\u81ea\u52a8\u8865\u5145\u5230\u53e6\u4e00\u7aef\uff08\u76f8\u5f53\u4e8e\u73af\u5f62\u961f\u5217\uff09      \n",
      "* pop\u65b9\u6cd5\uff1a\u5f39\u51fa\u53f3\u7aef\u7b2c\u4e00\u4e2a\u5143\u7d20\n",
      "* popleft\u65b9\u6cd5\uff1a\u5f39\u51fa\u5de6\u7aef\u7b2c\u4e00\u4e2a\u5143\u7d20   \n",
      "* append\u65b9\u6cd5\uff1a\u5728\u53f3\u7aef\u8865\u5145\u4e00\u4e2a\u5143\u7d20\n",
      "* appendleft\u65b9\u6cd5\uff1a\u5728\u5de6\u7aef\u8865\u5145\u4e00\u4e2a\u5143\u7d20\n",
      "* rotate(n)\u65b9\u6cd5\uff1a\u961f\u5217\u5411\u53f3\u79fb\u52a8n\u6b65"
     ]
    },
    {
     "cell_type": "code",
     "collapsed": false,
     "input": [
      "from collections import deque"
     ],
     "language": "python",
     "metadata": {},
     "outputs": [],
     "prompt_number": 1
    },
    {
     "cell_type": "code",
     "collapsed": false,
     "input": [
      "q = deque([1,2,3,4,5])          #\u5229\u7528deque\u628a\u5217\u8868\u8f6c\u6362\u4e3a\u53cc\u7aef\u961f\u5217"
     ],
     "language": "python",
     "metadata": {},
     "outputs": [],
     "prompt_number": 2
    },
    {
     "cell_type": "code",
     "collapsed": false,
     "input": [
      "q.append(6)"
     ],
     "language": "python",
     "metadata": {},
     "outputs": [],
     "prompt_number": 3
    },
    {
     "cell_type": "code",
     "collapsed": false,
     "input": [
      "q.appendleft(0)"
     ],
     "language": "python",
     "metadata": {},
     "outputs": [],
     "prompt_number": 4
    },
    {
     "cell_type": "code",
     "collapsed": false,
     "input": [
      "q"
     ],
     "language": "python",
     "metadata": {},
     "outputs": [
      {
       "metadata": {},
       "output_type": "pyout",
       "prompt_number": 5,
       "text": [
        "deque([0, 1, 2, 3, 4, 5, 6])"
       ]
      }
     ],
     "prompt_number": 5
    },
    {
     "cell_type": "code",
     "collapsed": false,
     "input": [
      "q.pop()"
     ],
     "language": "python",
     "metadata": {},
     "outputs": [
      {
       "metadata": {},
       "output_type": "pyout",
       "prompt_number": 6,
       "text": [
        "6"
       ]
      }
     ],
     "prompt_number": 6
    },
    {
     "cell_type": "code",
     "collapsed": false,
     "input": [
      "q.popleft()"
     ],
     "language": "python",
     "metadata": {},
     "outputs": [
      {
       "metadata": {},
       "output_type": "pyout",
       "prompt_number": 7,
       "text": [
        "0"
       ]
      }
     ],
     "prompt_number": 7
    },
    {
     "cell_type": "code",
     "collapsed": false,
     "input": [
      "q"
     ],
     "language": "python",
     "metadata": {},
     "outputs": [
      {
       "metadata": {},
       "output_type": "pyout",
       "prompt_number": 8,
       "text": [
        "deque([1, 2, 3, 4, 5])"
       ]
      }
     ],
     "prompt_number": 8
    },
    {
     "cell_type": "code",
     "collapsed": false,
     "input": [
      "q.rotate(3)       #\u961f\u5217\u53f3\u79fb\u4e09\u6b65"
     ],
     "language": "python",
     "metadata": {},
     "outputs": [],
     "prompt_number": 9
    },
    {
     "cell_type": "code",
     "collapsed": false,
     "input": [
      "q"
     ],
     "language": "python",
     "metadata": {},
     "outputs": [
      {
       "metadata": {},
       "output_type": "pyout",
       "prompt_number": 10,
       "text": [
        "deque([3, 4, 5, 1, 2])"
       ]
      }
     ],
     "prompt_number": 10
    },
    {
     "cell_type": "code",
     "collapsed": false,
     "input": [
      "q.rotate(-3)          #\u961f\u5217\u5de6\u79fb\u4e09\u6b65"
     ],
     "language": "python",
     "metadata": {},
     "outputs": [],
     "prompt_number": 14
    },
    {
     "cell_type": "code",
     "collapsed": false,
     "input": [
      "q"
     ],
     "language": "python",
     "metadata": {},
     "outputs": [
      {
       "metadata": {},
       "output_type": "pyout",
       "prompt_number": 15,
       "text": [
        "deque([1, 2, 3, 4, 5])"
       ]
      }
     ],
     "prompt_number": 15
    },
    {
     "cell_type": "code",
     "collapsed": false,
     "input": [
      "#extendleft\u65b9\u6cd5\u7c7b\u4f3c\uff0c\u6b64\u5904\u7701\u7565"
     ],
     "language": "python",
     "metadata": {},
     "outputs": [],
     "prompt_number": 16
    },
    {
     "cell_type": "markdown",
     "metadata": {},
     "source": [
      "###time   \n",
      "\u4e0e\u65e5\u671f\u65f6\u95f4\u6709\u5173\u7684\u6a21\u5757     \n",
      "\u65e5\u671f\u8868\u793a\u65b9\u6cd5\u6709\u4e09\u79cd      \n",
      "1. \u4ece\u201c\u65b0\u7eaa\u5143\u201d\u7684\u4e00\u6708\u4e00\u65e50\u70b9\u81f3\u4eca\u7ecf\u5386\u7684\u79d2\u6570     \n",
      "    \u65b0\u7eaa\u5143\u7531\u5e73\u53f0\u51b3\u5b9a\uff0c\u5bf9\u4e8eUNIX\u6765\u8bf4\uff0c\u662f1970\u5e74   \n",
      "2. \u5305\u542b\u4e5d\u4e2a\u5143\u7d20\u7684\u5143\u7ec4\uff0c\u5982\uff1a(2008, 1, 21, 12, 2, 59, 0, 21, 0)\n",
      "    * \u524d\u516d\u4e2a\u5143\u7d20\u5206\u522b\u662f\u5e74\u6708\u65e5\u65f6\u5206\u79d2\uff0c\u79d2\u7684\u8303\u56f4\u662f0~61\u79d2\uff0c\u4e3a\u7684\u662f\u5e94\u4ed8\u95f0\u79d2\u548c\u53cc\u95f0\u79d2\n",
      "    * \u7b2c\u4e03\u4e2a\u5143\u7d20\u662f\u5468\uff0c\u8303\u56f40~6\u5206\u522b\u8868\u793a\u5468\u4e00\uff5e\u5468\u65e5\n",
      "    * \u7b2c\u516b\u4e2a\u5143\u7d20\u662f\u5112\u5386\u65e5\uff0c\u8303\u56f41~366\n",
      "    * \u7b2c\u4e5d\u4e2a\u5143\u7d20\u662f\u590f\u4ee4\u65f6\uff0c1\u8868\u793a\u771f\uff0c0\u8868\u793a\u5047\uff0c-1\u8868\u793a\u53c8\u7a0b\u5e8f\u81ea\u884c\u5224\u65ad\u80fd\u4f7fmktime\u51fd\u6570\u5de5\u4f5c\u6b63\u5e38\n",
      "3. \u5305\u542b\u4e94\u4e2a\u5b57\u6bb5\u7684\u5b57\u7b26\u4e32\uff0c\u5982Fri Dec 21 05:41:27 2008    \n",
      "    \u5206\u522b\u662f\u661f\u671f\u3001\u6708\u3001\u65e5\u3001\u65f6\u95f4\u3001\u5e74\n",
      "        \n",
      "         \n",
      "* asctime([tuple])\uff1a\u5c06\u65f6\u95f4\u5143\u7ec4\u8f6c\u6362\u4e3a\u5b57\u7b26\u4e32\uff08\u4e0d\u5e26\u53c2\u6570\u8868\u793a\u663e\u793a\u5f53\u524d\u65f6\u95f4\uff09\n",
      "* localtime([secs])\uff1a\u5c06\u201c\u65b0\u7eaa\u5143\u201d\u81f3\u4eca\u79d2\u6570\u8f6c\u6362\u4e3a\u65f6\u95f4\u5143\u7ec4\uff08\u4e0d\u5e26\u53c2\u6570\u8868\u793a\u672c\u5730\u65f6\u95f4\uff09\n",
      "* gmtime()\uff1a\u4e0e\u4e0d\u5e26\u53c2\u6570\u7684localtime\u7c7b\u4f3c\uff0c\u4e0d\u8fc7\u663e\u793a\u7684\u662f\u5168\u7403\u7edf\u4e00\u65f6\u95f4\n",
      "* mktime(tuple)\uff1a\u5c06\u65f6\u95f4\u5143\u7ec4\u8f6c\u6362\u4e3a\u201c\u65b0\u7eaa\u5143\u201d\u81f3\u4eca\u79d2\u6570\uff0c\u53c2\u6570\u4e0d\u53ef\u7f3a\u7701\n",
      "* sleep(secs)\uff1a\u4f11\u7720secs\u79d2\n",
      "* strptime(string [, format])\uff1a\u5c06\u5b57\u7b26\u4e32\u8f6c\u6362\u4e3a\u65f6\u95f4\u5143\u7ec4\uff08\u4e0easctime\u76f8\u53cd\uff09\uff0c\u53ef\u4ee5\u6307\u5b9a\u683c\u5f0fformat\uff0c\u9ed8\u8ba4\u91c7\u7528\u7b2c\u4e09\u79cd\u65e5\u671f\u663e\u793a\u5f62\u5f0f\n",
      "* time()\uff1a\u5f53\u524d\u65f6\u95f4\uff08\u201c\u65b0\u7eaa\u5143\u201d\u81f3\u4eca\u79d2\u6570\uff09\uff0c\u5168\u7403\u7edf\u4e00\u65f6\u95f4"
     ]
    },
    {
     "cell_type": "code",
     "collapsed": false,
     "input": [
      "import time"
     ],
     "language": "python",
     "metadata": {},
     "outputs": [],
     "prompt_number": 18
    },
    {
     "cell_type": "code",
     "collapsed": false,
     "input": [
      "#\u4ee5\u5b57\u7b26\u4e32\u683c\u5f0f\u663e\u793a\u5f53\u524d\u65f6\u95f4 \n",
      "time.asctime()"
     ],
     "language": "python",
     "metadata": {},
     "outputs": [
      {
       "metadata": {},
       "output_type": "pyout",
       "prompt_number": 19,
       "text": [
        "'Fri Mar  6 15:09:03 2015'"
       ]
      }
     ],
     "prompt_number": 19
    },
    {
     "cell_type": "code",
     "collapsed": false,
     "input": [
      "#\u4ee5\u5143\u7ec4\u5f62\u5f0f\u663e\u793a\u5f53\u524d\u65f6\u95f4\n",
      "time.localtime()"
     ],
     "language": "python",
     "metadata": {},
     "outputs": [
      {
       "metadata": {},
       "output_type": "pyout",
       "prompt_number": 22,
       "text": [
        "time.struct_time(tm_year=2015, tm_mon=3, tm_mday=6, tm_hour=15, tm_min=13, tm_sec=48, tm_wday=4, tm_yday=65, tm_isdst=0)"
       ]
      }
     ],
     "prompt_number": 22
    },
    {
     "cell_type": "code",
     "collapsed": false,
     "input": [
      "#\u5982\u679c\u8981\u4ee5\u5143\u7ec4\u5f62\u5f0f\u663e\u793a\u5f53\u524d\u7684\u5168\u7403\u7edf\u4e00\u65f6\u95f4\n",
      "time.gmtime()"
     ],
     "language": "python",
     "metadata": {},
     "outputs": [
      {
       "metadata": {},
       "output_type": "pyout",
       "prompt_number": 33,
       "text": [
        "time.struct_time(tm_year=2015, tm_mon=3, tm_mday=6, tm_hour=7, tm_min=22, tm_sec=6, tm_wday=4, tm_yday=65, tm_isdst=0)"
       ]
      }
     ],
     "prompt_number": 33
    },
    {
     "cell_type": "code",
     "collapsed": false,
     "input": [
      "#\u5c06\u5143\u7ec4\u5f62\u5f0f\u8f6c\u6362\u4e3a\u201c\u65b0\u7eaa\u5143\u201c\u81f3\u4eca\u79d2\u6570\n",
      "time.mktime(time.localtime())"
     ],
     "language": "python",
     "metadata": {},
     "outputs": [
      {
       "metadata": {},
       "output_type": "pyout",
       "prompt_number": 25,
       "text": [
        "1425626127.0"
       ]
      }
     ],
     "prompt_number": 25
    },
    {
     "cell_type": "code",
     "collapsed": false,
     "input": [
      "#\u5982\u679c\u60f3\u4ee5\u201d\u65b0\u7eaa\u5143\u201c\u81f3\u4eca\u79d2\u6570\u7684\u5f62\u5f0f\u663e\u793a\u5f53\u524d\u65f6\u95f4\uff08\u548c\u4e0a\u9762\u7b49\u4ef7\uff09\n",
      "time.time()"
     ],
     "language": "python",
     "metadata": {},
     "outputs": [
      {
       "metadata": {},
       "output_type": "pyout",
       "prompt_number": 27,
       "text": [
        "1425626283.627512"
       ]
      }
     ],
     "prompt_number": 27
    },
    {
     "cell_type": "code",
     "collapsed": false,
     "input": [
      "#\u4f11\u7720\u82e5\u5e72\u79d2\n",
      "time.sleep(2)"
     ],
     "language": "python",
     "metadata": {},
     "outputs": [],
     "prompt_number": 28
    },
    {
     "cell_type": "code",
     "collapsed": false,
     "input": [
      "#\u5c06\u65f6\u95f4\u5b57\u7b26\u4e32\u8f6c\u6362\u4e3a\u5143\u7ec4\n",
      "time.strptime('Fri Mar  6 15:09:03 2015')"
     ],
     "language": "python",
     "metadata": {},
     "outputs": [
      {
       "metadata": {},
       "output_type": "pyout",
       "prompt_number": 31,
       "text": [
        "time.struct_time(tm_year=2015, tm_mon=3, tm_mday=6, tm_hour=15, tm_min=9, tm_sec=3, tm_wday=4, tm_yday=65, tm_isdst=-1)"
       ]
      }
     ],
     "prompt_number": 31
    },
    {
     "cell_type": "markdown",
     "metadata": {},
     "source": [
      "**\u6b64\u5916\uff0cpython\u8fd8\u652f\u6301datetim\u548ctimeit\u4e24\u4e2a\u65f6\u95f4\u6a21\u5757**    \n",
      "\u524d\u8005\u652f\u6301\u65e5\u671f\u548c\u65f6\u95f4\u7684\u7b97\u6cd5      \n",
      "\u540e\u8005\u5e2e\u52a9\u5f00\u53d1\u4eba\u5458\u5bf9\u4ee3\u7801\u6bb5\u7684\u6267\u884c\u65f6\u95f4\u8fdb\u884c\u8ba1\u65f6       \n",
      "###random\n",
      "\u5305\u542b\u8fd4\u56de\u968f\u673a\u503c\u7684\u51fd\u6570\uff0c\u7528\u4e8e\u6a21\u62df\u6216\u8005\u7528\u4e8e\u4efb\u4f55\u4ea7\u751f\u968f\u673a\u8f93\u51fa\u7684\u7a0b\u5e8f    \n",
      "\u4ea7\u751f\u7684\u662f\u4f2a\u968f\u673a\u6570\uff0c\u53ef\u4ee5\u6ee1\u8db3\u4e00\u822c\u7684\u9700\u8981\uff0c\u4f46\u4e0d\u9002\u5408\u7528\u4e8e\u52a0\u5bc6     \n",
      "\u52a0\u5bc6\u53ef\u4ee5\u91c7\u7528\u5f3a\u968f\u673a\u6570\uff0c\u66f4\u52a0\u63a5\u8fd1\u771f\u6b63\u968f\u673a\u6570\uff0c\u5982os.urandom\u51fd\u6570\u548crandom.SystemRandom\u7c7b     \n",
      "* random()\uff1a\u8fd4\u56de\"0<n<=1\"\u7684\u968f\u673a\u5b9e\u6570n  \n",
      "* getrandbits(n)\uff1a\u4ee5\u957f\u6574\u578b\u7684\u5f62\u5f0f\u8fd4\u56den\u4e2a\u968f\u673a\u4f4d\uff08\u53ef\u7528\u4e8e\u52a0\u5bc6\u7b49\u4e8b\u52a1\uff09\n",
      "* uniform(a, b)\uff1a\u8fd4\u56de\"a<=n<b\"\u7684\u968f\u673a\u5b9e\u6570n    \n",
      "* randrange([start], stop, [step])\uff1a\u8fd4\u56derange(start, stop, step)\u5217\u8868\u7684\u968f\u673a\u6570\n",
      "* choice(seq)\uff1a\u4ece\u5e8f\u5217seq\u4e2d\u8fd4\u56de\u968f\u673a\u5143\u7d20\n",
      "* shuffle(seq[, random])\uff1a\uff08\u539f\u4f4d\u64cd\u4f5c\uff09\u5c06\u5e8f\u5217seq\u7684\u5143\u7d20\u987a\u5e8f\u968f\u673a\u6253\u4e71\n",
      "* sample(seq, n)\uff1a\u4eceseq\u4e2d\u9009\u62e9n\u4e2a\u968f\u673a\u4e14\u4e92\u5f02\u7684\u5143\u7d20"
     ]
    },
    {
     "cell_type": "code",
     "collapsed": false,
     "input": [
      "import random"
     ],
     "language": "python",
     "metadata": {},
     "outputs": [],
     "prompt_number": 38
    },
    {
     "cell_type": "code",
     "collapsed": false,
     "input": [
      "#\u4f8b\u5b50\uff1a\u968f\u673a\u6253\u724c"
     ],
     "language": "python",
     "metadata": {},
     "outputs": [],
     "prompt_number": 34
    },
    {
     "cell_type": "code",
     "collapsed": false,
     "input": [
      "values = range(1,11) + \"J Q K\".split()     #\u521b\u5efa\u724c\u9762\u5927\u5c0f\u5217\u8868"
     ],
     "language": "python",
     "metadata": {},
     "outputs": [],
     "prompt_number": 44
    },
    {
     "cell_type": "code",
     "collapsed": false,
     "input": [
      "suits = 'diamons clubs hearts spades'.split()     #\u521b\u5efa\u724c\u9762\u82b1\u8272\u5217\u8868"
     ],
     "language": "python",
     "metadata": {},
     "outputs": [],
     "prompt_number": 45
    },
    {
     "cell_type": "code",
     "collapsed": false,
     "input": [
      "deck = ['%s of %s' % (v, s) for v in values for s in suits]           #\u521b\u5efa\u724c\u9762\u5217\u8868\uff0c\u4e00\u6574\u526f\u724c\uff0c\u9664\u4e86\u5927\u5c0f\u738b"
     ],
     "language": "python",
     "metadata": {},
     "outputs": [],
     "prompt_number": 46
    },
    {
     "cell_type": "code",
     "collapsed": false,
     "input": [
      "random.shuffle(deck)              #\u6253\u4e71\u8fd9\u526f\u724c"
     ],
     "language": "python",
     "metadata": {},
     "outputs": [],
     "prompt_number": 47
    },
    {
     "cell_type": "code",
     "collapsed": false,
     "input": [
      "#\u724c\u6570\u592a\u591a\uff0c\u5047\u8bbe\u53ea\u52695\u5f20\u724c\n",
      "del deck[5:]"
     ],
     "language": "python",
     "metadata": {},
     "outputs": [],
     "prompt_number": 48
    },
    {
     "cell_type": "code",
     "collapsed": false,
     "input": [
      "print deck"
     ],
     "language": "python",
     "metadata": {},
     "outputs": [
      {
       "output_type": "stream",
       "stream": "stdout",
       "text": [
        "['2 of diamons', 'J of hearts', '6 of hearts', 'J of diamons', 'K of hearts']\n"
       ]
      }
     ],
     "prompt_number": 49
    },
    {
     "cell_type": "code",
     "collapsed": false,
     "input": [
      "#\u968f\u673a\uff08\u5df2\u4e71\u5e8f\uff09\u6253\u724c\uff0c\u76f4\u5230\u6253\u5b8c\n",
      "while deck:\n",
      "    print deck.pop()"
     ],
     "language": "python",
     "metadata": {},
     "outputs": [
      {
       "output_type": "stream",
       "stream": "stdout",
       "text": [
        "K of hearts\n",
        "J of diamons\n",
        "6 of hearts\n",
        "J of hearts\n",
        "2 of diamons\n"
       ]
      }
     ],
     "prompt_number": 50
    },
    {
     "cell_type": "markdown",
     "metadata": {},
     "source": [
      "###shelve\n",
      "\u7b80\u5355\u7684\u6587\u4ef6\u5b58\u50a8\u65b9\u6848      \n",
      "1. \u901a\u8fc7open\u51fd\u6570\u6253\u5f00\u6587\u4ef6\u5e76\u5f97\u5230\u4e00\u4e2aShelf\u5bf9\u8c61     \n",
      "2. \u5c06\u8fd9\u4e2a\u5bf9\u8c61\u4f5c\u4e3a\u666e\u901a\u5b57\u5178\u64cd\u4f5c\u6765\u5b58\u50a8\u6570\u636e\uff08\u952e\u5fc5\u987b\u662f\u5b57\u7b26\u4e32\uff09    \n",
      "3. \u5b8c\u6210\u5de5\u4f5c\u540e\u8c03\u7528\u5bf9\u8c61\u7684close\u65b9\u6cd5      \n",
      "**\u8fd9\u4e2a\u65b9\u6848\u5728\u67e5\u627e\u5143\u7d20\u65f6\u4f1a\u65b0\u5efa\u4e00\u4e2a\u526f\u672c\uff0c\u5982\u679c\u76f4\u63a5\u5bf9\u8fd9\u4e2a\u526f\u672c\u8d4b\u503c\uff0c\u662f\u4e0d\u80fd\u6dfb\u52a0\u6570\u636e\u7684**     \n",
      "**\u8fd9\u4e2a\u65b9\u6848\u7684\u6570\u636e\u4fee\u6539\u662f\u5373\u65f6\u5199\u5165\u78c1\u76d8\u7684**"
     ]
    },
    {
     "cell_type": "code",
     "collapsed": false,
     "input": [
      "import shelve"
     ],
     "language": "python",
     "metadata": {},
     "outputs": [],
     "prompt_number": 51
    },
    {
     "cell_type": "code",
     "collapsed": false,
     "input": [
      "#\u6f5c\u5728\u7684\u9677\u9631"
     ],
     "language": "python",
     "metadata": {},
     "outputs": [],
     "prompt_number": 52
    },
    {
     "cell_type": "code",
     "collapsed": false,
     "input": [
      "s = shelve.open('test.dat')"
     ],
     "language": "python",
     "metadata": {},
     "outputs": [],
     "prompt_number": 53
    },
    {
     "cell_type": "code",
     "collapsed": false,
     "input": [
      "s['x'] = ['a', 'b', 'c']       #\u7ed9\u5b57\u5178\u6dfb\u52a0\u4e00\u4e2a\u5217\u8868\u6570\u636e"
     ],
     "language": "python",
     "metadata": {},
     "outputs": [],
     "prompt_number": 54
    },
    {
     "cell_type": "code",
     "collapsed": false,
     "input": [
      "s['x'].append('d')        #\u4f01\u56fe\u7ed9\u5b57\u5178\u4e2d\u7684\u4e00\u4e2a\u5217\u8868\u6dfb\u52a0\u6570\u636e"
     ],
     "language": "python",
     "metadata": {},
     "outputs": [],
     "prompt_number": 55
    },
    {
     "cell_type": "code",
     "collapsed": false,
     "input": [
      "s['x']      #\u5931\u8d25\u4e86"
     ],
     "language": "python",
     "metadata": {},
     "outputs": [
      {
       "metadata": {},
       "output_type": "pyout",
       "prompt_number": 56,
       "text": [
        "['a', 'b', 'c']"
       ]
      }
     ],
     "prompt_number": 56
    },
    {
     "cell_type": "code",
     "collapsed": false,
     "input": [
      "#\u89e3\u51b3\u65b9\u6cd5\u4e00\uff0c\u901a\u8fc7\u7ed1\u5b9a\u5230\u8fd9\u4e2a\u526f\u672c\u4e0a\u7684\u4e34\u65f6\u53d8\u91cf"
     ],
     "language": "python",
     "metadata": {},
     "outputs": [],
     "prompt_number": 57
    },
    {
     "cell_type": "code",
     "collapsed": false,
     "input": [
      "temp = s['x']"
     ],
     "language": "python",
     "metadata": {},
     "outputs": [],
     "prompt_number": 58
    },
    {
     "cell_type": "code",
     "collapsed": false,
     "input": [
      "temp.append('d')"
     ],
     "language": "python",
     "metadata": {},
     "outputs": [],
     "prompt_number": 59
    },
    {
     "cell_type": "code",
     "collapsed": false,
     "input": [
      "s['x'] = temp      #\u628a\u4fee\u6539\u4e86\u7684\u526f\u672c\u8d4b\u56de\u6765"
     ],
     "language": "python",
     "metadata": {},
     "outputs": [],
     "prompt_number": 61
    },
    {
     "cell_type": "code",
     "collapsed": false,
     "input": [
      "s['x']"
     ],
     "language": "python",
     "metadata": {},
     "outputs": [
      {
       "metadata": {},
       "output_type": "pyout",
       "prompt_number": 62,
       "text": [
        "['a', 'b', 'c', 'd']"
       ]
      }
     ],
     "prompt_number": 62
    },
    {
     "cell_type": "code",
     "collapsed": false,
     "input": [
      "#\u89e3\u51b3\u65b9\u6cd5\u4e8c\uff0c\u501f\u52a9open\u51fd\u6570\u7684wrtieback\u53c2\u6570\n",
      "#\u5f00\u542f\u8fd9\u4e2a\u53c2\u6570\u540e\u6570\u636e\u7684\u4fee\u6539\u662f\u5f02\u6b65\u5199\u5165\u7684\uff0c\u76f4\u5230close\u8fd9\u4e2a\u5bf9\u8c61\u624d\u628a\u4fee\u6539\u5199\u5165\u78c1\u76d8"
     ],
     "language": "python",
     "metadata": {},
     "outputs": [],
     "prompt_number": 63
    },
    {
     "cell_type": "code",
     "collapsed": false,
     "input": [
      "s.close()     #\u5148\u5173\u95ed\u539f\u6765\u7684\u5bf9\u8c61"
     ],
     "language": "python",
     "metadata": {},
     "outputs": [],
     "prompt_number": 64
    },
    {
     "cell_type": "code",
     "collapsed": false,
     "input": [
      "s = shelve.open('test.dat', writeback = True)          #\u6253\u5f00writeback"
     ],
     "language": "python",
     "metadata": {},
     "outputs": [],
     "prompt_number": 65
    },
    {
     "cell_type": "code",
     "collapsed": false,
     "input": [
      "s['x']"
     ],
     "language": "python",
     "metadata": {},
     "outputs": [
      {
       "metadata": {},
       "output_type": "pyout",
       "prompt_number": 66,
       "text": [
        "['a', 'b', 'c', 'd']"
       ]
      }
     ],
     "prompt_number": 66
    },
    {
     "cell_type": "code",
     "collapsed": false,
     "input": [
      "s['x'].append('e')"
     ],
     "language": "python",
     "metadata": {},
     "outputs": [],
     "prompt_number": 67
    },
    {
     "cell_type": "code",
     "collapsed": false,
     "input": [
      "s['x']"
     ],
     "language": "python",
     "metadata": {},
     "outputs": [
      {
       "metadata": {},
       "output_type": "pyout",
       "prompt_number": 68,
       "text": [
        "['a', 'b', 'c', 'd', 'e']"
       ]
      }
     ],
     "prompt_number": 68
    },
    {
     "cell_type": "code",
     "collapsed": false,
     "input": [
      "s.close()       #\u8981\u8bb0\u5f97\u5173\u95ed\u8fd9\u4e2a\u5bf9\u8c61\uff0c\u624d\u80fd\u628a\u4fee\u6539\u5199\u5165\u78c1\u76d8"
     ],
     "language": "python",
     "metadata": {},
     "outputs": [],
     "prompt_number": 69
    },
    {
     "cell_type": "markdown",
     "metadata": {},
     "source": [
      "###\u5176\u4ed6\u6807\u51c6\u6a21\u5757\n",
      "* functools\uff1a\u80fd\u591f\u901a\u8fc7\u90e8\u5206\u53c2\u6570\u6765\u4f7f\u7528\u67d0\u4e2a\u51fd\u6570\uff08\u90e8\u5206\u6c42\u503c\uff09\uff0c\u7a0d\u540e\u518d\u4e3a\u5269\u4e0b\u7684\u53c2\u6570\u63d0\u4f9b\u503c\n",
      "* difflib\uff1a\u8ba1\u7b97\u4e24\u4e2a\u5e8f\u5217\u7684\u76f8\u4f3c\u5ea6\uff1b\u4ece\u4e00\u4e9b\u5e8f\u5217\u4e2d\u627e\u51fa\u4e0e\u67d0\u4e2a\u5e8f\u5217\u6700\u76f8\u4f3c\u7684\u4e00\u4e2a\n",
      "* hashlib\uff1a\u901a\u8fc7\u5b57\u7b26\u4e32\u8ba1\u7b97\u5c0f\u201c\u7b7e\u540d\u201d\uff08\u6570\u5b57\uff09\uff0c\u53ef\u5e94\u7528\u4e8e\u5927\u6587\u672c\u6587\u4ef6\u6216\u7528\u4e8e\u52a0\u5bc6\u7b49\u5b89\u5168\u6027\u7528\u9014\n",
      "* csv\uff1a\u8bfb\u5199CSV\u6587\u4ef6       \n",
      "    CSV\u662f\u9017\u53f7\u5206\u9694\u503c\uff08Comma-Separated Values\uff09\u7684\u7b80\u5199\uff0c\u5f88\u591a\u7a0b\u5e8f\u53ef\u4ee5\u7528\u6765\u5b58\u50a8\u8868\u683c\u5f0f\u6570\u636e\u7684\u7b80\u5355\u683c\u5f0f\u3002\u4e3b\u8981\u7528\u4e8e\u4e0d\u540c\u7a0b\u5e8f\u95f4\u4ea4\u6362\u6570\u636e\u3002\n",
      "* timeit\uff1a\u8861\u91cf\u4ee3\u7801\u7247\u6bb5\u8fd0\u884c\u65f6\u95f4\u7684\u5de5\u5177\n",
      "* profile\uff1a\u53ef\u7528\u4e8e\u4ee3\u7801\u7247\u6bb5\u6548\u7387\u7684\u5168\u9762\u5206\u6790\n",
      "* trace\uff1a\u63d0\u4f9b\u4ee3\u7801\u7247\u6bb5\u7684\u603b\u5206\u6790\uff0c\u544a\u8bc9\u54ea\u90e8\u5206\u6267\u884c\u4e86\uff0c\u54ea\u90e8\u5206\u6ca1\u6709\u6267\u884c\n",
      "* datetime\uff1a\u652f\u6301\u7279\u6b8a\u65e5\u671f\u548c\u65f6\u95f4\u5bf9\u8c61\uff0c\u4ee5\u591a\u79cd\u65b9\u5f0f\u5bf9\u5b83\u4eec\u8fdb\u884c\u6784\u5efa\u548c\u8054\u5408\uff0c\u6bd4time\u66f4\u52a0\u76f4\u89c2\n",
      "* itertools\uff1a\u521b\u5efa\u548c\u8054\u5408\u8fed\u4ee3\u5668\n",
      "* logging\uff1a\u7ba1\u7406\u4e00\u4e2a\u6216\u591a\u4e2a\u6838\u5fc3\u7684\u65e5\u81f3\u6587\u4ef6\uff0c\u540c\u65f6\u5bf9\u65e5\u5fd7\u4fe1\u606f\u63d0\u4f9b\u4e86\u591a\u5c42\u6b21\u7684\u4f18\u5148\u7ea7\n",
      "* getopt\u3001optparse\uff1a\u5904\u7406\u547d\u4ee4\u884c\u7a0b\u5e8f\u6240\u4f7f\u7528\u7684\u9009\u9879\uff08option\uff09\u6216\u8005\u5f00\u5173\uff08switches\uff09\n",
      "* cmd\uff1a\u7f16\u5199\u547d\u4ee4\u884c\u89e3\u91ca\u5668"
     ]
    },
    {
     "cell_type": "code",
     "collapsed": false,
     "input": [],
     "language": "python",
     "metadata": {},
     "outputs": []
    }
   ],
   "metadata": {}
  }
 ]
}