{
 "metadata": {
  "name": "",
  "signature": "sha256:1fb3c21586d9ddf3ed995a6a259b4b95f7cdefabea81484812cfd78e250f9fc6"
 },
 "nbformat": 3,
 "nbformat_minor": 0,
 "worksheets": [
  {
   "cells": [
    {
     "cell_type": "markdown",
     "metadata": {},
     "source": [
      "###\u6a21\u5757\u662f\u7a0b\u5e8f      \n",
      "\u4ee5.py\u4e3a\u540e\u7f00   \n",
      "\u89e3\u91ca\u5668\u4f1a\u81ea\u52a8\u5728\u4e00\u4e9b\u76ee\u5f55\u4e0b\u67e5\u627e\u6a21\u5757  \n",
      "\u4f46\u6211\u4eec\u4e5f\u53ef\u4ee5\u81ea\u884c\u6307\u5b9a\u4e00\u4e9b\u76ee\u5f55"
     ]
    },
    {
     "cell_type": "code",
     "collapsed": false,
     "input": [
      "import sys"
     ],
     "language": "python",
     "metadata": {},
     "outputs": [],
     "prompt_number": 1
    },
    {
     "cell_type": "code",
     "collapsed": false,
     "input": [
      "sys.path.append('/home/zk/\u684c\u9762/chap10 \u81ea\u5e26\u7535\u6c60/')\n",
      "#\u628a\u8def\u5f84\u5b57\u7b26\u4e32\u52a0\u5165\uff08append\uff09\u5230sys.path\u4e2d\n",
      "#\u5b57\u7b26\u4e32\u4e2d\u4e0d\u80fd\u76f4\u63a5\u5199\u6210\u2018~/\u684c\u9762/chap10 \u81ea\u5e26\u7535\u6c60'"
     ],
     "language": "python",
     "metadata": {},
     "outputs": [],
     "prompt_number": 3
    },
    {
     "cell_type": "code",
     "collapsed": false,
     "input": [
      "import hello\n",
      "#\u6211\u4eec\u5df2\u7ecf\u5728\u76ee\u5f55\u4e0b\u5199\u4e86\u4e00\u4e2a\u6a21\u5757hello.py"
     ],
     "language": "python",
     "metadata": {},
     "outputs": [
      {
       "output_type": "stream",
       "stream": "stdout",
       "text": [
        "hello, world!\n"
       ]
      }
     ],
     "prompt_number": 4
    },
    {
     "cell_type": "markdown",
     "metadata": {},
     "source": [
      "<font color='green'>hello.py\u5185\u5bb9\uff1a      \n",
      "print 'hello, world!'</font>"
     ]
    },
    {
     "cell_type": "markdown",
     "metadata": {},
     "source": [
      "\u5bfc\u5165\u6a21\u5757\u7684\u65f6\u5019\uff0c\u4f1a\u5728\u540c\u4e00\u76ee\u5f55\u4e0b\u4f1a\u4ea7\u751f\u4e00\u4e2a.pyc\u7684\u6587\u4ef6    \n",
      "\u8be5\u6587\u4ef6\u662f\u7ecf\u8fc7\u5904\u7406\u7684\uff0c\u80fd\u4f7fpython\u80fd\u66f4\u52a0\u6709\u6548\u5730\u5904\u7406\u7684\u6587\u4ef6  \n",
      "\u7a0d\u540e\u5982\u679c\u5bfc\u5165\u540c\u4e00\u6a21\u5757\uff0c\u7eb3\u95f7\u5bfc\u5165\u7684\u662f.pyc\u800c\u4e0d\u662f.py     \n",
      "\u9664\u975e.py\u6587\u4ef6\u6539\u53d8\uff0c\u6b64\u65f6\u4f1a\u4ea7\u751f\u65b0\u7684.pyc          "
     ]
    },
    {
     "cell_type": "code",
     "collapsed": false,
     "input": [
      "#\u5982\u679c\u518d\u6b21\u5bfc\u5165\u8fd9\u4e2a\u6a21\u5757\uff0c\u5b83\u7684\u8bed\u53e5\u4e0d\u4f1a\u88ab\u91cd\u65b0\u8c03\u7528\n",
      "import hello"
     ],
     "language": "python",
     "metadata": {},
     "outputs": [],
     "prompt_number": 6
    },
    {
     "cell_type": "code",
     "collapsed": false,
     "input": [
      "#\u770b\uff0c\u4e0d\u518d\u6253\u5370\u51fa\u201chello, world!\u201d\u4e86"
     ],
     "language": "python",
     "metadata": {},
     "outputs": [],
     "prompt_number": 7
    },
    {
     "cell_type": "markdown",
     "metadata": {},
     "source": [
      "*\u4e3a\u4ec0\u4e48\u53ea\u5bfc\u5165\u4e00\u6b21\u5462\uff1f   \n",
      "\u8bd5\u60f3\uff0c\u5982\u679c\u6709\u4e24\u4e2a\u6a21\u5757A\u548cB\uff0c   \n",
      "A\u6a21\u5757\u91cc\u9762\u5bfc\u5165\u4e86B\u6a21\u5757\uff0cB\u6a21\u5757\u53c8\u5bfc\u5165\u4e86A\u6a21\u5757\uff0c      \n",
      "\u5982\u679c\u4e0d\u9650\u5236\u5bfc\u5165\u6b21\u6570\uff0c\u90a3\u4e0d\u5c31\u9677\u5165\u6b7b\u5faa\u73af\u4e86\u4e48\uff1f*"
     ]
    },
    {
     "cell_type": "code",
     "collapsed": false,
     "input": [
      "#\u5982\u679c\u975e\u8981\u91cd\u65b0\u8f7d\u5165\u5462\uff1f\u6211\u4eec\u53ef\u4ee5\u501f\u52a9reload\u51fd\u6570\uff08python3\u4e2d\u5df2\u4e0d\u5b58\u5728\u8fd9\u4e2a\u51fd\u6570\uff09\n",
      "hello = reload(hello)"
     ],
     "language": "python",
     "metadata": {},
     "outputs": [
      {
       "output_type": "stream",
       "stream": "stdout",
       "text": [
        "hello, world!\n"
       ]
      }
     ],
     "prompt_number": 8
    },
    {
     "cell_type": "code",
     "collapsed": false,
     "input": [
      "hello"
     ],
     "language": "python",
     "metadata": {},
     "outputs": [
      {
       "metadata": {},
       "output_type": "pyout",
       "prompt_number": 9,
       "text": [
        "<module 'hello' from '/home/zk/\u684c\u9762/chap10 \u81ea\u5e26\u7535\u6c60/hello.pyc'>"
       ]
      }
     ],
     "prompt_number": 9
    },
    {
     "cell_type": "markdown",
     "metadata": {},
     "source": [
      "###\u6a21\u5757\u7528\u4e8e\u5b9a\u4e49     \n",
      "\u6a21\u5757\u7684\u91cd\u8981\u4e4b\u5904\u5728\u4e8e\u4fdd\u6301\u4e86\u4f5c\u7528\u57df\uff0c\u6240\u4ee5\u6a21\u5757\u7528\u4e8e\u5b9a\u4e49\uff0c\u800c\u4e0d\u7528\u4e8e\u6253\u5370\u4e4b\u7c7b\u7684\u8bed\u53e5       \n",
      "\u901a\u5e38\u5b9a\u4e49\u7684\u662f\u7c7b\u3001\u51fd\u6570\u3001\u7279\u6b8a\u7684\u53d8\u91cf\u7b49     \n",
      "\u6a21\u5757\u7684\u4f5c\u7528\uff1a\u9632\u6b62\u4ee3\u7801\u91cd\u7528\u3001\u589e\u52a0\u6d4b\u8bd5\u4ee3\u7801      \n",
      "\u9632\u6b62\u4ee3\u7801\u91cd\u7528\u5bb9\u6613\u7406\u89e3\uff0c\u4e0b\u9762\u8bf4\u660e\u4ee5\u4e0b\u6d4b\u8bd5\u4ee3\u7801      "
     ]
    },
    {
     "cell_type": "code",
     "collapsed": false,
     "input": [
      "import hello2"
     ],
     "language": "python",
     "metadata": {},
     "outputs": [],
     "prompt_number": 14
    },
    {
     "cell_type": "code",
     "collapsed": false,
     "input": [
      "hello2.test()"
     ],
     "language": "python",
     "metadata": {},
     "outputs": [
      {
       "output_type": "stream",
       "stream": "stdout",
       "text": [
        "hello, world!\n"
       ]
      }
     ],
     "prompt_number": 15
    },
    {
     "cell_type": "markdown",
     "metadata": {},
     "source": [
      "<font color='green'>hello2.py\u5185\u5bb9      \n",
      "def hello():      \n",
      "    print 'hello, world!'      \n",
      "def test():     \n",
      "    hello()     \n",
      "    if \\_\\_name\\_\\_ == '\\_\\_main\\_\\_':test()    </font>        \n",
      "\u8fd9\u91cc\u7684\\_\\_name\\_\\_\u53d8\u91cf\u7684\u5185\u5bb9\u662f\u544a\u77e5\u5f53\u524d\u8fd0\u884c\u7684\u7a0b\u5e8f\uff0c\u5982\u679c\u662f\u4e3b\u7a0b\u5e8f\u90a3\u5c31\u662f\\_\\_main\\_\\_\uff0c\u5982\u679c\u662f\u6a21\u5757\u90a3\u5c31\u662f\u5bf9\u5e94\u7684\u6a21\u5757\u540d"
     ]
    },
    {
     "cell_type": "markdown",
     "metadata": {},
     "source": [
      "###\u4f7f\u6a21\u5757\u53ef\u7528    \n",
      "\u6709\u4e24\u79cd\u65b9\u6cd5\u2014\u2014\u653e\u5230\u6307\u5b9a\u76ee\u5f55\u4e0b\u3001\u7ed9\u89e3\u91ca\u5668\u6307\u5b9a\u8def\u5f84   \n",
      "####\u653e\u5230\u6307\u5b9a\u76ee\u5f55\u4e0b"
     ]
    },
    {
     "cell_type": "code",
     "collapsed": false,
     "input": [
      "import sys, pprint"
     ],
     "language": "python",
     "metadata": {},
     "outputs": [],
     "prompt_number": 17
    },
    {
     "cell_type": "code",
     "collapsed": false,
     "input": [
      "pprint.pprint(sys.path)\n",
      "#\u8fd9\u4e9b\u641c\u7d22\u8def\u5f84\u4ee5\u5b57\u7b26\u4e32\u7684\u5f62\u5f0f\u4fdd\u5b58\u5728\u5217\u8868\u91cc\uff0c\u901a\u8fc7sys.path\u8bbf\u95ee     \n",
      "#\u5982\u679c\u6570\u636e\u7ed3\u6784\u8fc7\u5927\uff0c\u4e0d\u80fd\u4e00\u6b21\u6253\u5b8c\uff0c\u53ef\u4ee5\u501f\u52a9pprint\u6a21\u5757\u7684pprint\u51fd\u6570\u66f4\u52a0\u667a\u80fd\u7684\u6253\u5370"
     ],
     "language": "python",
     "metadata": {},
     "outputs": [
      {
       "output_type": "stream",
       "stream": "stdout",
       "text": [
        "['',\n",
        " '/usr/lib/python2.7',\n",
        " '/usr/lib/python2.7/plat-x86_64-linux-gnu',\n",
        " '/usr/lib/python2.7/lib-tk',\n",
        " '/usr/lib/python2.7/lib-old',\n",
        " '/usr/lib/python2.7/lib-dynload',\n",
        " '/usr/local/lib/python2.7/dist-packages',\n",
        " '/usr/lib/python2.7/dist-packages',\n",
        " '/usr/lib/python2.7/dist-packages/PILcompat',\n",
        " '/usr/lib/python2.7/dist-packages/gtk-2.0',\n",
        " '/usr/lib/pymodules/python2.7',\n",
        " '/usr/lib/python2.7/dist-packages/ubuntu-sso-client',\n",
        " '/usr/lib/python2.7/dist-packages/IPython/extensions',\n",
        " '/home/\\xe6\\xa1\\x8c\\xe9\\x9d\\xa2/chap10 \\xe8\\x87\\xaa\\xe5\\xb8\\xa6\\xe7\\x94\\xb5\\xe6\\xb1\\xa0/',\n",
        " '/home/zk/\\xe6\\xa1\\x8c\\xe9\\x9d\\xa2/chap10 \\xe8\\x87\\xaa\\xe5\\xb8\\xa6\\xe7\\x94\\xb5\\xe6\\xb1\\xa0/']\n"
       ]
      }
     ],
     "prompt_number": 19
    },
    {
     "cell_type": "code",
     "collapsed": false,
     "input": [
      "#\u89e3\u91ca\u5668\u641c\u7d22\u8def\u5f84\u5f88\u591a\uff0c\u6211\u4eec\u4e00\u822c\u662f\u628a\u6a21\u5757\u5b58\u50a8\u5230python/lib/site-packages\u76ee\u5f55\u4e2d"
     ],
     "language": "python",
     "metadata": {},
     "outputs": [],
     "prompt_number": 20
    },
    {
     "cell_type": "markdown",
     "metadata": {},
     "source": [
      "####\u7ed9\u89e3\u91ca\u5668\u6307\u5b9a\u8def\u5f84   \n",
      "* \u628a\u6a21\u5757\u653e\u7f6e\u5230\u6307\u5b9a\u76ee\u5f55\u6709\u4e0d\u9002\u7528\u7684\u60c5\u51b5    \n",
      "    * \u4e0d\u5e0c\u671b\u81ea\u5df1\u7684\u6a21\u5757\u586b\u6ee1\u89e3\u91ca\u5668\u7684\u76ee\u5f55    \n",
      "    * \u4e0d\u5177\u6709\u89e3\u91ca\u5668\u76ee\u5f55\u7684\u5b58\u50a8\u6587\u4ef6\u6743\u9650      \n",
      "    * \u60f3\u5c06\u6a21\u5757\u653e\u5728\u5176\u4ed6\u5730\u65b9    \n",
      "* \u4e00\u79cd\u65b9\u6cd5\u662f\u628a\u641c\u7d22\u8def\u5f84\u52a0\u5165\u5230sys.path\u5217\u8868\u4e2d     \n",
      "* \u8fd8\u6709\u4e00\u79cd\u65b9\u6cd5\u662f\u8bbe\u7f6ePYTHONPATH\u73af\u5883\u53d8\u91cf      \n",
      "    * \u5728UNIX\u4e0b     \n",
      "    \u8bbe\u7f6e.bashrc\u6587\u4ef6\uff0c\u52a0\u5165\u5982\u4e0b\u547d\u4ee4\u628a~/python\u76ee\u5f55\u52a0\u5165\u641c\u7d22\u8def\u5f84\uff1a      \n",
      "    export PYTHONPATH=$PYTHONPATH:~/python      \n",
      "    * \u5728Windows\u4e0b     \n",
      "        * \u63a7\u5236\u9762\u677f--\u7cfb\u7edf--\u9ad8\u7ea7--\u73af\u5883\u53d8\u91cf--\u7528\u6237\u53d8\u91cf\uff0c\u9009\u4e2dPYTHONPATH\u53d8\u91cf\uff0c\u70b9\u51fb\u7f16\u8f91\uff0c\u52a0\u5165\u65b0\u7684\u641c\u7d22\u8def\u5f84\uff08\u591a\u4e2a\u76ee\u5f55\u7528\u5192\u53f7:\u9694\u5f00\uff09\n",
      "        * \u4e5f\u53ef\u4ee5\u7f16\u8f91C\u76d8\u6839\u76ee\u5f55\u4e0b\u7684autoexec.bat\u6587\u4ef6\uff0c\u589e\u52a0\u4e00\u884c\u8bbe\u7f6e\u201cset PYTHONPATH=%PYTHONPATH%;C:\\python\u201d\n",
      "        * \u6709\u7684IDE\u53ef\u80fd\u6709\u81ea\u8eab\u7684\u673a\u5236      "
     ]
    },
    {
     "cell_type": "markdown",
     "metadata": {},
     "source": [
      "###\u5305\uff08package\uff09    \n",
      "\u4e3a\u4e86\u7ec4\u7ec7\u597d\u6a21\u5757\uff0c\u6211\u4eec\u53ef\u4ee5\u5c06\u4ed6\u4eec\u5206\u7ec4\u6210\u5305     \n",
      "\u6a21\u5757\u6240\u5728\u76ee\u5f55\u52a0\u5165\u4e00\u4e2a\\_\\_init\\_\\_.py\u6a21\u5757\uff0c\u5373\u53ef\u5c06\u76ee\u5f55\u4f5c\u4e3a\u5305\u76ee\u5f55\uff0c\u800c\u8be5\u6a21\u5757\u79f0\u4e3a\u5305\u4ee3\u7801   \n",
      "\u8fd9\u6837\u4ee5\u6765\uff0c\u76ee\u5f55\u4e0b\u7684\u6240\u6709\u6a21\u5757\u5c31\u7ec4\u6210\u4e86\u4e00\u4e2a\u5305       \n",
      "<font color='green'>\u5047\u8bbe\u6211\u4eec\u521b\u5efa\u4e86\u4e00\u4e2a\u76ee\u5f55drawing\uff0c\u76ee\u5f55\u4e0b\u6709\\_\\_init\\_\\_.py\u3001colors.py\u3001shapes.py\u4e09\u4e2a\u6a21\u5757"
     ]
    },
    {
     "cell_type": "code",
     "collapsed": false,
     "input": [
      "#\u5bfc\u5165\u5305\n",
      "#\u2014\u2014import \u5305\n",
      "import drawing"
     ],
     "language": "python",
     "metadata": {},
     "outputs": [],
     "prompt_number": 21
    },
    {
     "cell_type": "code",
     "collapsed": false,
     "input": [
      "#\u5bfc\u5165\u5305\u5185\u7684\u67d0\u4e2a\u6a21\u5757\u2014\u2014\u6cd51\n",
      "#\u2014\u2014import \u5305.\u6a21\u5757\n",
      "import drawing.colors"
     ],
     "language": "python",
     "metadata": {},
     "outputs": [],
     "prompt_number": 22
    },
    {
     "cell_type": "code",
     "collapsed": false,
     "input": [
      "#\u5bfc\u5165\u5305\u5185\u7684\u67d0\u4e2a\u6a21\u5757\u2014\u2014\u6cd52\n",
      "#\u2014\u2014from \u5305 import \u6a21\u5757\n",
      "from drawing import shapes"
     ],
     "language": "python",
     "metadata": {},
     "outputs": [],
     "prompt_number": 23
    },
    {
     "cell_type": "markdown",
     "metadata": {},
     "source": [
      "###\u63a2\u7a76\u6a21\u5757\u5185\u5bb9     \n",
      "####dir\u51fd\u6570\u67e5\u770b\u6a21\u5757\u5185\u5bb9      \n",
      "\u4f7f\u7528\u524d\u6a21\u5757\u5fc5\u987b\u88ab\u5bfc\u5165"
     ]
    },
    {
     "cell_type": "code",
     "collapsed": false,
     "input": [
      "dir(copy)      #\u4e0d\u5bfc\u5165\u6a21\u5757\u4f1a\u51fa\u9519"
     ],
     "language": "python",
     "metadata": {},
     "outputs": [
      {
       "ename": "NameError",
       "evalue": "name 'copy' is not defined",
       "output_type": "pyerr",
       "traceback": [
        "\u001b[0;31m---------------------------------------------------------------------------\u001b[0m\n\u001b[0;31mNameError\u001b[0m                                 Traceback (most recent call last)",
        "\u001b[0;32m<ipython-input-25-93eb92fceecb>\u001b[0m in \u001b[0;36m<module>\u001b[0;34m()\u001b[0m\n\u001b[0;32m----> 1\u001b[0;31m \u001b[0mdir\u001b[0m\u001b[0;34m(\u001b[0m\u001b[0mcopy\u001b[0m\u001b[0;34m)\u001b[0m      \u001b[0;31m#\u4e0d\u5bfc\u5165\u6a21\u5757\u4f1a\u51fa\u9519\u001b[0m\u001b[0;34m\u001b[0m\u001b[0m\n\u001b[0m",
        "\u001b[0;31mNameError\u001b[0m: name 'copy' is not defined"
       ]
      }
     ],
     "prompt_number": 25
    },
    {
     "cell_type": "code",
     "collapsed": false,
     "input": [
      "import copy"
     ],
     "language": "python",
     "metadata": {},
     "outputs": [],
     "prompt_number": 26
    },
    {
     "cell_type": "code",
     "collapsed": false,
     "input": [
      "dir(copy)"
     ],
     "language": "python",
     "metadata": {},
     "outputs": [
      {
       "metadata": {},
       "output_type": "pyout",
       "prompt_number": 27,
       "text": [
        "['Error',\n",
        " 'PyStringMap',\n",
        " '_EmptyClass',\n",
        " '__all__',\n",
        " '__builtins__',\n",
        " '__doc__',\n",
        " '__file__',\n",
        " '__name__',\n",
        " '__package__',\n",
        " '_copy_dispatch',\n",
        " '_copy_immutable',\n",
        " '_copy_inst',\n",
        " '_copy_with_constructor',\n",
        " '_copy_with_copy_method',\n",
        " '_deepcopy_atomic',\n",
        " '_deepcopy_dict',\n",
        " '_deepcopy_dispatch',\n",
        " '_deepcopy_inst',\n",
        " '_deepcopy_list',\n",
        " '_deepcopy_method',\n",
        " '_deepcopy_tuple',\n",
        " '_keep_alive',\n",
        " '_reconstruct',\n",
        " '_test',\n",
        " 'copy',\n",
        " 'deepcopy',\n",
        " 'dispatch_table',\n",
        " 'error',\n",
        " 'name',\n",
        " 't',\n",
        " 'weakref']"
       ]
      }
     ],
     "prompt_number": 27
    },
    {
     "cell_type": "code",
     "collapsed": false,
     "input": [
      "#\u51fd\u6570\u5185\u5bb9\u6709\u5f88\u591a\u4e0b\u5212\u7ebf\u5f00\u5934\u7684\u540d\u5b57\uff0c\u8fd9\u4e9b\u540d\u5b57\u7ea6\u5b9a\u4fd7\u6210\u5730\u4e0d\u4e3a\u5916\u90e8\u4f7f\u7528\u800c\u51c6\u5907\uff0c\u6240\u4ee5\u6211\u4eec\u4e0d\u7528\u5173\u6ce8\u4ed6\u4eec\uff08\u501f\u52a9\u5b57\u7b26\u4e32\u7684startswith\u65b9\u6cd5\uff09\n",
      "[n for n in dir(copy) if not n.startswith('_')]"
     ],
     "language": "python",
     "metadata": {},
     "outputs": [
      {
       "metadata": {},
       "output_type": "pyout",
       "prompt_number": 29,
       "text": [
        "['Error',\n",
        " 'PyStringMap',\n",
        " 'copy',\n",
        " 'deepcopy',\n",
        " 'dispatch_table',\n",
        " 'error',\n",
        " 'name',\n",
        " 't',\n",
        " 'weakref']"
       ]
      }
     ],
     "prompt_number": 29
    },
    {
     "cell_type": "markdown",
     "metadata": {},
     "source": [
      "####\\_\\_all\\_\\_\u53d8\u91cf     \n",
      "\u8fd9\u4e2a\u53d8\u91cf\u5b58\u5728\u4e8e\u6a21\u5757\u4e2d\uff0c\u4ee5\u5217\u8868\u7684\u5f62\u5f0f\u544a\u8bc9\u6211\u4eec\u6709\u54ea\u4e9b\u516c\u5171\u63a5\u53e3\uff08pubilc interface\uff09      \n",
      "\u5f53\u6211\u4eec\u5bfc\u5165\u6a21\u5757\u65f6\uff0c\u7a0b\u5e8f\u4f1a\u67e5\u770b\u8fd9\u4e2a\u53d8\u91cf\uff0c\u53ea\u5c06\u53d8\u91cf\u5217\u51fa\u7684\u5185\u5bb9\u5bfc\u5165       \n",
      "\u5982\u679c\u4e0d\u8bbe\u7f6e\u8fd9\u4e2a\u53d8\u91cf\uff0c\u90a3\u4e48\u7a0b\u5e8f\u4f1a\u5bfc\u5165\u6240\u6709\u4e0d\u4ee5\u4e0b\u5212\u7ebf\u5f00\u5934\u7684\u5168\u5c40\u540d\u79f0   "
     ]
    },
    {
     "cell_type": "code",
     "collapsed": false,
     "input": [
      "copy.__all__"
     ],
     "language": "python",
     "metadata": {},
     "outputs": [
      {
       "metadata": {},
       "output_type": "pyout",
       "prompt_number": 30,
       "text": [
        "['Error', 'copy', 'deepcopy']"
       ]
      }
     ],
     "prompt_number": 30
    },
    {
     "cell_type": "markdown",
     "metadata": {},
     "source": [
      "###help\u51fd\u6570\u83b7\u53d6\u5e2e\u52a9      "
     ]
    },
    {
     "cell_type": "code",
     "collapsed": false,
     "input": [
      "help(copy.copy)"
     ],
     "language": "python",
     "metadata": {},
     "outputs": [
      {
       "output_type": "stream",
       "stream": "stdout",
       "text": [
        "Help on function copy in module copy:\n",
        "\n",
        "copy(x)\n",
        "    Shallow copy operation on arbitrary Python objects.\n",
        "    \n",
        "    See the module's __doc__ string for more info.\n",
        "\n"
       ]
      }
     ],
     "prompt_number": 31
    },
    {
     "cell_type": "code",
     "collapsed": false,
     "input": [
      "#\u901a\u8fc7\u51fd\u6570\u7684__doc__\u7279\u6027\u83b7\u53d6\u6587\u6863\u4fe1\u606f\n",
      "print copy.copy.__doc__"
     ],
     "language": "python",
     "metadata": {},
     "outputs": [
      {
       "output_type": "stream",
       "stream": "stdout",
       "text": [
        "Shallow copy operation on arbitrary Python objects.\n",
        "\n",
        "    See the module's __doc__ string for more info.\n",
        "    \n"
       ]
      }
     ],
     "prompt_number": 32
    },
    {
     "cell_type": "markdown",
     "metadata": {},
     "source": [
      "**\u66f4\u591a\u53c2\u8003\u4fe1\u606f\uff0c\u53ef\u4ee5\u4ecehttp://python.org/doc/lib \u83b7\u53d6**"
     ]
    },
    {
     "cell_type": "code",
     "collapsed": false,
     "input": [
      "#\u67e5\u770b\u6e90\u4ee3\u7801\uff0c\u901a\u8fc7\u68c0\u67e5\u6a21\u5757\u7684__file__\u5c5e\u6027\u83b7\u53d6\u6a21\u5757\u7684\u8def\u5f84\uff0c\u7136\u540e\u7528\u6587\u672c\u7f16\u8f91\u5668\u6253\u5f00\n",
      "print copy.__file__"
     ],
     "language": "python",
     "metadata": {},
     "outputs": [
      {
       "output_type": "stream",
       "stream": "stdout",
       "text": [
        "/usr/lib/python2.7/copy.pyc\n"
       ]
      }
     ],
     "prompt_number": 33
    },
    {
     "cell_type": "code",
     "collapsed": false,
     "input": [
      "#\u4f46\u662f\u6709\u90e8\u5206\u6a21\u5757\u662f\u878d\u5165\u89e3\u91ca\u5668\u7684\uff0c\u4e0d\u53ef\u9605\u8bfb\n",
      "#\u4e5f\u6709\u7684\u6a21\u5757\u662f\u7528C\u8bed\u8a00\u5199\u6210\u7684"
     ],
     "language": "python",
     "metadata": {},
     "outputs": [],
     "prompt_number": 34
    },
    {
     "cell_type": "code",
     "collapsed": false,
     "input": [],
     "language": "python",
     "metadata": {},
     "outputs": []
    }
   ],
   "metadata": {}
  }
 ]
}