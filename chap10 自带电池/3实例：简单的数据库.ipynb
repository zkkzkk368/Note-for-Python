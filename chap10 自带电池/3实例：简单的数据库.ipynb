{
 "metadata": {
  "name": "",
  "signature": "sha256:ffe971facc6e7d6cb4ed23e1dca8ae818083867fb758c6926a91df3d08eb2900"
 },
 "nbformat": 3,
 "nbformat_minor": 0,
 "worksheets": [
  {
   "cells": [
    {
     "cell_type": "code",
     "collapsed": false,
     "input": [
      "import sys , shelve"
     ],
     "language": "python",
     "metadata": {},
     "outputs": [],
     "prompt_number": 1
    },
    {
     "cell_type": "code",
     "collapsed": false,
     "input": [
      "def store_person(db):\n",
      "    '''\n",
      "    Query user for data and store it in the shelf object\n",
      "    '''\n",
      "    pid = raw_input('Enter unique ID number: ')\n",
      "    person = {}\n",
      "    person['name'] = raw_input('Enter name:')\n",
      "    person['age'] = raw_input('Enter age: ')\n",
      "    person['phone'] = raw_input('Enter phone number: ')\n",
      "    \n",
      "    db[pid] = person"
     ],
     "language": "python",
     "metadata": {},
     "outputs": [],
     "prompt_number": 2
    },
    {
     "cell_type": "code",
     "collapsed": false,
     "input": [
      "def lookup_person(db):\n",
      "    '''\n",
      "    Query user for ID and desired field, and fetch the corresponding data from the shelf object\n",
      "    '''\n",
      "    pid = raw_input('Enter ID number: ')\n",
      "    field = raw_input('What would you like to know? (name, age, phone)')\n",
      "    field = field.strip().lower()        #\u5904\u7406\u8f93\u5165\u5b57\u7b26\u4e32\u7684\u5e38\u7528\u505a\u6cd5\u2014\u2014\u53bb\u9664\u4e24\u7aef\u7684\u7a7a\u767d\u5e76\u4e14\u5168\u90e8\u8f6c\u5316\u4e3a\u5c0f\u5199\uff0c\u4fbf\u4e8e\u5206\u6790\n",
      "                                          #\u53e6\u5916\u8fd8\u6709lstrip\u51fd\u6570\u53ea\u5904\u7406\u5de6\u7aef\u5b57\u7b26\uff0crstrip\u53ea\u5904\u7406\u53f3\u7aef\u5b57\u7b26\n",
      "    print field.capitalize() + ':', db[pid][field]          #capitalize\u65b9\u6cd5\u8fd4\u56de\u4e00\u4e2a\u9996\u5b57\u6bcd\u5927\u5199\u7684\u526f\u672c\u5b57\u7b26\u4e32"
     ],
     "language": "python",
     "metadata": {},
     "outputs": [],
     "prompt_number": 3
    },
    {
     "cell_type": "code",
     "collapsed": false,
     "input": [
      "def print_help():\n",
      "    print 'The available command are: '\n",
      "    print 'store    : Stores information about a person'\n",
      "    print 'lookup : Looks up a person from ID number'\n",
      "    print 'quit      : Save changes and exit'\n",
      "    print '?           :Prints this message'          "
     ],
     "language": "python",
     "metadata": {},
     "outputs": [],
     "prompt_number": 5
    },
    {
     "cell_type": "code",
     "collapsed": false,
     "input": [
      "def enter_command():\n",
      "    cmd = raw_input('Enter command (? for help): ')\n",
      "    cmd = cmd.strip().lower()\n",
      "    return cmd"
     ],
     "language": "python",
     "metadata": {},
     "outputs": [],
     "prompt_number": 6
    },
    {
     "cell_type": "code",
     "collapsed": false,
     "input": [
      "def main():\n",
      "    database = shelve.open('database.dat')\n",
      "    try:\n",
      "        while True:\n",
      "            cmd = enter_command()\n",
      "            if cmd == 'store':\n",
      "                store_person(database)\n",
      "            elif cmd == 'lookup':\n",
      "                lookup_person(database)\n",
      "            elif cmd == '?':\n",
      "                print_help()\n",
      "            elif cmd == 'quit':\n",
      "                return \n",
      "    finally:                  #\u628aclose\u65b9\u6cd5\u5199\u5728finally\u5b50\u53e5\u53ef\u4ee5\u786e\u4fdd\u6587\u4ef6\u80fd\u591f\u5173\u95ed\uff08\u5373\u4f7f\u7a0b\u5e8f\u5f02\u5e38\uff0cfinally\u8fd8\u662f\u4f1a\u88ab\u6267\u884c\uff09\n",
      "        database.close()"
     ],
     "language": "python",
     "metadata": {},
     "outputs": [],
     "prompt_number": 9
    },
    {
     "cell_type": "code",
     "collapsed": false,
     "input": [
      "if __name__ == '__main__':\n",
      "    main()"
     ],
     "language": "python",
     "metadata": {},
     "outputs": [
      {
       "name": "stdout",
       "output_type": "stream",
       "stream": "stdout",
       "text": [
        "Enter command (? for help): ?\n"
       ]
      },
      {
       "output_type": "stream",
       "stream": "stdout",
       "text": [
        "The available command are: \n",
        "store    : Stores information about a person\n",
        "lookup : Looks up a person from ID number\n",
        "quit      : Save changes and exit\n",
        "?           :Prints this message\n"
       ]
      },
      {
       "name": "stdout",
       "output_type": "stream",
       "stream": "stdout",
       "text": [
        "Enter command (? for help): store\n"
       ]
      },
      {
       "name": "stdout",
       "output_type": "stream",
       "stream": "stdout",
       "text": [
        "Enter unique ID number: 314\n"
       ]
      },
      {
       "name": "stdout",
       "output_type": "stream",
       "stream": "stdout",
       "text": [
        "Enter name:Zk\n"
       ]
      },
      {
       "name": "stdout",
       "output_type": "stream",
       "stream": "stdout",
       "text": [
        "Enter age: 21\n"
       ]
      },
      {
       "name": "stdout",
       "output_type": "stream",
       "stream": "stdout",
       "text": [
        "Enter phone number: 178\n"
       ]
      },
      {
       "name": "stdout",
       "output_type": "stream",
       "stream": "stdout",
       "text": [
        "Enter command (? for help): lookup\n"
       ]
      },
      {
       "name": "stdout",
       "output_type": "stream",
       "stream": "stdout",
       "text": [
        "Enter ID number: 314\n"
       ]
      },
      {
       "name": "stdout",
       "output_type": "stream",
       "stream": "stdout",
       "text": [
        "What would you like to know? (name, age, phone)name\n"
       ]
      },
      {
       "output_type": "stream",
       "stream": "stdout",
       "text": [
        "Name: Zk\n"
       ]
      },
      {
       "name": "stdout",
       "output_type": "stream",
       "stream": "stdout",
       "text": [
        "Enter command (? for help): quit\n"
       ]
      }
     ],
     "prompt_number": 10
    },
    {
     "cell_type": "code",
     "collapsed": false,
     "input": [],
     "language": "python",
     "metadata": {},
     "outputs": []
    }
   ],
   "metadata": {}
  }
 ]
}