{
 "metadata": {
  "name": "",
  "signature": "sha256:4acf0efd342afd25df72806787be04fbf7f37b722c2f600984830f43fc15342d"
 },
 "nbformat": 3,
 "nbformat_minor": 0,
 "worksheets": [
  {
   "cells": [
    {
     "cell_type": "markdown",
     "metadata": {},
     "source": [
      "###\u5f02\u5e38  \n",
      "python\u7528\u5f02\u5e38\u5bf9\u8c61\u6765\u4ee3\u8868\u5f02\u5e38\u60c5\u51b5  \n",
      "\u5982\u679c\u5f02\u5e38\u5bf9\u8c61\u672a\u88ab\u5904\u7406\u6216\u6355\u6349\uff0c\u7a0b\u5e8f\u5c31\u4f1a\u7528\u56de\u6eaf\uff08traceback\uff0c\u4e00\u79cd\u9519\u8bef\u4fe1\u606f\uff09\u6765\u7ec8\u6b62\u6267\u884c  \n",
      "\u800c\u6bcf\u4e2a\u5f02\u5e38\u90fd\u662f\u67d0\u4e9b\u7c7b\u7684\u5b9e\u4f8b\uff0c\u53ef\u4ee5\u5f15\u53d1\uff0c\u4e5f\u53ef\u4ee5\u6355\u6349  "
     ]
    },
    {
     "cell_type": "markdown",
     "metadata": {},
     "source": [
      "###\u5f15\u53d1\u5f02\u5e38  \n",
      "\u53ef\u4ee5\u7528\u4e00\u4e2a\u7c7b\uff08Exception\u7684\u5b50\u7c7b\uff09\u6216\u8005\u5b9e\u4f8b\u53c2\u6570\u8c03\u7528raise\u8bed\u53e5  \n",
      "\u82e5\u4f7f\u7528\u7684\u662f\u7c7b\uff0c\u90a3\u4e48\u7a0b\u5e8f\u4f1a\u81ea\u52a8\u521b\u5efa\u7c7b\u7684\u4e00\u4e2a\u5b9e\u4f8b  \n",
      "\u91cd\u8981\u7684\u5185\u5efa\u5f02\u5e38\u7c7b\u6709\u2014\u2014  \n",
      "* Exception\uff1a\u6240\u6709\u5f02\u5e38\u7684\u57fa\u7c7b  \n",
      "* AttributeError\uff1a\u7279\u6027\u5f15\u7528\u5931\u8d25  \u6216  \u8d4b\u503c\u5931\u8d25  \n",
      "* IOError\uff1a\u8bd5\u56fe\u6253\u5f00\u4e0d\u5b58\u5728\u7684\u6587\u4ef6\u7b49  \n",
      "* IndexError\uff1a\u4f7f\u7528\u5e8f\u5217\u4e2d\u4e0d\u5b58\u5728\u7684\u7d22\u5f15   \n",
      "* KeyError\uff1a\u4f7f\u7528\u6620\u5c04\u4e2d\u4e0d\u5b58\u5728\u7684\u952e  \n",
      "* NameError\uff1a\u627e\u4e0d\u5230\u540d\u5b57\uff08\u53d8\u91cf\uff09  \n",
      "* SyntaxError\uff1a\u4ee3\u7801\u9519\u8bef  \n",
      "* TypeError\uff1a\u5185\u5efa\u64cd\u4f5c\u6216\u51fd\u6570\u7528\u4e8e\u9519\u8bef\u7c7b\u578b\u7684\u5bf9\u8c61  \n",
      "* ValueError\uff1a\u5185\u5efa\u64cd\u4f5c\u6216\u51fd\u6570\u7528\u4e8e\u6b63\u786e\u7c7b\u578b\u7684\u5bf9\u8c61\uff0c\u4f46\u4f7f\u7528\u4e0d\u5408\u9002\u7684\u503c  \n",
      "* ZeroDivisionError\uff1a\u9664\u6cd5\u6216\u6a21\u9664\u64cd\u4f5c\u7684\u7b2c\u4e8c\u53c2\u6570\u4e3a0  "
     ]
    },
    {
     "cell_type": "code",
     "collapsed": false,
     "input": [
      "raise Exception"
     ],
     "language": "python",
     "metadata": {},
     "outputs": [
      {
       "ename": "Exception",
       "evalue": "",
       "output_type": "pyerr",
       "traceback": [
        "\u001b[0;31m---------------------------------------------------------------------------\u001b[0m\n\u001b[0;31mException\u001b[0m                                 Traceback (most recent call last)",
        "\u001b[0;32m<ipython-input-3-fca2ab0ca76b>\u001b[0m in \u001b[0;36m<module>\u001b[0;34m()\u001b[0m\n\u001b[0;32m----> 1\u001b[0;31m \u001b[0;32mraise\u001b[0m \u001b[0mException\u001b[0m\u001b[0;34m\u001b[0m\u001b[0m\n\u001b[0m",
        "\u001b[0;31mException\u001b[0m: "
       ]
      }
     ],
     "prompt_number": 3
    },
    {
     "cell_type": "code",
     "collapsed": false,
     "input": [
      "raise Exception('Error!  Error!')"
     ],
     "language": "python",
     "metadata": {},
     "outputs": [
      {
       "ename": "Exception",
       "evalue": "Error!  Error!",
       "output_type": "pyerr",
       "traceback": [
        "\u001b[0;31m---------------------------------------------------------------------------\u001b[0m\n\u001b[0;31mException\u001b[0m                                 Traceback (most recent call last)",
        "\u001b[0;32m<ipython-input-4-4d6c6ba4cc4b>\u001b[0m in \u001b[0;36m<module>\u001b[0;34m()\u001b[0m\n\u001b[0;32m----> 1\u001b[0;31m \u001b[0;32mraise\u001b[0m \u001b[0mException\u001b[0m\u001b[0;34m(\u001b[0m\u001b[0;34m'Error!  Error!'\u001b[0m\u001b[0;34m)\u001b[0m\u001b[0;34m\u001b[0m\u001b[0m\n\u001b[0m",
        "\u001b[0;31mException\u001b[0m: Error!  Error!"
       ]
      }
     ],
     "prompt_number": 4
    },
    {
     "cell_type": "code",
     "collapsed": false,
     "input": [
      "#\u521b\u5efa\u5f02\u5e38\u7c7b\u2014\u2014\u53ea\u9700\u8981\u8ba9\u8be5\u7c7b\u7ee7\u627fException\u5373\u53ef\n",
      "class SomCustomException(Exception):\n",
      "    pass"
     ],
     "language": "python",
     "metadata": {},
     "outputs": [],
     "prompt_number": 5
    },
    {
     "cell_type": "markdown",
     "metadata": {},
     "source": [
      "###\u6355\u6349\u5f02\u5e38\n",
      "\u5229\u7528try/except\u8bed\u53e5  \n",
      "*try:  \n",
      "    ......  \n",
      "except \u5f02\u5e38\u7c7b:  \n",
      "    ......*"
     ]
    },
    {
     "cell_type": "code",
     "collapsed": false,
     "input": [
      "try:\n",
      "   x = input('\u88ab\u9664\u6570')\n",
      "   y = input('\u9664\u6570') \n",
      "   print x/y\n",
      "except ZeroDivisionError:\n",
      "    print \"The second number can'n be zero\""
     ],
     "language": "python",
     "metadata": {},
     "outputs": [
      {
       "name": "stdout",
       "output_type": "stream",
       "stream": "stdout",
       "text": [
        "\u88ab\u9664\u65702\n"
       ]
      },
      {
       "name": "stdout",
       "output_type": "stream",
       "stream": "stdout",
       "text": [
        "\u9664\u65700\n"
       ]
      },
      {
       "output_type": "stream",
       "stream": "stdout",
       "text": [
        "The second number can'n be zero\n"
       ]
      }
     ],
     "prompt_number": 6
    },
    {
     "cell_type": "code",
     "collapsed": false,
     "input": [
      "2/0"
     ],
     "language": "python",
     "metadata": {},
     "outputs": [
      {
       "ename": "ZeroDivisionError",
       "evalue": "integer division or modulo by zero",
       "output_type": "pyerr",
       "traceback": [
        "\u001b[0;31m---------------------------------------------------------------------------\u001b[0m\n\u001b[0;31mZeroDivisionError\u001b[0m                         Traceback (most recent call last)",
        "\u001b[0;32m<ipython-input-7-897f73788bb0>\u001b[0m in \u001b[0;36m<module>\u001b[0;34m()\u001b[0m\n\u001b[0;32m----> 1\u001b[0;31m \u001b[0;36m2\u001b[0m\u001b[0;34m/\u001b[0m\u001b[0;36m0\u001b[0m\u001b[0;34m\u001b[0m\u001b[0m\n\u001b[0m",
        "\u001b[0;31mZeroDivisionError\u001b[0m: integer division or modulo by zero"
       ]
      }
     ],
     "prompt_number": 7
    },
    {
     "cell_type": "code",
     "collapsed": false,
     "input": [
      "#\u6355\u6349\u5230\u5f02\u5e38\u540e\uff0c\u53ef\u4ee5\u7528\u4e0d\u5e26\u53c2\u6570\u7684raise\u8bed\u53e5\u91cd\u65b0\u5f15\u53d1\u5f02\u5e38\uff08\u4f20\u9012\u5f02\u5e38\uff09"
     ],
     "language": "python",
     "metadata": {},
     "outputs": [],
     "prompt_number": 8
    },
    {
     "cell_type": "code",
     "collapsed": false,
     "input": [
      "class MuffledCalculator:\n",
      "    '\u8bbe\u8ba1\u4e00\u4e2a\u5177\u6709\u5c4f\u853d\u9519\u8bef\u4fe1\u606f\u7684\u8ba1\u7b97\u5668\u7c7b'\n",
      "    muffled = False     #\u5c4f\u853d\u673a\u5236\u7684\u5f00\u5173\uff0c\u9ed8\u8ba4\u5173\u95ed\n",
      "    def calc(self, expr):\n",
      "        try:\n",
      "            return eval(expr)        #\u901a\u8fc7eval\u51fd\u6570\u6267\u884cexpr\u6c42\u503c\u5b57\u7b26\u4e32\n",
      "        except ZeroDivisionError:\n",
      "            if self.muffled:\n",
      "                print \"Division by zero is illegal\"\n",
      "            else:\n",
      "                raise       #\u4f7f\u7528\u4e0d\u5e26\u53c2\u6570\u7684raise\u8bed\u53e5\uff0c\u91cd\u65b0\u5f15\u53d1\u5f02\u5e38"
     ],
     "language": "python",
     "metadata": {},
     "outputs": [],
     "prompt_number": 9
    },
    {
     "cell_type": "code",
     "collapsed": false,
     "input": [
      "calculator = MuffledCalculator()"
     ],
     "language": "python",
     "metadata": {},
     "outputs": [],
     "prompt_number": 10
    },
    {
     "cell_type": "code",
     "collapsed": false,
     "input": [
      "calculator.calc('10/2')"
     ],
     "language": "python",
     "metadata": {},
     "outputs": [
      {
       "metadata": {},
       "output_type": "pyout",
       "prompt_number": 11,
       "text": [
        "5"
       ]
      }
     ],
     "prompt_number": 11
    },
    {
     "cell_type": "code",
     "collapsed": false,
     "input": [
      "calculator.calc('10/0')       #\u5173\u95ed\u5c4f\u853d\u673a\u5236\u7684\u60c5\u51b5\u4e0b"
     ],
     "language": "python",
     "metadata": {},
     "outputs": [
      {
       "ename": "ZeroDivisionError",
       "evalue": "integer division or modulo by zero",
       "output_type": "pyerr",
       "traceback": [
        "\u001b[0;31m---------------------------------------------------------------------------\u001b[0m\n\u001b[0;31mZeroDivisionError\u001b[0m                         Traceback (most recent call last)",
        "\u001b[0;32m<ipython-input-12-a3308c220d5e>\u001b[0m in \u001b[0;36m<module>\u001b[0;34m()\u001b[0m\n\u001b[0;32m----> 1\u001b[0;31m \u001b[0mcalculator\u001b[0m\u001b[0;34m.\u001b[0m\u001b[0mcalc\u001b[0m\u001b[0;34m(\u001b[0m\u001b[0;34m'10/0'\u001b[0m\u001b[0;34m)\u001b[0m\u001b[0;34m\u001b[0m\u001b[0m\n\u001b[0m",
        "\u001b[0;32m<ipython-input-9-f40f09de667e>\u001b[0m in \u001b[0;36mcalc\u001b[0;34m(self, expr)\u001b[0m\n\u001b[1;32m      4\u001b[0m     \u001b[0;32mdef\u001b[0m \u001b[0mcalc\u001b[0m\u001b[0;34m(\u001b[0m\u001b[0mself\u001b[0m\u001b[0;34m,\u001b[0m \u001b[0mexpr\u001b[0m\u001b[0;34m)\u001b[0m\u001b[0;34m:\u001b[0m\u001b[0;34m\u001b[0m\u001b[0m\n\u001b[1;32m      5\u001b[0m         \u001b[0;32mtry\u001b[0m\u001b[0;34m:\u001b[0m\u001b[0;34m\u001b[0m\u001b[0m\n\u001b[0;32m----> 6\u001b[0;31m             \u001b[0;32mreturn\u001b[0m \u001b[0meval\u001b[0m\u001b[0;34m(\u001b[0m\u001b[0mexpr\u001b[0m\u001b[0;34m)\u001b[0m        \u001b[0;31m#\u901a\u8fc7eval\u51fd\u6570\u6267\u884cexpr\u6c42\u503c\u5b57\u7b26\u4e32\u001b[0m\u001b[0;34m\u001b[0m\u001b[0m\n\u001b[0m\u001b[1;32m      7\u001b[0m         \u001b[0;32mexcept\u001b[0m \u001b[0mZeroDivisionError\u001b[0m\u001b[0;34m:\u001b[0m\u001b[0;34m\u001b[0m\u001b[0m\n\u001b[1;32m      8\u001b[0m             \u001b[0;32mif\u001b[0m \u001b[0mself\u001b[0m\u001b[0;34m.\u001b[0m\u001b[0mmuffled\u001b[0m\u001b[0;34m:\u001b[0m\u001b[0;34m\u001b[0m\u001b[0m\n",
        "\u001b[0;32m<string>\u001b[0m in \u001b[0;36m<module>\u001b[0;34m()\u001b[0m\n",
        "\u001b[0;31mZeroDivisionError\u001b[0m: integer division or modulo by zero"
       ]
      }
     ],
     "prompt_number": 12
    },
    {
     "cell_type": "code",
     "collapsed": false,
     "input": [
      "calculator.muffled = True       #\u6253\u5f00\u5c4f\u853d\u673a\u5236"
     ],
     "language": "python",
     "metadata": {},
     "outputs": [],
     "prompt_number": 13
    },
    {
     "cell_type": "code",
     "collapsed": false,
     "input": [
      "calculator.calc('10/0')"
     ],
     "language": "python",
     "metadata": {},
     "outputs": [
      {
       "output_type": "stream",
       "stream": "stdout",
       "text": [
        "Division by zero is illegal\n"
       ]
      }
     ],
     "prompt_number": 14
    },
    {
     "cell_type": "markdown",
     "metadata": {},
     "source": [
      "**except\u5b50\u53e5\u53ef\u4ee5\u6709\u591a\u4e2a\uff0c\u7528\u4e0d\u540c\u65b9\u5f0f\u6765\u5904\u7406\u591a\u79cd\u5f02\u5e38**  \n",
      "**\u4e00\u4e2aexcept\u5b50\u53e5\u7684\u5f02\u5e38\u7c7b\u53ef\u4ee5\u6709\u591a\u4e2a\uff0c\u7528\u5143\u7ec4\u5305\u542b\u8d77\u6765\u5373\u53ef\uff0c\u7528\u540c\u4e00\u79cd\u65b9\u5f0f\u6765\u5904\u7406\u591a\u79cd\u5f02\u5e38**"
     ]
    },
    {
     "cell_type": "code",
     "collapsed": false,
     "input": [
      "#\u4e00\u4e2aexcept\u5b50\u53e5\u542b\u6709\u591a\u4e2a\u5f02\u5e38\u7c7b\n",
      "try:\n",
      "    x = input('First number: ')\n",
      "    y = input('Second number: ')\n",
      "    print x/y\n",
      "except (ZeroDivisionError, TypeError, NameError):\n",
      "    print 'Your numbers were bogus...'"
     ],
     "language": "python",
     "metadata": {},
     "outputs": [
      {
       "name": "stdout",
       "output_type": "stream",
       "stream": "stdout",
       "text": [
        "First number: 10\n"
       ]
      },
      {
       "name": "stdout",
       "output_type": "stream",
       "stream": "stdout",
       "text": [
        "Second number: '2'\n"
       ]
      },
      {
       "output_type": "stream",
       "stream": "stdout",
       "text": [
        "Your numbers were bogus...\n"
       ]
      }
     ],
     "prompt_number": 15
    },
    {
     "cell_type": "markdown",
     "metadata": {},
     "source": [
      "####\u6355\u6349\u5bf9\u8c61  \n",
      "python2\u4e2d\u53ef\u4ee5\u628a\u5bf9\u8c61\u4f5c\u4e3aexcept\u5b50\u53e5\u7684\u7b2c\u4e8c\u4e2a\u53c2\u6570  \n",
      "python3\u4e2d\u53ef\u4ee5\u628aexcept\u5b50\u53e5\u5199\u6210except ...... as ...  \n",
      "\u82e5\u53ea\u6709\u4e00\u4e2a\u5f02\u5e38\uff0c\u6355\u6349\u7684\u5bf9\u8c61\u4f5c\u4e3a\u5355\u72ec\u7684\u53d8\u91cf  \n",
      "\u82e5\u6709\u591a\u4e2a\u5f02\u5e38\uff0c\u6355\u6349\u7684\u5bf9\u8c61\u4f1a\u6574\u5408\u5230\u4e00\u4e2a\u5143\u7ec4\u91cc  "
     ]
    },
    {
     "cell_type": "code",
     "collapsed": false,
     "input": [
      "try:\n",
      "    x = input('First number: ')\n",
      "    y = input('Second number: ')\n",
      "    print x/y\n",
      "except (ZeroDivisionError, TypeError) as e:      #(python3)\n",
      "#except (ZeroDivisionError, TypeError), e:  (python2)\n",
      "    print e         #\u6355\u6349\u7684\u5bf9\u8c61\u53ef\u4ee5\u7528print\u6253\u5370\u51fa\u6765"
     ],
     "language": "python",
     "metadata": {},
     "outputs": [
      {
       "name": "stdout",
       "output_type": "stream",
       "stream": "stdout",
       "text": [
        "First number: 10\n"
       ]
      },
      {
       "name": "stdout",
       "output_type": "stream",
       "stream": "stdout",
       "text": [
        "Second number: 0\n"
       ]
      },
      {
       "output_type": "stream",
       "stream": "stdout",
       "text": [
        "integer division or modulo by zero\n"
       ]
      }
     ],
     "prompt_number": 1
    },
    {
     "cell_type": "code",
     "collapsed": false,
     "input": [
      "e"
     ],
     "language": "python",
     "metadata": {},
     "outputs": [
      {
       "metadata": {},
       "output_type": "pyout",
       "prompt_number": 2,
       "text": [
        "ZeroDivisionError('integer division or modulo by zero')"
       ]
      }
     ],
     "prompt_number": 2
    },
    {
     "cell_type": "markdown",
     "metadata": {},
     "source": [
      "####\u771f\u6b63\u7684\u5168\u6355\u6349  \n",
      "\u4f7f\u7528\u4e0d\u5e26\u53c2\u6570\u7684except\u8bed\u53e5\u53ef\u4ee5\u6355\u6349\u5176\u4f59\u7684\u6240\u6709\u5f02\u5e38"
     ]
    },
    {
     "cell_type": "code",
     "collapsed": false,
     "input": [
      "try:\n",
      "    x = input('First number: ')\n",
      "    y = input('Second number: ')\n",
      "    print x/y\n",
      "except ZeroDivisionError:\n",
      "    print 'Error   Division   Zero'\n",
      "except:\n",
      "    print 'Something wrong happened'"
     ],
     "language": "python",
     "metadata": {},
     "outputs": [
      {
       "name": "stdout",
       "output_type": "stream",
       "stream": "stdout",
       "text": [
        "First number: 10\n"
       ]
      },
      {
       "name": "stdout",
       "output_type": "stream",
       "stream": "stdout",
       "text": [
        "Second number: \n"
       ]
      },
      {
       "output_type": "stream",
       "stream": "stdout",
       "text": [
        "Something wrong happened\n"
       ]
      }
     ],
     "prompt_number": 3
    },
    {
     "cell_type": "code",
     "collapsed": false,
     "input": [
      "#\u4e8b\u5b9e\u4e0a\uff0c\u4e0d\u5e26\u53c2\u6570\u7684except\u53ea\u80fd\u6355\u6349Exception\u7c7b\u7684\u5f02\u5e38"
     ],
     "language": "python",
     "metadata": {},
     "outputs": [],
     "prompt_number": 6
    },
    {
     "cell_type": "markdown",
     "metadata": {},
     "source": [
      "####\u5982\u679c\u6b63\u5e38\u6267\u884c\u4e86   \n",
      "\u6211\u4eec\u8fd8\u53ef\u4ee5\u7ed9\u5b83\u52a0\u4e0aelse\u5b50\u53e5"
     ]
    },
    {
     "cell_type": "code",
     "collapsed": false,
     "input": [
      "try:\n",
      "    print 'A simple task'\n",
      "except:\n",
      "    print 'What? Something went wrong?'\n",
      "else:\n",
      "    print 'Ah...It went as planned'"
     ],
     "language": "python",
     "metadata": {},
     "outputs": [
      {
       "output_type": "stream",
       "stream": "stdout",
       "text": [
        "A simple task\n",
        "Ah...It went as planned\n"
       ]
      }
     ],
     "prompt_number": 4
    },
    {
     "cell_type": "code",
     "collapsed": false,
     "input": [
      "#\u8fd9\u91cc\u53ef\u4ee5\u548c\u5faa\u73af\u642d\u914d\n",
      "#\u4e0d\u65ad\u6355\u6349\u5f02\u5e38\uff0c\u76f4\u5230\u8f93\u5165\u6b63\u786e\u4e3a\u6b62\n",
      "#\u5c31\u628atry\u8bed\u53e5\u5199\u5230\u5faa\u73afWhile True\u5185\uff0c\u5728else\u5b50\u53e5\u5199\u4e0abreak\u5373\u53ef"
     ],
     "language": "python",
     "metadata": {},
     "outputs": [],
     "prompt_number": 5
    },
    {
     "cell_type": "markdown",
     "metadata": {},
     "source": [
      "####\u6700\u540e\u2026\u2026  \n",
      "finally\u5b50\u53e5\uff1a\u5728try\u4e00\u7cfb\u5217\u4ee3\u7801\u5757\u7684\u6700\u540e\u6267\u884c  \n",
      "\u7528\u4e8e\u5bf9\u53ef\u80fd\u7684\u5f02\u5e38\u8fdb\u884c\u6e05\u7406"
     ]
    },
    {
     "cell_type": "code",
     "collapsed": false,
     "input": [
      "x = None"
     ],
     "language": "python",
     "metadata": {},
     "outputs": [],
     "prompt_number": 7
    },
    {
     "cell_type": "code",
     "collapsed": false,
     "input": [
      "try:\n",
      "    x = 1/0\n",
      "finally:\n",
      "    print 'Cleaning up...'\n",
      "    del x"
     ],
     "language": "python",
     "metadata": {},
     "outputs": [
      {
       "output_type": "stream",
       "stream": "stdout",
       "text": [
        "Cleaning up...\n"
       ]
      },
      {
       "ename": "ZeroDivisionError",
       "evalue": "integer division or modulo by zero",
       "output_type": "pyerr",
       "traceback": [
        "\u001b[0;31m---------------------------------------------------------------------------\u001b[0m\n\u001b[0;31mZeroDivisionError\u001b[0m                         Traceback (most recent call last)",
        "\u001b[0;32m<ipython-input-8-97829083c8de>\u001b[0m in \u001b[0;36m<module>\u001b[0;34m()\u001b[0m\n\u001b[1;32m      1\u001b[0m \u001b[0;32mtry\u001b[0m\u001b[0;34m:\u001b[0m\u001b[0;34m\u001b[0m\u001b[0m\n\u001b[0;32m----> 2\u001b[0;31m     \u001b[0mx\u001b[0m \u001b[0;34m=\u001b[0m \u001b[0;36m1\u001b[0m\u001b[0;34m/\u001b[0m\u001b[0;36m0\u001b[0m\u001b[0;34m\u001b[0m\u001b[0m\n\u001b[0m\u001b[1;32m      3\u001b[0m \u001b[0;32mfinally\u001b[0m\u001b[0;34m:\u001b[0m\u001b[0;34m\u001b[0m\u001b[0m\n\u001b[1;32m      4\u001b[0m     \u001b[0;32mprint\u001b[0m \u001b[0;34m'Cleaning up...'\u001b[0m\u001b[0;34m\u001b[0m\u001b[0m\n\u001b[1;32m      5\u001b[0m     \u001b[0;32mdel\u001b[0m \u001b[0mx\u001b[0m\u001b[0;34m\u001b[0m\u001b[0m\n",
        "\u001b[0;31mZeroDivisionError\u001b[0m: integer division or modulo by zero"
       ]
      }
     ],
     "prompt_number": 8
    },
    {
     "cell_type": "code",
     "collapsed": false,
     "input": [
      "x"
     ],
     "language": "python",
     "metadata": {},
     "outputs": [
      {
       "ename": "NameError",
       "evalue": "name 'x' is not defined",
       "output_type": "pyerr",
       "traceback": [
        "\u001b[0;31m---------------------------------------------------------------------------\u001b[0m\n\u001b[0;31mNameError\u001b[0m                                 Traceback (most recent call last)",
        "\u001b[0;32m<ipython-input-9-401b30e3b8b5>\u001b[0m in \u001b[0;36m<module>\u001b[0;34m()\u001b[0m\n\u001b[0;32m----> 1\u001b[0;31m \u001b[0mx\u001b[0m\u001b[0;34m\u001b[0m\u001b[0m\n\u001b[0m",
        "\u001b[0;31mNameError\u001b[0m: name 'x' is not defined"
       ]
      }
     ],
     "prompt_number": 9
    },
    {
     "cell_type": "code",
     "collapsed": false,
     "input": [
      "#\u51fa\u9519\u540e\uff0cx\u53d8\u91cf\u88ab\u5220\u9664\u4e86\n",
      "#finally\u5b50\u53e5\u66f4\u591a\u7684\u662f\u7528\u4e8e\u5173\u95ed\u6587\u4ef6  \u6216\u8005  \u7f51\u7edc\u5957\u63a5\u5b57"
     ],
     "language": "python",
     "metadata": {},
     "outputs": [],
     "prompt_number": 10
    },
    {
     "cell_type": "markdown",
     "metadata": {},
     "source": [
      "####\u5f02\u5e38\u7684\u201c\u4f20\u64ad\u201d  \n",
      "\u5047\u8bbe\u6709\u4e24\u4e2a\u51fd\u6570a\u548cb\uff0ca\u51fd\u6570\u7684\u5b9a\u4e49\u5185\u53c8\u8c03\u7528\u4e86b\u51fd\u6570  \n",
      "\u5f53\u6211\u4eec\u8c03\u7528a\u51fd\u6570\u65f6\uff0c\u5728\u6267\u884cb\u51fd\u6570\u7684\u8fc7\u7a0b\u4e2d\u51fa\u9519  \n",
      "\u5982\u679c\u5728b\u51fd\u6570\u4e2d\u6ca1\u6709\u5904\u7406\u5f02\u5e38\uff0c\u90a3\u4e48\u5b83\u4f1a\u4f20\u64ad\u5230a\u51fd\u6570\u4e2d  \n",
      "\u5982\u679c\u5728a\u51fd\u6570\u4e2d\u6ca1\u6709\u5904\u7406\u5f02\u5e38\uff0c\u90a3\u4e48\u5b83\u4f1a\u4f20\u64ad\u5230\u4e3b\u7a0b\u5e8f\u4e2d  \n",
      "\u5982\u679c\u4e3b\u7a0b\u5e8f\u4e5f\u6ca1\u6709\u5904\u7406\u5f02\u5e38\uff0c\u90a3\u4e48\u7a0b\u5e8f\u4f1a\u51fa\u9519\u5bfc\u81f4\u5e26\u7740\u6808\u8ddf\u8e2a\u7ec8\u6b62"
     ]
    },
    {
     "cell_type": "markdown",
     "metadata": {},
     "source": [
      "####try/except\u548cif/else  \n",
      "try/except\u8bed\u53e5\u6765\u5904\u7406\u53ef\u80fd\u9047\u5230\u7684\u9519\u8bef\u66f4\u52a0\u81ea\u7136\u548c\u9ad8\u6548\u7387  "
     ]
    },
    {
     "cell_type": "code",
     "collapsed": false,
     "input": [
      "#\u6548\u7387\u6bd4\u8f83\u2014\u2014\u5c1d\u8bd5\u8bbf\u95ee\u4e00\u4e2a\u4e0d\u4e00\u5b9a\u5b58\u5728\u7684\u952e"
     ],
     "language": "python",
     "metadata": {},
     "outputs": [],
     "prompt_number": 11
    },
    {
     "cell_type": "code",
     "collapsed": false,
     "input": [
      "person = {'name': 'Zk', 'age': 21,'Occupation':'Student'}"
     ],
     "language": "python",
     "metadata": {},
     "outputs": [],
     "prompt_number": 13
    },
    {
     "cell_type": "code",
     "collapsed": false,
     "input": [
      "#if/else\u8bed\u53e5\u5b9e\u73b0\n",
      "def decribePerson(person):\n",
      "    print 'Decription of', person['name']\n",
      "    print 'Age:', person['age']\n",
      "    if 'Occupation' in person:\n",
      "        print 'Occuption:', person['Occupation']"
     ],
     "language": "python",
     "metadata": {},
     "outputs": [
      {
       "output_type": "stream",
       "stream": "stdout",
       "text": [
        "\n"
       ]
      }
     ],
     "prompt_number": 19
    },
    {
     "cell_type": "code",
     "collapsed": false,
     "input": [
      "decribePerson(person)"
     ],
     "language": "python",
     "metadata": {},
     "outputs": [
      {
       "output_type": "stream",
       "stream": "stdout",
       "text": [
        "Decription of Zk\n",
        "Age: 21\n",
        "Occuption: Student\n"
       ]
      }
     ],
     "prompt_number": 20
    },
    {
     "cell_type": "code",
     "collapsed": false,
     "input": [
      "#\u6b64\u5904\u5982\u679cOccpution\u5b58\u5728\uff0c\u90a3\u4e48\u8fd9\u4e2a\u952e\u4f1a\u88ab\u8bbf\u95ee\u4e24\u6b21\uff08if\u4e2d\u548cprint\u4e2d\uff09"
     ],
     "language": "python",
     "metadata": {},
     "outputs": [],
     "prompt_number": 21
    },
    {
     "cell_type": "code",
     "collapsed": false,
     "input": [
      "#try/except\u8bed\u53e5\u5b9e\u73b0\n",
      "def decribePerson(person):\n",
      "    print 'Decription of', person['name']\n",
      "    print 'Age:', person['age']\n",
      "    try:\n",
      "        print 'Occuption:', person['Occupation']\n",
      "    except KeyError:\n",
      "        pass"
     ],
     "language": "python",
     "metadata": {},
     "outputs": [],
     "prompt_number": 22
    },
    {
     "cell_type": "code",
     "collapsed": false,
     "input": [
      "decribePerson(person)"
     ],
     "language": "python",
     "metadata": {},
     "outputs": [
      {
       "output_type": "stream",
       "stream": "stdout",
       "text": [
        "Decription of Zk\n",
        "Age: 21\n",
        "Occuption: Student\n"
       ]
      }
     ],
     "prompt_number": 23
    },
    {
     "cell_type": "code",
     "collapsed": false,
     "input": [
      "#\u6b64\u5904\u5982\u679cOccupation\u5b58\u5728\uff0c\u90a3\u4e48\u8fd9\u4e2a\u952e\u53ea\u4f1a\u88ab\u8bbf\u95ee\u4e00\u6b21\uff08print\u4e2d\uff09"
     ],
     "language": "python",
     "metadata": {},
     "outputs": [],
     "prompt_number": 24
    },
    {
     "cell_type": "code",
     "collapsed": false,
     "input": [],
     "language": "python",
     "metadata": {},
     "outputs": [],
     "prompt_number": 24
    },
    {
     "cell_type": "code",
     "collapsed": false,
     "input": [
      "#\u67e5\u770b\u5bf9\u8c61\u7279\u6027"
     ],
     "language": "python",
     "metadata": {},
     "outputs": [],
     "prompt_number": 25
    },
    {
     "cell_type": "code",
     "collapsed": false,
     "input": [
      "class writer():\n",
      "    write = True"
     ],
     "language": "python",
     "metadata": {},
     "outputs": [],
     "prompt_number": 26
    },
    {
     "cell_type": "code",
     "collapsed": false,
     "input": [
      "obj = writer()"
     ],
     "language": "python",
     "metadata": {},
     "outputs": [],
     "prompt_number": 27
    },
    {
     "cell_type": "code",
     "collapsed": false,
     "input": [
      "try:\n",
      "    obj.write       #\u5c1d\u8bd5\u53bb\u8bbf\u95ee\u8fd9\u4e2a\u7279\u6027\n",
      "except AttributeError:\n",
      "    print 'The object is not writeable'\n",
      "else:\n",
      "    print 'The object is writeable'"
     ],
     "language": "python",
     "metadata": {},
     "outputs": [
      {
       "output_type": "stream",
       "stream": "stdout",
       "text": [
        "The object is writeable\n"
       ]
      }
     ],
     "prompt_number": 29
    },
    {
     "cell_type": "code",
     "collapsed": false,
     "input": [],
     "language": "python",
     "metadata": {},
     "outputs": []
    }
   ],
   "metadata": {}
  }
 ]
}